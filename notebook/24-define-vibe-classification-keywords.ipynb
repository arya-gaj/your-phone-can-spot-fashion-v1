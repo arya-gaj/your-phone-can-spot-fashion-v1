{
  "cells": [
    {
      "cell_type": "markdown",
      "source": [
        "Step 24: Define vibe classification keywords"
      ],
      "metadata": {
        "id": "VMPjSAHetoWU"
      }
    },
    {
      "cell_type": "code",
      "source": [
        "import json\n",
        "\n",
        "vibe_keywords = {\n",
        "    \"Coquette\": [\"blush\", \"bows\", \"lace\", \"pink\", \"girly\", \"floral\"],\n",
        "    \"Y2K\": [\"butterfly\", \"metallic\", \"low rise\", \"chrome\", \"2000s\", \"bling\"],\n",
        "    \"Streetcore\": [\"oversized\", \"streetwear\", \"sneakers\", \"baggy\", \"chains\"],\n",
        "    \"Boho\": [\"flowy\", \"earthy\", \"bohemian\", \"fringe\", \"festival\"],\n",
        "    \"Clean Girl\": [\"minimal\", \"slicked back\", \"gold hoops\", \"neutrals\"],\n",
        "    \"Party Glam\": [\"sparkly\", \"glam\", \"night out\", \"heels\", \"makeup\"],\n",
        "    \"Cottagecore\": [\"vintage\", \"farm\", \"puff sleeves\", \"nature\", \"picnic\"]\n",
        "}"
      ],
      "metadata": {
        "id": "EQFkhc2uExdO"
      },
      "execution_count": null,
      "outputs": []
    }
  ],
  "metadata": {
    "colab": {
      "provenance": []
    },
    "kernelspec": {
      "display_name": "Python 3",
      "name": "python3"
    },
    "language_info": {
      "name": "python"
    }
  },
  "nbformat": 4,
  "nbformat_minor": 0
}
