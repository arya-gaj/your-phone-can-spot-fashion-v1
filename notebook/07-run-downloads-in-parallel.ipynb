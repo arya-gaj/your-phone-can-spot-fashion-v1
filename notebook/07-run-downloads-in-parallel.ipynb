{
  "cells": [
    {
      "cell_type": "markdown",
      "source": [
        "Step 7: Run downloads in parallel"
      ],
      "metadata": {
        "id": "DLCfD1aBkBnK"
      }
    },
    {
      "cell_type": "code",
      "source": [
        "max_threads = 20\n",
        "\n",
        "with ThreadPoolExecutor(max_workers=max_threads) as executor:\n",
        "    futures = [executor.submit(download_image, row) for _, row in images_df.iterrows()]\n",
        "\n",
        "    for f in tqdm(as_completed(futures), total=len(futures)):\n",
        "        result = f.result()\n",
        "        print(result)"
      ],
      "metadata": {
        "id": "tbOjLSeujxea",
        "colab": {
          "base_uri": "https://localhost:8080/"
        },
        "outputId": "d852fc78-2f93-4637-ab38-5f7af705321d"
      },
      "execution_count": null,
      "outputs": [
        {
          "output_type": "stream",
          "name": "stderr",
          "text": [
            "  2%|▏         | 161/9172 [00:00<00:20, 449.51it/s]"
          ]
        },
        {
          "output_type": "stream",
          "name": "stdout",
          "text": [
            "14984\n",
            "14989\n",
            "14980\n",
            "14981\n",
            "14978\n",
            "14987\n",
            "14982 - HTTP 404\n",
            "14992 - HTTP 404\n",
            "14988\n",
            "14985\n",
            "14991\n",
            "14978\n",
            "14990 - HTTP 404\n",
            "14994\n",
            "14995 - HTTP 404\n",
            "14984 - HTTP 404\n",
            "14982\n",
            "14978\n",
            "14989\n",
            "14995 - HTTP 404\n",
            "14983 - HTTP 404\n",
            "14981\n",
            "14995 - HTTP 404\n",
            "14985\n",
            "14984 - HTTP 404\n",
            "14994\n",
            "14977\n",
            "14977\n",
            "14980\n",
            "14987\n",
            "14985\n",
            "14980\n",
            "14989\n",
            "14991\n",
            "14992 - HTTP 404\n",
            "14995 - HTTP 404\n",
            "14976\n",
            "14994\n",
            "14982\n",
            "14994\n",
            "14989\n",
            "14978\n",
            "14981\n",
            "14995 - HTTP 404\n",
            "14996\n",
            "14982 - HTTP 404\n",
            "14976\n",
            "14988\n",
            "14984 - HTTP 404\n",
            "14990 - HTTP 404\n",
            "14980\n",
            "14983 - HTTP 404\n",
            "14988\n",
            "14980\n",
            "14977\n",
            "14985\n",
            "14987\n",
            "14991\n",
            "14992\n",
            "14995 - HTTP 404\n",
            "14985\n",
            "14994\n",
            "14982\n",
            "14978\n",
            "14976\n",
            "14983 - HTTP 404\n",
            "14982\n",
            "14976\n",
            "14976\n",
            "14991\n",
            "14988\n",
            "14977\n",
            "14984\n",
            "14980\n",
            "14984\n",
            "14997 - HTTP 404\n",
            "14985\n",
            "14985\n",
            "14987\n",
            "14985\n",
            "14980\n",
            "14989\n",
            "14978\n",
            "14982 - HTTP 404\n",
            "14992 - HTTP 404\n",
            "14991\n",
            "14994\n",
            "14982 - HTTP 404\n",
            "14995 - HTTP 404\n",
            "14988\n",
            "14985\n",
            "14982\n",
            "14990 - HTTP 404\n",
            "14977\n",
            "14977\n",
            "14988\n",
            "14981\n",
            "14984\n",
            "14990 - HTTP 404\n",
            "14977\n",
            "14985\n",
            "14976\n",
            "14983 - HTTP 404\n",
            "14980\n",
            "14982 - HTTP 404\n",
            "14976\n",
            "14978\n",
            "14997 - HTTP 404\n",
            "14987\n",
            "14992 - HTTP 404\n",
            "14985\n",
            "14991\n",
            "14977\n",
            "14994\n",
            "14995 - HTTP 404\n",
            "14983 - HTTP 404\n",
            "14989\n",
            "14981\n",
            "14984 - HTTP 404\n",
            "14990 - HTTP 404\n",
            "14988\n",
            "14990 - HTTP 404\n",
            "14985\n",
            "14978\n",
            "14982 - HTTP 404\n",
            "14984\n",
            "14988\n",
            "14988\n",
            "14980\n",
            "14987\n",
            "14977\n",
            "14981\n",
            "14992 - HTTP 404\n",
            "14977\n",
            "14990 - HTTP 404\n",
            "14995 - HTTP 404\n",
            "14995\n",
            "14992 - HTTP 404\n",
            "14982\n",
            "14983 - HTTP 404\n",
            "14985\n",
            "14978\n",
            "14984\n",
            "14976\n",
            "14982 - HTTP 404\n",
            "14976\n",
            "14997 - HTTP 404\n",
            "14997 - HTTP 404\n",
            "14997 - HTTP 404\n",
            "14995\n",
            "14992\n",
            "14997\n",
            "14996\n",
            "14997 - HTTP 404\n",
            "14995\n",
            "14996\n",
            "14996\n",
            "14995\n",
            "14996\n",
            "14996\n",
            "14995\n",
            "14995\n",
            "14997\n",
            "14996\n",
            "14998\n",
            "14999\n",
            "14997\n",
            "14998\n",
            "14998\n",
            "14997\n",
            "14999\n",
            "14999\n",
            "14997\n",
            "14998\n",
            "14998\n",
            "14998\n",
            "14998\n",
            "14998\n",
            "14999\n",
            "14998\n",
            "14998\n",
            "14999\n",
            "14997\n",
            "14998\n",
            "14999\n",
            "14999\n",
            "15001\n",
            "14998\n",
            "14998\n",
            "15001\n",
            "14999\n",
            "15002 - HTTP 404\n",
            "15002 - HTTP 404\n",
            "14999\n",
            "15002\n",
            "14999\n",
            "15001\n",
            "15003\n",
            "14999\n",
            "14999\n",
            "14999\n",
            "15001\n",
            "15001\n",
            "15001\n",
            "15001\n",
            "15001\n",
            "15003\n",
            "14999\n",
            "15004\n",
            "15002\n",
            "15002\n",
            "15003\n",
            "15003\n",
            "15003\n",
            "15002\n",
            "15003\n",
            "15002\n",
            "15003\n",
            "15005\n",
            "15002\n",
            "15003\n",
            "15003\n",
            "15004\n",
            "15004\n",
            "15004\n",
            "15004\n",
            "15004\n",
            "15004\n",
            "15006\n",
            "15004\n",
            "15004\n",
            "15005\n",
            "15008\n",
            "15005\n",
            "15005\n",
            "15005\n",
            "15006\n",
            "15005\n",
            "15006\n",
            "15005\n",
            "15006\n",
            "15005\n"
          ]
        },
        {
          "output_type": "stream",
          "name": "stderr",
          "text": [
            "\r  3%|▎         | 248/9172 [00:06<04:49, 30.82it/s] "
          ]
        },
        {
          "output_type": "stream",
          "name": "stdout",
          "text": [
            "15006\n",
            "15008\n",
            "15005\n",
            "15006\n",
            "15006\n",
            "15006\n",
            "15006\n",
            "15008\n",
            "15009\n",
            "15009\n",
            "15010\n",
            "15006\n",
            "15008\n",
            "15008\n",
            "15010\n",
            "15008\n",
            "15009\n",
            "15008\n",
            "15009\n",
            "15008\n",
            "15009\n",
            "15010\n",
            "15008\n",
            "15012\n",
            "15008\n",
            "15008\n",
            "15010\n",
            "15008\n",
            "15009\n",
            "15008\n",
            "15009\n",
            "15010\n",
            "15010\n",
            "15013\n",
            "15010\n",
            "15012\n",
            "15012\n",
            "15012\n",
            "15012\n",
            "15012\n",
            "15013\n",
            "15012\n",
            "15012\n",
            "15012\n",
            "15014\n",
            "15012\n",
            "15012\n"
          ]
        },
        {
          "output_type": "stream",
          "name": "stderr",
          "text": [
            "\r  3%|▎         | 296/9172 [00:09<05:57, 24.80it/s]"
          ]
        },
        {
          "output_type": "stream",
          "name": "stdout",
          "text": [
            "15013\n",
            "15013\n",
            "15013\n",
            "15013\n",
            "15012\n",
            "15012\n",
            "15012\n",
            "15013\n",
            "15019\n",
            "15014\n",
            "15013\n",
            "15014\n",
            "15014\n",
            "15014\n",
            "15014\n",
            "15019\n",
            "15014\n",
            "15014\n",
            "15014\n",
            "15014\n",
            "15014\n",
            "15020\n",
            "15014\n",
            "15014\n",
            "15014\n",
            "15020\n",
            "15021\n",
            "15019\n",
            "15019\n",
            "15020\n",
            "15021\n",
            "15023\n",
            "15020\n",
            "15019\n"
          ]
        },
        {
          "output_type": "stream",
          "name": "stderr",
          "text": [
            "\r  4%|▎         | 326/9172 [00:11<06:11, 23.78it/s]"
          ]
        },
        {
          "output_type": "stream",
          "name": "stdout",
          "text": [
            "15020\n",
            "15020\n",
            "15020\n",
            "15019\n",
            "15021\n",
            "15021\n",
            "15021\n",
            "15021\n",
            "15021\n",
            "15019\n",
            "15023\n",
            "15023\n",
            "15025\n",
            "15021\n",
            "15023\n",
            "15023\n",
            "15023\n",
            "15023\n",
            "15025\n",
            "15026\n",
            "15023\n"
          ]
        },
        {
          "output_type": "stream",
          "name": "stderr",
          "text": [
            "\r  4%|▍         | 346/9172 [00:12<06:20, 23.22it/s]"
          ]
        },
        {
          "output_type": "stream",
          "name": "stdout",
          "text": [
            "15023\n",
            "15023\n",
            "15025\n",
            "15025\n",
            "15023\n",
            "15026\n",
            "15025\n",
            "15025\n",
            "15027\n",
            "15025\n",
            "15026\n",
            "15025\n",
            "15025\n",
            "15023\n",
            "15026\n"
          ]
        },
        {
          "output_type": "stream",
          "name": "stderr",
          "text": [
            "\r  4%|▍         | 360/9172 [00:12<06:25, 22.87it/s]"
          ]
        },
        {
          "output_type": "stream",
          "name": "stdout",
          "text": [
            "15026\n",
            "15026\n",
            "15026\n",
            "15026\n",
            "15025\n",
            "15027\n",
            "15026\n"
          ]
        },
        {
          "output_type": "stream",
          "name": "stderr",
          "text": [
            "\r  4%|▍         | 370/9172 [00:13<06:11, 23.66it/s]"
          ]
        },
        {
          "output_type": "stream",
          "name": "stdout",
          "text": [
            "15027\n",
            "15030\n",
            "15026\n",
            "15030\n",
            "15026\n",
            "15031\n",
            "15027\n",
            "15027\n",
            "15027\n"
          ]
        },
        {
          "output_type": "stream",
          "name": "stderr",
          "text": [
            "\r  4%|▍         | 378/9172 [00:13<06:26, 22.73it/s]"
          ]
        },
        {
          "output_type": "stream",
          "name": "stdout",
          "text": [
            "15027\n",
            "15031\n",
            "15027\n",
            "15030\n"
          ]
        },
        {
          "output_type": "stream",
          "name": "stderr",
          "text": [
            "\r  4%|▍         | 384/9172 [00:13<06:23, 22.92it/s]"
          ]
        },
        {
          "output_type": "stream",
          "name": "stdout",
          "text": [
            "15030\n",
            "15030\n",
            "15031\n",
            "15030\n",
            "15030\n",
            "15031\n",
            "15031\n",
            "15031\n",
            "15031\n"
          ]
        },
        {
          "output_type": "stream",
          "name": "stderr",
          "text": [
            "  4%|▍         | 394/9172 [00:14<06:10, 23.69it/s]"
          ]
        },
        {
          "output_type": "stream",
          "name": "stdout",
          "text": [
            "15030\n",
            "15034\n",
            "15032\n",
            "15032\n",
            "15031\n",
            "15031\n"
          ]
        },
        {
          "output_type": "stream",
          "name": "stderr",
          "text": [
            "\r  4%|▍         | 398/9172 [00:14<06:17, 23.25it/s]"
          ]
        },
        {
          "output_type": "stream",
          "name": "stdout",
          "text": [
            "15030\n",
            "15032\n",
            "15034\n",
            "15035\n"
          ]
        },
        {
          "output_type": "stream",
          "name": "stderr",
          "text": [
            "\r  4%|▍         | 402/9172 [00:14<06:29, 22.52it/s]"
          ]
        },
        {
          "output_type": "stream",
          "name": "stdout",
          "text": [
            "15032\n",
            "15032\n",
            "15032\n",
            "15032\n",
            "15034\n"
          ]
        },
        {
          "output_type": "stream",
          "name": "stderr",
          "text": [
            "  4%|▍         | 412/9172 [00:14<05:35, 26.11it/s]"
          ]
        },
        {
          "output_type": "stream",
          "name": "stdout",
          "text": [
            "15034\n",
            "15032\n",
            "15034\n",
            "15035\n",
            "15034\n",
            "15034\n",
            "15034\n",
            "15032\n",
            "15032\n",
            "15035\n"
          ]
        },
        {
          "output_type": "stream",
          "name": "stderr",
          "text": [
            "  5%|▍         | 420/9172 [00:15<05:19, 27.38it/s]"
          ]
        },
        {
          "output_type": "stream",
          "name": "stdout",
          "text": [
            "15041\n",
            "15035\n",
            "15034\n",
            "15041\n",
            "15044\n",
            "15035\n",
            "15035\n",
            "15035\n"
          ]
        },
        {
          "output_type": "stream",
          "name": "stderr",
          "text": [
            "  5%|▍         | 428/9172 [00:15<05:48, 25.09it/s]"
          ]
        },
        {
          "output_type": "stream",
          "name": "stdout",
          "text": [
            "15041\n",
            "15035\n",
            "15041\n",
            "15044\n",
            "15046\n",
            "15041\n",
            "15041\n",
            "15041\n"
          ]
        },
        {
          "output_type": "stream",
          "name": "stderr",
          "text": [
            "  5%|▍         | 435/9172 [00:15<05:20, 27.22it/s]"
          ]
        },
        {
          "output_type": "stream",
          "name": "stdout",
          "text": [
            "15041\n",
            "15041\n",
            "15041\n",
            "15046\n",
            "15035\n",
            "15044\n",
            "15044\n"
          ]
        },
        {
          "output_type": "stream",
          "name": "stderr",
          "text": [
            "\r  5%|▍         | 438/9172 [00:16<06:14, 23.31it/s]"
          ]
        },
        {
          "output_type": "stream",
          "name": "stdout",
          "text": [
            "15049\n",
            "15044\n",
            "15049\n",
            "15044\n",
            "15044\n",
            "15050\n"
          ]
        },
        {
          "output_type": "stream",
          "name": "stderr",
          "text": [
            "  5%|▍         | 447/9172 [00:16<06:09, 23.62it/s]"
          ]
        },
        {
          "output_type": "stream",
          "name": "stdout",
          "text": [
            "15044\n",
            "15044\n",
            "15046\n",
            "15050\n",
            "15052\n"
          ]
        },
        {
          "output_type": "stream",
          "name": "stderr",
          "text": [
            "\r  5%|▍         | 450/9172 [00:16<06:43, 21.61it/s]"
          ]
        },
        {
          "output_type": "stream",
          "name": "stdout",
          "text": [
            "15046\n",
            "15046\n",
            "15046\n",
            "15049\n"
          ]
        },
        {
          "output_type": "stream",
          "name": "stderr",
          "text": [
            "  5%|▍         | 455/9172 [00:16<07:51, 18.47it/s]"
          ]
        },
        {
          "output_type": "stream",
          "name": "stdout",
          "text": [
            "15049\n",
            "15049\n",
            "15052\n",
            "15050\n",
            "15046\n",
            "15050\n"
          ]
        },
        {
          "output_type": "stream",
          "name": "stderr",
          "text": [
            "\r  5%|▌         | 460/9172 [00:17<06:24, 22.64it/s]"
          ]
        },
        {
          "output_type": "stream",
          "name": "stdout",
          "text": [
            "15049\n",
            "15050\n",
            "15050\n",
            "15049\n",
            "15050\n",
            "15052\n"
          ]
        },
        {
          "output_type": "stream",
          "name": "stderr",
          "text": [
            "  5%|▌         | 468/9172 [00:17<06:12, 23.36it/s]"
          ]
        },
        {
          "output_type": "stream",
          "name": "stdout",
          "text": [
            "15046\n",
            "15052\n",
            "15056\n",
            "15053\n",
            "15052\n"
          ]
        },
        {
          "output_type": "stream",
          "name": "stderr",
          "text": [
            "\r  5%|▌         | 471/9172 [00:17<06:38, 21.85it/s]"
          ]
        },
        {
          "output_type": "stream",
          "name": "stdout",
          "text": [
            "15052\n",
            "15052\n",
            "15052\n",
            "15056\n",
            "15052\n",
            "15057\n"
          ]
        },
        {
          "output_type": "stream",
          "name": "stderr",
          "text": [
            "  5%|▌         | 477/9172 [00:18<08:07, 17.85it/s]"
          ]
        },
        {
          "output_type": "stream",
          "name": "stdout",
          "text": [
            "15053\n",
            "15053\n",
            "15053\n",
            "15053\n",
            "15053\n",
            "15053\n"
          ]
        },
        {
          "output_type": "stream",
          "name": "stderr",
          "text": [
            "  5%|▌         | 483/9172 [00:18<06:48, 21.28it/s]"
          ]
        },
        {
          "output_type": "stream",
          "name": "stdout",
          "text": [
            "15053\n",
            "15056\n",
            "15056\n",
            "15056\n",
            "15056\n"
          ]
        },
        {
          "output_type": "stream",
          "name": "stderr",
          "text": [
            "  5%|▌         | 489/9172 [00:18<07:22, 19.60it/s]"
          ]
        },
        {
          "output_type": "stream",
          "name": "stdout",
          "text": [
            "15056\n",
            "15056\n",
            "15057\n",
            "15057\n"
          ]
        },
        {
          "output_type": "stream",
          "name": "stderr",
          "text": [
            "\r  5%|▌         | 492/9172 [00:18<08:45, 16.53it/s]"
          ]
        },
        {
          "output_type": "stream",
          "name": "stdout",
          "text": [
            "15057\n",
            "15059\n",
            "15057\n",
            "15057\n"
          ]
        },
        {
          "output_type": "stream",
          "name": "stderr",
          "text": [
            "\r  5%|▌         | 494/9172 [00:18<08:29, 17.02it/s]"
          ]
        },
        {
          "output_type": "stream",
          "name": "stdout",
          "text": [
            "15060\n",
            "15057\n"
          ]
        },
        {
          "output_type": "stream",
          "name": "stderr",
          "text": [
            "  5%|▌         | 502/9172 [00:19<08:07, 17.80it/s]"
          ]
        },
        {
          "output_type": "stream",
          "name": "stdout",
          "text": [
            "15057\n",
            "15057\n",
            "15060\n",
            "15057\n",
            "15061\n",
            "15057\n",
            "15059\n"
          ]
        },
        {
          "output_type": "stream",
          "name": "stderr",
          "text": [
            "\r  6%|▌         | 505/9172 [00:19<10:19, 14.00it/s]"
          ]
        },
        {
          "output_type": "stream",
          "name": "stdout",
          "text": [
            "15059\n",
            "15059\n",
            "15059\n",
            "15061\n",
            "15059\n",
            "15060\n"
          ]
        },
        {
          "output_type": "stream",
          "name": "stderr",
          "text": [
            "  6%|▌         | 514/9172 [00:20<08:18, 17.37it/s]"
          ]
        },
        {
          "output_type": "stream",
          "name": "stdout",
          "text": [
            "15060\n",
            "15063\n",
            "15060\n",
            "15059\n",
            "15060\n",
            "15059\n",
            "15060\n"
          ]
        },
        {
          "output_type": "stream",
          "name": "stderr",
          "text": [
            "\r  6%|▌         | 517/9172 [00:20<11:19, 12.73it/s]"
          ]
        },
        {
          "output_type": "stream",
          "name": "stdout",
          "text": [
            "15059\n",
            "15060\n",
            "15064\n"
          ]
        },
        {
          "output_type": "stream",
          "name": "stderr",
          "text": [
            "\r  6%|▌         | 519/9172 [00:21<15:35,  9.25it/s]"
          ]
        },
        {
          "output_type": "stream",
          "name": "stdout",
          "text": [
            "15061\n",
            "15061\n",
            "15061\n",
            "15061\n"
          ]
        },
        {
          "output_type": "stream",
          "name": "stderr",
          "text": [
            "  6%|▌         | 527/9172 [00:21<10:33, 13.65it/s]"
          ]
        },
        {
          "output_type": "stream",
          "name": "stdout",
          "text": [
            "15063\n",
            "15061\n",
            "15063\n",
            "15063\n",
            "15063\n",
            "15063\n",
            "15063\n",
            "15061\n"
          ]
        },
        {
          "output_type": "stream",
          "name": "stderr",
          "text": [
            "\r  6%|▌         | 534/9172 [00:21<08:02, 17.92it/s]"
          ]
        },
        {
          "output_type": "stream",
          "name": "stdout",
          "text": [
            "15064\n",
            "15063\n",
            "15064\n",
            "15063\n",
            "15063\n"
          ]
        },
        {
          "output_type": "stream",
          "name": "stderr",
          "text": [
            "\r  6%|▌         | 537/9172 [00:21<07:50, 18.34it/s]"
          ]
        },
        {
          "output_type": "stream",
          "name": "stdout",
          "text": [
            "15066\n",
            "15066\n",
            "15064\n",
            "15064\n"
          ]
        },
        {
          "output_type": "stream",
          "name": "stderr",
          "text": [
            "\r  6%|▌         | 540/9172 [00:22<10:00, 14.37it/s]"
          ]
        },
        {
          "output_type": "stream",
          "name": "stdout",
          "text": [
            "15064\n",
            "15064\n"
          ]
        },
        {
          "output_type": "stream",
          "name": "stderr",
          "text": [
            "  6%|▌         | 544/9172 [00:22<11:54, 12.08it/s]"
          ]
        },
        {
          "output_type": "stream",
          "name": "stdout",
          "text": [
            "15064\n",
            "15066\n",
            "15066\n"
          ]
        },
        {
          "output_type": "stream",
          "name": "stderr",
          "text": [
            "\r  6%|▌         | 548/9172 [00:22<09:22, 15.34it/s]"
          ]
        },
        {
          "output_type": "stream",
          "name": "stdout",
          "text": [
            "15067\n",
            "15066\n",
            "15064\n",
            "15066\n",
            "15069\n",
            "15064\n",
            "15066\n",
            "15066\n"
          ]
        },
        {
          "output_type": "stream",
          "name": "stderr",
          "text": [
            "  6%|▌         | 556/9172 [00:23<08:17, 17.33it/s]"
          ]
        },
        {
          "output_type": "stream",
          "name": "stdout",
          "text": [
            "15067\n",
            "15066\n",
            "15067\n",
            "15067\n"
          ]
        },
        {
          "output_type": "stream",
          "name": "stderr",
          "text": [
            "  6%|▌         | 561/9172 [00:23<08:12, 17.49it/s]"
          ]
        },
        {
          "output_type": "stream",
          "name": "stdout",
          "text": [
            "15069\n",
            "15067\n",
            "15067\n",
            "15067\n",
            "15070\n"
          ]
        },
        {
          "output_type": "stream",
          "name": "stderr",
          "text": [
            "\r  6%|▌         | 563/9172 [00:23<11:16, 12.73it/s]"
          ]
        },
        {
          "output_type": "stream",
          "name": "stdout",
          "text": [
            "15067\n",
            "15067\n",
            "15070\n"
          ]
        },
        {
          "output_type": "stream",
          "name": "stderr",
          "text": [
            "\r  6%|▌         | 565/9172 [00:24<11:47, 12.17it/s]"
          ]
        },
        {
          "output_type": "stream",
          "name": "stdout",
          "text": [
            "15069\n",
            "15069\n",
            "15069\n"
          ]
        },
        {
          "output_type": "stream",
          "name": "stderr",
          "text": [
            "  6%|▌         | 573/9172 [00:24<08:42, 16.45it/s]"
          ]
        },
        {
          "output_type": "stream",
          "name": "stdout",
          "text": [
            "15069\n",
            "15071\n",
            "15073\n",
            "15069\n",
            "15070\n",
            "15070\n",
            "15070\n",
            "15070\n"
          ]
        },
        {
          "output_type": "stream",
          "name": "stderr",
          "text": [
            "\r  6%|▋         | 576/9172 [00:24<07:53, 18.16it/s]"
          ]
        },
        {
          "output_type": "stream",
          "name": "stdout",
          "text": [
            "15070\n",
            "15069\n"
          ]
        },
        {
          "output_type": "stream",
          "name": "stderr",
          "text": [
            "\r  6%|▋         | 578/9172 [00:24<09:36, 14.90it/s]"
          ]
        },
        {
          "output_type": "stream",
          "name": "stdout",
          "text": [
            "15070\n",
            "15074\n",
            "15073\n"
          ]
        },
        {
          "output_type": "stream",
          "name": "stderr",
          "text": [
            "  6%|▋         | 583/9172 [00:25<12:05, 11.83it/s]"
          ]
        },
        {
          "output_type": "stream",
          "name": "stdout",
          "text": [
            "15071\n",
            "15071\n",
            "15071\n"
          ]
        },
        {
          "output_type": "stream",
          "name": "stderr",
          "text": [
            "\r  6%|▋         | 587/9172 [00:25<09:02, 15.82it/s]"
          ]
        },
        {
          "output_type": "stream",
          "name": "stdout",
          "text": [
            "15076\n",
            "15071\n",
            "15074\n",
            "15071\n"
          ]
        },
        {
          "output_type": "stream",
          "name": "stderr",
          "text": [
            "  6%|▋         | 591/9172 [00:25<10:02, 14.23it/s]"
          ]
        },
        {
          "output_type": "stream",
          "name": "stdout",
          "text": [
            "15071\n",
            "15073\n",
            "15074\n",
            "15073\n"
          ]
        },
        {
          "output_type": "stream",
          "name": "stderr",
          "text": [
            "\r  6%|▋         | 593/9172 [00:26<11:04, 12.90it/s]"
          ]
        },
        {
          "output_type": "stream",
          "name": "stdout",
          "text": [
            "15074\n",
            "15073\n",
            "15076\n",
            "15074\n",
            "15073\n",
            "15074\n"
          ]
        },
        {
          "output_type": "stream",
          "name": "stderr",
          "text": [
            "  7%|▋         | 600/9172 [00:26<08:20, 17.14it/s]"
          ]
        },
        {
          "output_type": "stream",
          "name": "stdout",
          "text": [
            "15074\n",
            "15074\n",
            "15077\n",
            "15076\n",
            "15077\n",
            "15074\n"
          ]
        },
        {
          "output_type": "stream",
          "name": "stderr",
          "text": [
            "\r  7%|▋         | 604/9172 [00:26<07:35, 18.83it/s]"
          ]
        },
        {
          "output_type": "stream",
          "name": "stdout",
          "text": [
            "15073\n",
            "15079\n"
          ]
        },
        {
          "output_type": "stream",
          "name": "stderr",
          "text": [
            "  7%|▋         | 608/9172 [00:26<09:30, 15.01it/s]"
          ]
        },
        {
          "output_type": "stream",
          "name": "stdout",
          "text": [
            "15079\n",
            "15076\n",
            "15076\n",
            "15076\n"
          ]
        },
        {
          "output_type": "stream",
          "name": "stderr",
          "text": [
            "  7%|▋         | 617/9172 [00:27<07:23, 19.27it/s]"
          ]
        },
        {
          "output_type": "stream",
          "name": "stdout",
          "text": [
            "15080\n",
            "15076\n",
            "15077\n",
            "15077\n",
            "15077\n",
            "15077\n",
            "15076\n",
            "15079\n",
            "15077\n"
          ]
        },
        {
          "output_type": "stream",
          "name": "stderr",
          "text": [
            "\r  7%|▋         | 621/9172 [00:27<06:50, 20.83it/s]"
          ]
        },
        {
          "output_type": "stream",
          "name": "stdout",
          "text": [
            "15079\n",
            "15080\n",
            "15079\n",
            "15079\n",
            "15079\n"
          ]
        },
        {
          "output_type": "stream",
          "name": "stderr",
          "text": [
            "\r  7%|▋         | 624/9172 [00:27<07:00, 20.35it/s]"
          ]
        },
        {
          "output_type": "stream",
          "name": "stdout",
          "text": [
            "15079\n",
            "15081\n",
            "15080\n"
          ]
        },
        {
          "output_type": "stream",
          "name": "stderr",
          "text": [
            "  7%|▋         | 629/9172 [00:28<08:39, 16.43it/s]"
          ]
        },
        {
          "output_type": "stream",
          "name": "stdout",
          "text": [
            "15079\n",
            "15081\n",
            "15080\n",
            "15080\n"
          ]
        },
        {
          "output_type": "stream",
          "name": "stderr",
          "text": [
            "  7%|▋         | 636/9172 [00:28<06:47, 20.95it/s]"
          ]
        },
        {
          "output_type": "stream",
          "name": "stdout",
          "text": [
            "15080\n",
            "15081\n",
            "15083\n",
            "15081\n",
            "15081\n",
            "15084\n",
            "15080\n"
          ]
        },
        {
          "output_type": "stream",
          "name": "stderr",
          "text": [
            "\r  7%|▋         | 639/9172 [00:28<07:43, 18.42it/s]"
          ]
        },
        {
          "output_type": "stream",
          "name": "stdout",
          "text": [
            "15081\n",
            "15081\n",
            "15084\n"
          ]
        },
        {
          "output_type": "stream",
          "name": "stderr",
          "text": [
            "\r  7%|▋         | 642/9172 [00:28<07:21, 19.33it/s]"
          ]
        },
        {
          "output_type": "stream",
          "name": "stdout",
          "text": [
            "15080\n",
            "15086\n",
            "15083\n",
            "15083\n"
          ]
        },
        {
          "output_type": "stream",
          "name": "stderr",
          "text": [
            "  7%|▋         | 648/9172 [00:29<07:32, 18.82it/s]"
          ]
        },
        {
          "output_type": "stream",
          "name": "stdout",
          "text": [
            "15083\n",
            "15083\n",
            "15083\n",
            "15081\n",
            "15083\n",
            "15086\n"
          ]
        },
        {
          "output_type": "stream",
          "name": "stderr",
          "text": [
            "\r  7%|▋         | 652/9172 [00:29<07:41, 18.47it/s]"
          ]
        },
        {
          "output_type": "stream",
          "name": "stdout",
          "text": [
            "15087\n",
            "15084\n",
            "15084\n",
            "15083\n",
            "15087\n"
          ]
        },
        {
          "output_type": "stream",
          "name": "stderr",
          "text": [
            "  7%|▋         | 659/9172 [00:29<06:54, 20.53it/s]"
          ]
        },
        {
          "output_type": "stream",
          "name": "stdout",
          "text": [
            "15084\n",
            "15088\n",
            "15086\n",
            "15084\n"
          ]
        },
        {
          "output_type": "stream",
          "name": "stderr",
          "text": [
            "\r  7%|▋         | 662/9172 [00:29<06:51, 20.69it/s]"
          ]
        },
        {
          "output_type": "stream",
          "name": "stdout",
          "text": [
            "15086\n",
            "15088\n",
            "15086\n",
            "15086\n",
            "15084\n",
            "15091\n"
          ]
        },
        {
          "output_type": "stream",
          "name": "stderr",
          "text": [
            "  7%|▋         | 670/9172 [00:30<05:53, 24.06it/s]"
          ]
        },
        {
          "output_type": "stream",
          "name": "stdout",
          "text": [
            "15087\n",
            "15087\n",
            "15086\n",
            "15087\n",
            "15091\n",
            "15087\n",
            "15092\n"
          ]
        },
        {
          "output_type": "stream",
          "name": "stderr",
          "text": [
            "\r  7%|▋         | 675/9172 [00:30<04:58, 28.44it/s]"
          ]
        },
        {
          "output_type": "stream",
          "name": "stdout",
          "text": [
            "15087\n",
            "15087\n",
            "15088\n",
            "15088\n"
          ]
        },
        {
          "output_type": "stream",
          "name": "stderr",
          "text": [
            "  7%|▋         | 682/9172 [00:30<05:34, 25.37it/s]"
          ]
        },
        {
          "output_type": "stream",
          "name": "stdout",
          "text": [
            "15088\n",
            "15088\n",
            "15088\n",
            "15092\n",
            "15088\n",
            "15091\n",
            "15091\n",
            "15094\n"
          ]
        },
        {
          "output_type": "stream",
          "name": "stderr",
          "text": [
            "  8%|▊         | 688/9172 [00:30<06:11, 22.84it/s]"
          ]
        },
        {
          "output_type": "stream",
          "name": "stdout",
          "text": [
            "15091\n",
            "15091\n",
            "15094\n",
            "15091\n"
          ]
        },
        {
          "output_type": "stream",
          "name": "stderr",
          "text": [
            "  8%|▊         | 694/9172 [00:31<07:29, 18.85it/s]"
          ]
        },
        {
          "output_type": "stream",
          "name": "stdout",
          "text": [
            "15092\n",
            "15092\n",
            "15095\n",
            "15092\n",
            "15092\n",
            "15092\n",
            "15092\n",
            "15092\n",
            "15094\n",
            "15095\n",
            "15096\n"
          ]
        },
        {
          "output_type": "stream",
          "name": "stderr",
          "text": [
            "  8%|▊         | 703/9172 [00:31<06:41, 21.09it/s]"
          ]
        },
        {
          "output_type": "stream",
          "name": "stdout",
          "text": [
            "15094\n",
            "15095\n",
            "15094\n",
            "15096\n",
            "15094\n",
            "15095\n",
            "15096\n"
          ]
        },
        {
          "output_type": "stream",
          "name": "stderr",
          "text": [
            "  8%|▊         | 710/9172 [00:31<05:38, 24.99it/s]"
          ]
        },
        {
          "output_type": "stream",
          "name": "stdout",
          "text": [
            "15094\n",
            "15098\n",
            "15095\n",
            "15095\n",
            "15095\n",
            "15095\n",
            "15098\n"
          ]
        },
        {
          "output_type": "stream",
          "name": "stderr",
          "text": [
            "  8%|▊         | 717/9172 [00:32<07:10, 19.65it/s]"
          ]
        },
        {
          "output_type": "stream",
          "name": "stdout",
          "text": [
            "15099\n",
            "15096\n",
            "15099\n",
            "15096\n",
            "15095\n"
          ]
        },
        {
          "output_type": "stream",
          "name": "stderr",
          "text": [
            "\r  8%|▊         | 721/9172 [00:32<06:43, 20.95it/s]"
          ]
        },
        {
          "output_type": "stream",
          "name": "stdout",
          "text": [
            "15096\n",
            "15101\n",
            "15096\n",
            "15096\n",
            "15098\n",
            "15098\n"
          ]
        },
        {
          "output_type": "stream",
          "name": "stderr",
          "text": [
            "  8%|▊         | 729/9172 [00:32<05:14, 26.82it/s]"
          ]
        },
        {
          "output_type": "stream",
          "name": "stdout",
          "text": [
            "15099\n",
            "15101\n",
            "15099\n",
            "15102\n",
            "15099\n",
            "15101\n",
            "15098\n",
            "15098\n"
          ]
        },
        {
          "output_type": "stream",
          "name": "stderr",
          "text": [
            "\r  8%|▊         | 733/9172 [00:32<05:19, 26.44it/s]"
          ]
        },
        {
          "output_type": "stream",
          "name": "stdout",
          "text": [
            "15099\n",
            "15102\n",
            "15101\n",
            "15098\n",
            "15103\n",
            "15096\n"
          ]
        },
        {
          "output_type": "stream",
          "name": "stderr",
          "text": [
            "\r  8%|▊         | 739/9172 [00:33<05:41, 24.66it/s]"
          ]
        },
        {
          "output_type": "stream",
          "name": "stdout",
          "text": [
            "15101\n",
            "15099\n",
            "15101\n",
            "15101\n",
            "15102\n",
            "15103\n",
            "15105\n"
          ]
        },
        {
          "output_type": "stream",
          "name": "stderr",
          "text": [
            "  8%|▊         | 750/9172 [00:33<05:14, 26.77it/s]"
          ]
        },
        {
          "output_type": "stream",
          "name": "stdout",
          "text": [
            "15105\n",
            "15102\n",
            "15102\n",
            "15102\n",
            "15101\n",
            "15105\n",
            "15106\n"
          ]
        },
        {
          "output_type": "stream",
          "name": "stderr",
          "text": [
            "  8%|▊         | 756/9172 [00:33<06:20, 22.11it/s]"
          ]
        },
        {
          "output_type": "stream",
          "name": "stdout",
          "text": [
            "15102\n",
            "15106\n",
            "15103\n",
            "15108\n"
          ]
        },
        {
          "output_type": "stream",
          "name": "stderr",
          "text": [
            "  8%|▊         | 763/9172 [00:33<05:25, 25.84it/s]"
          ]
        },
        {
          "output_type": "stream",
          "name": "stdout",
          "text": [
            "15103\n",
            "15105\n",
            "15105\n",
            "15105\n",
            "15103\n",
            "15103\n",
            "15103\n",
            "15106\n"
          ]
        },
        {
          "output_type": "stream",
          "name": "stderr",
          "text": [
            "  8%|▊         | 771/9172 [00:34<04:53, 28.66it/s]"
          ]
        },
        {
          "output_type": "stream",
          "name": "stdout",
          "text": [
            "15108\n",
            "15106\n",
            "15105\n",
            "15106\n",
            "15109\n",
            "15103\n",
            "15106\n"
          ]
        },
        {
          "output_type": "stream",
          "name": "stderr",
          "text": [
            "\r  8%|▊         | 774/9172 [00:34<06:16, 22.28it/s]"
          ]
        },
        {
          "output_type": "stream",
          "name": "stdout",
          "text": [
            "15106\n",
            "15109\n",
            "15106\n"
          ]
        },
        {
          "output_type": "stream",
          "name": "stderr",
          "text": [
            "\r  8%|▊         | 777/9172 [00:34<07:28, 18.74it/s]"
          ]
        },
        {
          "output_type": "stream",
          "name": "stdout",
          "text": [
            "15106\n",
            "15108\n",
            "15108\n",
            "15108\n"
          ]
        },
        {
          "output_type": "stream",
          "name": "stderr",
          "text": [
            "  9%|▊         | 785/9172 [00:34<05:58, 23.41it/s]"
          ]
        },
        {
          "output_type": "stream",
          "name": "stdout",
          "text": [
            "15108\n",
            "15109\n",
            "15111\n",
            "15108\n",
            "15109\n",
            "15109\n",
            "15109\n",
            "15113\n"
          ]
        },
        {
          "output_type": "stream",
          "name": "stderr",
          "text": [
            "  9%|▊         | 792/9172 [00:35<05:13, 26.70it/s]"
          ]
        },
        {
          "output_type": "stream",
          "name": "stdout",
          "text": [
            "15109\n",
            "15108\n",
            "15109\n",
            "15113\n",
            "15109\n",
            "15111\n"
          ]
        },
        {
          "output_type": "stream",
          "name": "stderr",
          "text": [
            "\r  9%|▊         | 795/9172 [00:35<06:07, 22.81it/s]"
          ]
        },
        {
          "output_type": "stream",
          "name": "stdout",
          "text": [
            "15111\n",
            "15114\n",
            "15114\n",
            "15111\n",
            "15116\n",
            "15113\n"
          ]
        },
        {
          "output_type": "stream",
          "name": "stderr",
          "text": [
            "  9%|▊         | 801/9172 [00:35<06:17, 22.18it/s]"
          ]
        },
        {
          "output_type": "stream",
          "name": "stdout",
          "text": [
            "15111\n",
            "15111\n",
            "15113\n",
            "15113\n",
            "15113\n",
            "15111\n"
          ]
        },
        {
          "output_type": "stream",
          "name": "stderr",
          "text": [
            "  9%|▉         | 810/9172 [00:35<05:47, 24.08it/s]"
          ]
        },
        {
          "output_type": "stream",
          "name": "stdout",
          "text": [
            "15113\n",
            "15114\n",
            "15116\n",
            "15111\n",
            "15114\n",
            "15117\n",
            "15114\n"
          ]
        },
        {
          "output_type": "stream",
          "name": "stderr",
          "text": [
            "  9%|▉         | 818/9172 [00:36<05:09, 26.98it/s]"
          ]
        },
        {
          "output_type": "stream",
          "name": "stdout",
          "text": [
            "15114\n",
            "15114\n",
            "15116\n",
            "15116\n",
            "15117\n",
            "15114\n",
            "15119\n"
          ]
        },
        {
          "output_type": "stream",
          "name": "stderr",
          "text": [
            "\r  9%|▉         | 821/9172 [00:36<07:43, 18.03it/s]"
          ]
        },
        {
          "output_type": "stream",
          "name": "stdout",
          "text": [
            "15120\n",
            "15117\n",
            "15119\n",
            "15117\n",
            "15116\n",
            "15116\n"
          ]
        },
        {
          "output_type": "stream",
          "name": "stderr",
          "text": [
            "\r  9%|▉         | 826/9172 [00:36<06:06, 22.77it/s]"
          ]
        },
        {
          "output_type": "stream",
          "name": "stdout",
          "text": [
            "15116\n",
            "15117\n",
            "15116\n",
            "15117\n",
            "15116\n"
          ]
        },
        {
          "output_type": "stream",
          "name": "stderr",
          "text": [
            "  9%|▉         | 833/9172 [00:37<06:51, 20.24it/s]"
          ]
        },
        {
          "output_type": "stream",
          "name": "stdout",
          "text": [
            "15119\n",
            "15119\n",
            "15120\n",
            "15122\n"
          ]
        },
        {
          "output_type": "stream",
          "name": "stderr",
          "text": [
            "\r  9%|▉         | 836/9172 [00:37<07:22, 18.84it/s]"
          ]
        },
        {
          "output_type": "stream",
          "name": "stdout",
          "text": [
            "15117\n",
            "15119\n",
            "15120\n"
          ]
        },
        {
          "output_type": "stream",
          "name": "stderr",
          "text": [
            "  9%|▉         | 842/9172 [00:37<07:35, 18.27it/s]"
          ]
        },
        {
          "output_type": "stream",
          "name": "stdout",
          "text": [
            "15119\n",
            "15120\n",
            "15119\n",
            "15122\n",
            "15124\n",
            "15119\n",
            "15119\n"
          ]
        },
        {
          "output_type": "stream",
          "name": "stderr",
          "text": [
            "  9%|▉         | 848/9172 [00:38<09:10, 15.13it/s]"
          ]
        },
        {
          "output_type": "stream",
          "name": "stdout",
          "text": [
            "15120\n",
            "15120\n",
            "15120\n",
            "15120\n",
            "15124\n",
            "15125\n"
          ]
        },
        {
          "output_type": "stream",
          "name": "stderr",
          "text": [
            "\r  9%|▉         | 850/9172 [00:38<12:32, 11.06it/s]"
          ]
        },
        {
          "output_type": "stream",
          "name": "stdout",
          "text": [
            "15120\n",
            "15122\n",
            "15125\n",
            "15122\n",
            "15122\n"
          ]
        },
        {
          "output_type": "stream",
          "name": "stderr",
          "text": [
            "\r  9%|▉         | 855/9172 [00:38<10:50, 12.78it/s]"
          ]
        },
        {
          "output_type": "stream",
          "name": "stdout",
          "text": [
            "15122\n"
          ]
        },
        {
          "output_type": "stream",
          "name": "stderr",
          "text": [
            "  9%|▉         | 861/9172 [00:39<09:52, 14.02it/s]"
          ]
        },
        {
          "output_type": "stream",
          "name": "stdout",
          "text": [
            "15127\n",
            "15124\n",
            "15124\n",
            "15124\n",
            "15124\n",
            "15124\n",
            "15124\n"
          ]
        },
        {
          "output_type": "stream",
          "name": "stderr",
          "text": [
            "  9%|▉         | 866/9172 [00:39<09:15, 14.94it/s]"
          ]
        },
        {
          "output_type": "stream",
          "name": "stdout",
          "text": [
            "15125\n",
            "15124\n",
            "15124\n",
            "15125\n",
            "15125\n"
          ]
        },
        {
          "output_type": "stream",
          "name": "stderr",
          "text": [
            "\r  9%|▉         | 869/9172 [00:39<08:05, 17.09it/s]"
          ]
        },
        {
          "output_type": "stream",
          "name": "stdout",
          "text": [
            "15127\n",
            "15125\n",
            "15128\n"
          ]
        },
        {
          "output_type": "stream",
          "name": "stderr",
          "text": [
            "\r  9%|▉         | 871/9172 [00:39<09:58, 13.86it/s]"
          ]
        },
        {
          "output_type": "stream",
          "name": "stdout",
          "text": [
            "15125\n",
            "15127\n",
            "15128\n",
            "15125\n",
            "15127\n",
            "15127\n"
          ]
        },
        {
          "output_type": "stream",
          "name": "stderr",
          "text": [
            " 10%|▉         | 879/9172 [00:40<08:52, 15.56it/s]"
          ]
        },
        {
          "output_type": "stream",
          "name": "stdout",
          "text": [
            "15130\n",
            "15127\n",
            "15127\n"
          ]
        },
        {
          "output_type": "stream",
          "name": "stderr",
          "text": [
            " 10%|▉         | 883/9172 [00:40<09:13, 14.98it/s]"
          ]
        },
        {
          "output_type": "stream",
          "name": "stdout",
          "text": [
            "15128\n",
            "15130\n",
            "15128\n",
            "15131\n",
            "15128\n"
          ]
        },
        {
          "output_type": "stream",
          "name": "stderr",
          "text": [
            " 10%|▉         | 887/9172 [00:40<09:49, 14.05it/s]"
          ]
        },
        {
          "output_type": "stream",
          "name": "stdout",
          "text": [
            "15128\n",
            "15131\n",
            "15128\n"
          ]
        },
        {
          "output_type": "stream",
          "name": "stderr",
          "text": [
            "\r 10%|▉         | 889/9172 [00:41<09:26, 14.62it/s]"
          ]
        },
        {
          "output_type": "stream",
          "name": "stdout",
          "text": [
            "15130\n",
            "15132\n",
            "15128\n"
          ]
        },
        {
          "output_type": "stream",
          "name": "stderr",
          "text": [
            " 10%|▉         | 895/9172 [00:41<08:02, 17.14it/s]"
          ]
        },
        {
          "output_type": "stream",
          "name": "stdout",
          "text": [
            "15131\n",
            "15131\n",
            "15130\n",
            "15130\n",
            "15131\n",
            "15131\n"
          ]
        },
        {
          "output_type": "stream",
          "name": "stderr",
          "text": [
            " 10%|▉         | 900/9172 [00:41<08:46, 15.71it/s]"
          ]
        },
        {
          "output_type": "stream",
          "name": "stdout",
          "text": [
            "15132\n",
            "15133\n",
            "15130\n",
            "15131\n"
          ]
        },
        {
          "output_type": "stream",
          "name": "stderr",
          "text": [
            "\r 10%|▉         | 902/9172 [00:41<09:49, 14.04it/s]"
          ]
        },
        {
          "output_type": "stream",
          "name": "stdout",
          "text": [
            "15131\n",
            "15130\n",
            "15133\n"
          ]
        },
        {
          "output_type": "stream",
          "name": "stderr",
          "text": [
            " 10%|▉         | 906/9172 [00:42<09:39, 14.27it/s]"
          ]
        },
        {
          "output_type": "stream",
          "name": "stdout",
          "text": [
            "15132\n",
            "15135\n",
            "15131\n",
            "15132\n",
            "15132\n"
          ]
        },
        {
          "output_type": "stream",
          "name": "stderr",
          "text": [
            "\r 10%|▉         | 909/9172 [00:42<10:52, 12.66it/s]"
          ]
        },
        {
          "output_type": "stream",
          "name": "stdout",
          "text": [
            "15133\n",
            "15133\n"
          ]
        },
        {
          "output_type": "stream",
          "name": "stderr",
          "text": [
            "\r 10%|▉         | 911/9172 [00:42<12:05, 11.38it/s]"
          ]
        },
        {
          "output_type": "stream",
          "name": "stdout",
          "text": [
            "15133\n",
            "15132\n",
            "15133\n",
            "15132\n"
          ]
        },
        {
          "output_type": "stream",
          "name": "stderr",
          "text": [
            " 10%|█         | 918/9172 [00:43<09:22, 14.66it/s]"
          ]
        },
        {
          "output_type": "stream",
          "name": "stdout",
          "text": [
            "15133\n",
            "15133\n",
            "15133\n",
            "15137\n",
            "15135\n"
          ]
        },
        {
          "output_type": "stream",
          "name": "stderr",
          "text": [
            " 10%|█         | 922/9172 [00:43<09:47, 14.05it/s]"
          ]
        },
        {
          "output_type": "stream",
          "name": "stdout",
          "text": [
            "15135\n",
            "15133\n",
            "15135\n",
            "15135\n",
            "15135\n",
            "15132\n",
            "15137\n"
          ]
        },
        {
          "output_type": "stream",
          "name": "stderr",
          "text": [
            "\r 10%|█         | 926/9172 [00:43<07:13, 19.02it/s]"
          ]
        },
        {
          "output_type": "stream",
          "name": "stdout",
          "text": [
            "15138\n"
          ]
        },
        {
          "output_type": "stream",
          "name": "stderr",
          "text": [
            " 10%|█         | 931/9172 [00:44<10:05, 13.61it/s]"
          ]
        },
        {
          "output_type": "stream",
          "name": "stdout",
          "text": [
            "15135\n",
            "15135\n",
            "15135\n",
            "15137\n",
            "15135\n",
            "15138\n"
          ]
        },
        {
          "output_type": "stream",
          "name": "stderr",
          "text": [
            " 10%|█         | 938/9172 [00:44<09:31, 14.41it/s]"
          ]
        },
        {
          "output_type": "stream",
          "name": "stdout",
          "text": [
            "15137\n",
            "15138\n",
            "15137\n",
            "15137\n",
            "15140\n"
          ]
        },
        {
          "output_type": "stream",
          "name": "stderr",
          "text": [
            " 10%|█         | 945/9172 [00:44<07:11, 19.05it/s]"
          ]
        },
        {
          "output_type": "stream",
          "name": "stdout",
          "text": [
            "15137\n",
            "15138\n",
            "15138\n",
            "15137\n",
            "15140\n",
            "15138\n",
            "15138\n",
            "15138\n",
            "15138\n",
            "15138\n"
          ]
        },
        {
          "output_type": "stream",
          "name": "stderr",
          "text": [
            "\r 10%|█         | 949/9172 [00:45<06:27, 21.22it/s]"
          ]
        },
        {
          "output_type": "stream",
          "name": "stdout",
          "text": [
            "15138\n"
          ]
        },
        {
          "output_type": "stream",
          "name": "stderr",
          "text": [
            " 10%|█         | 954/9172 [00:45<08:45, 15.64it/s]"
          ]
        },
        {
          "output_type": "stream",
          "name": "stdout",
          "text": [
            "15140\n",
            "15138\n",
            "15140\n",
            "15142\n",
            "15142\n",
            "15140\n",
            "15140\n"
          ]
        },
        {
          "output_type": "stream",
          "name": "stderr",
          "text": [
            " 10%|█         | 963/9172 [00:46<08:08, 16.81it/s]"
          ]
        },
        {
          "output_type": "stream",
          "name": "stdout",
          "text": [
            "15140\n",
            "15142\n",
            "15140\n",
            "15142\n",
            "15140\n",
            "15142\n",
            "15142\n"
          ]
        },
        {
          "output_type": "stream",
          "name": "stderr",
          "text": [
            " 11%|█         | 967/9172 [00:46<09:09, 14.94it/s]"
          ]
        },
        {
          "output_type": "stream",
          "name": "stdout",
          "text": [
            "15143\n",
            "15142\n",
            "15142\n",
            "15142\n"
          ]
        },
        {
          "output_type": "stream",
          "name": "stderr",
          "text": [
            " 11%|█         | 976/9172 [00:46<07:25, 18.41it/s]"
          ]
        },
        {
          "output_type": "stream",
          "name": "stdout",
          "text": [
            "15142\n",
            "15142\n",
            "15143\n",
            "15142\n",
            "15142\n",
            "15142\n",
            "15142\n",
            "15142\n",
            "15142\n"
          ]
        },
        {
          "output_type": "stream",
          "name": "stderr",
          "text": [
            " 11%|█         | 981/9172 [00:47<07:48, 17.50it/s]"
          ]
        },
        {
          "output_type": "stream",
          "name": "stdout",
          "text": [
            "15143\n",
            "15142\n",
            "15142\n",
            "15143\n",
            "15143\n"
          ]
        },
        {
          "output_type": "stream",
          "name": "stderr",
          "text": [
            "\r 11%|█         | 985/9172 [00:47<06:45, 20.19it/s]"
          ]
        },
        {
          "output_type": "stream",
          "name": "stdout",
          "text": [
            "15143\n",
            "15143\n",
            "15145\n",
            "15145\n",
            "15143\n"
          ]
        },
        {
          "output_type": "stream",
          "name": "stderr",
          "text": [
            "\r 11%|█         | 988/9172 [00:47<08:40, 15.73it/s]"
          ]
        },
        {
          "output_type": "stream",
          "name": "stdout",
          "text": [
            "15143\n",
            "15143\n"
          ]
        },
        {
          "output_type": "stream",
          "name": "stderr",
          "text": [
            "\r 11%|█         | 992/9172 [00:47<07:45, 17.57it/s]"
          ]
        },
        {
          "output_type": "stream",
          "name": "stdout",
          "text": [
            "15143\n",
            "15146\n",
            "15146\n",
            "15148\n",
            "15145\n"
          ]
        },
        {
          "output_type": "stream",
          "name": "stderr",
          "text": [
            "\r 11%|█         | 994/9172 [00:48<12:07, 11.24it/s]"
          ]
        },
        {
          "output_type": "stream",
          "name": "stdout",
          "text": [
            "15145\n",
            "15148\n"
          ]
        },
        {
          "output_type": "stream",
          "name": "stderr",
          "text": [
            " 11%|█         | 998/9172 [00:48<12:14, 11.12it/s]"
          ]
        },
        {
          "output_type": "stream",
          "name": "stdout",
          "text": [
            "15146\n",
            "15143\n",
            "15145\n",
            "15145\n",
            "15145\n"
          ]
        },
        {
          "output_type": "stream",
          "name": "stderr",
          "text": [
            " 11%|█         | 1004/9172 [00:48<08:41, 15.67it/s]"
          ]
        },
        {
          "output_type": "stream",
          "name": "stdout",
          "text": [
            "15146\n",
            "15146\n",
            "15146\n",
            "15146\n",
            "15148\n"
          ]
        },
        {
          "output_type": "stream",
          "name": "stderr",
          "text": [
            " 11%|█         | 1011/9172 [00:49<07:12, 18.89it/s]"
          ]
        },
        {
          "output_type": "stream",
          "name": "stdout",
          "text": [
            "15146\n",
            "15148\n",
            "15148\n",
            "15148\n",
            "15150\n",
            "15148\n"
          ]
        },
        {
          "output_type": "stream",
          "name": "stderr",
          "text": [
            "\r 11%|█         | 1014/9172 [00:49<08:01, 16.93it/s]"
          ]
        },
        {
          "output_type": "stream",
          "name": "stdout",
          "text": [
            "15152\n",
            "15150\n",
            "15152\n"
          ]
        },
        {
          "output_type": "stream",
          "name": "stderr",
          "text": [
            " 11%|█         | 1018/9172 [00:49<08:20, 16.28it/s]"
          ]
        },
        {
          "output_type": "stream",
          "name": "stdout",
          "text": [
            "15148\n",
            "15153\n",
            "15150\n",
            "15148\n"
          ]
        },
        {
          "output_type": "stream",
          "name": "stderr",
          "text": [
            " 11%|█         | 1024/9172 [00:50<08:04, 16.82it/s]"
          ]
        },
        {
          "output_type": "stream",
          "name": "stdout",
          "text": [
            "15150\n",
            "15153\n",
            "15150\n",
            "15153\n",
            "15152\n",
            "15150\n",
            "15155\n",
            "15150\n"
          ]
        },
        {
          "output_type": "stream",
          "name": "stderr",
          "text": [
            " 11%|█         | 1030/9172 [00:50<08:27, 16.04it/s]"
          ]
        },
        {
          "output_type": "stream",
          "name": "stdout",
          "text": [
            "15152\n",
            "15155\n",
            "15152\n",
            "15152\n",
            "15153\n",
            "15152\n",
            "15157\n"
          ]
        },
        {
          "output_type": "stream",
          "name": "stderr",
          "text": [
            "\r 11%|█▏        | 1033/9172 [00:50<07:19, 18.53it/s]"
          ]
        },
        {
          "output_type": "stream",
          "name": "stdout",
          "text": [
            "15153\n"
          ]
        },
        {
          "output_type": "stream",
          "name": "stderr",
          "text": [
            "\r 11%|█▏        | 1036/9172 [00:50<09:24, 14.42it/s]"
          ]
        },
        {
          "output_type": "stream",
          "name": "stdout",
          "text": [
            "15152\n",
            "15153\n",
            "15153\n",
            "15153\n",
            "15158\n",
            "15157\n",
            "15155\n"
          ]
        },
        {
          "output_type": "stream",
          "name": "stderr",
          "text": [
            " 11%|█▏        | 1048/9172 [00:51<05:36, 24.12it/s]"
          ]
        },
        {
          "output_type": "stream",
          "name": "stdout",
          "text": [
            "15155\n",
            "15155\n",
            "15155\n",
            "15155\n",
            "15155\n",
            "15157\n",
            "15155\n",
            "15157\n",
            "15157\n"
          ]
        },
        {
          "output_type": "stream",
          "name": "stderr",
          "text": [
            " 12%|█▏        | 1056/9172 [00:51<07:44, 17.46it/s]"
          ]
        },
        {
          "output_type": "stream",
          "name": "stdout",
          "text": [
            "15157\n",
            "15158\n",
            "15158\n",
            "15158\n",
            "15157\n",
            "15158\n",
            "15158\n",
            "15158\n",
            "15157\n",
            "15158\n",
            "15158\n"
          ]
        },
        {
          "output_type": "stream",
          "name": "stderr",
          "text": [
            "\r 12%|█▏        | 1062/9172 [00:52<05:48, 23.30it/s]"
          ]
        },
        {
          "output_type": "stream",
          "name": "stdout",
          "text": [
            "15158\n",
            "15159\n",
            "15159\n",
            "15158\n",
            "15158\n"
          ]
        },
        {
          "output_type": "stream",
          "name": "stderr",
          "text": [
            " 12%|█▏        | 1074/9172 [00:52<05:01, 26.84it/s]"
          ]
        },
        {
          "output_type": "stream",
          "name": "stdout",
          "text": [
            "15159\n",
            "15158\n",
            "15158\n",
            "15158\n",
            "15158\n",
            "15158\n",
            "15159\n",
            "15159\n"
          ]
        },
        {
          "output_type": "stream",
          "name": "stderr",
          "text": [
            "\r 12%|█▏        | 1078/9172 [00:52<05:04, 26.62it/s]"
          ]
        },
        {
          "output_type": "stream",
          "name": "stdout",
          "text": [
            "15159\n",
            "15159\n",
            "15159\n",
            "15159\n",
            "15159\n"
          ]
        },
        {
          "output_type": "stream",
          "name": "stderr",
          "text": [
            "\r 12%|█▏        | 1082/9172 [00:52<05:15, 25.68it/s]"
          ]
        },
        {
          "output_type": "stream",
          "name": "stdout",
          "text": [
            "15159\n",
            "15159\n",
            "15158\n",
            "15161\n"
          ]
        },
        {
          "output_type": "stream",
          "name": "stderr",
          "text": [
            " 12%|█▏        | 1090/9172 [00:53<05:54, 22.78it/s]"
          ]
        },
        {
          "output_type": "stream",
          "name": "stdout",
          "text": [
            "15159\n",
            "15161\n",
            "15159\n",
            "15159\n",
            "15159\n",
            "15164\n",
            "15159\n"
          ]
        },
        {
          "output_type": "stream",
          "name": "stderr",
          "text": [
            " 12%|█▏        | 1098/9172 [00:53<05:00, 26.83it/s]"
          ]
        },
        {
          "output_type": "stream",
          "name": "stdout",
          "text": [
            "15161\n",
            "15161\n",
            "15164\n",
            "15166\n",
            "15161\n",
            "15161\n",
            "15161\n",
            "15161\n",
            "15161\n",
            "15161\n",
            "15161\n"
          ]
        },
        {
          "output_type": "stream",
          "name": "stderr",
          "text": [
            "\r 12%|█▏        | 1102/9172 [00:53<06:24, 20.97it/s]"
          ]
        },
        {
          "output_type": "stream",
          "name": "stdout",
          "text": [
            "15164\n",
            "15166\n",
            "15164\n",
            "15164\n"
          ]
        },
        {
          "output_type": "stream",
          "name": "stderr",
          "text": [
            " 12%|█▏        | 1109/9172 [00:54<07:01, 19.12it/s]"
          ]
        },
        {
          "output_type": "stream",
          "name": "stdout",
          "text": [
            "15164\n",
            "15164\n",
            "15161\n",
            "15164\n",
            "15166\n",
            "15164\n"
          ]
        },
        {
          "output_type": "stream",
          "name": "stderr",
          "text": [
            " 12%|█▏        | 1115/9172 [00:54<06:20, 21.19it/s]"
          ]
        },
        {
          "output_type": "stream",
          "name": "stdout",
          "text": [
            "15166\n",
            "15166\n",
            "15166\n",
            "15166\n",
            "15168\n",
            "15166\n",
            "15166\n"
          ]
        },
        {
          "output_type": "stream",
          "name": "stderr",
          "text": [
            " 12%|█▏        | 1124/9172 [00:54<04:49, 27.75it/s]"
          ]
        },
        {
          "output_type": "stream",
          "name": "stdout",
          "text": [
            "15168\n",
            "15168\n",
            "15168\n",
            "15168\n",
            "15168\n",
            "15168\n"
          ]
        },
        {
          "output_type": "stream",
          "name": "stderr",
          "text": [
            "\r 12%|█▏        | 1127/9172 [00:54<04:56, 27.11it/s]"
          ]
        },
        {
          "output_type": "stream",
          "name": "stdout",
          "text": [
            "15168\n",
            "15168\n",
            "15168\n",
            "15171\n",
            "15168\n",
            "15171\n"
          ]
        },
        {
          "output_type": "stream",
          "name": "stderr",
          "text": [
            " 12%|█▏        | 1134/9172 [00:55<06:36, 20.27it/s]"
          ]
        },
        {
          "output_type": "stream",
          "name": "stdout",
          "text": [
            "15168\n",
            "15168\n",
            "15168\n",
            "15174\n",
            "15168\n"
          ]
        },
        {
          "output_type": "stream",
          "name": "stderr",
          "text": [
            " 12%|█▏        | 1144/9172 [00:55<05:18, 25.19it/s]"
          ]
        },
        {
          "output_type": "stream",
          "name": "stdout",
          "text": [
            "15171\n",
            "15171\n",
            "15171\n",
            "15174\n",
            "15171\n",
            "15171\n",
            "15175\n",
            "15168\n",
            "15175\n",
            "15171\n"
          ]
        },
        {
          "output_type": "stream",
          "name": "stderr",
          "text": [
            "\r 13%|█▎        | 1148/9172 [00:55<05:36, 23.82it/s]"
          ]
        },
        {
          "output_type": "stream",
          "name": "stdout",
          "text": [
            "15177\n",
            "15171\n",
            "15171\n",
            "15174\n",
            "15174\n"
          ]
        },
        {
          "output_type": "stream",
          "name": "stderr",
          "text": [
            " 13%|█▎        | 1155/9172 [00:56<05:31, 24.19it/s]"
          ]
        },
        {
          "output_type": "stream",
          "name": "stdout",
          "text": [
            "15174\n",
            "15177\n",
            "15181\n",
            "15174\n",
            "15175\n",
            "15175\n",
            "15175\n"
          ]
        },
        {
          "output_type": "stream",
          "name": "stderr",
          "text": [
            " 13%|█▎        | 1162/9172 [00:56<04:40, 28.52it/s]"
          ]
        },
        {
          "output_type": "stream",
          "name": "stdout",
          "text": [
            "15177\n",
            "15181\n",
            "15175\n",
            "15174\n",
            "15174\n"
          ]
        },
        {
          "output_type": "stream",
          "name": "stderr",
          "text": [
            "\r 13%|█▎        | 1166/9172 [00:56<05:41, 23.44it/s]"
          ]
        },
        {
          "output_type": "stream",
          "name": "stdout",
          "text": [
            "15177\n",
            "15177\n",
            "15177\n",
            "15183\n",
            "15177\n"
          ]
        },
        {
          "output_type": "stream",
          "name": "stderr",
          "text": [
            "\r 13%|█▎        | 1169/9172 [00:56<05:32, 24.06it/s]"
          ]
        },
        {
          "output_type": "stream",
          "name": "stdout",
          "text": [
            "15181\n",
            "15181\n",
            "15181\n",
            "15181\n"
          ]
        },
        {
          "output_type": "stream",
          "name": "stderr",
          "text": [
            " 13%|█▎        | 1176/9172 [00:57<06:18, 21.12it/s]"
          ]
        },
        {
          "output_type": "stream",
          "name": "stdout",
          "text": [
            "15183\n",
            "15181\n",
            "15181\n",
            "15183\n",
            "15183\n",
            "15186\n",
            "15183\n",
            "15184\n",
            "15183\n"
          ]
        },
        {
          "output_type": "stream",
          "name": "stderr",
          "text": [
            "\r 13%|█▎        | 1181/9172 [00:57<05:11, 25.66it/s]"
          ]
        },
        {
          "output_type": "stream",
          "name": "stdout",
          "text": [
            "15183\n",
            "15184\n"
          ]
        },
        {
          "output_type": "stream",
          "name": "stderr",
          "text": [
            " 13%|█▎        | 1187/9172 [00:57<06:17, 21.14it/s]"
          ]
        },
        {
          "output_type": "stream",
          "name": "stdout",
          "text": [
            "15184\n",
            "15186\n",
            "15188\n",
            "15183\n",
            "15183\n"
          ]
        },
        {
          "output_type": "stream",
          "name": "stderr",
          "text": [
            "\r 13%|█▎        | 1190/9172 [00:57<07:47, 17.06it/s]"
          ]
        },
        {
          "output_type": "stream",
          "name": "stdout",
          "text": [
            "15184\n",
            "15184\n",
            "15184\n",
            "15184\n"
          ]
        },
        {
          "output_type": "stream",
          "name": "stderr",
          "text": [
            " 13%|█▎        | 1198/9172 [00:58<05:27, 24.34it/s]"
          ]
        },
        {
          "output_type": "stream",
          "name": "stdout",
          "text": [
            "15186\n",
            "15186\n",
            "15186\n",
            "15186\n",
            "15184\n",
            "15186\n",
            "15186\n",
            "15186\n"
          ]
        },
        {
          "output_type": "stream",
          "name": "stderr",
          "text": [
            "\r 13%|█▎        | 1201/9172 [00:58<05:51, 22.67it/s]"
          ]
        },
        {
          "output_type": "stream",
          "name": "stdout",
          "text": [
            "15188\n",
            "15188\n",
            "15186\n",
            "15191\n",
            "15188\n"
          ]
        },
        {
          "output_type": "stream",
          "name": "stderr",
          "text": [
            " 13%|█▎        | 1210/9172 [00:58<05:27, 24.28it/s]"
          ]
        },
        {
          "output_type": "stream",
          "name": "stdout",
          "text": [
            "15188\n",
            "15188\n",
            "15191\n",
            "15188\n",
            "15193\n",
            "15188\n",
            "15188\n"
          ]
        },
        {
          "output_type": "stream",
          "name": "stderr",
          "text": [
            " 13%|█▎        | 1218/9172 [00:58<05:08, 25.81it/s]"
          ]
        },
        {
          "output_type": "stream",
          "name": "stdout",
          "text": [
            "15191\n",
            "15193\n",
            "15188\n",
            "15191\n",
            "15188\n",
            "15188\n",
            "15191\n",
            "15188\n",
            "15191\n"
          ]
        },
        {
          "output_type": "stream",
          "name": "stderr",
          "text": [
            "\r 13%|█▎        | 1222/9172 [00:59<04:47, 27.69it/s]"
          ]
        },
        {
          "output_type": "stream",
          "name": "stdout",
          "text": [
            "15191\n",
            "15188\n",
            "15191\n",
            "15195\n"
          ]
        },
        {
          "output_type": "stream",
          "name": "stderr",
          "text": [
            " 13%|█▎        | 1231/9172 [00:59<04:43, 28.04it/s]"
          ]
        },
        {
          "output_type": "stream",
          "name": "stdout",
          "text": [
            "15193\n",
            "15196\n",
            "15193\n",
            "15195\n",
            "15193\n",
            "15191\n",
            "15193\n",
            "15193\n"
          ]
        },
        {
          "output_type": "stream",
          "name": "stderr",
          "text": [
            " 13%|█▎        | 1238/9172 [00:59<06:06, 21.65it/s]"
          ]
        },
        {
          "output_type": "stream",
          "name": "stdout",
          "text": [
            "15196\n",
            "15195\n",
            "15195\n",
            "15198\n",
            "15195\n",
            "15195\n"
          ]
        },
        {
          "output_type": "stream",
          "name": "stderr",
          "text": [
            "\r 14%|█▎        | 1241/9172 [01:00<06:10, 21.40it/s]"
          ]
        },
        {
          "output_type": "stream",
          "name": "stdout",
          "text": [
            "15195\n",
            "15196\n",
            "15195\n",
            "15198\n",
            "15195\n",
            "15196\n"
          ]
        },
        {
          "output_type": "stream",
          "name": "stderr",
          "text": [
            "\r 14%|█▎        | 1246/9172 [01:00<05:51, 22.53it/s]"
          ]
        },
        {
          "output_type": "stream",
          "name": "stdout",
          "text": [
            "15196\n",
            "15195\n",
            "15196\n",
            "15196\n"
          ]
        },
        {
          "output_type": "stream",
          "name": "stderr",
          "text": [
            " 14%|█▎        | 1254/9172 [01:00<05:18, 24.87it/s]"
          ]
        },
        {
          "output_type": "stream",
          "name": "stdout",
          "text": [
            "15196\n",
            "15198\n",
            "15200\n",
            "15198\n",
            "15202\n",
            "15198\n",
            "15198\n"
          ]
        },
        {
          "output_type": "stream",
          "name": "stderr",
          "text": [
            " 14%|█▎        | 1260/9172 [01:00<05:33, 23.75it/s]"
          ]
        },
        {
          "output_type": "stream",
          "name": "stdout",
          "text": [
            "15198\n",
            "15198\n",
            "15203\n",
            "15202\n",
            "15200\n",
            "15203\n",
            "15200\n"
          ]
        },
        {
          "output_type": "stream",
          "name": "stderr",
          "text": [
            " 14%|█▍        | 1265/9172 [01:01<09:43, 13.56it/s]"
          ]
        },
        {
          "output_type": "stream",
          "name": "stdout",
          "text": [
            "15205\n",
            "15200\n",
            "15202\n"
          ]
        },
        {
          "output_type": "stream",
          "name": "stderr",
          "text": [
            "\r 14%|█▍        | 1268/9172 [01:01<10:19, 12.76it/s]"
          ]
        },
        {
          "output_type": "stream",
          "name": "stdout",
          "text": [
            "15200\n",
            "15200\n",
            "15200\n",
            "15205\n",
            "15202\n"
          ]
        },
        {
          "output_type": "stream",
          "name": "stderr",
          "text": [
            "\r 14%|█▍        | 1274/9172 [01:01<07:03, 18.64it/s]"
          ]
        },
        {
          "output_type": "stream",
          "name": "stdout",
          "text": [
            "15202\n",
            "15207\n",
            "15200\n",
            "15203\n",
            "15202\n",
            "15203\n"
          ]
        },
        {
          "output_type": "stream",
          "name": "stderr",
          "text": [
            " 14%|█▍        | 1280/9172 [01:02<07:35, 17.34it/s]"
          ]
        },
        {
          "output_type": "stream",
          "name": "stdout",
          "text": [
            "15203\n",
            "15203\n",
            "15207\n",
            "15209\n",
            "15205\n"
          ]
        },
        {
          "output_type": "stream",
          "name": "stderr",
          "text": [
            "\r 14%|█▍        | 1284/9172 [01:02<07:54, 16.61it/s]"
          ]
        },
        {
          "output_type": "stream",
          "name": "stdout",
          "text": [
            "15203\n",
            "15205\n",
            "15205\n"
          ]
        },
        {
          "output_type": "stream",
          "name": "stderr",
          "text": [
            "\r 14%|█▍        | 1286/9172 [01:02<10:22, 12.67it/s]"
          ]
        },
        {
          "output_type": "stream",
          "name": "stdout",
          "text": [
            "15205\n",
            "15205\n"
          ]
        },
        {
          "output_type": "stream",
          "name": "stderr",
          "text": [
            "\r 14%|█▍        | 1288/9172 [01:03<11:08, 11.80it/s]"
          ]
        },
        {
          "output_type": "stream",
          "name": "stdout",
          "text": [
            "15207\n",
            "15207\n",
            "15207\n",
            "15211\n"
          ]
        },
        {
          "output_type": "stream",
          "name": "stderr",
          "text": [
            " 14%|█▍        | 1293/9172 [01:03<10:03, 13.05it/s]"
          ]
        },
        {
          "output_type": "stream",
          "name": "stdout",
          "text": [
            "15209\n",
            "15207\n",
            "15209\n"
          ]
        },
        {
          "output_type": "stream",
          "name": "stderr",
          "text": [
            " 14%|█▍        | 1300/9172 [01:03<06:49, 19.23it/s]"
          ]
        },
        {
          "output_type": "stream",
          "name": "stdout",
          "text": [
            "15209\n",
            "15209\n",
            "15207\n",
            "15209\n",
            "15209\n",
            "15209\n",
            "15209\n",
            "15211\n",
            "15213\n"
          ]
        },
        {
          "output_type": "stream",
          "name": "stderr",
          "text": [
            "\r 14%|█▍        | 1303/9172 [01:03<06:28, 20.25it/s]"
          ]
        },
        {
          "output_type": "stream",
          "name": "stdout",
          "text": [
            "15209\n",
            "15211\n",
            "15209\n"
          ]
        },
        {
          "output_type": "stream",
          "name": "stderr",
          "text": [
            " 14%|█▍        | 1310/9172 [01:04<07:11, 18.22it/s]"
          ]
        },
        {
          "output_type": "stream",
          "name": "stdout",
          "text": [
            "15213\n",
            "15215\n",
            "15209\n",
            "15209\n",
            "15209\n"
          ]
        },
        {
          "output_type": "stream",
          "name": "stderr",
          "text": [
            "\r 14%|█▍        | 1313/9172 [01:04<09:10, 14.27it/s]"
          ]
        },
        {
          "output_type": "stream",
          "name": "stdout",
          "text": [
            "15211\n",
            "15211\n",
            "15211\n",
            "15216\n",
            "15215\n"
          ]
        },
        {
          "output_type": "stream",
          "name": "stderr",
          "text": [
            " 14%|█▍        | 1319/9172 [01:04<08:26, 15.51it/s]"
          ]
        },
        {
          "output_type": "stream",
          "name": "stdout",
          "text": [
            "15213\n",
            "15213\n",
            "15213\n",
            "15215\n",
            "15213\n"
          ]
        },
        {
          "output_type": "stream",
          "name": "stderr",
          "text": [
            " 14%|█▍        | 1323/9172 [01:05<07:59, 16.35it/s]"
          ]
        },
        {
          "output_type": "stream",
          "name": "stdout",
          "text": [
            "15215\n",
            "15213\n",
            "15213\n",
            "15215\n",
            "15216\n"
          ]
        },
        {
          "output_type": "stream",
          "name": "stderr",
          "text": [
            " 15%|█▍        | 1330/9172 [01:05<06:33, 19.95it/s]"
          ]
        },
        {
          "output_type": "stream",
          "name": "stdout",
          "text": [
            "15215\n",
            "15218\n",
            "15216\n",
            "15213\n",
            "15215\n",
            "15216\n"
          ]
        },
        {
          "output_type": "stream",
          "name": "stderr",
          "text": [
            "\r 15%|█▍        | 1333/9172 [01:05<07:44, 16.89it/s]"
          ]
        },
        {
          "output_type": "stream",
          "name": "stdout",
          "text": [
            "15216\n",
            "15216\n"
          ]
        },
        {
          "output_type": "stream",
          "name": "stderr",
          "text": [
            "\r 15%|█▍        | 1335/9172 [01:05<09:11, 14.22it/s]"
          ]
        },
        {
          "output_type": "stream",
          "name": "stdout",
          "text": [
            "15216\n",
            "15218\n",
            "15216\n",
            "15220\n",
            "15216\n"
          ]
        },
        {
          "output_type": "stream",
          "name": "stderr",
          "text": [
            " 15%|█▍        | 1341/9172 [01:06<09:04, 14.39it/s]"
          ]
        },
        {
          "output_type": "stream",
          "name": "stdout",
          "text": [
            "15216\n",
            "15218\n",
            "15218\n"
          ]
        },
        {
          "output_type": "stream",
          "name": "stderr",
          "text": [
            "\r 15%|█▍        | 1343/9172 [01:06<09:05, 14.35it/s]"
          ]
        },
        {
          "output_type": "stream",
          "name": "stdout",
          "text": [
            "15218\n",
            "15218\n",
            "15218\n"
          ]
        },
        {
          "output_type": "stream",
          "name": "stderr",
          "text": [
            "\r 15%|█▍        | 1345/9172 [01:06<10:04, 12.95it/s]"
          ]
        },
        {
          "output_type": "stream",
          "name": "stdout",
          "text": [
            "15218\n",
            "15220\n"
          ]
        },
        {
          "output_type": "stream",
          "name": "stderr",
          "text": [
            " 15%|█▍        | 1349/9172 [01:07<12:00, 10.86it/s]"
          ]
        },
        {
          "output_type": "stream",
          "name": "stdout",
          "text": [
            "15222\n",
            "15220\n",
            "15220\n"
          ]
        },
        {
          "output_type": "stream",
          "name": "stderr",
          "text": [
            " 15%|█▍        | 1355/9172 [01:07<08:21, 15.59it/s]"
          ]
        },
        {
          "output_type": "stream",
          "name": "stdout",
          "text": [
            "15220\n",
            "15224\n",
            "15220\n",
            "15220\n",
            "15220\n",
            "15220\n",
            "15222\n"
          ]
        },
        {
          "output_type": "stream",
          "name": "stderr",
          "text": [
            "\r 15%|█▍        | 1358/9172 [01:07<09:06, 14.30it/s]"
          ]
        },
        {
          "output_type": "stream",
          "name": "stdout",
          "text": [
            "15220\n",
            "15220\n"
          ]
        },
        {
          "output_type": "stream",
          "name": "stderr",
          "text": [
            "\r 15%|█▍        | 1362/9172 [01:07<07:19, 17.76it/s]"
          ]
        },
        {
          "output_type": "stream",
          "name": "stdout",
          "text": [
            "15220\n",
            "15220\n",
            "15222\n",
            "15226\n",
            "15224\n",
            "15220\n"
          ]
        },
        {
          "output_type": "stream",
          "name": "stderr",
          "text": [
            " 15%|█▍        | 1368/9172 [01:08<06:35, 19.74it/s]"
          ]
        },
        {
          "output_type": "stream",
          "name": "stdout",
          "text": [
            "15220\n",
            "15222\n",
            "15220\n",
            "15224\n",
            "15220\n",
            "15226\n",
            "15222\n"
          ]
        },
        {
          "output_type": "stream",
          "name": "stderr",
          "text": [
            " 15%|█▍        | 1375/9172 [01:08<06:49, 19.04it/s]"
          ]
        },
        {
          "output_type": "stream",
          "name": "stdout",
          "text": [
            "15228\n",
            "15222\n",
            "15226\n",
            "15228\n",
            "15220\n",
            "15228\n"
          ]
        },
        {
          "output_type": "stream",
          "name": "stderr",
          "text": [
            " 15%|█▌        | 1380/9172 [01:08<09:45, 13.32it/s]"
          ]
        },
        {
          "output_type": "stream",
          "name": "stdout",
          "text": [
            "15226\n",
            "15224\n",
            "15230\n"
          ]
        },
        {
          "output_type": "stream",
          "name": "stderr",
          "text": [
            " 15%|█▌        | 1386/9172 [01:09<06:59, 18.54it/s]"
          ]
        },
        {
          "output_type": "stream",
          "name": "stdout",
          "text": [
            "15224\n",
            "15228\n",
            "15232\n",
            "15224\n",
            "15226\n",
            "15228\n",
            "15226\n"
          ]
        },
        {
          "output_type": "stream",
          "name": "stderr",
          "text": [
            " 15%|█▌        | 1391/9172 [01:09<09:02, 14.33it/s]"
          ]
        },
        {
          "output_type": "stream",
          "name": "stdout",
          "text": [
            "15228\n",
            "15228\n",
            "15228\n",
            "15230\n"
          ]
        },
        {
          "output_type": "stream",
          "name": "stderr",
          "text": [
            " 15%|█▌        | 1397/9172 [01:09<07:04, 18.30it/s]"
          ]
        },
        {
          "output_type": "stream",
          "name": "stdout",
          "text": [
            "15232\n",
            "15230\n",
            "15232\n",
            "15234\n",
            "15230\n",
            "15230\n"
          ]
        },
        {
          "output_type": "stream",
          "name": "stderr",
          "text": [
            "\r 15%|█▌        | 1400/9172 [01:10<07:43, 16.75it/s]"
          ]
        },
        {
          "output_type": "stream",
          "name": "stdout",
          "text": [
            "15234\n",
            "15230\n",
            "15232\n",
            "15230\n",
            "15236\n"
          ]
        },
        {
          "output_type": "stream",
          "name": "stderr",
          "text": [
            " 15%|█▌        | 1407/9172 [01:10<09:06, 14.22it/s]"
          ]
        },
        {
          "output_type": "stream",
          "name": "stdout",
          "text": [
            "15232\n",
            "15234\n",
            "15236\n",
            "15232\n",
            "15238\n",
            "15234\n"
          ]
        },
        {
          "output_type": "stream",
          "name": "stderr",
          "text": [
            " 15%|█▌        | 1412/9172 [01:10<07:45, 16.67it/s]"
          ]
        },
        {
          "output_type": "stream",
          "name": "stdout",
          "text": [
            "15234\n",
            "15234\n",
            "15236\n",
            "15234\n",
            "15234\n"
          ]
        },
        {
          "output_type": "stream",
          "name": "stderr",
          "text": [
            " 15%|█▌        | 1416/9172 [01:11<10:15, 12.60it/s]"
          ]
        },
        {
          "output_type": "stream",
          "name": "stdout",
          "text": [
            "15236\n",
            "15236\n",
            "15238\n"
          ]
        },
        {
          "output_type": "stream",
          "name": "stderr",
          "text": [
            " 16%|█▌        | 1423/9172 [01:11<07:06, 18.16it/s]"
          ]
        },
        {
          "output_type": "stream",
          "name": "stdout",
          "text": [
            "15236\n",
            "15236\n",
            "15236\n",
            "15236\n",
            "15240\n",
            "15234\n",
            "15236\n",
            "15238\n",
            "15240\n"
          ]
        },
        {
          "output_type": "stream",
          "name": "stderr",
          "text": [
            " 16%|█▌        | 1428/9172 [01:12<09:09, 14.09it/s]"
          ]
        },
        {
          "output_type": "stream",
          "name": "stdout",
          "text": [
            "15238\n",
            "15238\n",
            "15238\n",
            "15238\n",
            "15238\n"
          ]
        },
        {
          "output_type": "stream",
          "name": "stderr",
          "text": [
            " 16%|█▌        | 1433/9172 [01:12<10:54, 11.83it/s]"
          ]
        },
        {
          "output_type": "stream",
          "name": "stdout",
          "text": [
            "15238\n",
            "15240\n",
            "15238\n"
          ]
        },
        {
          "output_type": "stream",
          "name": "stderr",
          "text": [
            "\r 16%|█▌        | 1435/9172 [01:12<10:51, 11.87it/s]"
          ]
        },
        {
          "output_type": "stream",
          "name": "stdout",
          "text": [
            "15238\n",
            "15240\n",
            "15240\n"
          ]
        },
        {
          "output_type": "stream",
          "name": "stderr",
          "text": [
            " 16%|█▌        | 1442/9172 [01:13<06:53, 18.71it/s]"
          ]
        },
        {
          "output_type": "stream",
          "name": "stdout",
          "text": [
            "15240\n",
            "15240\n",
            "15240\n",
            "15241\n",
            "15241\n",
            "15241\n"
          ]
        },
        {
          "output_type": "stream",
          "name": "stderr",
          "text": [
            "\r 16%|█▌        | 1445/9172 [01:13<07:30, 17.14it/s]"
          ]
        },
        {
          "output_type": "stream",
          "name": "stdout",
          "text": [
            "15241\n",
            "15240\n",
            "15240\n",
            "15241\n",
            "15241\n",
            "15241\n",
            "15241\n"
          ]
        },
        {
          "output_type": "stream",
          "name": "stderr",
          "text": [
            " 16%|█▌        | 1453/9172 [01:13<06:24, 20.08it/s]"
          ]
        },
        {
          "output_type": "stream",
          "name": "stdout",
          "text": [
            "15241\n",
            "15241\n",
            "15243\n",
            "15241\n",
            "15241\n"
          ]
        },
        {
          "output_type": "stream",
          "name": "stderr",
          "text": [
            "\r 16%|█▌        | 1456/9172 [01:13<07:30, 17.12it/s]"
          ]
        },
        {
          "output_type": "stream",
          "name": "stdout",
          "text": [
            "15241\n",
            "15241\n"
          ]
        },
        {
          "output_type": "stream",
          "name": "stderr",
          "text": [
            "\r 16%|█▌        | 1458/9172 [01:14<12:29, 10.30it/s]"
          ]
        },
        {
          "output_type": "stream",
          "name": "stdout",
          "text": [
            "15243\n",
            "15243\n",
            "15243\n"
          ]
        },
        {
          "output_type": "stream",
          "name": "stderr",
          "text": [
            "\r 16%|█▌        | 1461/9172 [01:14<10:49, 11.87it/s]"
          ]
        },
        {
          "output_type": "stream",
          "name": "stdout",
          "text": [
            "15241\n",
            "15243\n",
            "15243\n",
            "15243\n",
            "15243\n",
            "15243\n",
            "15243\n"
          ]
        },
        {
          "output_type": "stream",
          "name": "stderr",
          "text": [
            " 16%|█▌        | 1473/9172 [01:14<05:33, 23.06it/s]"
          ]
        },
        {
          "output_type": "stream",
          "name": "stdout",
          "text": [
            "15243\n",
            "15243\n",
            "15246\n",
            "15243\n",
            "15243\n",
            "15243\n",
            "15246\n",
            "15246\n",
            "15247\n",
            "15246\n",
            "15246\n",
            "15243\n",
            "15246\n",
            "15246\n"
          ]
        },
        {
          "output_type": "stream",
          "name": "stderr",
          "text": [
            "\r 16%|█▌        | 1481/9172 [01:14<04:02, 31.76it/s]"
          ]
        },
        {
          "output_type": "stream",
          "name": "stdout",
          "text": [
            "15246\n",
            "15249\n"
          ]
        },
        {
          "output_type": "stream",
          "name": "stderr",
          "text": [
            "\r 16%|█▌        | 1485/9172 [01:15<06:35, 19.41it/s]"
          ]
        },
        {
          "output_type": "stream",
          "name": "stdout",
          "text": [
            "15246\n",
            "15246\n",
            "15246\n"
          ]
        },
        {
          "output_type": "stream",
          "name": "stderr",
          "text": [
            "\r 16%|█▌        | 1488/9172 [01:15<08:18, 15.41it/s]"
          ]
        },
        {
          "output_type": "stream",
          "name": "stdout",
          "text": [
            "15249\n",
            "15246\n",
            "15247\n",
            "15247\n",
            "15247\n",
            "15247\n",
            "15250\n"
          ]
        },
        {
          "output_type": "stream",
          "name": "stderr",
          "text": [
            " 16%|█▋        | 1499/9172 [01:16<05:27, 23.42it/s]"
          ]
        },
        {
          "output_type": "stream",
          "name": "stdout",
          "text": [
            "15247\n",
            "15247\n",
            "15247\n",
            "15247\n",
            "15249\n",
            "15249\n",
            "15249\n",
            "15250\n",
            "15247\n"
          ]
        },
        {
          "output_type": "stream",
          "name": "stderr",
          "text": [
            "\r 16%|█▋        | 1503/9172 [01:16<05:48, 22.02it/s]"
          ]
        },
        {
          "output_type": "stream",
          "name": "stdout",
          "text": [
            "15247\n",
            "15252\n",
            "15249\n",
            "15249\n",
            "15252\n"
          ]
        },
        {
          "output_type": "stream",
          "name": "stderr",
          "text": [
            " 16%|█▋        | 1511/9172 [01:16<05:29, 23.23it/s]"
          ]
        },
        {
          "output_type": "stream",
          "name": "stdout",
          "text": [
            "15249\n",
            "15247\n",
            "15253\n",
            "15250\n",
            "15250\n",
            "15250\n"
          ]
        },
        {
          "output_type": "stream",
          "name": "stderr",
          "text": [
            " 17%|█▋        | 1517/9172 [01:16<06:01, 21.18it/s]"
          ]
        },
        {
          "output_type": "stream",
          "name": "stdout",
          "text": [
            "15250\n",
            "15250\n",
            "15253\n",
            "15250\n",
            "15257\n"
          ]
        },
        {
          "output_type": "stream",
          "name": "stderr",
          "text": [
            "\r 17%|█▋        | 1520/9172 [01:17<06:41, 19.08it/s]"
          ]
        },
        {
          "output_type": "stream",
          "name": "stdout",
          "text": [
            "15252\n",
            "15252\n",
            "15257\n",
            "15252\n",
            "15252\n"
          ]
        },
        {
          "output_type": "stream",
          "name": "stderr",
          "text": [
            "\r 17%|█▋        | 1523/9172 [01:17<06:35, 19.33it/s]"
          ]
        },
        {
          "output_type": "stream",
          "name": "stdout",
          "text": [
            "15252\n",
            "15252\n",
            "15253\n"
          ]
        },
        {
          "output_type": "stream",
          "name": "stderr",
          "text": [
            " 17%|█▋        | 1531/9172 [01:17<06:11, 20.55it/s]"
          ]
        },
        {
          "output_type": "stream",
          "name": "stdout",
          "text": [
            "15257\n",
            "15253\n",
            "15257\n",
            "15253\n",
            "15257\n",
            "15257\n"
          ]
        },
        {
          "output_type": "stream",
          "name": "stderr",
          "text": [
            "\r 17%|█▋        | 1534/9172 [01:17<07:23, 17.23it/s]"
          ]
        },
        {
          "output_type": "stream",
          "name": "stdout",
          "text": [
            "15259\n",
            "15253\n",
            "15259\n",
            "15259\n",
            "15253\n",
            "15259\n",
            "15260\n",
            "15259\n",
            "15259\n",
            "15253\n",
            "15259\n"
          ]
        },
        {
          "output_type": "stream",
          "name": "stderr",
          "text": [
            " 17%|█▋        | 1546/9172 [01:18<05:28, 23.22it/s]"
          ]
        },
        {
          "output_type": "stream",
          "name": "stdout",
          "text": [
            "15259\n",
            "15259\n",
            "15260\n",
            "15259\n",
            "15259\n",
            "15257\n"
          ]
        },
        {
          "output_type": "stream",
          "name": "stderr",
          "text": [
            " 17%|█▋        | 1552/9172 [01:18<05:54, 21.50it/s]"
          ]
        },
        {
          "output_type": "stream",
          "name": "stdout",
          "text": [
            "15259\n",
            "15262\n",
            "15264\n",
            "15259\n"
          ]
        },
        {
          "output_type": "stream",
          "name": "stderr",
          "text": [
            " 17%|█▋        | 1559/9172 [01:19<06:26, 19.71it/s]"
          ]
        },
        {
          "output_type": "stream",
          "name": "stdout",
          "text": [
            "15259\n",
            "15264\n",
            "15260\n",
            "15262\n",
            "15260\n",
            "15260\n",
            "15259\n"
          ]
        },
        {
          "output_type": "stream",
          "name": "stderr",
          "text": [
            "\r 17%|█▋        | 1562/9172 [01:19<06:09, 20.58it/s]"
          ]
        },
        {
          "output_type": "stream",
          "name": "stdout",
          "text": [
            "15260\n",
            "15262\n",
            "15268\n",
            "15262\n",
            "15262\n",
            "15264\n",
            "15260\n",
            "15262\n"
          ]
        },
        {
          "output_type": "stream",
          "name": "stderr",
          "text": [
            "\r 17%|█▋        | 1568/9172 [01:19<04:56, 25.61it/s]"
          ]
        },
        {
          "output_type": "stream",
          "name": "stdout",
          "text": [
            "15264\n",
            "15262\n",
            "15264\n"
          ]
        },
        {
          "output_type": "stream",
          "name": "stderr",
          "text": [
            " 17%|█▋        | 1574/9172 [01:19<05:42, 22.21it/s]"
          ]
        },
        {
          "output_type": "stream",
          "name": "stdout",
          "text": [
            "15264\n",
            "15264\n",
            "15270\n",
            "15268\n"
          ]
        },
        {
          "output_type": "stream",
          "name": "stderr",
          "text": [
            "\r 17%|█▋        | 1577/9172 [01:19<06:14, 20.26it/s]"
          ]
        },
        {
          "output_type": "stream",
          "name": "stdout",
          "text": [
            "15268\n",
            "15272\n",
            "15268\n",
            "15268\n"
          ]
        },
        {
          "output_type": "stream",
          "name": "stderr",
          "text": [
            "\r 17%|█▋        | 1580/9172 [01:20<08:19, 15.20it/s]"
          ]
        },
        {
          "output_type": "stream",
          "name": "stdout",
          "text": [
            "15268\n",
            "15272\n",
            "15268\n",
            "15268\n",
            "15268\n",
            "15268\n",
            "15270\n",
            "15264\n"
          ]
        },
        {
          "output_type": "stream",
          "name": "stderr",
          "text": [
            " 17%|█▋        | 1590/9172 [01:20<05:53, 21.43it/s]"
          ]
        },
        {
          "output_type": "stream",
          "name": "stdout",
          "text": [
            "15273\n",
            "15270\n",
            "15272\n",
            "15270\n",
            "15270\n"
          ]
        },
        {
          "output_type": "stream",
          "name": "stderr",
          "text": [
            "\r 17%|█▋        | 1593/9172 [01:20<06:41, 18.86it/s]"
          ]
        },
        {
          "output_type": "stream",
          "name": "stdout",
          "text": [
            "15270\n",
            "15272\n"
          ]
        },
        {
          "output_type": "stream",
          "name": "stderr",
          "text": [
            "\r 17%|█▋        | 1596/9172 [01:20<08:04, 15.64it/s]"
          ]
        },
        {
          "output_type": "stream",
          "name": "stdout",
          "text": [
            "15272\n",
            "15272\n",
            "15270\n",
            "15272\n"
          ]
        },
        {
          "output_type": "stream",
          "name": "stderr",
          "text": [
            " 17%|█▋        | 1600/9172 [01:21<08:56, 14.10it/s]"
          ]
        },
        {
          "output_type": "stream",
          "name": "stdout",
          "text": [
            "15273\n",
            "15275\n",
            "15275\n",
            "15275\n",
            "15277\n",
            "15273\n"
          ]
        },
        {
          "output_type": "stream",
          "name": "stderr",
          "text": [
            " 18%|█▊        | 1609/9172 [01:21<05:47, 21.77it/s]"
          ]
        },
        {
          "output_type": "stream",
          "name": "stdout",
          "text": [
            "15275\n",
            "15275\n",
            "15275\n",
            "15275\n",
            "15273\n",
            "15273\n"
          ]
        },
        {
          "output_type": "stream",
          "name": "stderr",
          "text": [
            " 18%|█▊        | 1616/9172 [01:21<05:10, 24.35it/s]"
          ]
        },
        {
          "output_type": "stream",
          "name": "stdout",
          "text": [
            "15273\n",
            "15277\n",
            "15273\n",
            "15275\n",
            "15273\n",
            "15277\n",
            "15279\n"
          ]
        },
        {
          "output_type": "stream",
          "name": "stderr",
          "text": [
            "\r 18%|█▊        | 1619/9172 [01:22<05:44, 21.96it/s]"
          ]
        },
        {
          "output_type": "stream",
          "name": "stdout",
          "text": [
            "15273\n",
            "15277\n",
            "15280\n",
            "15277\n",
            "15275\n"
          ]
        },
        {
          "output_type": "stream",
          "name": "stderr",
          "text": [
            "\r 18%|█▊        | 1622/9172 [01:22<05:52, 21.42it/s]"
          ]
        },
        {
          "output_type": "stream",
          "name": "stdout",
          "text": [
            "15277\n",
            "15275\n"
          ]
        },
        {
          "output_type": "stream",
          "name": "stderr",
          "text": [
            "\r 18%|█▊        | 1625/9172 [01:22<09:05, 13.83it/s]"
          ]
        },
        {
          "output_type": "stream",
          "name": "stdout",
          "text": [
            "15279\n",
            "15279\n"
          ]
        },
        {
          "output_type": "stream",
          "name": "stderr",
          "text": [
            " 18%|█▊        | 1633/9172 [01:22<05:54, 21.27it/s]"
          ]
        },
        {
          "output_type": "stream",
          "name": "stdout",
          "text": [
            "15280\n",
            "15279\n",
            "15279\n",
            "15280\n",
            "15279\n",
            "15279\n",
            "15280\n",
            "15282\n",
            "15282 - HTTP 404\n",
            "15280\n"
          ]
        },
        {
          "output_type": "stream",
          "name": "stderr",
          "text": [
            "\r 18%|█▊        | 1636/9172 [01:23<06:07, 20.53it/s]"
          ]
        },
        {
          "output_type": "stream",
          "name": "stdout",
          "text": [
            "15280\n",
            "15280\n",
            "15280\n",
            "15280\n",
            "15282\n",
            "15282\n",
            "15282\n",
            "15284\n"
          ]
        },
        {
          "output_type": "stream",
          "name": "stderr",
          "text": [
            " 18%|█▊        | 1647/9172 [01:23<05:06, 24.55it/s]"
          ]
        },
        {
          "output_type": "stream",
          "name": "stdout",
          "text": [
            "15282\n",
            "15282\n",
            "15286\n",
            "15288\n",
            "15284\n",
            "15282\n"
          ]
        },
        {
          "output_type": "stream",
          "name": "stderr",
          "text": [
            "\r 18%|█▊        | 1650/9172 [01:23<06:19, 19.83it/s]"
          ]
        },
        {
          "output_type": "stream",
          "name": "stdout",
          "text": [
            "15284\n",
            "15284\n",
            "15284\n"
          ]
        },
        {
          "output_type": "stream",
          "name": "stderr",
          "text": [
            " 18%|█▊        | 1655/9172 [01:24<08:03, 15.53it/s]"
          ]
        },
        {
          "output_type": "stream",
          "name": "stdout",
          "text": [
            "15284\n",
            "15286\n",
            "15286\n",
            "15284\n",
            "15286\n",
            "15286\n",
            "15286\n"
          ]
        },
        {
          "output_type": "stream",
          "name": "stderr",
          "text": [
            "\r 18%|█▊        | 1661/9172 [01:24<05:43, 21.87it/s]"
          ]
        },
        {
          "output_type": "stream",
          "name": "stdout",
          "text": [
            "15284\n",
            "15288\n",
            "15288\n",
            "15286\n"
          ]
        },
        {
          "output_type": "stream",
          "name": "stderr",
          "text": [
            " 18%|█▊        | 1668/9172 [01:24<05:55, 21.09it/s]"
          ]
        },
        {
          "output_type": "stream",
          "name": "stdout",
          "text": [
            "15286\n",
            "15288\n",
            "15288\n",
            "15288\n",
            "15290\n",
            "15288\n"
          ]
        },
        {
          "output_type": "stream",
          "name": "stderr",
          "text": [
            "\r 18%|█▊        | 1671/9172 [01:25<11:13, 11.14it/s]"
          ]
        },
        {
          "output_type": "stream",
          "name": "stdout",
          "text": [
            "15288\n",
            "15288\n",
            "15288\n",
            "15288\n",
            "15290\n"
          ]
        },
        {
          "output_type": "stream",
          "name": "stderr",
          "text": [
            " 18%|█▊        | 1677/9172 [01:25<10:13, 12.22it/s]"
          ]
        },
        {
          "output_type": "stream",
          "name": "stdout",
          "text": [
            "15290\n",
            "15290\n",
            "15292 - HTTP 404\n"
          ]
        },
        {
          "output_type": "stream",
          "name": "stderr",
          "text": [
            "\r 18%|█▊        | 1679/9172 [01:25<11:26, 10.92it/s]"
          ]
        },
        {
          "output_type": "stream",
          "name": "stdout",
          "text": [
            "15292 - HTTP 404\n",
            "15290\n",
            "15290\n",
            "15290\n",
            "15290\n"
          ]
        },
        {
          "output_type": "stream",
          "name": "stderr",
          "text": [
            " 18%|█▊        | 1688/9172 [01:26<06:52, 18.15it/s]"
          ]
        },
        {
          "output_type": "stream",
          "name": "stdout",
          "text": [
            "15290\n",
            "15290\n",
            "15290\n",
            "15290\n",
            "15290\n",
            "15290\n",
            "15292\n",
            "15293\n"
          ]
        },
        {
          "output_type": "stream",
          "name": "stderr",
          "text": [
            "\r 18%|█▊        | 1691/9172 [01:26<09:10, 13.60it/s]"
          ]
        },
        {
          "output_type": "stream",
          "name": "stdout",
          "text": [
            "15293\n",
            "15295\n"
          ]
        },
        {
          "output_type": "stream",
          "name": "stderr",
          "text": [
            "\r 18%|█▊        | 1693/9172 [01:26<11:37, 10.72it/s]"
          ]
        },
        {
          "output_type": "stream",
          "name": "stdout",
          "text": [
            "15297\n",
            "15292\n"
          ]
        },
        {
          "output_type": "stream",
          "name": "stderr",
          "text": [
            " 19%|█▊        | 1697/9172 [01:27<10:42, 11.64it/s]"
          ]
        },
        {
          "output_type": "stream",
          "name": "stdout",
          "text": [
            "15292\n",
            "15292\n",
            "15293\n",
            "15292\n"
          ]
        },
        {
          "output_type": "stream",
          "name": "stderr",
          "text": [
            " 19%|█▊        | 1701/9172 [01:27<09:29, 13.13it/s]"
          ]
        },
        {
          "output_type": "stream",
          "name": "stdout",
          "text": [
            "15293\n",
            "15292\n",
            "15293\n",
            "15293\n",
            "15293\n",
            "15295\n"
          ]
        },
        {
          "output_type": "stream",
          "name": "stderr",
          "text": [
            "\r 19%|█▊        | 1705/9172 [01:27<08:19, 14.95it/s]"
          ]
        },
        {
          "output_type": "stream",
          "name": "stdout",
          "text": [
            "15295\n",
            "15295\n",
            "15295\n",
            "15295\n",
            "15293\n"
          ]
        },
        {
          "output_type": "stream",
          "name": "stderr",
          "text": [
            " 19%|█▊        | 1712/9172 [01:28<08:12, 15.13it/s]"
          ]
        },
        {
          "output_type": "stream",
          "name": "stdout",
          "text": [
            "15297\n",
            "15299 - HTTP 404\n",
            "15297\n"
          ]
        },
        {
          "output_type": "stream",
          "name": "stderr",
          "text": [
            "\r 19%|█▊        | 1714/9172 [01:28<11:23, 10.91it/s]"
          ]
        },
        {
          "output_type": "stream",
          "name": "stdout",
          "text": [
            "15299 - HTTP 404\n",
            "15301\n"
          ]
        },
        {
          "output_type": "stream",
          "name": "stderr",
          "text": [
            "\r 19%|█▊        | 1716/9172 [01:28<10:39, 11.66it/s]"
          ]
        },
        {
          "output_type": "stream",
          "name": "stdout",
          "text": [
            "15297\n",
            "15297\n"
          ]
        },
        {
          "output_type": "stream",
          "name": "stderr",
          "text": [
            " 19%|█▉        | 1721/9172 [01:29<10:33, 11.77it/s]"
          ]
        },
        {
          "output_type": "stream",
          "name": "stdout",
          "text": [
            "15297\n",
            "15297\n",
            "15297\n",
            "15297\n",
            "15297\n"
          ]
        },
        {
          "output_type": "stream",
          "name": "stderr",
          "text": [
            "\r 19%|█▉        | 1723/9172 [01:29<10:33, 11.76it/s]"
          ]
        },
        {
          "output_type": "stream",
          "name": "stdout",
          "text": [
            "15297\n",
            "15297\n",
            "15297\n"
          ]
        },
        {
          "output_type": "stream",
          "name": "stderr",
          "text": [
            " 19%|█▉        | 1730/9172 [01:29<07:24, 16.74it/s]"
          ]
        },
        {
          "output_type": "stream",
          "name": "stdout",
          "text": [
            "15299\n",
            "15299\n",
            "15299\n",
            "15301\n",
            "15299\n",
            "15299\n"
          ]
        },
        {
          "output_type": "stream",
          "name": "stderr",
          "text": [
            "\r 19%|█▉        | 1733/9172 [01:29<07:58, 15.54it/s]"
          ]
        },
        {
          "output_type": "stream",
          "name": "stdout",
          "text": [
            "15299\n",
            "15301\n",
            "15301\n",
            "15303\n"
          ]
        },
        {
          "output_type": "stream",
          "name": "stderr",
          "text": [
            " 19%|█▉        | 1737/9172 [01:30<10:30, 11.79it/s]"
          ]
        },
        {
          "output_type": "stream",
          "name": "stdout",
          "text": [
            "15301\n",
            "15301\n",
            "15301\n"
          ]
        },
        {
          "output_type": "stream",
          "name": "stderr",
          "text": [
            "\r 19%|█▉        | 1739/9172 [01:30<14:19,  8.65it/s]"
          ]
        },
        {
          "output_type": "stream",
          "name": "stdout",
          "text": [
            "15301\n",
            "15303\n",
            "15301\n"
          ]
        },
        {
          "output_type": "stream",
          "name": "stderr",
          "text": [
            "\r 19%|█▉        | 1742/9172 [01:30<11:40, 10.60it/s]"
          ]
        },
        {
          "output_type": "stream",
          "name": "stdout",
          "text": [
            "15301\n",
            "15303\n",
            "15301\n",
            "15301\n",
            "15301\n",
            "15303\n"
          ]
        },
        {
          "output_type": "stream",
          "name": "stderr",
          "text": [
            " 19%|█▉        | 1750/9172 [01:31<07:55, 15.59it/s]"
          ]
        },
        {
          "output_type": "stream",
          "name": "stdout",
          "text": [
            "15303\n",
            "15301\n",
            "15303\n",
            "15305\n"
          ]
        },
        {
          "output_type": "stream",
          "name": "stderr",
          "text": [
            "\r 19%|█▉        | 1752/9172 [01:31<10:16, 12.04it/s]"
          ]
        },
        {
          "output_type": "stream",
          "name": "stdout",
          "text": [
            "15301\n",
            "15303\n",
            "15305\n"
          ]
        },
        {
          "output_type": "stream",
          "name": "stderr",
          "text": [
            "\r 19%|█▉        | 1756/9172 [01:31<07:39, 16.16it/s]"
          ]
        },
        {
          "output_type": "stream",
          "name": "stdout",
          "text": [
            "15301\n",
            "15303\n",
            "15303\n",
            "15303\n",
            "15303\n"
          ]
        },
        {
          "output_type": "stream",
          "name": "stderr",
          "text": [
            "\r 19%|█▉        | 1759/9172 [01:32<08:47, 14.05it/s]"
          ]
        },
        {
          "output_type": "stream",
          "name": "stdout",
          "text": [
            "15303\n"
          ]
        },
        {
          "output_type": "stream",
          "name": "stderr",
          "text": [
            " 19%|█▉        | 1765/9172 [01:32<07:56, 15.54it/s]"
          ]
        },
        {
          "output_type": "stream",
          "name": "stdout",
          "text": [
            "15307\n",
            "15305\n",
            "15303\n",
            "15305\n",
            "15305\n",
            "15305\n",
            "15305\n"
          ]
        },
        {
          "output_type": "stream",
          "name": "stderr",
          "text": [
            " 19%|█▉        | 1771/9172 [01:32<07:22, 16.74it/s]"
          ]
        },
        {
          "output_type": "stream",
          "name": "stdout",
          "text": [
            "15305\n",
            "15309 - HTTP 404\n",
            "15309 - HTTP 404\n",
            "15303\n",
            "15311\n",
            "15309\n"
          ]
        },
        {
          "output_type": "stream",
          "name": "stderr",
          "text": [
            " 19%|█▉        | 1776/9172 [01:33<09:46, 12.61it/s]"
          ]
        },
        {
          "output_type": "stream",
          "name": "stdout",
          "text": [
            "15307\n",
            "15311\n",
            "15307\n",
            "15307\n",
            "15309\n",
            "15307\n",
            "15307\n"
          ]
        },
        {
          "output_type": "stream",
          "name": "stderr",
          "text": [
            "\r 19%|█▉        | 1781/9172 [01:33<06:51, 17.97it/s]"
          ]
        },
        {
          "output_type": "stream",
          "name": "stdout",
          "text": [
            "15307\n",
            "15309\n",
            "15312\n"
          ]
        },
        {
          "output_type": "stream",
          "name": "stderr",
          "text": [
            "\r 19%|█▉        | 1784/9172 [01:33<08:09, 15.09it/s]"
          ]
        },
        {
          "output_type": "stream",
          "name": "stdout",
          "text": [
            "15309\n",
            "15311\n",
            "15309\n",
            "15309\n"
          ]
        },
        {
          "output_type": "stream",
          "name": "stderr",
          "text": [
            " 20%|█▉        | 1789/9172 [01:34<09:03, 13.58it/s]"
          ]
        },
        {
          "output_type": "stream",
          "name": "stdout",
          "text": [
            "15312\n",
            "15311\n",
            "15311\n",
            "15311\n"
          ]
        },
        {
          "output_type": "stream",
          "name": "stderr",
          "text": [
            " 20%|█▉        | 1793/9172 [01:34<08:23, 14.65it/s]"
          ]
        },
        {
          "output_type": "stream",
          "name": "stdout",
          "text": [
            "15314\n",
            "15311\n",
            "15312\n"
          ]
        },
        {
          "output_type": "stream",
          "name": "stderr",
          "text": [
            "\r 20%|█▉        | 1795/9172 [01:34<08:55, 13.78it/s]"
          ]
        },
        {
          "output_type": "stream",
          "name": "stdout",
          "text": [
            "15312\n",
            "15311\n",
            "15309\n"
          ]
        },
        {
          "output_type": "stream",
          "name": "stderr",
          "text": [
            " 20%|█▉        | 1799/9172 [01:35<12:28,  9.85it/s]"
          ]
        },
        {
          "output_type": "stream",
          "name": "stdout",
          "text": [
            "15312\n",
            "15312\n",
            "15314\n",
            "15312\n"
          ]
        },
        {
          "output_type": "stream",
          "name": "stderr",
          "text": [
            "\r 20%|█▉        | 1801/9172 [01:35<11:10, 10.99it/s]"
          ]
        },
        {
          "output_type": "stream",
          "name": "stdout",
          "text": [
            "15312\n",
            "15314\n"
          ]
        },
        {
          "output_type": "stream",
          "name": "stderr",
          "text": [
            " 20%|█▉        | 1805/9172 [01:35<10:25, 11.77it/s]"
          ]
        },
        {
          "output_type": "stream",
          "name": "stdout",
          "text": [
            "15314\n",
            "15314\n",
            "15314\n",
            "15314\n",
            "15314\n"
          ]
        },
        {
          "output_type": "stream",
          "name": "stderr",
          "text": [
            " 20%|█▉        | 1810/9172 [01:36<11:39, 10.53it/s]"
          ]
        },
        {
          "output_type": "stream",
          "name": "stdout",
          "text": [
            "15314\n",
            "15316\n",
            "15318\n",
            "15314\n",
            "15314\n"
          ]
        },
        {
          "output_type": "stream",
          "name": "stderr",
          "text": [
            "\r 20%|█▉        | 1813/9172 [01:36<12:06, 10.14it/s]"
          ]
        },
        {
          "output_type": "stream",
          "name": "stdout",
          "text": [
            "15316\n",
            "15314\n"
          ]
        },
        {
          "output_type": "stream",
          "name": "stderr",
          "text": [
            " 20%|█▉        | 1818/9172 [01:36<10:37, 11.53it/s]"
          ]
        },
        {
          "output_type": "stream",
          "name": "stdout",
          "text": [
            "15318\n",
            "15316\n",
            "15316\n",
            "15314\n",
            "15314\n",
            "15314\n"
          ]
        },
        {
          "output_type": "stream",
          "name": "stderr",
          "text": [
            " 20%|█▉        | 1823/9172 [01:37<09:15, 13.22it/s]"
          ]
        },
        {
          "output_type": "stream",
          "name": "stdout",
          "text": [
            "15314\n",
            "15316\n",
            "15314\n",
            "15320\n",
            "15316\n"
          ]
        },
        {
          "output_type": "stream",
          "name": "stderr",
          "text": [
            " 20%|█▉        | 1830/9172 [01:37<06:52, 17.81it/s]"
          ]
        },
        {
          "output_type": "stream",
          "name": "stdout",
          "text": [
            "15318\n",
            "15320\n",
            "15318\n",
            "15318\n",
            "15316\n"
          ]
        },
        {
          "output_type": "stream",
          "name": "stderr",
          "text": [
            " 20%|██        | 1837/9172 [01:37<05:35, 21.89it/s]"
          ]
        },
        {
          "output_type": "stream",
          "name": "stdout",
          "text": [
            "15314\n",
            "15318\n",
            "15322\n",
            "15322\n",
            "15316\n",
            "15320\n",
            "15324 - HTTP 404\n",
            "15324 - HTTP 404\n"
          ]
        },
        {
          "output_type": "stream",
          "name": "stderr",
          "text": [
            " 20%|██        | 1851/9172 [01:37<02:55, 41.64it/s]"
          ]
        },
        {
          "output_type": "stream",
          "name": "stdout",
          "text": [
            "15320\n",
            "15324 - HTTP 404\n",
            "15324\n",
            "15324 - HTTP 404\n",
            "15324 - HTTP 404\n",
            "15320\n",
            "15324 - HTTP 404\n",
            "15324 - HTTP 404\n",
            "15324 - HTTP 404\n",
            "15320\n",
            "15324 - HTTP 404\n",
            "15324 - HTTP 404\n",
            "15320\n"
          ]
        },
        {
          "output_type": "stream",
          "name": "stderr",
          "text": [
            "\r 20%|██        | 1856/9172 [01:38<03:20, 36.56it/s]"
          ]
        },
        {
          "output_type": "stream",
          "name": "stdout",
          "text": [
            "15320\n",
            "15322\n",
            "15322\n",
            "15324 - HTTP 404\n",
            "15324 - HTTP 404\n",
            "15322\n",
            "15324 - HTTP 404\n"
          ]
        },
        {
          "output_type": "stream",
          "name": "stderr",
          "text": [
            "\r 20%|██        | 1861/9172 [01:38<04:12, 28.92it/s]"
          ]
        },
        {
          "output_type": "stream",
          "name": "stdout",
          "text": [
            "15326\n",
            "15322\n",
            "15320\n",
            "15322\n"
          ]
        },
        {
          "output_type": "stream",
          "name": "stderr",
          "text": [
            " 20%|██        | 1868/9172 [01:38<05:25, 22.41it/s]"
          ]
        },
        {
          "output_type": "stream",
          "name": "stdout",
          "text": [
            "15324\n",
            "15324\n",
            "15324\n",
            "15324\n",
            "15326\n",
            "15324\n"
          ]
        },
        {
          "output_type": "stream",
          "name": "stderr",
          "text": [
            "\r 20%|██        | 1871/9172 [01:38<05:22, 22.65it/s]"
          ]
        },
        {
          "output_type": "stream",
          "name": "stdout",
          "text": [
            "15326\n",
            "15326\n",
            "15326\n",
            "15328\n",
            "15330\n"
          ]
        },
        {
          "output_type": "stream",
          "name": "stderr",
          "text": [
            " 20%|██        | 1877/9172 [01:39<05:38, 21.58it/s]"
          ]
        },
        {
          "output_type": "stream",
          "name": "stdout",
          "text": [
            "15326\n",
            "15328\n",
            "15326\n",
            "15328\n",
            "15330\n",
            "15331\n"
          ]
        },
        {
          "output_type": "stream",
          "name": "stderr",
          "text": [
            " 21%|██        | 1884/9172 [01:39<05:04, 23.90it/s]"
          ]
        },
        {
          "output_type": "stream",
          "name": "stdout",
          "text": [
            "15328\n",
            "15328\n",
            "15326\n",
            "15328\n",
            "15328\n"
          ]
        },
        {
          "output_type": "stream",
          "name": "stderr",
          "text": [
            "\r 21%|██        | 1887/9172 [01:39<05:42, 21.25it/s]"
          ]
        },
        {
          "output_type": "stream",
          "name": "stdout",
          "text": [
            "15333 - HTTP 404\n",
            "15333 - HTTP 404\n",
            "15333 - HTTP 404\n",
            "15331\n",
            "15330\n"
          ]
        },
        {
          "output_type": "stream",
          "name": "stderr",
          "text": [
            " 21%|██        | 1898/9172 [01:40<03:53, 31.18it/s]"
          ]
        },
        {
          "output_type": "stream",
          "name": "stdout",
          "text": [
            "15330\n",
            "15333 - HTTP 404\n",
            "15333 - HTTP 404\n",
            "15328\n",
            "15331\n",
            "15333 - HTTP 404\n",
            "15328\n",
            "15330\n",
            "15333\n",
            "15330\n",
            "15333\n"
          ]
        },
        {
          "output_type": "stream",
          "name": "stderr",
          "text": [
            " 21%|██        | 1907/9172 [01:40<03:51, 31.38it/s]"
          ]
        },
        {
          "output_type": "stream",
          "name": "stdout",
          "text": [
            "15333\n",
            "15331\n",
            "15333\n",
            "15331\n",
            "15331\n",
            "15331\n",
            "15335\n",
            "15331\n"
          ]
        },
        {
          "output_type": "stream",
          "name": "stderr",
          "text": [
            "\r 21%|██        | 1911/9172 [01:40<04:57, 24.41it/s]"
          ]
        },
        {
          "output_type": "stream",
          "name": "stdout",
          "text": [
            "15331\n",
            "15335\n",
            "15337\n"
          ]
        },
        {
          "output_type": "stream",
          "name": "stderr",
          "text": [
            "\r 21%|██        | 1914/9172 [01:40<06:41, 18.09it/s]"
          ]
        },
        {
          "output_type": "stream",
          "name": "stdout",
          "text": [
            "15333\n",
            "15333\n",
            "15333\n",
            "15333\n",
            "15333\n"
          ]
        },
        {
          "output_type": "stream",
          "name": "stderr",
          "text": [
            " 21%|██        | 1920/9172 [01:41<06:19, 19.09it/s]"
          ]
        },
        {
          "output_type": "stream",
          "name": "stdout",
          "text": [
            "15335\n",
            "15337\n",
            "15335\n",
            "15337\n",
            "15337\n"
          ]
        },
        {
          "output_type": "stream",
          "name": "stderr",
          "text": [
            "\r 21%|██        | 1923/9172 [01:41<05:44, 21.02it/s]"
          ]
        },
        {
          "output_type": "stream",
          "name": "stdout",
          "text": [
            "15335\n",
            "15337\n",
            "15335\n",
            "15335\n"
          ]
        },
        {
          "output_type": "stream",
          "name": "stderr",
          "text": [
            " 21%|██        | 1929/9172 [01:41<06:02, 19.97it/s]"
          ]
        },
        {
          "output_type": "stream",
          "name": "stdout",
          "text": [
            "15337\n",
            "15339\n",
            "15337\n",
            "15335\n",
            "15290\n"
          ]
        },
        {
          "output_type": "stream",
          "name": "stderr",
          "text": [
            "\r 21%|██        | 1933/9172 [01:41<05:57, 20.27it/s]"
          ]
        },
        {
          "output_type": "stream",
          "name": "stdout",
          "text": [
            "15337\n",
            "15337\n",
            "15339\n",
            "15337\n"
          ]
        },
        {
          "output_type": "stream",
          "name": "stderr",
          "text": [
            "\r 21%|██        | 1936/9172 [01:41<06:00, 20.07it/s]"
          ]
        },
        {
          "output_type": "stream",
          "name": "stdout",
          "text": [
            "15337\n",
            "15337\n",
            "15337\n",
            "15341\n",
            "15337\n"
          ]
        },
        {
          "output_type": "stream",
          "name": "stderr",
          "text": [
            " 21%|██        | 1943/9172 [01:42<06:36, 18.21it/s]"
          ]
        },
        {
          "output_type": "stream",
          "name": "stdout",
          "text": [
            "15339\n",
            "15339\n",
            "15339\n",
            "15339\n",
            "15339\n",
            "15339\n",
            "15341\n",
            "15341\n",
            "15339\n",
            "15339\n",
            "15339\n"
          ]
        },
        {
          "output_type": "stream",
          "name": "stderr",
          "text": [
            " 21%|██▏       | 1958/9172 [01:42<03:37, 33.12it/s]"
          ]
        },
        {
          "output_type": "stream",
          "name": "stdout",
          "text": [
            "15343 - HTTP 404\n",
            "15343 - HTTP 404\n",
            "15343 - HTTP 404\n",
            "15341\n",
            "15343 - HTTP 404\n",
            "15343 - HTTP 404\n",
            "15343 - HTTP 404\n",
            "15341\n",
            "15343\n",
            "15341\n",
            "15341\n",
            "15343\n",
            "15343\n"
          ]
        },
        {
          "output_type": "stream",
          "name": "stderr",
          "text": [
            "\r 21%|██▏       | 1964/9172 [01:43<04:35, 26.14it/s]"
          ]
        },
        {
          "output_type": "stream",
          "name": "stdout",
          "text": [
            "15345\n",
            "15341\n"
          ]
        },
        {
          "output_type": "stream",
          "name": "stderr",
          "text": [
            " 21%|██▏       | 1971/9172 [01:43<05:38, 21.27it/s]"
          ]
        },
        {
          "output_type": "stream",
          "name": "stdout",
          "text": [
            "15341\n",
            "15341\n",
            "15345\n",
            "15343\n",
            "15341\n",
            "15343\n",
            "15345\n",
            "15345\n",
            "15345\n"
          ]
        },
        {
          "output_type": "stream",
          "name": "stderr",
          "text": [
            " 22%|██▏       | 1983/9172 [01:43<03:51, 31.11it/s]"
          ]
        },
        {
          "output_type": "stream",
          "name": "stdout",
          "text": [
            "15345\n",
            "15343\n",
            "15345\n",
            "15346\n",
            "15346\n",
            "15341\n",
            "15345\n",
            "15346\n",
            "15346\n",
            "15346\n",
            "15346\n",
            "15348\n"
          ]
        },
        {
          "output_type": "stream",
          "name": "stderr",
          "text": [
            " 22%|██▏       | 1991/9172 [01:44<03:50, 31.21it/s]"
          ]
        },
        {
          "output_type": "stream",
          "name": "stdout",
          "text": [
            "15346\n",
            "15348\n",
            "15346\n",
            "15350 - HTTP 404\n",
            "15350\n",
            "15350 - HTTP 404\n"
          ]
        },
        {
          "output_type": "stream",
          "name": "stderr",
          "text": [
            "\r 22%|██▏       | 1995/9172 [01:44<05:19, 22.46it/s]"
          ]
        },
        {
          "output_type": "stream",
          "name": "stdout",
          "text": [
            "15352\n",
            "15346\n",
            "15355\n",
            "15352\n"
          ]
        },
        {
          "output_type": "stream",
          "name": "stderr",
          "text": [
            " 22%|██▏       | 2001/9172 [01:44<05:36, 21.33it/s]"
          ]
        },
        {
          "output_type": "stream",
          "name": "stdout",
          "text": [
            "15348\n",
            "15348\n",
            "15350\n",
            "15350\n",
            "15348\n"
          ]
        },
        {
          "output_type": "stream",
          "name": "stderr",
          "text": [
            "\r 22%|██▏       | 2004/9172 [01:44<05:42, 20.93it/s]"
          ]
        },
        {
          "output_type": "stream",
          "name": "stdout",
          "text": [
            "15348\n",
            "15355\n",
            "15352\n",
            "15350\n",
            "15350\n",
            "15350\n",
            "15357\n"
          ]
        },
        {
          "output_type": "stream",
          "name": "stderr",
          "text": [
            " 22%|██▏       | 2012/9172 [01:45<05:29, 21.71it/s]"
          ]
        },
        {
          "output_type": "stream",
          "name": "stdout",
          "text": [
            "15352\n",
            "15352\n",
            "15352\n",
            "15355\n"
          ]
        },
        {
          "output_type": "stream",
          "name": "stderr",
          "text": [
            "\r 22%|██▏       | 2017/9172 [01:45<05:12, 22.91it/s]"
          ]
        },
        {
          "output_type": "stream",
          "name": "stdout",
          "text": [
            "15357\n",
            "15358\n",
            "15355\n",
            "15355\n",
            "15357\n",
            "15355\n"
          ]
        },
        {
          "output_type": "stream",
          "name": "stderr",
          "text": [
            "\r 22%|██▏       | 2020/9172 [01:45<06:27, 18.45it/s]"
          ]
        },
        {
          "output_type": "stream",
          "name": "stdout",
          "text": [
            "15355\n",
            "15357\n",
            "15358\n",
            "15360\n",
            "15357\n"
          ]
        },
        {
          "output_type": "stream",
          "name": "stderr",
          "text": [
            "\r 22%|██▏       | 2024/9172 [01:45<05:44, 20.72it/s]"
          ]
        },
        {
          "output_type": "stream",
          "name": "stdout",
          "text": [
            "15357\n",
            "15357\n"
          ]
        },
        {
          "output_type": "stream",
          "name": "stderr",
          "text": [
            " 22%|██▏       | 2029/9172 [01:46<07:42, 15.43it/s]"
          ]
        },
        {
          "output_type": "stream",
          "name": "stdout",
          "text": [
            "15357\n",
            "15358\n",
            "15360\n",
            "15358\n",
            "15358\n",
            "15363\n",
            "15358\n"
          ]
        },
        {
          "output_type": "stream",
          "name": "stderr",
          "text": [
            "\r 22%|██▏       | 2035/9172 [01:46<05:20, 22.25it/s]"
          ]
        },
        {
          "output_type": "stream",
          "name": "stdout",
          "text": [
            "15360\n",
            "15360\n",
            "15360\n",
            "15358\n",
            "15358\n",
            "15360\n"
          ]
        },
        {
          "output_type": "stream",
          "name": "stderr",
          "text": [
            " 22%|██▏       | 2041/9172 [01:46<05:12, 22.82it/s]"
          ]
        },
        {
          "output_type": "stream",
          "name": "stdout",
          "text": [
            "15360\n",
            "15360\n",
            "15358\n",
            "15360\n",
            "15363\n",
            "15364\n"
          ]
        },
        {
          "output_type": "stream",
          "name": "stderr",
          "text": [
            " 22%|██▏       | 2048/9172 [01:46<05:23, 21.99it/s]"
          ]
        },
        {
          "output_type": "stream",
          "name": "stdout",
          "text": [
            "15363\n",
            "15363\n",
            "15363\n",
            "15364\n",
            "15346\n",
            "15363\n",
            "15363\n"
          ]
        },
        {
          "output_type": "stream",
          "name": "stderr",
          "text": [
            "\r 22%|██▏       | 2055/9172 [01:47<03:51, 30.72it/s]"
          ]
        },
        {
          "output_type": "stream",
          "name": "stdout",
          "text": [
            "15366\n",
            "15363\n",
            "15363\n",
            "15363\n",
            "15363\n"
          ]
        },
        {
          "output_type": "stream",
          "name": "stderr",
          "text": [
            "\r 22%|██▏       | 2059/9172 [01:47<06:13, 19.04it/s]"
          ]
        },
        {
          "output_type": "stream",
          "name": "stdout",
          "text": [
            "15368\n",
            "15366\n",
            "15364\n",
            "15364\n"
          ]
        },
        {
          "output_type": "stream",
          "name": "stderr",
          "text": [
            "\r 22%|██▏       | 2062/9172 [01:47<06:48, 17.41it/s]"
          ]
        },
        {
          "output_type": "stream",
          "name": "stdout",
          "text": [
            "15364\n",
            "15364\n",
            "15364\n",
            "15368\n"
          ]
        },
        {
          "output_type": "stream",
          "name": "stderr",
          "text": [
            "\r 23%|██▎       | 2065/9172 [01:47<08:20, 14.20it/s]"
          ]
        },
        {
          "output_type": "stream",
          "name": "stdout",
          "text": [
            "15364\n",
            "15366\n",
            "15369\n"
          ]
        },
        {
          "output_type": "stream",
          "name": "stderr",
          "text": [
            " 23%|██▎       | 2070/9172 [01:48<09:05, 13.03it/s]"
          ]
        },
        {
          "output_type": "stream",
          "name": "stdout",
          "text": [
            "15368\n",
            "15366\n",
            "15368\n",
            "15369\n",
            "15368\n",
            "15366\n"
          ]
        },
        {
          "output_type": "stream",
          "name": "stderr",
          "text": [
            " 23%|██▎       | 2077/9172 [01:48<05:59, 19.75it/s]"
          ]
        },
        {
          "output_type": "stream",
          "name": "stdout",
          "text": [
            "15371\n",
            "15368\n",
            "15368\n",
            "15366\n",
            "15366\n"
          ]
        },
        {
          "output_type": "stream",
          "name": "stderr",
          "text": [
            "\r 23%|██▎       | 2080/9172 [01:48<07:47, 15.17it/s]"
          ]
        },
        {
          "output_type": "stream",
          "name": "stdout",
          "text": [
            "15368\n",
            "15371\n",
            "15373\n"
          ]
        },
        {
          "output_type": "stream",
          "name": "stderr",
          "text": [
            " 23%|██▎       | 2085/9172 [01:49<10:05, 11.70it/s]"
          ]
        },
        {
          "output_type": "stream",
          "name": "stdout",
          "text": [
            "15369\n",
            "15369\n",
            "15369\n",
            "15369\n",
            "15369\n",
            "15371\n"
          ]
        },
        {
          "output_type": "stream",
          "name": "stderr",
          "text": [
            " 23%|██▎       | 2093/9172 [01:50<07:26, 15.84it/s]"
          ]
        },
        {
          "output_type": "stream",
          "name": "stdout",
          "text": [
            "15373\n",
            "15371\n",
            "15371\n",
            "15371\n",
            "15371\n",
            "15375\n"
          ]
        },
        {
          "output_type": "stream",
          "name": "stderr",
          "text": [
            "\r 23%|██▎       | 2096/9172 [01:50<07:37, 15.46it/s]"
          ]
        },
        {
          "output_type": "stream",
          "name": "stdout",
          "text": [
            "15371\n",
            "15373\n",
            "15373\n",
            "15373\n",
            "15373\n"
          ]
        },
        {
          "output_type": "stream",
          "name": "stderr",
          "text": [
            " 23%|██▎       | 2101/9172 [01:50<07:07, 16.54it/s]"
          ]
        },
        {
          "output_type": "stream",
          "name": "stdout",
          "text": [
            "15375\n",
            "15373\n",
            "15373\n",
            "15373\n",
            "15377\n"
          ]
        },
        {
          "output_type": "stream",
          "name": "stderr",
          "text": [
            " 23%|██▎       | 2106/9172 [01:51<09:25, 12.50it/s]"
          ]
        },
        {
          "output_type": "stream",
          "name": "stdout",
          "text": [
            "15377\n",
            "15378\n",
            "15373\n"
          ]
        },
        {
          "output_type": "stream",
          "name": "stderr",
          "text": [
            "\r 23%|██▎       | 2108/9172 [01:51<09:05, 12.95it/s]"
          ]
        },
        {
          "output_type": "stream",
          "name": "stdout",
          "text": [
            "15375\n",
            "15375\n",
            "15375\n",
            "15375\n"
          ]
        },
        {
          "output_type": "stream",
          "name": "stderr",
          "text": [
            " 23%|██▎       | 2113/9172 [01:51<10:03, 11.69it/s]"
          ]
        },
        {
          "output_type": "stream",
          "name": "stdout",
          "text": [
            "15375\n",
            "15377\n",
            "15377\n",
            "15375\n",
            "15375\n",
            "15378\n"
          ]
        },
        {
          "output_type": "stream",
          "name": "stderr",
          "text": [
            "\r 23%|██▎       | 2117/9172 [01:51<08:16, 14.20it/s]"
          ]
        },
        {
          "output_type": "stream",
          "name": "stdout",
          "text": [
            "15377\n",
            "15377\n",
            "15377\n",
            "15375\n",
            "15378\n",
            "15377\n"
          ]
        },
        {
          "output_type": "stream",
          "name": "stderr",
          "text": [
            " 23%|██▎       | 2127/9172 [01:52<08:01, 14.63it/s]"
          ]
        },
        {
          "output_type": "stream",
          "name": "stdout",
          "text": [
            "15378\n",
            "15380\n",
            "15381\n",
            "15378\n",
            "15378\n"
          ]
        },
        {
          "output_type": "stream",
          "name": "stderr",
          "text": [
            "\r 23%|██▎       | 2129/9172 [01:52<07:38, 15.37it/s]"
          ]
        },
        {
          "output_type": "stream",
          "name": "stdout",
          "text": [
            "15378\n",
            "15378\n",
            "15378\n"
          ]
        },
        {
          "output_type": "stream",
          "name": "stderr",
          "text": [
            " 23%|██▎       | 2134/9172 [01:53<07:56, 14.77it/s]"
          ]
        },
        {
          "output_type": "stream",
          "name": "stdout",
          "text": [
            "15381\n",
            "15380\n",
            "15380\n",
            "15380\n",
            "15380\n"
          ]
        },
        {
          "output_type": "stream",
          "name": "stderr",
          "text": [
            " 23%|██▎       | 2141/9172 [01:53<06:56, 16.87it/s]"
          ]
        },
        {
          "output_type": "stream",
          "name": "stdout",
          "text": [
            "15380\n",
            "15380\n",
            "15381\n",
            "15380\n",
            "15380\n",
            "15381\n"
          ]
        },
        {
          "output_type": "stream",
          "name": "stderr",
          "text": [
            "\r 23%|██▎       | 2143/9172 [01:53<08:25, 13.90it/s]"
          ]
        },
        {
          "output_type": "stream",
          "name": "stdout",
          "text": [
            "15381\n",
            "15383\n"
          ]
        },
        {
          "output_type": "stream",
          "name": "stderr",
          "text": [
            " 23%|██▎       | 2148/9172 [01:54<08:16, 14.13it/s]"
          ]
        },
        {
          "output_type": "stream",
          "name": "stdout",
          "text": [
            "15381\n",
            "15381\n",
            "15383\n",
            "15381\n",
            "15381\n"
          ]
        },
        {
          "output_type": "stream",
          "name": "stderr",
          "text": [
            " 23%|██▎       | 2153/9172 [01:54<06:35, 17.75it/s]"
          ]
        },
        {
          "output_type": "stream",
          "name": "stdout",
          "text": [
            "15383\n",
            "15381\n",
            "15383\n",
            "15383\n",
            "15385\n",
            "15383\n"
          ]
        },
        {
          "output_type": "stream",
          "name": "stderr",
          "text": [
            " 24%|██▎       | 2158/9172 [01:54<06:08, 19.02it/s]"
          ]
        },
        {
          "output_type": "stream",
          "name": "stdout",
          "text": [
            "15385\n",
            "15383\n",
            "15383\n",
            "15387\n",
            "15385\n",
            "15385\n",
            "15385\n",
            "15385\n"
          ]
        },
        {
          "output_type": "stream",
          "name": "stderr",
          "text": [
            "\r 24%|██▎       | 2163/9172 [01:54<05:08, 22.73it/s]"
          ]
        },
        {
          "output_type": "stream",
          "name": "stdout",
          "text": [
            "15385\n",
            "15387\n"
          ]
        },
        {
          "output_type": "stream",
          "name": "stderr",
          "text": [
            "\r 24%|██▎       | 2166/9172 [01:55<08:59, 12.98it/s]"
          ]
        },
        {
          "output_type": "stream",
          "name": "stdout",
          "text": [
            "15389\n",
            "15385\n",
            "15385\n",
            "15385\n"
          ]
        },
        {
          "output_type": "stream",
          "name": "stderr",
          "text": [
            "\r 24%|██▎       | 2169/9172 [01:55<08:40, 13.47it/s]"
          ]
        },
        {
          "output_type": "stream",
          "name": "stdout",
          "text": [
            "15385\n",
            "15389\n"
          ]
        },
        {
          "output_type": "stream",
          "name": "stderr",
          "text": [
            " 24%|██▎       | 2175/9172 [01:55<07:38, 15.26it/s]"
          ]
        },
        {
          "output_type": "stream",
          "name": "stdout",
          "text": [
            "15387\n",
            "15387\n",
            "15391\n",
            "15387\n",
            "15387\n",
            "15387\n",
            "15387\n",
            "15389\n"
          ]
        },
        {
          "output_type": "stream",
          "name": "stderr",
          "text": [
            "\r 24%|██▍       | 2179/9172 [01:55<06:17, 18.52it/s]"
          ]
        },
        {
          "output_type": "stream",
          "name": "stdout",
          "text": [
            "15389\n",
            "15389\n",
            "15387\n"
          ]
        },
        {
          "output_type": "stream",
          "name": "stderr",
          "text": [
            "\r 24%|██▍       | 2182/9172 [01:56<07:53, 14.77it/s]"
          ]
        },
        {
          "output_type": "stream",
          "name": "stdout",
          "text": [
            "15389\n",
            "15387\n",
            "15391\n",
            "15389\n",
            "15393\n"
          ]
        },
        {
          "output_type": "stream",
          "name": "stderr",
          "text": [
            " 24%|██▍       | 2189/9172 [01:56<07:41, 15.15it/s]"
          ]
        },
        {
          "output_type": "stream",
          "name": "stdout",
          "text": [
            "15393\n",
            "15389\n",
            "15395\n",
            "15389\n"
          ]
        },
        {
          "output_type": "stream",
          "name": "stderr",
          "text": [
            "\r 24%|██▍       | 2191/9172 [01:57<09:46, 11.89it/s]"
          ]
        },
        {
          "output_type": "stream",
          "name": "stdout",
          "text": [
            "15391\n",
            "15391\n"
          ]
        },
        {
          "output_type": "stream",
          "name": "stderr",
          "text": [
            " 24%|██▍       | 2196/9172 [01:57<08:48, 13.21it/s]"
          ]
        },
        {
          "output_type": "stream",
          "name": "stdout",
          "text": [
            "15391\n",
            "15391\n",
            "15395\n",
            "15391\n",
            "15393\n",
            "15393\n",
            "15395\n"
          ]
        },
        {
          "output_type": "stream",
          "name": "stderr",
          "text": [
            "\r 24%|██▍       | 2201/9172 [01:57<06:39, 17.43it/s]"
          ]
        },
        {
          "output_type": "stream",
          "name": "stdout",
          "text": [
            "15393\n",
            "15395\n",
            "15393\n",
            "15393\n",
            "15393\n"
          ]
        },
        {
          "output_type": "stream",
          "name": "stderr",
          "text": [
            " 24%|██▍       | 2209/9172 [01:57<05:10, 22.46it/s]"
          ]
        },
        {
          "output_type": "stream",
          "name": "stdout",
          "text": [
            "15391\n",
            "15395\n",
            "15397\n",
            "15395\n",
            "15397\n"
          ]
        },
        {
          "output_type": "stream",
          "name": "stderr",
          "text": [
            "\r 24%|██▍       | 2212/9172 [01:58<05:56, 19.51it/s]"
          ]
        },
        {
          "output_type": "stream",
          "name": "stdout",
          "text": [
            "15395\n",
            "15399\n",
            "15395\n",
            "15395\n",
            "15399\n"
          ]
        },
        {
          "output_type": "stream",
          "name": "stderr",
          "text": [
            " 24%|██▍       | 2217/9172 [01:58<06:57, 16.67it/s]"
          ]
        },
        {
          "output_type": "stream",
          "name": "stdout",
          "text": [
            "15401\n",
            "15397\n",
            "15399\n"
          ]
        },
        {
          "output_type": "stream",
          "name": "stderr",
          "text": [
            "\r 24%|██▍       | 2222/9172 [01:58<05:41, 20.35it/s]"
          ]
        },
        {
          "output_type": "stream",
          "name": "stdout",
          "text": [
            "15397\n",
            "15397\n",
            "15397\n",
            "15399\n",
            "15397\n"
          ]
        },
        {
          "output_type": "stream",
          "name": "stderr",
          "text": [
            "\r 24%|██▍       | 2225/9172 [01:58<07:33, 15.33it/s]"
          ]
        },
        {
          "output_type": "stream",
          "name": "stdout",
          "text": [
            "15397\n",
            "15399\n",
            "15399\n",
            "15399\n",
            "15399\n"
          ]
        },
        {
          "output_type": "stream",
          "name": "stderr",
          "text": [
            " 24%|██▍       | 2230/9172 [01:59<07:52, 14.68it/s]"
          ]
        },
        {
          "output_type": "stream",
          "name": "stdout",
          "text": [
            "15401\n",
            "15403\n",
            "15401\n"
          ]
        },
        {
          "output_type": "stream",
          "name": "stderr",
          "text": [
            "\r 24%|██▍       | 2232/9172 [01:59<09:03, 12.78it/s]"
          ]
        },
        {
          "output_type": "stream",
          "name": "stdout",
          "text": [
            "15401\n",
            "15401\n",
            "15401\n",
            "15401\n",
            "15401\n",
            "15401\n"
          ]
        },
        {
          "output_type": "stream",
          "name": "stderr",
          "text": [
            " 24%|██▍       | 2239/9172 [01:59<06:32, 17.67it/s]"
          ]
        },
        {
          "output_type": "stream",
          "name": "stdout",
          "text": [
            "15401\n",
            "15401\n",
            "15401\n",
            "15403\n",
            "15405\n",
            "15403\n"
          ]
        },
        {
          "output_type": "stream",
          "name": "stderr",
          "text": [
            " 25%|██▍       | 2249/9172 [01:59<04:08, 27.87it/s]"
          ]
        },
        {
          "output_type": "stream",
          "name": "stdout",
          "text": [
            "15401\n",
            "15403\n",
            "15403\n",
            "15405\n",
            "15401\n",
            "15403\n",
            "15403\n",
            "15407\n"
          ]
        },
        {
          "output_type": "stream",
          "name": "stderr",
          "text": [
            "\r 25%|██▍       | 2253/9172 [02:00<03:47, 30.46it/s]"
          ]
        },
        {
          "output_type": "stream",
          "name": "stdout",
          "text": [
            "15401\n",
            "15339\n",
            "15403\n",
            "15407\n",
            "15403\n"
          ]
        },
        {
          "output_type": "stream",
          "name": "stderr",
          "text": [
            "\r 25%|██▍       | 2257/9172 [02:00<05:04, 22.67it/s]"
          ]
        },
        {
          "output_type": "stream",
          "name": "stdout",
          "text": [
            "15409\n",
            "15405\n",
            "15407\n",
            "15405\n"
          ]
        },
        {
          "output_type": "stream",
          "name": "stderr",
          "text": [
            "\r 25%|██▍       | 2260/9172 [02:00<06:08, 18.75it/s]"
          ]
        },
        {
          "output_type": "stream",
          "name": "stdout",
          "text": [
            "15409\n",
            "15405\n",
            "15407\n",
            "15405\n"
          ]
        },
        {
          "output_type": "stream",
          "name": "stderr",
          "text": [
            " 25%|██▍       | 2271/9172 [02:01<04:38, 24.77it/s]"
          ]
        },
        {
          "output_type": "stream",
          "name": "stdout",
          "text": [
            "15407\n",
            "15409\n",
            "15409\n",
            "15407\n",
            "15407\n",
            "15407\n",
            "15409\n",
            "15407\n",
            "15409\n",
            "15411\n",
            "15407\n"
          ]
        },
        {
          "output_type": "stream",
          "name": "stderr",
          "text": [
            " 25%|██▍       | 2279/9172 [02:01<04:50, 23.72it/s]"
          ]
        },
        {
          "output_type": "stream",
          "name": "stdout",
          "text": [
            "15411\n",
            "15409\n",
            "15407\n",
            "15407\n",
            "15411\n"
          ]
        },
        {
          "output_type": "stream",
          "name": "stderr",
          "text": [
            " 25%|██▍       | 2285/9172 [02:01<05:51, 19.60it/s]"
          ]
        },
        {
          "output_type": "stream",
          "name": "stdout",
          "text": [
            "15407\n",
            "15413\n",
            "15411\n",
            "15407\n",
            "15411\n",
            "15411\n",
            "15411\n"
          ]
        },
        {
          "output_type": "stream",
          "name": "stderr",
          "text": [
            " 25%|██▍       | 2290/9172 [02:02<07:19, 15.67it/s]"
          ]
        },
        {
          "output_type": "stream",
          "name": "stdout",
          "text": [
            "15320\n",
            "15411\n",
            "15411\n",
            "15413\n",
            "15411\n",
            "15411\n",
            "15411\n",
            "15411\n",
            "15411\n",
            "15411\n"
          ]
        },
        {
          "output_type": "stream",
          "name": "stderr",
          "text": [
            " 25%|██▌       | 2301/9172 [02:02<06:26, 17.77it/s]"
          ]
        },
        {
          "output_type": "stream",
          "name": "stdout",
          "text": [
            "15413\n",
            "15413\n",
            "15413\n",
            "15413\n",
            "15411\n"
          ]
        },
        {
          "output_type": "stream",
          "name": "stderr",
          "text": [
            " 25%|██▌       | 2306/9172 [02:03<06:31, 17.52it/s]"
          ]
        },
        {
          "output_type": "stream",
          "name": "stdout",
          "text": [
            "15413\n",
            "15415\n",
            "15413\n",
            "15411\n",
            "15413\n",
            "15413\n"
          ]
        },
        {
          "output_type": "stream",
          "name": "stderr",
          "text": [
            " 25%|██▌       | 2311/9172 [02:03<06:12, 18.39it/s]"
          ]
        },
        {
          "output_type": "stream",
          "name": "stdout",
          "text": [
            "15413\n",
            "15413\n",
            "15413\n",
            "15415\n",
            "15411\n"
          ]
        },
        {
          "output_type": "stream",
          "name": "stderr",
          "text": [
            " 25%|██▌       | 2316/9172 [02:03<06:52, 16.61it/s]"
          ]
        },
        {
          "output_type": "stream",
          "name": "stdout",
          "text": [
            "15417\n",
            "15413\n",
            "15413\n",
            "15413\n",
            "15415\n"
          ]
        },
        {
          "output_type": "stream",
          "name": "stderr",
          "text": [
            "\r 25%|██▌       | 2319/9172 [02:03<07:11, 15.88it/s]"
          ]
        },
        {
          "output_type": "stream",
          "name": "stdout",
          "text": [
            "15413\n",
            "15415\n",
            "15417\n",
            "15413\n",
            "15415\n",
            "15415\n",
            "15415\n"
          ]
        },
        {
          "output_type": "stream",
          "name": "stderr",
          "text": [
            " 25%|██▌       | 2328/9172 [02:04<06:01, 18.95it/s]"
          ]
        },
        {
          "output_type": "stream",
          "name": "stdout",
          "text": [
            "15419\n",
            "15415\n",
            "15421\n",
            "15415\n",
            "15417\n"
          ]
        },
        {
          "output_type": "stream",
          "name": "stderr",
          "text": [
            "\r 25%|██▌       | 2331/9172 [02:04<06:05, 18.70it/s]"
          ]
        },
        {
          "output_type": "stream",
          "name": "stdout",
          "text": [
            "15415\n",
            "15417\n",
            "15417\n",
            "15417\n",
            "15417\n"
          ]
        },
        {
          "output_type": "stream",
          "name": "stderr",
          "text": [
            " 25%|██▌       | 2338/9172 [02:04<05:21, 21.26it/s]"
          ]
        },
        {
          "output_type": "stream",
          "name": "stdout",
          "text": [
            "15421\n",
            "15421\n",
            "15419\n",
            "15419\n",
            "15422\n",
            "15419\n"
          ]
        },
        {
          "output_type": "stream",
          "name": "stderr",
          "text": [
            " 26%|██▌       | 2345/9172 [02:04<04:30, 25.22it/s]"
          ]
        },
        {
          "output_type": "stream",
          "name": "stdout",
          "text": [
            "15417\n",
            "15419\n",
            "15422\n",
            "15424\n",
            "15421\n",
            "15419\n",
            "15419\n"
          ]
        },
        {
          "output_type": "stream",
          "name": "stderr",
          "text": [
            " 26%|██▌       | 2351/9172 [02:05<04:30, 25.21it/s]"
          ]
        },
        {
          "output_type": "stream",
          "name": "stdout",
          "text": [
            "15421\n",
            "15421\n",
            "15422\n",
            "15422\n",
            "15421\n"
          ]
        },
        {
          "output_type": "stream",
          "name": "stderr",
          "text": [
            "\r 26%|██▌       | 2354/9172 [02:05<05:34, 20.39it/s]"
          ]
        },
        {
          "output_type": "stream",
          "name": "stdout",
          "text": [
            "15422\n",
            "15422\n"
          ]
        },
        {
          "output_type": "stream",
          "name": "stderr",
          "text": [
            "\r 26%|██▌       | 2357/9172 [02:05<06:32, 17.36it/s]"
          ]
        },
        {
          "output_type": "stream",
          "name": "stdout",
          "text": [
            "15422\n",
            "15421\n",
            "15424\n",
            "15426\n"
          ]
        },
        {
          "output_type": "stream",
          "name": "stderr",
          "text": [
            " 26%|██▌       | 2361/9172 [02:05<07:04, 16.06it/s]"
          ]
        },
        {
          "output_type": "stream",
          "name": "stdout",
          "text": [
            "15424\n",
            "15424\n",
            "15424\n",
            "15424\n",
            "15426\n"
          ]
        },
        {
          "output_type": "stream",
          "name": "stderr",
          "text": [
            " 26%|██▌       | 2366/9172 [02:06<06:59, 16.24it/s]"
          ]
        },
        {
          "output_type": "stream",
          "name": "stdout",
          "text": [
            "15424\n",
            "15424\n",
            "15424\n",
            "15424\n",
            "15426\n"
          ]
        },
        {
          "output_type": "stream",
          "name": "stderr",
          "text": [
            " 26%|██▌       | 2371/9172 [02:06<07:16, 15.59it/s]"
          ]
        },
        {
          "output_type": "stream",
          "name": "stdout",
          "text": [
            "15424\n",
            "15424\n",
            "15430\n",
            "15428\n"
          ]
        },
        {
          "output_type": "stream",
          "name": "stderr",
          "text": [
            " 26%|██▌       | 2380/9172 [02:06<04:07, 27.49it/s]"
          ]
        },
        {
          "output_type": "stream",
          "name": "stdout",
          "text": [
            "15428\n",
            "15426\n",
            "15424\n",
            "15424\n",
            "15426\n",
            "15428\n",
            "15426\n",
            "15428\n"
          ]
        },
        {
          "output_type": "stream",
          "name": "stderr",
          "text": [
            "\r 26%|██▌       | 2384/9172 [02:07<05:36, 20.19it/s]"
          ]
        },
        {
          "output_type": "stream",
          "name": "stdout",
          "text": [
            "15426\n",
            "15426\n",
            "15428\n",
            "15430\n",
            "15428\n"
          ]
        },
        {
          "output_type": "stream",
          "name": "stderr",
          "text": [
            "\r 26%|██▌       | 2387/9172 [02:07<05:32, 20.42it/s]"
          ]
        },
        {
          "output_type": "stream",
          "name": "stdout",
          "text": [
            "15428\n",
            "15432\n",
            "15430\n"
          ]
        },
        {
          "output_type": "stream",
          "name": "stderr",
          "text": [
            "\r 26%|██▌       | 2390/9172 [02:07<07:26, 15.19it/s]"
          ]
        },
        {
          "output_type": "stream",
          "name": "stdout",
          "text": [
            "15430\n",
            "15428\n"
          ]
        },
        {
          "output_type": "stream",
          "name": "stderr",
          "text": [
            " 26%|██▌       | 2395/9172 [02:07<07:14, 15.62it/s]"
          ]
        },
        {
          "output_type": "stream",
          "name": "stdout",
          "text": [
            "15428\n",
            "15430\n",
            "15430\n",
            "15432\n",
            "15430\n",
            "15430\n"
          ]
        },
        {
          "output_type": "stream",
          "name": "stderr",
          "text": [
            " 26%|██▌       | 2401/9172 [02:08<05:46, 19.54it/s]"
          ]
        },
        {
          "output_type": "stream",
          "name": "stdout",
          "text": [
            "15430\n",
            "15430\n",
            "15430\n",
            "15430\n",
            "15432\n"
          ]
        },
        {
          "output_type": "stream",
          "name": "stderr",
          "text": [
            "\r 26%|██▌       | 2405/9172 [02:08<05:12, 21.63it/s]"
          ]
        },
        {
          "output_type": "stream",
          "name": "stdout",
          "text": [
            "15432\n",
            "15430\n",
            "15432\n",
            "15430\n",
            "15432\n",
            "15435\n",
            "15432\n"
          ]
        },
        {
          "output_type": "stream",
          "name": "stderr",
          "text": [
            " 26%|██▋       | 2412/9172 [02:08<05:53, 19.13it/s]"
          ]
        },
        {
          "output_type": "stream",
          "name": "stdout",
          "text": [
            "15430\n",
            "15435\n",
            "15432\n",
            "15432\n"
          ]
        },
        {
          "output_type": "stream",
          "name": "stderr",
          "text": [
            "\r 26%|██▋       | 2415/9172 [02:09<08:22, 13.45it/s]"
          ]
        },
        {
          "output_type": "stream",
          "name": "stdout",
          "text": [
            "15435\n",
            "15432\n",
            "15432\n",
            "15432\n",
            "15435\n"
          ]
        },
        {
          "output_type": "stream",
          "name": "stderr",
          "text": [
            "\r 26%|██▋       | 2418/9172 [02:09<07:13, 15.59it/s]"
          ]
        },
        {
          "output_type": "stream",
          "name": "stdout",
          "text": [
            "15435\n",
            "15432\n"
          ]
        },
        {
          "output_type": "stream",
          "name": "stderr",
          "text": [
            " 26%|██▋       | 2423/9172 [02:09<07:46, 14.47it/s]"
          ]
        },
        {
          "output_type": "stream",
          "name": "stdout",
          "text": [
            "15437\n",
            "15437\n",
            "15435\n",
            "15435\n",
            "15437\n",
            "15435\n"
          ]
        },
        {
          "output_type": "stream",
          "name": "stderr",
          "text": [
            " 26%|██▋       | 2428/9172 [02:10<08:44, 12.87it/s]"
          ]
        },
        {
          "output_type": "stream",
          "name": "stdout",
          "text": [
            "15435\n",
            "15437\n",
            "15437\n"
          ]
        },
        {
          "output_type": "stream",
          "name": "stderr",
          "text": [
            " 27%|██▋       | 2433/9172 [02:10<08:07, 13.82it/s]"
          ]
        },
        {
          "output_type": "stream",
          "name": "stdout",
          "text": [
            "15437\n",
            "15442\n",
            "15440\n",
            "15437\n",
            "15440\n"
          ]
        },
        {
          "output_type": "stream",
          "name": "stderr",
          "text": [
            "\r 27%|██▋       | 2435/9172 [02:10<11:37,  9.65it/s]"
          ]
        },
        {
          "output_type": "stream",
          "name": "stdout",
          "text": [
            "15442\n",
            "15440\n",
            "15444\n",
            "15437\n"
          ]
        },
        {
          "output_type": "stream",
          "name": "stderr",
          "text": [
            "\r 27%|██▋       | 2438/9172 [02:10<09:44, 11.52it/s]"
          ]
        },
        {
          "output_type": "stream",
          "name": "stdout",
          "text": [
            "15440\n",
            "15440\n"
          ]
        },
        {
          "output_type": "stream",
          "name": "stderr",
          "text": [
            " 27%|██▋       | 2442/9172 [02:11<10:57, 10.24it/s]"
          ]
        },
        {
          "output_type": "stream",
          "name": "stdout",
          "text": [
            "15437\n",
            "15440\n",
            "15440\n"
          ]
        },
        {
          "output_type": "stream",
          "name": "stderr",
          "text": [
            "\r 27%|██▋       | 2444/9172 [02:11<10:03, 11.15it/s]"
          ]
        },
        {
          "output_type": "stream",
          "name": "stdout",
          "text": [
            "15442\n",
            "15444\n",
            "15442\n"
          ]
        },
        {
          "output_type": "stream",
          "name": "stderr",
          "text": [
            "\r 27%|██▋       | 2446/9172 [02:11<09:56, 11.28it/s]"
          ]
        },
        {
          "output_type": "stream",
          "name": "stdout",
          "text": [
            "15442\n",
            "15442\n",
            "15440\n"
          ]
        },
        {
          "output_type": "stream",
          "name": "stderr",
          "text": [
            " 27%|██▋       | 2450/9172 [02:12<10:37, 10.55it/s]"
          ]
        },
        {
          "output_type": "stream",
          "name": "stdout",
          "text": [
            "15440\n",
            "15442\n"
          ]
        },
        {
          "output_type": "stream",
          "name": "stderr",
          "text": [
            "\r 27%|██▋       | 2453/9172 [02:12<10:05, 11.09it/s]"
          ]
        },
        {
          "output_type": "stream",
          "name": "stdout",
          "text": [
            "15444\n",
            "15442\n",
            "15444\n",
            "15444\n"
          ]
        },
        {
          "output_type": "stream",
          "name": "stderr",
          "text": [
            "\r 27%|██▋       | 2456/9172 [02:12<08:15, 13.56it/s]"
          ]
        },
        {
          "output_type": "stream",
          "name": "stdout",
          "text": [
            "15444\n",
            "15444\n",
            "15444\n",
            "15444\n"
          ]
        },
        {
          "output_type": "stream",
          "name": "stderr",
          "text": [
            " 27%|██▋       | 2462/9172 [02:12<07:52, 14.19it/s]"
          ]
        },
        {
          "output_type": "stream",
          "name": "stdout",
          "text": [
            "15446\n",
            "15449\n",
            "15446\n",
            "15446\n"
          ]
        },
        {
          "output_type": "stream",
          "name": "stderr",
          "text": [
            "\r 27%|██▋       | 2464/9172 [02:13<07:48, 14.31it/s]"
          ]
        },
        {
          "output_type": "stream",
          "name": "stdout",
          "text": [
            "15446\n",
            "15449\n",
            "15446\n"
          ]
        },
        {
          "output_type": "stream",
          "name": "stderr",
          "text": [
            "\r 27%|██▋       | 2466/9172 [02:13<08:32, 13.09it/s]"
          ]
        },
        {
          "output_type": "stream",
          "name": "stdout",
          "text": [
            "15446\n",
            "15446\n"
          ]
        },
        {
          "output_type": "stream",
          "name": "stderr",
          "text": [
            "\r 27%|██▋       | 2468/9172 [02:13<10:41, 10.45it/s]"
          ]
        },
        {
          "output_type": "stream",
          "name": "stdout",
          "text": [
            "15446\n",
            "15449\n"
          ]
        },
        {
          "output_type": "stream",
          "name": "stderr",
          "text": [
            " 27%|██▋       | 2474/9172 [02:14<08:28, 13.16it/s]"
          ]
        },
        {
          "output_type": "stream",
          "name": "stdout",
          "text": [
            "15446\n",
            "15446\n",
            "15451\n",
            "15449\n",
            "15449\n",
            "15451\n"
          ]
        },
        {
          "output_type": "stream",
          "name": "stderr",
          "text": [
            " 27%|██▋       | 2479/9172 [02:14<08:22, 13.32it/s]"
          ]
        },
        {
          "output_type": "stream",
          "name": "stdout",
          "text": [
            "15451\n",
            "15451\n",
            "15451\n",
            "15449\n",
            "15451\n",
            "15451\n",
            "15451\n",
            "15451\n",
            "15451\n",
            "15451\n",
            "15451\n"
          ]
        },
        {
          "output_type": "stream",
          "name": "stderr",
          "text": [
            "\r 27%|██▋       | 2487/9172 [02:14<05:14, 21.26it/s]"
          ]
        },
        {
          "output_type": "stream",
          "name": "stdout",
          "text": [
            "15449\n",
            "15449\n"
          ]
        },
        {
          "output_type": "stream",
          "name": "stderr",
          "text": [
            "\r 27%|██▋       | 2490/9172 [02:14<05:58, 18.66it/s]"
          ]
        },
        {
          "output_type": "stream",
          "name": "stdout",
          "text": [
            "15451\n",
            "15451\n",
            "15453\n",
            "15453\n"
          ]
        },
        {
          "output_type": "stream",
          "name": "stderr",
          "text": [
            " 27%|██▋       | 2495/9172 [02:15<06:46, 16.43it/s]"
          ]
        },
        {
          "output_type": "stream",
          "name": "stdout",
          "text": [
            "15451\n",
            "15458\n",
            "15458\n"
          ]
        },
        {
          "output_type": "stream",
          "name": "stderr",
          "text": [
            "\r 27%|██▋       | 2497/9172 [02:15<09:43, 11.44it/s]"
          ]
        },
        {
          "output_type": "stream",
          "name": "stdout",
          "text": [
            "15451\n",
            "15451\n",
            "15460\n"
          ]
        },
        {
          "output_type": "stream",
          "name": "stderr",
          "text": [
            " 27%|██▋       | 2501/9172 [02:16<11:18,  9.83it/s]"
          ]
        },
        {
          "output_type": "stream",
          "name": "stdout",
          "text": [
            "15453\n",
            "15453\n",
            "15453\n",
            "15453\n"
          ]
        },
        {
          "output_type": "stream",
          "name": "stderr",
          "text": [
            " 27%|██▋       | 2505/9172 [02:16<09:46, 11.36it/s]"
          ]
        },
        {
          "output_type": "stream",
          "name": "stdout",
          "text": [
            "15453\n",
            "15458\n",
            "15458\n"
          ]
        },
        {
          "output_type": "stream",
          "name": "stderr",
          "text": [
            "\r 27%|██▋       | 2510/9172 [02:16<06:38, 16.73it/s]"
          ]
        },
        {
          "output_type": "stream",
          "name": "stdout",
          "text": [
            "15458\n",
            "15460\n",
            "15463 - HTTP 404\n",
            "15460\n",
            "15460\n",
            "15463\n",
            "15458\n",
            "15463 - HTTP 404\n",
            "15460\n",
            "15463 - HTTP 404\n"
          ]
        },
        {
          "output_type": "stream",
          "name": "stderr",
          "text": [
            " 27%|██▋       | 2522/9172 [02:16<03:41, 30.00it/s]"
          ]
        },
        {
          "output_type": "stream",
          "name": "stdout",
          "text": [
            "15463 - HTTP 404\n",
            "15463 - HTTP 404\n",
            "15463 - HTTP 404\n",
            "15463 - HTTP 404\n",
            "15453\n",
            "15463 - HTTP 404\n",
            "15463 - HTTP 404\n",
            "15460\n",
            "15463 - HTTP 404\n",
            "15463 - HTTP 404\n",
            "15463 - HTTP 404\n",
            "15453\n",
            "15463 - HTTP 404\n",
            "15460\n"
          ]
        },
        {
          "output_type": "stream",
          "name": "stderr",
          "text": [
            "\r 28%|██▊       | 2530/9172 [02:17<03:30, 31.57it/s]"
          ]
        },
        {
          "output_type": "stream",
          "name": "stdout",
          "text": [
            "15463 - HTTP 404\n",
            "15463\n",
            "15463\n"
          ]
        },
        {
          "output_type": "stream",
          "name": "stderr",
          "text": [
            "\r 28%|██▊       | 2534/9172 [02:17<04:22, 25.31it/s]"
          ]
        },
        {
          "output_type": "stream",
          "name": "stdout",
          "text": [
            "15463\n",
            "15460\n"
          ]
        },
        {
          "output_type": "stream",
          "name": "stderr",
          "text": [
            "\r 28%|██▊       | 2537/9172 [02:17<06:05, 18.17it/s]"
          ]
        },
        {
          "output_type": "stream",
          "name": "stdout",
          "text": [
            "15470 - HTTP 404\n",
            "15460\n",
            "15465\n",
            "15470 - HTTP 404\n"
          ]
        },
        {
          "output_type": "stream",
          "name": "stderr",
          "text": [
            " 28%|██▊       | 2543/9172 [02:18<06:19, 17.45it/s]"
          ]
        },
        {
          "output_type": "stream",
          "name": "stdout",
          "text": [
            "15463\n",
            "15470 - HTTP 404\n",
            "15470 - HTTP 404\n",
            "15465\n",
            "15465\n",
            "15470 - HTTP 404\n"
          ]
        },
        {
          "output_type": "stream",
          "name": "stderr",
          "text": [
            " 28%|██▊       | 2552/9172 [02:18<04:10, 26.40it/s]"
          ]
        },
        {
          "output_type": "stream",
          "name": "stdout",
          "text": [
            "15463\n",
            "15470 - HTTP 404\n",
            "15470 - HTTP 404\n",
            "15470 - HTTP 404\n",
            "15465\n",
            "15463\n",
            "15465\n",
            "15451\n"
          ]
        },
        {
          "output_type": "stream",
          "name": "stderr",
          "text": [
            "\r 28%|██▊       | 2556/9172 [02:18<04:40, 23.57it/s]"
          ]
        },
        {
          "output_type": "stream",
          "name": "stdout",
          "text": [
            "15470 - HTTP 404\n",
            "15470 - HTTP 404\n",
            "15470\n",
            "15470\n",
            "15465\n",
            "15463\n",
            "15470\n",
            "15470\n"
          ]
        },
        {
          "output_type": "stream",
          "name": "stderr",
          "text": [
            "\r 28%|██▊       | 2561/9172 [02:18<03:58, 27.74it/s]"
          ]
        },
        {
          "output_type": "stream",
          "name": "stdout",
          "text": [
            "15470\n",
            "15465\n",
            "15465\n"
          ]
        },
        {
          "output_type": "stream",
          "name": "stderr",
          "text": [
            "\r 28%|██▊       | 2565/9172 [02:19<07:01, 15.68it/s]"
          ]
        },
        {
          "output_type": "stream",
          "name": "stdout",
          "text": [
            "15472\n",
            "15472\n"
          ]
        },
        {
          "output_type": "stream",
          "name": "stderr",
          "text": [
            " 28%|██▊       | 2571/9172 [02:19<07:48, 14.08it/s]"
          ]
        },
        {
          "output_type": "stream",
          "name": "stdout",
          "text": [
            "15472\n",
            "15470\n",
            "15475\n",
            "15470\n",
            "15472\n",
            "15470\n"
          ]
        },
        {
          "output_type": "stream",
          "name": "stderr",
          "text": [
            "\r 28%|██▊       | 2574/9172 [02:19<08:04, 13.62it/s]"
          ]
        },
        {
          "output_type": "stream",
          "name": "stdout",
          "text": [
            "15472\n",
            "15470\n",
            "15470\n"
          ]
        },
        {
          "output_type": "stream",
          "name": "stderr",
          "text": [
            " 28%|██▊       | 2578/9172 [02:20<08:31, 12.90it/s]"
          ]
        },
        {
          "output_type": "stream",
          "name": "stdout",
          "text": [
            "15472\n",
            "15475\n",
            "15477\n",
            "15472\n"
          ]
        },
        {
          "output_type": "stream",
          "name": "stderr",
          "text": [
            "\r 28%|██▊       | 2580/9172 [02:20<08:24, 13.07it/s]"
          ]
        },
        {
          "output_type": "stream",
          "name": "stdout",
          "text": [
            "15472\n",
            "15472\n"
          ]
        },
        {
          "output_type": "stream",
          "name": "stderr",
          "text": [
            "\r 28%|██▊       | 2582/9172 [02:20<12:03,  9.11it/s]"
          ]
        },
        {
          "output_type": "stream",
          "name": "stdout",
          "text": [
            "15475\n",
            "15475\n",
            "15475\n",
            "15472\n"
          ]
        },
        {
          "output_type": "stream",
          "name": "stderr",
          "text": [
            " 28%|██▊       | 2587/9172 [02:21<10:56, 10.03it/s]"
          ]
        },
        {
          "output_type": "stream",
          "name": "stdout",
          "text": [
            "15477\n",
            "15475\n",
            "15463\n",
            "15463\n"
          ]
        },
        {
          "output_type": "stream",
          "name": "stderr",
          "text": [
            " 28%|██▊       | 2592/9172 [02:21<07:35, 14.46it/s]"
          ]
        },
        {
          "output_type": "stream",
          "name": "stdout",
          "text": [
            "15475\n",
            "15477\n",
            "15477\n",
            "15477\n",
            "15477\n"
          ]
        },
        {
          "output_type": "stream",
          "name": "stderr",
          "text": [
            " 28%|██▊       | 2600/9172 [02:21<05:52, 18.66it/s]"
          ]
        },
        {
          "output_type": "stream",
          "name": "stdout",
          "text": [
            "15477\n",
            "15484 - HTTP 404\n",
            "15484 - HTTP 404\n",
            "15484 - HTTP 404\n",
            "15480\n",
            "15480\n",
            "15475\n"
          ]
        },
        {
          "output_type": "stream",
          "name": "stderr",
          "text": [
            " 28%|██▊       | 2608/9172 [02:22<04:20, 25.15it/s]"
          ]
        },
        {
          "output_type": "stream",
          "name": "stdout",
          "text": [
            "15484 - HTTP 404\n",
            "15484 - HTTP 404\n",
            "15484 - HTTP 404\n",
            "15477\n",
            "15484 - HTTP 404\n",
            "15484 - HTTP 404\n",
            "15484 - HTTP 404\n",
            "15480\n"
          ]
        },
        {
          "output_type": "stream",
          "name": "stderr",
          "text": [
            " 29%|██▊       | 2617/9172 [02:22<03:49, 28.51it/s]"
          ]
        },
        {
          "output_type": "stream",
          "name": "stdout",
          "text": [
            "15484\n",
            "15477\n",
            "15477\n",
            "15480\n",
            "15480\n",
            "15484\n",
            "15484\n",
            "15484\n",
            "15484\n"
          ]
        },
        {
          "output_type": "stream",
          "name": "stderr",
          "text": [
            "\r 29%|██▊       | 2624/9172 [02:22<03:11, 34.26it/s]"
          ]
        },
        {
          "output_type": "stream",
          "name": "stdout",
          "text": [
            "15480\n",
            "15487\n",
            "15487 - HTTP 404\n",
            "15487 - HTTP 404\n",
            "15487 - HTTP 404\n",
            "15487 - HTTP 404\n",
            "15487 - HTTP 404\n",
            "15487 - HTTP 404\n",
            "15480\n"
          ]
        },
        {
          "output_type": "stream",
          "name": "stderr",
          "text": [
            " 29%|██▊       | 2632/9172 [02:22<03:44, 29.10it/s]"
          ]
        },
        {
          "output_type": "stream",
          "name": "stdout",
          "text": [
            "15487 - HTTP 404\n",
            "15487\n",
            "15487\n",
            "15487\n",
            "15487\n",
            "15480\n"
          ]
        },
        {
          "output_type": "stream",
          "name": "stderr",
          "text": [
            "\r 29%|██▊       | 2636/9172 [02:23<04:59, 21.83it/s]"
          ]
        },
        {
          "output_type": "stream",
          "name": "stdout",
          "text": [
            "15484\n",
            "15484\n",
            "15480\n",
            "15484\n",
            "15484\n"
          ]
        },
        {
          "output_type": "stream",
          "name": "stderr",
          "text": [
            "\r 29%|██▉       | 2639/9172 [02:23<05:26, 20.01it/s]"
          ]
        },
        {
          "output_type": "stream",
          "name": "stdout",
          "text": [
            "15484\n",
            "15489\n",
            "15487\n",
            "15492\n",
            "15487\n"
          ]
        },
        {
          "output_type": "stream",
          "name": "stderr",
          "text": [
            " 29%|██▉       | 2645/9172 [02:23<06:09, 17.67it/s]"
          ]
        },
        {
          "output_type": "stream",
          "name": "stdout",
          "text": [
            "15487\n",
            "15489\n",
            "15489\n",
            "15492\n",
            "15489\n",
            "15489\n",
            "15489\n",
            "15489\n",
            "15487\n"
          ]
        },
        {
          "output_type": "stream",
          "name": "stderr",
          "text": [
            " 29%|██▉       | 2656/9172 [02:24<05:05, 21.33it/s]"
          ]
        },
        {
          "output_type": "stream",
          "name": "stdout",
          "text": [
            "15500 - HTTP 404\n",
            "15500 - HTTP 404\n",
            "15495\n",
            "15492\n",
            "15500\n",
            "15487\n",
            "15492\n",
            "15492\n",
            "15500 - HTTP 404\n"
          ]
        },
        {
          "output_type": "stream",
          "name": "stderr",
          "text": [
            "\r 29%|██▉       | 2662/9172 [02:24<04:09, 26.13it/s]"
          ]
        },
        {
          "output_type": "stream",
          "name": "stdout",
          "text": [
            "15500 - HTTP 404\n",
            "15492\n",
            "15500 - HTTP 404\n",
            "15500 - HTTP 404\n",
            "15500 - HTTP 404\n",
            "15492\n"
          ]
        },
        {
          "output_type": "stream",
          "name": "stderr",
          "text": [
            " 29%|██▉       | 2673/9172 [02:24<03:41, 29.30it/s]"
          ]
        },
        {
          "output_type": "stream",
          "name": "stdout",
          "text": [
            "15500\n",
            "15495\n",
            "15500\n",
            "15500\n",
            "15500\n",
            "15495\n",
            "15492\n"
          ]
        },
        {
          "output_type": "stream",
          "name": "stderr",
          "text": [
            "\r 29%|██▉       | 2676/9172 [02:24<03:53, 27.84it/s]"
          ]
        },
        {
          "output_type": "stream",
          "name": "stdout",
          "text": [
            "15495\n",
            "15495\n",
            "15495\n",
            "15503\n",
            "15495\n"
          ]
        },
        {
          "output_type": "stream",
          "name": "stderr",
          "text": [
            " 29%|██▉       | 2684/9172 [02:25<06:10, 17.52it/s]"
          ]
        },
        {
          "output_type": "stream",
          "name": "stdout",
          "text": [
            "15500\n",
            "15500\n",
            "15500\n",
            "15500\n",
            "15500\n",
            "15503\n",
            "15503\n",
            "15503\n"
          ]
        },
        {
          "output_type": "stream",
          "name": "stderr",
          "text": [
            " 29%|██▉       | 2690/9172 [02:25<05:16, 20.45it/s]"
          ]
        },
        {
          "output_type": "stream",
          "name": "stdout",
          "text": [
            "15430\n",
            "15503\n",
            "15505\n",
            "15505\n",
            "15505\n",
            "15503\n",
            "15505\n",
            "15503\n",
            "15510\n"
          ]
        },
        {
          "output_type": "stream",
          "name": "stderr",
          "text": [
            " 29%|██▉       | 2699/9172 [02:26<04:19, 24.94it/s]"
          ]
        },
        {
          "output_type": "stream",
          "name": "stdout",
          "text": [
            "15505\n",
            "15505\n",
            "15510\n",
            "15505\n"
          ]
        },
        {
          "output_type": "stream",
          "name": "stderr",
          "text": [
            " 29%|██▉       | 2705/9172 [02:26<05:54, 18.25it/s]"
          ]
        },
        {
          "output_type": "stream",
          "name": "stdout",
          "text": [
            "15513\n",
            "15505\n",
            "15505\n",
            "15510\n",
            "15510\n",
            "15510\n"
          ]
        },
        {
          "output_type": "stream",
          "name": "stderr",
          "text": [
            "\r 30%|██▉       | 2708/9172 [02:26<05:49, 18.51it/s]"
          ]
        },
        {
          "output_type": "stream",
          "name": "stdout",
          "text": [
            "15510\n",
            "15510\n",
            "15510\n",
            "15513\n"
          ]
        },
        {
          "output_type": "stream",
          "name": "stderr",
          "text": [
            " 30%|██▉       | 2715/9172 [02:27<05:11, 20.76it/s]"
          ]
        },
        {
          "output_type": "stream",
          "name": "stdout",
          "text": [
            "15513\n",
            "15513\n",
            "15518\n",
            "15513\n",
            "15510\n",
            "15521\n",
            "15513\n",
            "15513\n",
            "15463\n"
          ]
        },
        {
          "output_type": "stream",
          "name": "stderr",
          "text": [
            " 30%|██▉       | 2723/9172 [02:27<04:19, 24.86it/s]"
          ]
        },
        {
          "output_type": "stream",
          "name": "stdout",
          "text": [
            "15521\n",
            "15518\n",
            "15518\n",
            "15518\n",
            "15518\n",
            "15513\n",
            "15518\n",
            "15432\n"
          ]
        },
        {
          "output_type": "stream",
          "name": "stderr",
          "text": [
            "\r 30%|██▉       | 2727/9172 [02:27<06:10, 17.41it/s]"
          ]
        },
        {
          "output_type": "stream",
          "name": "stdout",
          "text": [
            "15521\n",
            "15518\n",
            "15521\n",
            "15521\n"
          ]
        },
        {
          "output_type": "stream",
          "name": "stderr",
          "text": [
            " 30%|██▉       | 2733/9172 [02:28<06:03, 17.70it/s]"
          ]
        },
        {
          "output_type": "stream",
          "name": "stdout",
          "text": [
            "15521\n",
            "15521\n",
            "15518\n",
            "15521\n",
            "15521\n"
          ]
        },
        {
          "output_type": "stream",
          "name": "stderr",
          "text": [
            "\r 30%|██▉       | 2736/9172 [02:28<05:37, 19.07it/s]"
          ]
        },
        {
          "output_type": "stream",
          "name": "stdout",
          "text": [
            "15521\n",
            "15523\n",
            "15521\n"
          ]
        },
        {
          "output_type": "stream",
          "name": "stderr",
          "text": [
            " 30%|██▉       | 2743/9172 [02:28<05:14, 20.44it/s]"
          ]
        },
        {
          "output_type": "stream",
          "name": "stdout",
          "text": [
            "15523\n",
            "15523\n",
            "15523\n",
            "15523\n",
            "15521\n",
            "15521\n",
            "15523\n",
            "15523\n"
          ]
        },
        {
          "output_type": "stream",
          "name": "stderr",
          "text": [
            "\r 30%|██▉       | 2747/9172 [02:28<04:29, 23.84it/s]"
          ]
        },
        {
          "output_type": "stream",
          "name": "stdout",
          "text": [
            "15523\n",
            "15523\n",
            "15525\n"
          ]
        },
        {
          "output_type": "stream",
          "name": "stderr",
          "text": [
            " 30%|███       | 2753/9172 [02:28<05:21, 19.97it/s]"
          ]
        },
        {
          "output_type": "stream",
          "name": "stdout",
          "text": [
            "15523\n",
            "15523\n",
            "15525\n",
            "15528\n"
          ]
        },
        {
          "output_type": "stream",
          "name": "stderr",
          "text": [
            " 30%|███       | 2758/9172 [02:29<06:01, 17.73it/s]"
          ]
        },
        {
          "output_type": "stream",
          "name": "stdout",
          "text": [
            "15523\n",
            "15523\n",
            "15523\n",
            "15523\n",
            "15525\n",
            "15523\n",
            "15525\n",
            "15525\n",
            "15525\n"
          ]
        },
        {
          "output_type": "stream",
          "name": "stderr",
          "text": [
            " 30%|███       | 2766/9172 [02:29<04:20, 24.59it/s]"
          ]
        },
        {
          "output_type": "stream",
          "name": "stdout",
          "text": [
            "15525\n",
            "15528\n",
            "15528\n",
            "15528\n",
            "15525\n",
            "15523\n"
          ]
        },
        {
          "output_type": "stream",
          "name": "stderr",
          "text": [
            " 30%|███       | 2773/9172 [02:29<03:56, 27.05it/s]"
          ]
        },
        {
          "output_type": "stream",
          "name": "stdout",
          "text": [
            "15528\n",
            "15528\n",
            "15533\n",
            "15525\n",
            "15533\n",
            "15536\n",
            "15528\n",
            "15528\n"
          ]
        },
        {
          "output_type": "stream",
          "name": "stderr",
          "text": [
            " 30%|███       | 2781/9172 [02:30<04:17, 24.86it/s]"
          ]
        },
        {
          "output_type": "stream",
          "name": "stdout",
          "text": [
            "15533\n",
            "15533\n",
            "15536\n",
            "15533\n",
            "15533\n"
          ]
        },
        {
          "output_type": "stream",
          "name": "stderr",
          "text": [
            " 30%|███       | 2787/9172 [02:30<04:24, 24.11it/s]"
          ]
        },
        {
          "output_type": "stream",
          "name": "stdout",
          "text": [
            "15533\n",
            "15538\n",
            "15533\n",
            "15536\n",
            "15533\n",
            "15538\n",
            "15536\n"
          ]
        },
        {
          "output_type": "stream",
          "name": "stderr",
          "text": [
            "\r 30%|███       | 2790/9172 [02:30<05:09, 20.64it/s]"
          ]
        },
        {
          "output_type": "stream",
          "name": "stdout",
          "text": [
            "15536\n",
            "15536\n",
            "15538\n",
            "15541\n",
            "15536\n"
          ]
        },
        {
          "output_type": "stream",
          "name": "stderr",
          "text": [
            "\r 30%|███       | 2794/9172 [02:30<05:52, 18.11it/s]"
          ]
        },
        {
          "output_type": "stream",
          "name": "stdout",
          "text": [
            "15538\n",
            "15541\n"
          ]
        },
        {
          "output_type": "stream",
          "name": "stderr",
          "text": [
            "\r 30%|███       | 2796/9172 [02:31<07:03, 15.05it/s]"
          ]
        },
        {
          "output_type": "stream",
          "name": "stdout",
          "text": [
            "15538\n",
            "15543\n"
          ]
        },
        {
          "output_type": "stream",
          "name": "stderr",
          "text": [
            " 31%|███       | 2800/9172 [02:31<09:25, 11.27it/s]"
          ]
        },
        {
          "output_type": "stream",
          "name": "stdout",
          "text": [
            "15538\n",
            "15543\n",
            "15538\n"
          ]
        },
        {
          "output_type": "stream",
          "name": "stderr",
          "text": [
            " 31%|███       | 2805/9172 [02:31<07:27, 14.22it/s]"
          ]
        },
        {
          "output_type": "stream",
          "name": "stdout",
          "text": [
            "15541\n",
            "15541\n",
            "15541\n",
            "15541\n",
            "15543\n",
            "15536\n"
          ]
        },
        {
          "output_type": "stream",
          "name": "stderr",
          "text": [
            " 31%|███       | 2810/9172 [02:32<07:17, 14.54it/s]"
          ]
        },
        {
          "output_type": "stream",
          "name": "stdout",
          "text": [
            "15543\n",
            "15543\n",
            "15545\n",
            "15543\n",
            "15547\n",
            "15543\n"
          ]
        },
        {
          "output_type": "stream",
          "name": "stderr",
          "text": [
            " 31%|███       | 2816/9172 [02:32<05:27, 19.41it/s]"
          ]
        },
        {
          "output_type": "stream",
          "name": "stdout",
          "text": [
            "15541\n",
            "15543\n",
            "15545\n",
            "15545\n"
          ]
        },
        {
          "output_type": "stream",
          "name": "stderr",
          "text": [
            "\r 31%|███       | 2819/9172 [02:32<07:35, 13.93it/s]"
          ]
        },
        {
          "output_type": "stream",
          "name": "stdout",
          "text": [
            "15550\n",
            "15547\n",
            "15545\n"
          ]
        },
        {
          "output_type": "stream",
          "name": "stderr",
          "text": [
            "\r 31%|███       | 2821/9172 [02:33<09:55, 10.67it/s]"
          ]
        },
        {
          "output_type": "stream",
          "name": "stdout",
          "text": [
            "15545\n",
            "15545\n",
            "15545\n",
            "15547\n"
          ]
        },
        {
          "output_type": "stream",
          "name": "stderr",
          "text": [
            "\r 31%|███       | 2823/9172 [02:33<09:03, 11.68it/s]"
          ]
        },
        {
          "output_type": "stream",
          "name": "stdout",
          "text": [
            "15550\n",
            "15547\n"
          ]
        },
        {
          "output_type": "stream",
          "name": "stderr",
          "text": [
            " 31%|███       | 2831/9172 [02:33<06:24, 16.49it/s]"
          ]
        },
        {
          "output_type": "stream",
          "name": "stdout",
          "text": [
            "15541\n",
            "15547\n",
            "15545\n",
            "15547\n",
            "15552\n",
            "15550\n"
          ]
        },
        {
          "output_type": "stream",
          "name": "stderr",
          "text": [
            " 31%|███       | 2835/9172 [02:33<06:29, 16.26it/s]"
          ]
        },
        {
          "output_type": "stream",
          "name": "stdout",
          "text": [
            "15547\n",
            "15550\n",
            "15550\n",
            "15552\n",
            "15555\n"
          ]
        },
        {
          "output_type": "stream",
          "name": "stderr",
          "text": [
            "\r 31%|███       | 2837/9172 [02:34<09:26, 11.18it/s]"
          ]
        },
        {
          "output_type": "stream",
          "name": "stdout",
          "text": [
            "15550\n"
          ]
        },
        {
          "output_type": "stream",
          "name": "stderr",
          "text": [
            "\r 31%|███       | 2839/9172 [02:34<13:18,  7.93it/s]"
          ]
        },
        {
          "output_type": "stream",
          "name": "stdout",
          "text": [
            "15555\n",
            "15550\n",
            "15552\n"
          ]
        },
        {
          "output_type": "stream",
          "name": "stderr",
          "text": [
            "\r 31%|███       | 2843/9172 [02:34<09:38, 10.94it/s]"
          ]
        },
        {
          "output_type": "stream",
          "name": "stdout",
          "text": [
            "15555\n",
            "15552\n",
            "15552\n"
          ]
        },
        {
          "output_type": "stream",
          "name": "stderr",
          "text": [
            " 31%|███       | 2851/9172 [02:35<05:40, 18.57it/s]"
          ]
        },
        {
          "output_type": "stream",
          "name": "stdout",
          "text": [
            "15555\n",
            "15552\n",
            "15557\n",
            "15552\n",
            "15555\n",
            "15555\n",
            "15547\n",
            "15555\n",
            "15555\n"
          ]
        },
        {
          "output_type": "stream",
          "name": "stderr",
          "text": [
            "\r 31%|███       | 2854/9172 [02:35<05:38, 18.69it/s]"
          ]
        },
        {
          "output_type": "stream",
          "name": "stdout",
          "text": [
            "15552\n",
            "15555\n",
            "15555\n"
          ]
        },
        {
          "output_type": "stream",
          "name": "stderr",
          "text": [
            "\r 31%|███       | 2857/9172 [02:35<07:14, 14.53it/s]"
          ]
        },
        {
          "output_type": "stream",
          "name": "stdout",
          "text": [
            "15557\n",
            "15547\n",
            "15559\n",
            "15559\n",
            "15562\n"
          ]
        },
        {
          "output_type": "stream",
          "name": "stderr",
          "text": [
            " 31%|███       | 2863/9172 [02:36<09:00, 11.67it/s]"
          ]
        },
        {
          "output_type": "stream",
          "name": "stdout",
          "text": [
            "15557\n",
            "15557\n",
            "15562\n",
            "15557\n"
          ]
        },
        {
          "output_type": "stream",
          "name": "stderr",
          "text": [
            " 31%|███▏      | 2867/9172 [02:36<10:53,  9.65it/s]"
          ]
        },
        {
          "output_type": "stream",
          "name": "stdout",
          "text": [
            "15564\n",
            "15559\n",
            "15559\n",
            "15557\n",
            "15559\n",
            "15559\n",
            "15559\n",
            "15557\n"
          ]
        },
        {
          "output_type": "stream",
          "name": "stderr",
          "text": [
            "\r 31%|███▏      | 2872/9172 [02:36<07:03, 14.88it/s]"
          ]
        },
        {
          "output_type": "stream",
          "name": "stdout",
          "text": [
            "15557\n"
          ]
        },
        {
          "output_type": "stream",
          "name": "stderr",
          "text": [
            "\r 31%|███▏      | 2875/9172 [02:37<10:04, 10.41it/s]"
          ]
        },
        {
          "output_type": "stream",
          "name": "stdout",
          "text": [
            "15557\n",
            "15564\n",
            "15562\n",
            "15567\n"
          ]
        },
        {
          "output_type": "stream",
          "name": "stderr",
          "text": [
            "\r 31%|███▏      | 2878/9172 [02:37<09:15, 11.33it/s]"
          ]
        },
        {
          "output_type": "stream",
          "name": "stdout",
          "text": [
            "15562\n"
          ]
        },
        {
          "output_type": "stream",
          "name": "stderr",
          "text": [
            "\r 31%|███▏      | 2880/9172 [02:38<11:50,  8.85it/s]"
          ]
        },
        {
          "output_type": "stream",
          "name": "stdout",
          "text": [
            "15564\n",
            "15562\n"
          ]
        },
        {
          "output_type": "stream",
          "name": "stderr",
          "text": [
            " 31%|███▏      | 2884/9172 [02:38<10:07, 10.35it/s]"
          ]
        },
        {
          "output_type": "stream",
          "name": "stdout",
          "text": [
            "15567\n",
            "15564\n",
            "15562\n",
            "15564\n"
          ]
        },
        {
          "output_type": "stream",
          "name": "stderr",
          "text": [
            "\r 31%|███▏      | 2886/9172 [02:38<10:53,  9.62it/s]"
          ]
        },
        {
          "output_type": "stream",
          "name": "stdout",
          "text": [
            "15567\n",
            "15567\n",
            "15569\n"
          ]
        },
        {
          "output_type": "stream",
          "name": "stderr",
          "text": [
            " 32%|███▏      | 2890/9172 [02:38<10:12, 10.26it/s]"
          ]
        },
        {
          "output_type": "stream",
          "name": "stdout",
          "text": [
            "15567\n",
            "15564\n",
            "15567\n"
          ]
        },
        {
          "output_type": "stream",
          "name": "stderr",
          "text": [
            "\r 32%|███▏      | 2892/9172 [02:39<15:16,  6.85it/s]"
          ]
        },
        {
          "output_type": "stream",
          "name": "stdout",
          "text": [
            "15567\n",
            "15562\n",
            "15567\n"
          ]
        },
        {
          "output_type": "stream",
          "name": "stderr",
          "text": [
            " 32%|███▏      | 2896/9172 [02:39<12:44,  8.21it/s]"
          ]
        },
        {
          "output_type": "stream",
          "name": "stdout",
          "text": [
            "15567\n",
            "15564\n",
            "15569\n",
            "15569\n"
          ]
        },
        {
          "output_type": "stream",
          "name": "stderr",
          "text": [
            "\r 32%|███▏      | 2899/9172 [02:40<09:47, 10.68it/s]"
          ]
        },
        {
          "output_type": "stream",
          "name": "stdout",
          "text": [
            "15564\n",
            "15564\n"
          ]
        },
        {
          "output_type": "stream",
          "name": "stderr",
          "text": [
            " 32%|███▏      | 2905/9172 [02:40<08:21, 12.49it/s]"
          ]
        },
        {
          "output_type": "stream",
          "name": "stdout",
          "text": [
            "15569\n",
            "15569\n",
            "15569\n",
            "15571\n",
            "15569\n",
            "15569\n",
            "15569\n",
            "15569\n",
            "15569\n"
          ]
        },
        {
          "output_type": "stream",
          "name": "stderr",
          "text": [
            " 32%|███▏      | 2911/9172 [02:41<08:32, 12.22it/s]"
          ]
        },
        {
          "output_type": "stream",
          "name": "stdout",
          "text": [
            "15569\n",
            "15571\n",
            "15574\n",
            "15574\n"
          ]
        },
        {
          "output_type": "stream",
          "name": "stderr",
          "text": [
            "\r 32%|███▏      | 2913/9172 [02:41<10:27,  9.98it/s]"
          ]
        },
        {
          "output_type": "stream",
          "name": "stdout",
          "text": [
            "15576\n",
            "15571\n",
            "15571\n",
            "15571\n"
          ]
        },
        {
          "output_type": "stream",
          "name": "stderr",
          "text": [
            " 32%|███▏      | 2919/9172 [02:41<07:17, 14.31it/s]"
          ]
        },
        {
          "output_type": "stream",
          "name": "stdout",
          "text": [
            "15571\n",
            "15571\n",
            "15571\n",
            "15571\n"
          ]
        },
        {
          "output_type": "stream",
          "name": "stderr",
          "text": [
            "\r 32%|███▏      | 2921/9172 [02:42<09:47, 10.64it/s]"
          ]
        },
        {
          "output_type": "stream",
          "name": "stdout",
          "text": [
            "15576\n",
            "15574\n",
            "15571\n",
            "15574\n",
            "15574\n"
          ]
        },
        {
          "output_type": "stream",
          "name": "stderr",
          "text": [
            " 32%|███▏      | 2928/9172 [02:42<07:42, 13.49it/s]"
          ]
        },
        {
          "output_type": "stream",
          "name": "stdout",
          "text": [
            "15576\n",
            "15574\n",
            "15579\n",
            "15574\n"
          ]
        },
        {
          "output_type": "stream",
          "name": "stderr",
          "text": [
            "\r 32%|███▏      | 2930/9172 [02:42<07:15, 14.34it/s]"
          ]
        },
        {
          "output_type": "stream",
          "name": "stdout",
          "text": [
            "15574\n",
            "15576\n",
            "15576\n"
          ]
        },
        {
          "output_type": "stream",
          "name": "stderr",
          "text": [
            " 32%|███▏      | 2935/9172 [02:42<07:57, 13.08it/s]"
          ]
        },
        {
          "output_type": "stream",
          "name": "stdout",
          "text": [
            "15579\n",
            "15576\n",
            "15579\n",
            "15579\n",
            "15576\n"
          ]
        },
        {
          "output_type": "stream",
          "name": "stderr",
          "text": [
            " 32%|███▏      | 2940/9172 [02:43<08:18, 12.51it/s]"
          ]
        },
        {
          "output_type": "stream",
          "name": "stdout",
          "text": [
            "15581\n",
            "15576\n",
            "15579\n"
          ]
        },
        {
          "output_type": "stream",
          "name": "stderr",
          "text": [
            "\r 32%|███▏      | 2943/9172 [02:43<06:53, 15.08it/s]"
          ]
        },
        {
          "output_type": "stream",
          "name": "stdout",
          "text": [
            "15579\n",
            "15579\n",
            "15584\n"
          ]
        },
        {
          "output_type": "stream",
          "name": "stderr",
          "text": [
            "\r 32%|███▏      | 2945/9172 [02:43<10:16, 10.10it/s]"
          ]
        },
        {
          "output_type": "stream",
          "name": "stdout",
          "text": [
            "15581\n",
            "15579\n",
            "15579\n"
          ]
        },
        {
          "output_type": "stream",
          "name": "stderr",
          "text": [
            "\r 32%|███▏      | 2947/9172 [02:44<13:43,  7.56it/s]"
          ]
        },
        {
          "output_type": "stream",
          "name": "stdout",
          "text": [
            "15581\n",
            "15581\n"
          ]
        },
        {
          "output_type": "stream",
          "name": "stderr",
          "text": [
            " 32%|███▏      | 2950/9172 [02:44<13:11,  7.86it/s]"
          ]
        },
        {
          "output_type": "stream",
          "name": "stdout",
          "text": [
            "15581\n",
            "15579\n",
            "15581\n",
            "15584\n",
            "15581\n"
          ]
        },
        {
          "output_type": "stream",
          "name": "stderr",
          "text": [
            " 32%|███▏      | 2958/9172 [02:45<08:36, 12.03it/s]"
          ]
        },
        {
          "output_type": "stream",
          "name": "stdout",
          "text": [
            "15584\n",
            "15584\n",
            "15584\n",
            "15587\n",
            "15584\n",
            "15581\n"
          ]
        },
        {
          "output_type": "stream",
          "name": "stderr",
          "text": [
            " 32%|███▏      | 2965/9172 [02:45<06:38, 15.58it/s]"
          ]
        },
        {
          "output_type": "stream",
          "name": "stdout",
          "text": [
            "15584\n",
            "15587\n",
            "15584\n",
            "15584\n",
            "15584\n",
            "15581\n"
          ]
        },
        {
          "output_type": "stream",
          "name": "stderr",
          "text": [
            "\r 32%|███▏      | 2968/9172 [02:45<06:18, 16.40it/s]"
          ]
        },
        {
          "output_type": "stream",
          "name": "stdout",
          "text": [
            "15584\n",
            "15589\n",
            "15589\n"
          ]
        },
        {
          "output_type": "stream",
          "name": "stderr",
          "text": [
            "\r 32%|███▏      | 2970/9172 [02:46<07:12, 14.35it/s]"
          ]
        },
        {
          "output_type": "stream",
          "name": "stdout",
          "text": [
            "15584\n",
            "15592\n"
          ]
        },
        {
          "output_type": "stream",
          "name": "stderr",
          "text": [
            " 32%|███▏      | 2977/9172 [02:46<06:12, 16.65it/s]"
          ]
        },
        {
          "output_type": "stream",
          "name": "stdout",
          "text": [
            "15587\n",
            "15594\n",
            "15587\n",
            "15592\n",
            "15587\n",
            "15589\n",
            "15589\n"
          ]
        },
        {
          "output_type": "stream",
          "name": "stderr",
          "text": [
            " 33%|███▎      | 2981/9172 [02:46<07:04, 14.59it/s]"
          ]
        },
        {
          "output_type": "stream",
          "name": "stdout",
          "text": [
            "15589\n",
            "15587\n",
            "15589\n",
            "15521\n"
          ]
        },
        {
          "output_type": "stream",
          "name": "stderr",
          "text": [
            " 33%|███▎      | 2986/9172 [02:47<06:36, 15.61it/s]"
          ]
        },
        {
          "output_type": "stream",
          "name": "stdout",
          "text": [
            "15587\n",
            "15587\n",
            "15592\n",
            "15592\n",
            "15594\n"
          ]
        },
        {
          "output_type": "stream",
          "name": "stderr",
          "text": [
            "\r 33%|███▎      | 2990/9172 [02:47<06:13, 16.53it/s]"
          ]
        },
        {
          "output_type": "stream",
          "name": "stdout",
          "text": [
            "15594\n",
            "15592\n",
            "15592\n",
            "15592\n"
          ]
        },
        {
          "output_type": "stream",
          "name": "stderr",
          "text": [
            "\r 33%|███▎      | 2992/9172 [02:47<08:06, 12.69it/s]"
          ]
        },
        {
          "output_type": "stream",
          "name": "stdout",
          "text": [
            "15597\n",
            "15594\n",
            "15599\n"
          ]
        },
        {
          "output_type": "stream",
          "name": "stderr",
          "text": [
            "\r 33%|███▎      | 2994/9172 [02:47<08:47, 11.70it/s]"
          ]
        },
        {
          "output_type": "stream",
          "name": "stdout",
          "text": [
            "15594\n",
            "15594\n"
          ]
        },
        {
          "output_type": "stream",
          "name": "stderr",
          "text": [
            " 33%|███▎      | 3000/9172 [02:48<08:08, 12.63it/s]"
          ]
        },
        {
          "output_type": "stream",
          "name": "stdout",
          "text": [
            "15599\n",
            "15597\n",
            "15597\n",
            "15597\n",
            "15597\n",
            "15594\n",
            "15601\n",
            "15594\n"
          ]
        },
        {
          "output_type": "stream",
          "name": "stderr",
          "text": [
            " 33%|███▎      | 3006/9172 [02:48<07:21, 13.96it/s]"
          ]
        },
        {
          "output_type": "stream",
          "name": "stdout",
          "text": [
            "15599\n",
            "15594\n",
            "15599\n",
            "15599\n",
            "15599\n"
          ]
        },
        {
          "output_type": "stream",
          "name": "stderr",
          "text": [
            "\r 33%|███▎      | 3009/9172 [02:48<06:29, 15.81it/s]"
          ]
        },
        {
          "output_type": "stream",
          "name": "stdout",
          "text": [
            "15597\n",
            "15597\n",
            "15597\n",
            "15601\n",
            "15604\n"
          ]
        },
        {
          "output_type": "stream",
          "name": "stderr",
          "text": [
            "\r 33%|███▎      | 3014/9172 [02:49<06:03, 16.94it/s]"
          ]
        },
        {
          "output_type": "stream",
          "name": "stdout",
          "text": [
            "15599\n",
            "15599\n"
          ]
        },
        {
          "output_type": "stream",
          "name": "stderr",
          "text": [
            " 33%|███▎      | 3019/9172 [02:49<06:27, 15.89it/s]"
          ]
        },
        {
          "output_type": "stream",
          "name": "stdout",
          "text": [
            "15607\n",
            "15601\n",
            "15604\n",
            "15601\n"
          ]
        },
        {
          "output_type": "stream",
          "name": "stderr",
          "text": [
            "\r 33%|███▎      | 3021/9172 [02:49<08:39, 11.85it/s]"
          ]
        },
        {
          "output_type": "stream",
          "name": "stdout",
          "text": [
            "15599\n",
            "15601\n",
            "15607\n",
            "15601\n"
          ]
        },
        {
          "output_type": "stream",
          "name": "stderr",
          "text": [
            "\r 33%|███▎      | 3024/9172 [02:50<09:53, 10.36it/s]"
          ]
        },
        {
          "output_type": "stream",
          "name": "stdout",
          "text": [
            "15601\n",
            "15607\n",
            "15607\n"
          ]
        },
        {
          "output_type": "stream",
          "name": "stderr",
          "text": [
            "\r 33%|███▎      | 3026/9172 [02:50<10:00, 10.24it/s]"
          ]
        },
        {
          "output_type": "stream",
          "name": "stdout",
          "text": [
            "15607\n",
            "15604\n",
            "15607\n"
          ]
        },
        {
          "output_type": "stream",
          "name": "stderr",
          "text": [
            " 33%|███▎      | 3032/9172 [02:50<09:02, 11.31it/s]"
          ]
        },
        {
          "output_type": "stream",
          "name": "stdout",
          "text": [
            "15610\n",
            "15610\n",
            "15607\n"
          ]
        },
        {
          "output_type": "stream",
          "name": "stderr",
          "text": [
            " 33%|███▎      | 3039/9172 [02:51<05:48, 17.59it/s]"
          ]
        },
        {
          "output_type": "stream",
          "name": "stdout",
          "text": [
            "15607\n",
            "15612\n",
            "15610\n",
            "15604\n",
            "15604\n",
            "15610\n",
            "15610\n",
            "15610\n",
            "15610\n"
          ]
        },
        {
          "output_type": "stream",
          "name": "stderr",
          "text": [
            " 33%|███▎      | 3044/9172 [02:51<07:56, 12.85it/s]"
          ]
        },
        {
          "output_type": "stream",
          "name": "stdout",
          "text": [
            "15614\n",
            "15612\n",
            "15612\n",
            "15614\n"
          ]
        },
        {
          "output_type": "stream",
          "name": "stderr",
          "text": [
            " 33%|███▎      | 3050/9172 [02:51<06:13, 16.38it/s]"
          ]
        },
        {
          "output_type": "stream",
          "name": "stdout",
          "text": [
            "15610\n",
            "15604\n",
            "15612\n",
            "15612\n",
            "15610\n"
          ]
        },
        {
          "output_type": "stream",
          "name": "stderr",
          "text": [
            "\r 33%|███▎      | 3053/9172 [02:52<06:13, 16.40it/s]"
          ]
        },
        {
          "output_type": "stream",
          "name": "stdout",
          "text": [
            "15617\n",
            "15612\n",
            "15523\n",
            "15612\n"
          ]
        },
        {
          "output_type": "stream",
          "name": "stderr",
          "text": [
            " 33%|███▎      | 3058/9172 [02:52<05:56, 17.14it/s]"
          ]
        },
        {
          "output_type": "stream",
          "name": "stdout",
          "text": [
            "15614\n",
            "15612\n",
            "15614\n",
            "15612\n",
            "15614\n"
          ]
        },
        {
          "output_type": "stream",
          "name": "stderr",
          "text": [
            " 33%|███▎      | 3065/9172 [02:52<06:12, 16.37it/s]"
          ]
        },
        {
          "output_type": "stream",
          "name": "stdout",
          "text": [
            "15614\n",
            "15619\n",
            "15617\n",
            "15617\n",
            "15617\n",
            "15614\n",
            "15614\n",
            "15617\n"
          ]
        },
        {
          "output_type": "stream",
          "name": "stderr",
          "text": [
            "\r 33%|███▎      | 3068/9172 [02:53<06:25, 15.83it/s]"
          ]
        },
        {
          "output_type": "stream",
          "name": "stdout",
          "text": [
            "15617\n",
            "15617\n",
            "15617\n",
            "15617\n",
            "15617\n",
            "15617\n",
            "15619\n",
            "15622\n"
          ]
        },
        {
          "output_type": "stream",
          "name": "stderr",
          "text": [
            " 34%|███▎      | 3079/9172 [02:53<04:50, 21.00it/s]"
          ]
        },
        {
          "output_type": "stream",
          "name": "stdout",
          "text": [
            "15617\n",
            "15617\n",
            "15617\n",
            "15617\n",
            "15624\n",
            "15622\n"
          ]
        },
        {
          "output_type": "stream",
          "name": "stderr",
          "text": [
            " 34%|███▎      | 3088/9172 [02:53<04:37, 21.92it/s]"
          ]
        },
        {
          "output_type": "stream",
          "name": "stdout",
          "text": [
            "15617\n",
            "15619\n",
            "15619\n",
            "15619\n",
            "15622\n",
            "15619\n",
            "15622\n"
          ]
        },
        {
          "output_type": "stream",
          "name": "stderr",
          "text": [
            "\r 34%|███▎      | 3093/9172 [02:54<04:25, 22.94it/s]"
          ]
        },
        {
          "output_type": "stream",
          "name": "stdout",
          "text": [
            "15624\n",
            "15619\n",
            "15622\n",
            "15626\n",
            "15624\n"
          ]
        },
        {
          "output_type": "stream",
          "name": "stderr",
          "text": [
            "\r 34%|███▍      | 3096/9172 [02:54<04:22, 23.18it/s]"
          ]
        },
        {
          "output_type": "stream",
          "name": "stdout",
          "text": [
            "15622\n",
            "15622\n",
            "15626\n",
            "15622\n",
            "15624\n"
          ]
        },
        {
          "output_type": "stream",
          "name": "stderr",
          "text": [
            " 34%|███▍      | 3104/9172 [02:54<04:38, 21.76it/s]"
          ]
        },
        {
          "output_type": "stream",
          "name": "stdout",
          "text": [
            "15624\n",
            "15624\n",
            "15624\n",
            "15619\n",
            "15624\n",
            "15629\n",
            "15626\n"
          ]
        },
        {
          "output_type": "stream",
          "name": "stderr",
          "text": [
            " 34%|███▍      | 3111/9172 [02:54<04:14, 23.85it/s]"
          ]
        },
        {
          "output_type": "stream",
          "name": "stdout",
          "text": [
            "15626\n",
            "15626\n",
            "15626\n",
            "15631\n",
            "15629\n",
            "15624\n",
            "15626\n",
            "15629\n"
          ]
        },
        {
          "output_type": "stream",
          "name": "stderr",
          "text": [
            " 34%|███▍      | 3118/9172 [02:55<04:09, 24.23it/s]"
          ]
        },
        {
          "output_type": "stream",
          "name": "stdout",
          "text": [
            "15629\n",
            "15629\n",
            "15629\n",
            "15629\n",
            "15631\n",
            "15629\n",
            "15629\n"
          ]
        },
        {
          "output_type": "stream",
          "name": "stderr",
          "text": [
            " 34%|███▍      | 3124/9172 [02:55<05:15, 19.15it/s]"
          ]
        },
        {
          "output_type": "stream",
          "name": "stdout",
          "text": [
            "15631\n",
            "15631\n",
            "15629\n",
            "15634\n",
            "15631\n",
            "15638\n",
            "15631\n"
          ]
        },
        {
          "output_type": "stream",
          "name": "stderr",
          "text": [
            " 34%|███▍      | 3131/9172 [02:55<04:38, 21.71it/s]"
          ]
        },
        {
          "output_type": "stream",
          "name": "stdout",
          "text": [
            "15631\n",
            "15634\n",
            "15631\n",
            "15631\n",
            "15631\n"
          ]
        },
        {
          "output_type": "stream",
          "name": "stderr",
          "text": [
            "\r 34%|███▍      | 3134/9172 [02:56<04:57, 20.28it/s]"
          ]
        },
        {
          "output_type": "stream",
          "name": "stdout",
          "text": [
            "15638\n",
            "15634\n",
            "15634\n",
            "15634\n",
            "15634\n"
          ]
        },
        {
          "output_type": "stream",
          "name": "stderr",
          "text": [
            " 34%|███▍      | 3143/9172 [02:56<03:59, 25.15it/s]"
          ]
        },
        {
          "output_type": "stream",
          "name": "stdout",
          "text": [
            "15640\n",
            "15634\n",
            "15638\n",
            "15634\n",
            "15638\n",
            "15634\n",
            "15634\n",
            "15638\n",
            "15638\n",
            "15640\n"
          ]
        },
        {
          "output_type": "stream",
          "name": "stderr",
          "text": [
            "\r 34%|███▍      | 3149/9172 [02:56<03:40, 27.30it/s]"
          ]
        },
        {
          "output_type": "stream",
          "name": "stdout",
          "text": [
            "15638\n",
            "15643\n",
            "15638\n",
            "15643\n"
          ]
        },
        {
          "output_type": "stream",
          "name": "stderr",
          "text": [
            "\r 34%|███▍      | 3152/9172 [02:56<04:49, 20.80it/s]"
          ]
        },
        {
          "output_type": "stream",
          "name": "stdout",
          "text": [
            "15648\n",
            "15640\n"
          ]
        },
        {
          "output_type": "stream",
          "name": "stderr",
          "text": [
            " 34%|███▍      | 3157/9172 [02:57<05:40, 17.67it/s]"
          ]
        },
        {
          "output_type": "stream",
          "name": "stdout",
          "text": [
            "15643\n",
            "15648\n",
            "15643\n",
            "15651\n",
            "15640\n"
          ]
        },
        {
          "output_type": "stream",
          "name": "stderr",
          "text": [
            " 35%|███▍      | 3166/9172 [02:57<03:50, 26.03it/s]"
          ]
        },
        {
          "output_type": "stream",
          "name": "stdout",
          "text": [
            "15640\n",
            "15640\n",
            "15643\n",
            "15643\n",
            "15643\n",
            "15643\n",
            "15648\n",
            "15643\n",
            "15648\n"
          ]
        },
        {
          "output_type": "stream",
          "name": "stderr",
          "text": [
            " 35%|███▍      | 3173/9172 [02:57<04:07, 24.26it/s]"
          ]
        },
        {
          "output_type": "stream",
          "name": "stdout",
          "text": [
            "15648\n",
            "15640\n",
            "15654\n",
            "15651\n",
            "15648\n",
            "15640\n"
          ]
        },
        {
          "output_type": "stream",
          "name": "stderr",
          "text": [
            "\r 35%|███▍      | 3176/9172 [02:57<04:36, 21.68it/s]"
          ]
        },
        {
          "output_type": "stream",
          "name": "stdout",
          "text": [
            "15654\n",
            "15651\n",
            "15640\n",
            "15648\n",
            "15658\n",
            "15651\n"
          ]
        },
        {
          "output_type": "stream",
          "name": "stderr",
          "text": [
            " 35%|███▍      | 3184/9172 [02:58<04:56, 20.21it/s]"
          ]
        },
        {
          "output_type": "stream",
          "name": "stdout",
          "text": [
            "15658\n",
            "15651\n",
            "15651\n",
            "15651\n",
            "15654\n",
            "15651\n"
          ]
        },
        {
          "output_type": "stream",
          "name": "stderr",
          "text": [
            "\r 35%|███▍      | 3187/9172 [02:58<04:54, 20.30it/s]"
          ]
        },
        {
          "output_type": "stream",
          "name": "stdout",
          "text": [
            "15654\n",
            "15658\n",
            "15658\n",
            "15654\n",
            "15654\n",
            "15654\n"
          ]
        },
        {
          "output_type": "stream",
          "name": "stderr",
          "text": [
            " 35%|███▍      | 3196/9172 [02:58<04:23, 22.67it/s]"
          ]
        },
        {
          "output_type": "stream",
          "name": "stdout",
          "text": [
            "15658\n",
            "15662\n",
            "15651\n",
            "15658\n",
            "15654\n"
          ]
        },
        {
          "output_type": "stream",
          "name": "stderr",
          "text": [
            "\r 35%|███▍      | 3199/9172 [02:59<04:46, 20.84it/s]"
          ]
        },
        {
          "output_type": "stream",
          "name": "stdout",
          "text": [
            "15658\n",
            "15658\n",
            "15658\n",
            "15658\n",
            "15662\n",
            "15658\n",
            "15662\n",
            "15665\n"
          ]
        },
        {
          "output_type": "stream",
          "name": "stderr",
          "text": [
            " 35%|███▍      | 3208/9172 [02:59<04:18, 23.06it/s]"
          ]
        },
        {
          "output_type": "stream",
          "name": "stdout",
          "text": [
            "15665\n",
            "15662\n",
            "15658\n",
            "15662\n",
            "15658\n",
            "15668\n"
          ]
        },
        {
          "output_type": "stream",
          "name": "stderr",
          "text": [
            "\r 35%|███▌      | 3211/9172 [02:59<04:16, 23.27it/s]"
          ]
        },
        {
          "output_type": "stream",
          "name": "stdout",
          "text": [
            "15665\n",
            "15662\n",
            "15662\n"
          ]
        },
        {
          "output_type": "stream",
          "name": "stderr",
          "text": [
            " 35%|███▌      | 3218/9172 [02:59<04:21, 22.73it/s]"
          ]
        },
        {
          "output_type": "stream",
          "name": "stdout",
          "text": [
            "15662\n",
            "15668\n",
            "15662\n",
            "15672\n",
            "15665\n",
            "15665\n",
            "15665\n"
          ]
        },
        {
          "output_type": "stream",
          "name": "stderr",
          "text": [
            "\r 35%|███▌      | 3221/9172 [03:00<05:01, 19.76it/s]"
          ]
        },
        {
          "output_type": "stream",
          "name": "stdout",
          "text": [
            "15665\n",
            "15672\n",
            "15668\n"
          ]
        },
        {
          "output_type": "stream",
          "name": "stderr",
          "text": [
            " 35%|███▌      | 3226/9172 [03:00<05:54, 16.79it/s]"
          ]
        },
        {
          "output_type": "stream",
          "name": "stdout",
          "text": [
            "15668\n",
            "15668\n",
            "15665\n",
            "15668\n",
            "15668\n"
          ]
        },
        {
          "output_type": "stream",
          "name": "stderr",
          "text": [
            " 35%|███▌      | 3232/9172 [03:00<04:56, 20.06it/s]"
          ]
        },
        {
          "output_type": "stream",
          "name": "stdout",
          "text": [
            "15668\n",
            "15665\n",
            "15672\n",
            "15672\n",
            "15672\n"
          ]
        },
        {
          "output_type": "stream",
          "name": "stderr",
          "text": [
            " 35%|███▌      | 3241/9172 [03:01<03:53, 25.37it/s]"
          ]
        },
        {
          "output_type": "stream",
          "name": "stdout",
          "text": [
            "15675\n",
            "15672\n",
            "15675\n",
            "15672\n",
            "15675\n",
            "15675\n",
            "15678\n",
            "15672\n"
          ]
        },
        {
          "output_type": "stream",
          "name": "stderr",
          "text": [
            " 35%|███▌      | 3248/9172 [03:01<03:40, 26.91it/s]"
          ]
        },
        {
          "output_type": "stream",
          "name": "stdout",
          "text": [
            "15675\n",
            "15675\n",
            "15672\n",
            "15675\n",
            "15675\n",
            "15678\n",
            "15675\n"
          ]
        },
        {
          "output_type": "stream",
          "name": "stderr",
          "text": [
            "\r 35%|███▌      | 3251/9172 [03:01<04:17, 23.04it/s]"
          ]
        },
        {
          "output_type": "stream",
          "name": "stdout",
          "text": [
            "15678\n",
            "15678\n",
            "15682\n",
            "15675\n",
            "15678\n"
          ]
        },
        {
          "output_type": "stream",
          "name": "stderr",
          "text": [
            " 36%|███▌      | 3257/9172 [03:02<05:50, 16.89it/s]"
          ]
        },
        {
          "output_type": "stream",
          "name": "stdout",
          "text": [
            "15678\n",
            "15678\n",
            "15678\n",
            "15678\n",
            "15678\n"
          ]
        },
        {
          "output_type": "stream",
          "name": "stderr",
          "text": [
            " 36%|███▌      | 3265/9172 [03:02<04:55, 20.00it/s]"
          ]
        },
        {
          "output_type": "stream",
          "name": "stdout",
          "text": [
            "15682\n",
            "15678\n",
            "15678\n",
            "15678\n",
            "15678\n",
            "15678\n",
            "15678\n"
          ]
        },
        {
          "output_type": "stream",
          "name": "stderr",
          "text": [
            "\r 36%|███▌      | 3269/9172 [03:02<04:09, 23.62it/s]"
          ]
        },
        {
          "output_type": "stream",
          "name": "stdout",
          "text": [
            "15678\n",
            "15682\n",
            "15686\n",
            "15682\n",
            "15682\n",
            "15682\n",
            "15682\n",
            "15682\n"
          ]
        },
        {
          "output_type": "stream",
          "name": "stderr",
          "text": [
            "\r 36%|███▌      | 3274/9172 [03:02<04:03, 24.27it/s]"
          ]
        },
        {
          "output_type": "stream",
          "name": "stdout",
          "text": [
            "15686\n"
          ]
        },
        {
          "output_type": "stream",
          "name": "stderr",
          "text": [
            "\r 36%|███▌      | 3277/9172 [03:03<07:47, 12.61it/s]"
          ]
        },
        {
          "output_type": "stream",
          "name": "stdout",
          "text": [
            "15689\n",
            "15686\n",
            "15682\n",
            "15686\n",
            "15686\n"
          ]
        },
        {
          "output_type": "stream",
          "name": "stderr",
          "text": [
            " 36%|███▌      | 3282/9172 [03:03<09:24, 10.44it/s]"
          ]
        },
        {
          "output_type": "stream",
          "name": "stdout",
          "text": [
            "15686\n",
            "15686\n",
            "15686\n",
            "15686\n",
            "15686\n",
            "15686\n",
            "15686\n"
          ]
        },
        {
          "output_type": "stream",
          "name": "stderr",
          "text": [
            " 36%|███▌      | 3289/9172 [03:04<07:20, 13.36it/s]"
          ]
        },
        {
          "output_type": "stream",
          "name": "stdout",
          "text": [
            "15689\n",
            "15686\n",
            "15689\n",
            "15689\n",
            "15686\n"
          ]
        },
        {
          "output_type": "stream",
          "name": "stderr",
          "text": [
            "\r 36%|███▌      | 3293/9172 [03:04<06:16, 15.61it/s]"
          ]
        },
        {
          "output_type": "stream",
          "name": "stdout",
          "text": [
            "15693\n",
            "15686\n"
          ]
        },
        {
          "output_type": "stream",
          "name": "stderr",
          "text": [
            "\r 36%|███▌      | 3295/9172 [03:04<09:12, 10.63it/s]"
          ]
        },
        {
          "output_type": "stream",
          "name": "stdout",
          "text": [
            "15693\n",
            "15697\n",
            "15689\n",
            "15689\n"
          ]
        },
        {
          "output_type": "stream",
          "name": "stderr",
          "text": [
            "\r 36%|███▌      | 3298/9172 [03:05<07:54, 12.38it/s]"
          ]
        },
        {
          "output_type": "stream",
          "name": "stdout",
          "text": [
            "15689\n"
          ]
        },
        {
          "output_type": "stream",
          "name": "stderr",
          "text": [
            "\r 36%|███▌      | 3300/9172 [03:05<09:27, 10.35it/s]"
          ]
        },
        {
          "output_type": "stream",
          "name": "stdout",
          "text": [
            "15689\n",
            "15689\n",
            "15693\n"
          ]
        },
        {
          "output_type": "stream",
          "name": "stderr",
          "text": [
            " 36%|███▌      | 3306/9172 [03:05<07:10, 13.64it/s]"
          ]
        },
        {
          "output_type": "stream",
          "name": "stdout",
          "text": [
            "15689\n",
            "15693\n",
            "15697\n",
            "15693\n",
            "15693\n"
          ]
        },
        {
          "output_type": "stream",
          "name": "stderr",
          "text": [
            "\r 36%|███▌      | 3308/9172 [03:05<07:29, 13.03it/s]"
          ]
        },
        {
          "output_type": "stream",
          "name": "stdout",
          "text": [
            "15697\n",
            "15697\n",
            "15703\n",
            "15693\n",
            "15697\n"
          ]
        },
        {
          "output_type": "stream",
          "name": "stderr",
          "text": [
            " 36%|███▌      | 3316/9172 [03:06<06:04, 16.07it/s]"
          ]
        },
        {
          "output_type": "stream",
          "name": "stdout",
          "text": [
            "15697\n",
            "15697\n",
            "15703\n",
            "15693\n",
            "15697\n",
            "15697\n"
          ]
        },
        {
          "output_type": "stream",
          "name": "stderr",
          "text": [
            "\r 36%|███▌      | 3318/9172 [03:06<06:10, 15.78it/s]"
          ]
        },
        {
          "output_type": "stream",
          "name": "stdout",
          "text": [
            "15697\n",
            "15707\n",
            "15703\n"
          ]
        },
        {
          "output_type": "stream",
          "name": "stderr",
          "text": [
            " 36%|███▌      | 3324/9172 [03:07<07:21, 13.25it/s]"
          ]
        },
        {
          "output_type": "stream",
          "name": "stdout",
          "text": [
            "15707\n",
            "15703\n",
            "15703\n",
            "15710\n",
            "15703\n",
            "15703\n"
          ]
        },
        {
          "output_type": "stream",
          "name": "stderr",
          "text": [
            " 36%|███▋      | 3329/9172 [03:07<06:36, 14.73it/s]"
          ]
        },
        {
          "output_type": "stream",
          "name": "stdout",
          "text": [
            "15707\n",
            "15703\n",
            "15703\n",
            "15703\n"
          ]
        },
        {
          "output_type": "stream",
          "name": "stderr",
          "text": [
            " 36%|███▋      | 3333/9172 [03:07<08:19, 11.69it/s]"
          ]
        },
        {
          "output_type": "stream",
          "name": "stdout",
          "text": [
            "15707\n",
            "15707\n",
            "15707\n",
            "15710\n",
            "15707\n",
            "15713\n"
          ]
        },
        {
          "output_type": "stream",
          "name": "stderr",
          "text": [
            "\r 36%|███▋      | 3337/9172 [03:07<06:02, 16.09it/s]"
          ]
        },
        {
          "output_type": "stream",
          "name": "stdout",
          "text": [
            "15707\n",
            "15707\n",
            "15707\n"
          ]
        },
        {
          "output_type": "stream",
          "name": "stderr",
          "text": [
            " 36%|███▋      | 3342/9172 [03:08<08:24, 11.56it/s]"
          ]
        },
        {
          "output_type": "stream",
          "name": "stdout",
          "text": [
            "15710\n",
            "15713\n",
            "15710\n"
          ]
        },
        {
          "output_type": "stream",
          "name": "stderr",
          "text": [
            " 36%|███▋      | 3347/9172 [03:08<06:40, 14.53it/s]"
          ]
        },
        {
          "output_type": "stream",
          "name": "stdout",
          "text": [
            "15710\n",
            "15710\n",
            "15710\n",
            "15710\n",
            "15713\n"
          ]
        },
        {
          "output_type": "stream",
          "name": "stderr",
          "text": [
            "\r 37%|███▋      | 3349/9172 [03:09<07:20, 13.21it/s]"
          ]
        },
        {
          "output_type": "stream",
          "name": "stdout",
          "text": [
            "15713\n",
            "15710\n",
            "15658\n"
          ]
        },
        {
          "output_type": "stream",
          "name": "stderr",
          "text": [
            " 37%|███▋      | 3354/9172 [03:09<06:52, 14.12it/s]"
          ]
        },
        {
          "output_type": "stream",
          "name": "stdout",
          "text": [
            "15713\n",
            "15717\n",
            "15713\n",
            "15717\n",
            "15717\n",
            "15713\n",
            "15721\n",
            "15713\n",
            "15717\n"
          ]
        },
        {
          "output_type": "stream",
          "name": "stderr",
          "text": [
            "\r 37%|███▋      | 3360/9172 [03:09<07:03, 13.72it/s]"
          ]
        },
        {
          "output_type": "stream",
          "name": "stdout",
          "text": [
            "15717\n",
            "15717\n"
          ]
        },
        {
          "output_type": "stream",
          "name": "stderr",
          "text": [
            " 37%|███▋      | 3367/9172 [03:10<05:59, 16.14it/s]"
          ]
        },
        {
          "output_type": "stream",
          "name": "stdout",
          "text": [
            "15717\n",
            "15724\n",
            "15721\n",
            "15717\n",
            "15717\n",
            "15717\n",
            "15717\n"
          ]
        },
        {
          "output_type": "stream",
          "name": "stderr",
          "text": [
            " 37%|███▋      | 3371/9172 [03:10<07:56, 12.17it/s]"
          ]
        },
        {
          "output_type": "stream",
          "name": "stdout",
          "text": [
            "15721\n",
            "15721\n",
            "15721\n",
            "15717\n",
            "15721\n"
          ]
        },
        {
          "output_type": "stream",
          "name": "stderr",
          "text": [
            " 37%|███▋      | 3376/9172 [03:11<06:36, 14.63it/s]"
          ]
        },
        {
          "output_type": "stream",
          "name": "stdout",
          "text": [
            "15721\n",
            "15721\n",
            "15721\n"
          ]
        },
        {
          "output_type": "stream",
          "name": "stderr",
          "text": [
            "\r 37%|███▋      | 3378/9172 [03:11<07:50, 12.31it/s]"
          ]
        },
        {
          "output_type": "stream",
          "name": "stdout",
          "text": [
            "15727\n",
            "15724\n"
          ]
        },
        {
          "output_type": "stream",
          "name": "stderr",
          "text": [
            "\r 37%|███▋      | 3380/9172 [03:11<08:03, 11.97it/s]"
          ]
        },
        {
          "output_type": "stream",
          "name": "stdout",
          "text": [
            "15724\n",
            "15724\n",
            "15727\n"
          ]
        },
        {
          "output_type": "stream",
          "name": "stderr",
          "text": [
            " 37%|███▋      | 3385/9172 [03:11<07:24, 13.01it/s]"
          ]
        },
        {
          "output_type": "stream",
          "name": "stdout",
          "text": [
            "15724\n",
            "15724\n",
            "15724\n",
            "15724\n"
          ]
        },
        {
          "output_type": "stream",
          "name": "stderr",
          "text": [
            "\r 37%|███▋      | 3388/9172 [03:11<06:14, 15.44it/s]"
          ]
        },
        {
          "output_type": "stream",
          "name": "stdout",
          "text": [
            "15729\n",
            "15724\n",
            "15727\n",
            "15724\n"
          ]
        },
        {
          "output_type": "stream",
          "name": "stderr",
          "text": [
            " 37%|███▋      | 3392/9172 [03:12<06:53, 13.99it/s]"
          ]
        },
        {
          "output_type": "stream",
          "name": "stdout",
          "text": [
            "15724\n",
            "15724\n",
            "15727\n"
          ]
        },
        {
          "output_type": "stream",
          "name": "stderr",
          "text": [
            "\r 37%|███▋      | 3394/9172 [03:12<06:41, 14.40it/s]"
          ]
        },
        {
          "output_type": "stream",
          "name": "stdout",
          "text": [
            "15729\n",
            "15732\n",
            "15727\n"
          ]
        },
        {
          "output_type": "stream",
          "name": "stderr",
          "text": [
            " 37%|███▋      | 3398/9172 [03:12<07:52, 12.21it/s]"
          ]
        },
        {
          "output_type": "stream",
          "name": "stdout",
          "text": [
            "15727\n",
            "15724\n",
            "15732\n"
          ]
        },
        {
          "output_type": "stream",
          "name": "stderr",
          "text": [
            "\r 37%|███▋      | 3400/9172 [03:12<07:24, 12.99it/s]"
          ]
        },
        {
          "output_type": "stream",
          "name": "stdout",
          "text": [
            "15729\n",
            "15739\n",
            "15727\n"
          ]
        },
        {
          "output_type": "stream",
          "name": "stderr",
          "text": [
            " 37%|███▋      | 3404/9172 [03:13<07:51, 12.22it/s]"
          ]
        },
        {
          "output_type": "stream",
          "name": "stdout",
          "text": [
            "15729\n",
            "15729\n",
            "15732\n",
            "15729\n",
            "15732\n"
          ]
        },
        {
          "output_type": "stream",
          "name": "stderr",
          "text": [
            " 37%|███▋      | 3409/9172 [03:13<07:14, 13.26it/s]"
          ]
        },
        {
          "output_type": "stream",
          "name": "stdout",
          "text": [
            "15732\n",
            "15739\n",
            "15732\n",
            "15742\n"
          ]
        },
        {
          "output_type": "stream",
          "name": "stderr",
          "text": [
            " 37%|███▋      | 3413/9172 [03:14<07:12, 13.31it/s]"
          ]
        },
        {
          "output_type": "stream",
          "name": "stdout",
          "text": [
            "15739\n",
            "15739\n",
            "15739\n",
            "15729\n"
          ]
        },
        {
          "output_type": "stream",
          "name": "stderr",
          "text": [
            " 37%|███▋      | 3418/9172 [03:14<07:04, 13.56it/s]"
          ]
        },
        {
          "output_type": "stream",
          "name": "stdout",
          "text": [
            "15739\n",
            "15739\n",
            "15732\n",
            "15739\n",
            "15732\n"
          ]
        },
        {
          "output_type": "stream",
          "name": "stderr",
          "text": [
            "\r 37%|███▋      | 3421/9172 [03:14<06:24, 14.96it/s]"
          ]
        },
        {
          "output_type": "stream",
          "name": "stdout",
          "text": [
            "15742\n",
            "15739\n"
          ]
        },
        {
          "output_type": "stream",
          "name": "stderr",
          "text": [
            "\r 37%|███▋      | 3423/9172 [03:14<10:09,  9.44it/s]"
          ]
        },
        {
          "output_type": "stream",
          "name": "stdout",
          "text": [
            "15742\n",
            "15742\n",
            "15742\n",
            "15745\n",
            "15742\n"
          ]
        },
        {
          "output_type": "stream",
          "name": "stderr",
          "text": [
            "\r 37%|███▋      | 3427/9172 [03:15<07:59, 11.99it/s]"
          ]
        },
        {
          "output_type": "stream",
          "name": "stdout",
          "text": [
            "15742\n"
          ]
        },
        {
          "output_type": "stream",
          "name": "stderr",
          "text": [
            "\r 37%|███▋      | 3429/9172 [03:15<10:15,  9.33it/s]"
          ]
        },
        {
          "output_type": "stream",
          "name": "stdout",
          "text": [
            "15745\n",
            "15742\n",
            "15748\n"
          ]
        },
        {
          "output_type": "stream",
          "name": "stderr",
          "text": [
            " 37%|███▋      | 3433/9172 [03:16<10:24,  9.19it/s]"
          ]
        },
        {
          "output_type": "stream",
          "name": "stdout",
          "text": [
            "15686\n",
            "15742\n",
            "15742\n"
          ]
        },
        {
          "output_type": "stream",
          "name": "stderr",
          "text": [
            "\r 37%|███▋      | 3435/9172 [03:16<09:17, 10.30it/s]"
          ]
        },
        {
          "output_type": "stream",
          "name": "stdout",
          "text": [
            "15745\n",
            "15742\n",
            "15742\n",
            "15742\n",
            "15742\n"
          ]
        },
        {
          "output_type": "stream",
          "name": "stderr",
          "text": [
            "\r 37%|███▋      | 3439/9172 [03:16<08:04, 11.83it/s]"
          ]
        },
        {
          "output_type": "stream",
          "name": "stdout",
          "text": [
            "15745\n",
            "15745\n"
          ]
        },
        {
          "output_type": "stream",
          "name": "stderr",
          "text": [
            "\r 38%|███▊      | 3441/9172 [03:16<08:35, 11.11it/s]"
          ]
        },
        {
          "output_type": "stream",
          "name": "stdout",
          "text": [
            "15748\n",
            "15745\n",
            "15752\n",
            "15742\n"
          ]
        },
        {
          "output_type": "stream",
          "name": "stderr",
          "text": [
            " 38%|███▊      | 3448/9172 [03:17<06:35, 14.49it/s]"
          ]
        },
        {
          "output_type": "stream",
          "name": "stdout",
          "text": [
            "15752\n",
            "15748\n",
            "15748\n",
            "15745\n",
            "15756\n",
            "15678\n"
          ]
        },
        {
          "output_type": "stream",
          "name": "stderr",
          "text": [
            " 38%|███▊      | 3454/9172 [03:17<05:26, 17.52it/s]"
          ]
        },
        {
          "output_type": "stream",
          "name": "stdout",
          "text": [
            "15748\n",
            "15752\n",
            "15748\n",
            "15752\n",
            "15748\n"
          ]
        },
        {
          "output_type": "stream",
          "name": "stderr",
          "text": [
            " 38%|███▊      | 3458/9172 [03:17<06:50, 13.90it/s]"
          ]
        },
        {
          "output_type": "stream",
          "name": "stdout",
          "text": [
            "15756\n",
            "15748\n",
            "15759\n",
            "15752\n",
            "15752\n"
          ]
        },
        {
          "output_type": "stream",
          "name": "stderr",
          "text": [
            " 38%|███▊      | 3463/9172 [03:18<06:33, 14.51it/s]"
          ]
        },
        {
          "output_type": "stream",
          "name": "stdout",
          "text": [
            "15748\n",
            "15756\n",
            "15756\n",
            "15756\n",
            "15752\n"
          ]
        },
        {
          "output_type": "stream",
          "name": "stderr",
          "text": [
            "\r 38%|███▊      | 3466/9172 [03:18<05:33, 17.11it/s]"
          ]
        },
        {
          "output_type": "stream",
          "name": "stdout",
          "text": [
            "15756\n",
            "15759\n"
          ]
        },
        {
          "output_type": "stream",
          "name": "stderr",
          "text": [
            " 38%|███▊      | 3470/9172 [03:18<07:50, 12.13it/s]"
          ]
        },
        {
          "output_type": "stream",
          "name": "stdout",
          "text": [
            "15756\n",
            "15759\n",
            "15756\n"
          ]
        },
        {
          "output_type": "stream",
          "name": "stderr",
          "text": [
            "\r 38%|███▊      | 3474/9172 [03:18<05:55, 16.04it/s]"
          ]
        },
        {
          "output_type": "stream",
          "name": "stdout",
          "text": [
            "15752\n",
            "15756\n",
            "15759\n",
            "15759\n",
            "15756\n"
          ]
        },
        {
          "output_type": "stream",
          "name": "stderr",
          "text": [
            "\r 38%|███▊      | 3476/9172 [03:18<06:11, 15.35it/s]"
          ]
        },
        {
          "output_type": "stream",
          "name": "stdout",
          "text": [
            "15759\n",
            "15762\n",
            "15759\n"
          ]
        },
        {
          "output_type": "stream",
          "name": "stderr",
          "text": [
            " 38%|███▊      | 3482/9172 [03:19<06:25, 14.75it/s]"
          ]
        },
        {
          "output_type": "stream",
          "name": "stdout",
          "text": [
            "15762\n",
            "15762\n",
            "15762\n",
            "15759\n"
          ]
        },
        {
          "output_type": "stream",
          "name": "stderr",
          "text": [
            "\r 38%|███▊      | 3486/9172 [03:19<05:28, 17.30it/s]"
          ]
        },
        {
          "output_type": "stream",
          "name": "stdout",
          "text": [
            "15762\n",
            "15773\n",
            "15762\n",
            "15759\n",
            "15777\n"
          ]
        },
        {
          "output_type": "stream",
          "name": "stderr",
          "text": [
            " 38%|███▊      | 3493/9172 [03:19<04:22, 21.61it/s]"
          ]
        },
        {
          "output_type": "stream",
          "name": "stdout",
          "text": [
            "15773\n",
            "15773\n",
            "15773\n",
            "15762\n",
            "15762\n",
            "15773\n",
            "15773\n",
            "15773\n",
            "15773\n"
          ]
        },
        {
          "output_type": "stream",
          "name": "stderr",
          "text": [
            " 38%|███▊      | 3500/9172 [03:20<04:28, 21.10it/s]"
          ]
        },
        {
          "output_type": "stream",
          "name": "stdout",
          "text": [
            "15773\n",
            "15780\n",
            "15777\n",
            "15773\n"
          ]
        },
        {
          "output_type": "stream",
          "name": "stderr",
          "text": [
            " 38%|███▊      | 3506/9172 [03:20<04:33, 20.71it/s]"
          ]
        },
        {
          "output_type": "stream",
          "name": "stdout",
          "text": [
            "15783\n",
            "15777\n",
            "15777\n",
            "15780\n",
            "15777\n",
            "15777\n",
            "15777\n"
          ]
        },
        {
          "output_type": "stream",
          "name": "stderr",
          "text": [
            "\r 38%|███▊      | 3509/9172 [03:20<04:56, 19.09it/s]"
          ]
        },
        {
          "output_type": "stream",
          "name": "stdout",
          "text": [
            "15777\n",
            "15783\n"
          ]
        },
        {
          "output_type": "stream",
          "name": "stderr",
          "text": [
            "\r 38%|███▊      | 3512/9172 [03:20<05:54, 15.96it/s]"
          ]
        },
        {
          "output_type": "stream",
          "name": "stdout",
          "text": [
            "15780\n",
            "15777\n",
            "15777\n"
          ]
        },
        {
          "output_type": "stream",
          "name": "stderr",
          "text": [
            " 38%|███▊      | 3517/9172 [03:21<05:53, 15.98it/s]"
          ]
        },
        {
          "output_type": "stream",
          "name": "stdout",
          "text": [
            "15780\n",
            "15783\n",
            "15780\n",
            "15780\n",
            "15780\n"
          ]
        },
        {
          "output_type": "stream",
          "name": "stderr",
          "text": [
            " 38%|███▊      | 3522/9172 [03:21<05:17, 17.78it/s]"
          ]
        },
        {
          "output_type": "stream",
          "name": "stdout",
          "text": [
            "15780\n",
            "15780\n",
            "15783\n",
            "15786\n",
            "15783\n"
          ]
        },
        {
          "output_type": "stream",
          "name": "stderr",
          "text": [
            " 38%|███▊      | 3526/9172 [03:21<05:05, 18.46it/s]"
          ]
        },
        {
          "output_type": "stream",
          "name": "stdout",
          "text": [
            "15786\n",
            "15783\n",
            "15783\n",
            "15786\n",
            "15786\n",
            "15789\n"
          ]
        },
        {
          "output_type": "stream",
          "name": "stderr",
          "text": [
            "\r 38%|███▊      | 3530/9172 [03:21<04:12, 22.38it/s]"
          ]
        },
        {
          "output_type": "stream",
          "name": "stdout",
          "text": [
            "15786\n",
            "15786\n",
            "15786\n",
            "15786\n"
          ]
        },
        {
          "output_type": "stream",
          "name": "stderr",
          "text": [
            " 39%|███▊      | 3536/9172 [03:22<04:35, 20.46it/s]"
          ]
        },
        {
          "output_type": "stream",
          "name": "stdout",
          "text": [
            "15789\n",
            "15786\n",
            "15786\n",
            "15794\n",
            "15786\n"
          ]
        },
        {
          "output_type": "stream",
          "name": "stderr",
          "text": [
            "\r 39%|███▊      | 3539/9172 [03:22<05:04, 18.47it/s]"
          ]
        },
        {
          "output_type": "stream",
          "name": "stdout",
          "text": [
            "15786\n",
            "15786\n",
            "15786\n",
            "15797\n"
          ]
        },
        {
          "output_type": "stream",
          "name": "stderr",
          "text": [
            "\r 39%|███▊      | 3542/9172 [03:22<05:18, 17.67it/s]"
          ]
        },
        {
          "output_type": "stream",
          "name": "stdout",
          "text": [
            "15794\n",
            "15789\n",
            "15789\n",
            "15789\n"
          ]
        },
        {
          "output_type": "stream",
          "name": "stderr",
          "text": [
            " 39%|███▊      | 3547/9172 [03:22<05:33, 16.88it/s]"
          ]
        },
        {
          "output_type": "stream",
          "name": "stdout",
          "text": [
            "15797\n",
            "15801\n"
          ]
        },
        {
          "output_type": "stream",
          "name": "stderr",
          "text": [
            " 39%|███▊      | 3553/9172 [03:23<05:04, 18.46it/s]"
          ]
        },
        {
          "output_type": "stream",
          "name": "stdout",
          "text": [
            "15794\n",
            "15794\n",
            "15794\n",
            "15789\n",
            "15794\n",
            "15797\n"
          ]
        },
        {
          "output_type": "stream",
          "name": "stderr",
          "text": [
            "\r 39%|███▉      | 3556/9172 [03:23<04:56, 18.92it/s]"
          ]
        },
        {
          "output_type": "stream",
          "name": "stdout",
          "text": [
            "15797\n",
            "15797\n",
            "15794\n",
            "15794\n"
          ]
        },
        {
          "output_type": "stream",
          "name": "stderr",
          "text": [
            " 39%|███▉      | 3562/9172 [03:23<04:55, 19.00it/s]"
          ]
        },
        {
          "output_type": "stream",
          "name": "stdout",
          "text": [
            "15794\n",
            "15797\n",
            "15801\n",
            "15805\n",
            "15794\n",
            "15801\n"
          ]
        },
        {
          "output_type": "stream",
          "name": "stderr",
          "text": [
            "\r 39%|███▉      | 3565/9172 [03:23<04:54, 19.01it/s]"
          ]
        },
        {
          "output_type": "stream",
          "name": "stdout",
          "text": [
            "15801\n",
            "15801\n",
            "15801\n"
          ]
        },
        {
          "output_type": "stream",
          "name": "stderr",
          "text": [
            " 39%|███▉      | 3570/9172 [03:24<05:14, 17.79it/s]"
          ]
        },
        {
          "output_type": "stream",
          "name": "stdout",
          "text": [
            "15805\n",
            "15801\n",
            "15816\n",
            "15801\n",
            "15801\n",
            "15801\n",
            "15801\n"
          ]
        },
        {
          "output_type": "stream",
          "name": "stderr",
          "text": [
            " 39%|███▉      | 3577/9172 [03:24<05:22, 17.33it/s]"
          ]
        },
        {
          "output_type": "stream",
          "name": "stdout",
          "text": [
            "15805\n",
            "15805\n",
            "15816\n",
            "15819\n",
            "15805\n"
          ]
        },
        {
          "output_type": "stream",
          "name": "stderr",
          "text": [
            " 39%|███▉      | 3582/9172 [03:24<05:21, 17.36it/s]"
          ]
        },
        {
          "output_type": "stream",
          "name": "stdout",
          "text": [
            "15805\n",
            "15805\n",
            "15805\n",
            "15816\n"
          ]
        },
        {
          "output_type": "stream",
          "name": "stderr",
          "text": [
            " 39%|███▉      | 3586/9172 [03:25<05:42, 16.31it/s]"
          ]
        },
        {
          "output_type": "stream",
          "name": "stdout",
          "text": [
            "15819\n",
            "15805\n",
            "15816\n",
            "15819\n"
          ]
        },
        {
          "output_type": "stream",
          "name": "stderr",
          "text": [
            " 39%|███▉      | 3591/9172 [03:25<04:58, 18.68it/s]"
          ]
        },
        {
          "output_type": "stream",
          "name": "stdout",
          "text": [
            "15816\n",
            "15816\n",
            "15816\n",
            "15724\n",
            "15824\n"
          ]
        },
        {
          "output_type": "stream",
          "name": "stderr",
          "text": [
            "\r 39%|███▉      | 3593/9172 [03:25<04:55, 18.88it/s]"
          ]
        },
        {
          "output_type": "stream",
          "name": "stdout",
          "text": [
            "15819\n",
            "15828\n",
            "15816\n",
            "15819\n"
          ]
        },
        {
          "output_type": "stream",
          "name": "stderr",
          "text": [
            " 39%|███▉      | 3600/9172 [03:25<04:28, 20.75it/s]"
          ]
        },
        {
          "output_type": "stream",
          "name": "stdout",
          "text": [
            "15828\n",
            "15819\n",
            "15824\n",
            "15831\n",
            "15824\n",
            "15819\n",
            "15824\n"
          ]
        },
        {
          "output_type": "stream",
          "name": "stderr",
          "text": [
            "\r 39%|███▉      | 3603/9172 [03:25<04:09, 22.33it/s]"
          ]
        },
        {
          "output_type": "stream",
          "name": "stdout",
          "text": [
            "15824\n",
            "15824\n"
          ]
        },
        {
          "output_type": "stream",
          "name": "stderr",
          "text": [
            "\r 39%|███▉      | 3606/9172 [03:26<05:40, 16.37it/s]"
          ]
        },
        {
          "output_type": "stream",
          "name": "stdout",
          "text": [
            "15831\n",
            "15843\n",
            "15824\n"
          ]
        },
        {
          "output_type": "stream",
          "name": "stderr",
          "text": [
            "\r 39%|███▉      | 3608/9172 [03:26<06:50, 13.57it/s]"
          ]
        },
        {
          "output_type": "stream",
          "name": "stdout",
          "text": [
            "15828\n",
            "15831\n",
            "15831\n",
            "15831\n",
            "15828\n"
          ]
        },
        {
          "output_type": "stream",
          "name": "stderr",
          "text": [
            " 39%|███▉      | 3617/9172 [03:26<04:53, 18.92it/s]"
          ]
        },
        {
          "output_type": "stream",
          "name": "stdout",
          "text": [
            "15843\n",
            "15831\n",
            "15828\n",
            "15828\n",
            "15843\n"
          ]
        },
        {
          "output_type": "stream",
          "name": "stderr",
          "text": [
            " 39%|███▉      | 3622/9172 [03:27<05:11, 17.82it/s]"
          ]
        },
        {
          "output_type": "stream",
          "name": "stdout",
          "text": [
            "15843\n",
            "15847\n",
            "15828\n",
            "15843\n",
            "15831\n",
            "15847\n"
          ]
        },
        {
          "output_type": "stream",
          "name": "stderr",
          "text": [
            "\r 40%|███▉      | 3625/9172 [03:27<05:25, 17.06it/s]"
          ]
        },
        {
          "output_type": "stream",
          "name": "stdout",
          "text": [
            "15831\n",
            "15843\n"
          ]
        },
        {
          "output_type": "stream",
          "name": "stderr",
          "text": [
            "\r 40%|███▉      | 3627/9172 [03:27<06:30, 14.19it/s]"
          ]
        },
        {
          "output_type": "stream",
          "name": "stdout",
          "text": [
            "15831\n",
            "15843\n"
          ]
        },
        {
          "output_type": "stream",
          "name": "stderr",
          "text": [
            "\r 40%|███▉      | 3629/9172 [03:27<09:15,  9.98it/s]"
          ]
        },
        {
          "output_type": "stream",
          "name": "stdout",
          "text": [
            "15850\n",
            "15854\n"
          ]
        },
        {
          "output_type": "stream",
          "name": "stderr",
          "text": [
            "\r 40%|███▉      | 3632/9172 [03:28<07:29, 12.34it/s]"
          ]
        },
        {
          "output_type": "stream",
          "name": "stdout",
          "text": [
            "15850\n",
            "15847\n",
            "15847\n"
          ]
        },
        {
          "output_type": "stream",
          "name": "stderr",
          "text": [
            "\r 40%|███▉      | 3634/9172 [03:28<08:46, 10.52it/s]"
          ]
        },
        {
          "output_type": "stream",
          "name": "stdout",
          "text": [
            "15847\n",
            "15847\n"
          ]
        },
        {
          "output_type": "stream",
          "name": "stderr",
          "text": [
            "\r 40%|███▉      | 3636/9172 [03:28<10:40,  8.64it/s]"
          ]
        },
        {
          "output_type": "stream",
          "name": "stdout",
          "text": [
            "15847\n",
            "15850\n",
            "15847\n"
          ]
        },
        {
          "output_type": "stream",
          "name": "stderr",
          "text": [
            " 40%|███▉      | 3643/9172 [03:29<06:28, 14.21it/s]"
          ]
        },
        {
          "output_type": "stream",
          "name": "stdout",
          "text": [
            "15854\n",
            "15850\n",
            "15850\n",
            "15850\n",
            "15850\n",
            "15850\n",
            "15858\n",
            "15843\n"
          ]
        },
        {
          "output_type": "stream",
          "name": "stderr",
          "text": [
            "\r 40%|███▉      | 3646/9172 [03:29<07:54, 11.64it/s]"
          ]
        },
        {
          "output_type": "stream",
          "name": "stdout",
          "text": [
            "15854\n",
            "15854\n"
          ]
        },
        {
          "output_type": "stream",
          "name": "stderr",
          "text": [
            "\r 40%|███▉      | 3648/9172 [03:29<08:44, 10.53it/s]"
          ]
        },
        {
          "output_type": "stream",
          "name": "stdout",
          "text": [
            "15854\n",
            "15854\n"
          ]
        },
        {
          "output_type": "stream",
          "name": "stderr",
          "text": [
            "\r 40%|███▉      | 3650/9172 [03:29<09:46,  9.41it/s]"
          ]
        },
        {
          "output_type": "stream",
          "name": "stdout",
          "text": [
            "15854\n",
            "15858\n"
          ]
        },
        {
          "output_type": "stream",
          "name": "stderr",
          "text": [
            " 40%|███▉      | 3655/9172 [03:30<10:40,  8.62it/s]"
          ]
        },
        {
          "output_type": "stream",
          "name": "stdout",
          "text": [
            "15858\n",
            "15858\n",
            "15854\n",
            "15858\n",
            "15858\n",
            "15858\n",
            "15858\n"
          ]
        },
        {
          "output_type": "stream",
          "name": "stderr",
          "text": [
            "\r 40%|███▉      | 3659/9172 [03:30<07:24, 12.39it/s]"
          ]
        },
        {
          "output_type": "stream",
          "name": "stdout",
          "text": [
            "15858\n",
            "15854\n"
          ]
        },
        {
          "output_type": "stream",
          "name": "stderr",
          "text": [
            "\r 40%|███▉      | 3661/9172 [03:31<08:19, 11.03it/s]"
          ]
        },
        {
          "output_type": "stream",
          "name": "stdout",
          "text": [
            "15858\n",
            "15858\n",
            "15861\n",
            "15858\n"
          ]
        },
        {
          "output_type": "stream",
          "name": "stderr",
          "text": [
            "\r 40%|███▉      | 3665/9172 [03:31<07:56, 11.56it/s]"
          ]
        },
        {
          "output_type": "stream",
          "name": "stdout",
          "text": [
            "15858\n",
            "15858\n"
          ]
        },
        {
          "output_type": "stream",
          "name": "stderr",
          "text": [
            " 40%|████      | 3671/9172 [03:31<06:58, 13.14it/s]"
          ]
        },
        {
          "output_type": "stream",
          "name": "stdout",
          "text": [
            "15858\n",
            "15858\n",
            "15858\n",
            "15858\n",
            "15865\n"
          ]
        },
        {
          "output_type": "stream",
          "name": "stderr",
          "text": [
            "\r 40%|████      | 3673/9172 [03:32<10:07,  9.05it/s]"
          ]
        },
        {
          "output_type": "stream",
          "name": "stdout",
          "text": [
            "15861\n",
            "15861\n",
            "15861\n",
            "15861\n"
          ]
        },
        {
          "output_type": "stream",
          "name": "stderr",
          "text": [
            " 40%|████      | 3678/9172 [03:32<08:17, 11.05it/s]"
          ]
        },
        {
          "output_type": "stream",
          "name": "stdout",
          "text": [
            "15861\n",
            "15861\n",
            "15861\n",
            "15861\n",
            "15861\n"
          ]
        },
        {
          "output_type": "stream",
          "name": "stderr",
          "text": [
            "\r 40%|████      | 3681/9172 [03:32<06:44, 13.57it/s]"
          ]
        },
        {
          "output_type": "stream",
          "name": "stdout",
          "text": [
            "15861\n",
            "15861\n"
          ]
        },
        {
          "output_type": "stream",
          "name": "stderr",
          "text": [
            " 40%|████      | 3685/9172 [03:33<09:12,  9.92it/s]"
          ]
        },
        {
          "output_type": "stream",
          "name": "stdout",
          "text": [
            "15865\n",
            "15865\n",
            "15865\n"
          ]
        },
        {
          "output_type": "stream",
          "name": "stderr",
          "text": [
            "\r 40%|████      | 3687/9172 [03:33<08:42, 10.50it/s]"
          ]
        },
        {
          "output_type": "stream",
          "name": "stdout",
          "text": [
            "15742\n",
            "15868\n",
            "15861\n",
            "15865\n"
          ]
        },
        {
          "output_type": "stream",
          "name": "stderr",
          "text": [
            "\r 40%|████      | 3690/9172 [03:33<08:40, 10.52it/s]"
          ]
        },
        {
          "output_type": "stream",
          "name": "stdout",
          "text": [
            "15865\n",
            "15865\n",
            "15865\n"
          ]
        },
        {
          "output_type": "stream",
          "name": "stderr",
          "text": [
            " 40%|████      | 3695/9172 [03:34<08:43, 10.46it/s]"
          ]
        },
        {
          "output_type": "stream",
          "name": "stdout",
          "text": [
            "15868\n",
            "15865\n",
            "15865\n",
            "15871\n",
            "15865\n"
          ]
        },
        {
          "output_type": "stream",
          "name": "stderr",
          "text": [
            " 40%|████      | 3703/9172 [03:34<06:15, 14.58it/s]"
          ]
        },
        {
          "output_type": "stream",
          "name": "stdout",
          "text": [
            "15868\n",
            "15868\n",
            "15868\n",
            "15865\n",
            "15865\n",
            "15865\n",
            "15868\n"
          ]
        },
        {
          "output_type": "stream",
          "name": "stderr",
          "text": [
            "\r 40%|████      | 3705/9172 [03:34<07:08, 12.76it/s]"
          ]
        },
        {
          "output_type": "stream",
          "name": "stdout",
          "text": [
            "15871\n",
            "15875\n"
          ]
        },
        {
          "output_type": "stream",
          "name": "stderr",
          "text": [
            "\r 40%|████      | 3707/9172 [03:35<08:45, 10.41it/s]"
          ]
        },
        {
          "output_type": "stream",
          "name": "stdout",
          "text": [
            "15865\n",
            "15865\n"
          ]
        },
        {
          "output_type": "stream",
          "name": "stderr",
          "text": [
            " 40%|████      | 3711/9172 [03:35<09:13,  9.87it/s]"
          ]
        },
        {
          "output_type": "stream",
          "name": "stdout",
          "text": [
            "15871\n",
            "15875\n",
            "15879\n"
          ]
        },
        {
          "output_type": "stream",
          "name": "stderr",
          "text": [
            "\r 40%|████      | 3713/9172 [03:35<08:32, 10.66it/s]"
          ]
        },
        {
          "output_type": "stream",
          "name": "stdout",
          "text": [
            "15868\n",
            "15871\n"
          ]
        },
        {
          "output_type": "stream",
          "name": "stderr",
          "text": [
            " 41%|████      | 3717/9172 [03:36<08:27, 10.74it/s]"
          ]
        },
        {
          "output_type": "stream",
          "name": "stdout",
          "text": [
            "15871\n",
            "15871\n",
            "15871\n",
            "15875\n"
          ]
        },
        {
          "output_type": "stream",
          "name": "stderr",
          "text": [
            "\r 41%|████      | 3722/9172 [03:36<06:19, 14.36it/s]"
          ]
        },
        {
          "output_type": "stream",
          "name": "stdout",
          "text": [
            "15871\n",
            "15875\n",
            "15871\n",
            "15875\n",
            "15875\n"
          ]
        },
        {
          "output_type": "stream",
          "name": "stderr",
          "text": [
            "\r 41%|████      | 3724/9172 [03:36<06:36, 13.74it/s]"
          ]
        },
        {
          "output_type": "stream",
          "name": "stdout",
          "text": [
            "15879\n",
            "15871\n",
            "15871\n"
          ]
        },
        {
          "output_type": "stream",
          "name": "stderr",
          "text": [
            " 41%|████      | 3729/9172 [03:37<06:42, 13.52it/s]"
          ]
        },
        {
          "output_type": "stream",
          "name": "stdout",
          "text": [
            "15875\n",
            "15882\n",
            "15879\n",
            "15882\n",
            "15879\n",
            "15879\n"
          ]
        },
        {
          "output_type": "stream",
          "name": "stderr",
          "text": [
            "\r 41%|████      | 3733/9172 [03:37<06:01, 15.06it/s]"
          ]
        },
        {
          "output_type": "stream",
          "name": "stdout",
          "text": [
            "15886\n",
            "15879\n"
          ]
        },
        {
          "output_type": "stream",
          "name": "stderr",
          "text": [
            " 41%|████      | 3737/9172 [03:37<06:48, 13.30it/s]"
          ]
        },
        {
          "output_type": "stream",
          "name": "stdout",
          "text": [
            "15875\n",
            "15875\n",
            "15879\n",
            "15886\n"
          ]
        },
        {
          "output_type": "stream",
          "name": "stderr",
          "text": [
            "\r 41%|████      | 3739/9172 [03:37<08:42, 10.40it/s]"
          ]
        },
        {
          "output_type": "stream",
          "name": "stdout",
          "text": [
            "15882\n",
            "15882\n",
            "15882\n",
            "15882\n"
          ]
        },
        {
          "output_type": "stream",
          "name": "stderr",
          "text": [
            "\r 41%|████      | 3742/9172 [03:38<07:58, 11.36it/s]"
          ]
        },
        {
          "output_type": "stream",
          "name": "stdout",
          "text": [
            "15882\n"
          ]
        },
        {
          "output_type": "stream",
          "name": "stderr",
          "text": [
            " 41%|████      | 3746/9172 [03:38<08:31, 10.61it/s]"
          ]
        },
        {
          "output_type": "stream",
          "name": "stdout",
          "text": [
            "15879\n",
            "15886\n",
            "15886\n",
            "15890\n"
          ]
        },
        {
          "output_type": "stream",
          "name": "stderr",
          "text": [
            "\r 41%|████      | 3748/9172 [03:38<08:21, 10.82it/s]"
          ]
        },
        {
          "output_type": "stream",
          "name": "stdout",
          "text": [
            "15886\n",
            "15890\n",
            "15886\n"
          ]
        },
        {
          "output_type": "stream",
          "name": "stderr",
          "text": [
            " 41%|████      | 3754/9172 [03:39<05:52, 15.39it/s]"
          ]
        },
        {
          "output_type": "stream",
          "name": "stdout",
          "text": [
            "15890\n",
            "15882\n",
            "15901\n",
            "15882\n",
            "15890\n",
            "15890\n"
          ]
        },
        {
          "output_type": "stream",
          "name": "stderr",
          "text": [
            " 41%|████      | 3759/9172 [03:39<05:21, 16.84it/s]"
          ]
        },
        {
          "output_type": "stream",
          "name": "stdout",
          "text": [
            "15901\n",
            "15905\n",
            "15886\n",
            "15901\n",
            "15886\n",
            "15890\n"
          ]
        },
        {
          "output_type": "stream",
          "name": "stderr",
          "text": [
            " 41%|████      | 3764/9172 [03:39<05:53, 15.30it/s]"
          ]
        },
        {
          "output_type": "stream",
          "name": "stdout",
          "text": [
            "15905\n",
            "15910\n",
            "15901\n",
            "15901\n"
          ]
        },
        {
          "output_type": "stream",
          "name": "stderr",
          "text": [
            " 41%|████      | 3769/9172 [03:39<04:57, 18.16it/s]"
          ]
        },
        {
          "output_type": "stream",
          "name": "stdout",
          "text": [
            "15901\n",
            "15890\n",
            "15901\n",
            "15890\n",
            "15901\n",
            "15905\n",
            "15905\n",
            "15905\n"
          ]
        },
        {
          "output_type": "stream",
          "name": "stderr",
          "text": [
            " 41%|████      | 3779/9172 [03:40<03:23, 26.46it/s]"
          ]
        },
        {
          "output_type": "stream",
          "name": "stdout",
          "text": [
            "15910\n",
            "15905\n",
            "15905\n",
            "15905\n",
            "15905\n",
            "15913\n",
            "15910\n"
          ]
        },
        {
          "output_type": "stream",
          "name": "stderr",
          "text": [
            "\r 41%|████      | 3782/9172 [03:40<03:40, 24.48it/s]"
          ]
        },
        {
          "output_type": "stream",
          "name": "stdout",
          "text": [
            "15910\n",
            "15910\n",
            "15913\n"
          ]
        },
        {
          "output_type": "stream",
          "name": "stderr",
          "text": [
            " 41%|████▏     | 3788/9172 [03:40<04:41, 19.10it/s]"
          ]
        },
        {
          "output_type": "stream",
          "name": "stdout",
          "text": [
            "15910\n",
            "15910\n",
            "15915\n",
            "15910\n",
            "15910\n"
          ]
        },
        {
          "output_type": "stream",
          "name": "stderr",
          "text": [
            "\r 41%|████▏     | 3791/9172 [03:41<05:07, 17.53it/s]"
          ]
        },
        {
          "output_type": "stream",
          "name": "stdout",
          "text": [
            "15913\n",
            "15786\n",
            "15915\n",
            "15913\n"
          ]
        },
        {
          "output_type": "stream",
          "name": "stderr",
          "text": [
            " 41%|████▏     | 3797/9172 [03:41<04:44, 18.87it/s]"
          ]
        },
        {
          "output_type": "stream",
          "name": "stdout",
          "text": [
            "15913\n",
            "15913\n",
            "15915\n",
            "15913\n",
            "15913\n"
          ]
        },
        {
          "output_type": "stream",
          "name": "stderr",
          "text": [
            " 41%|████▏     | 3801/9172 [03:41<04:42, 18.99it/s]"
          ]
        },
        {
          "output_type": "stream",
          "name": "stdout",
          "text": [
            "15913\n",
            "15915\n",
            "15913\n",
            "15913\n",
            "15913\n",
            "15918\n"
          ]
        },
        {
          "output_type": "stream",
          "name": "stderr",
          "text": [
            " 42%|████▏     | 3807/9172 [03:41<04:34, 19.55it/s]"
          ]
        },
        {
          "output_type": "stream",
          "name": "stdout",
          "text": [
            "15915\n",
            "15913\n",
            "15913\n",
            "15915\n",
            "15915\n"
          ]
        },
        {
          "output_type": "stream",
          "name": "stderr",
          "text": [
            " 42%|████▏     | 3811/9172 [03:42<05:21, 16.67it/s]"
          ]
        },
        {
          "output_type": "stream",
          "name": "stdout",
          "text": [
            "15915\n",
            "15918\n",
            "15918\n",
            "15924\n"
          ]
        },
        {
          "output_type": "stream",
          "name": "stderr",
          "text": [
            " 42%|████▏     | 3815/9172 [03:42<05:38, 15.81it/s]"
          ]
        },
        {
          "output_type": "stream",
          "name": "stdout",
          "text": [
            "15918\n",
            "15918\n",
            "15918\n",
            "15924\n",
            "15918\n"
          ]
        },
        {
          "output_type": "stream",
          "name": "stderr",
          "text": [
            " 42%|████▏     | 3823/9172 [03:42<04:01, 22.12it/s]"
          ]
        },
        {
          "output_type": "stream",
          "name": "stdout",
          "text": [
            "15924\n",
            "15927\n",
            "15924\n",
            "15924\n",
            "15927\n",
            "15918\n",
            "15931\n",
            "15927\n"
          ]
        },
        {
          "output_type": "stream",
          "name": "stderr",
          "text": [
            "\r 42%|████▏     | 3827/9172 [03:42<04:11, 21.23it/s]"
          ]
        },
        {
          "output_type": "stream",
          "name": "stdout",
          "text": [
            "15924\n",
            "15924\n",
            "15931\n",
            "15924\n",
            "15927\n"
          ]
        },
        {
          "output_type": "stream",
          "name": "stderr",
          "text": [
            "\r 42%|████▏     | 3833/9172 [03:43<03:38, 24.43it/s]"
          ]
        },
        {
          "output_type": "stream",
          "name": "stdout",
          "text": [
            "15927\n",
            "15924\n",
            "15927\n",
            "15934\n"
          ]
        },
        {
          "output_type": "stream",
          "name": "stderr",
          "text": [
            "\r 42%|████▏     | 3836/9172 [03:43<05:00, 17.79it/s]"
          ]
        },
        {
          "output_type": "stream",
          "name": "stdout",
          "text": [
            "15940\n",
            "15931\n"
          ]
        },
        {
          "output_type": "stream",
          "name": "stderr",
          "text": [
            "\r 42%|████▏     | 3838/9172 [03:43<05:08, 17.30it/s]"
          ]
        },
        {
          "output_type": "stream",
          "name": "stdout",
          "text": [
            "15931\n",
            "15927\n",
            "15931\n",
            "15927\n"
          ]
        },
        {
          "output_type": "stream",
          "name": "stderr",
          "text": [
            " 42%|████▏     | 3844/9172 [03:43<04:46, 18.57it/s]"
          ]
        },
        {
          "output_type": "stream",
          "name": "stdout",
          "text": [
            "15934\n",
            "15934\n",
            "15940\n",
            "15931\n",
            "15947\n",
            "15934\n",
            "15931\n",
            "15934\n",
            "15931\n",
            "15934\n"
          ]
        },
        {
          "output_type": "stream",
          "name": "stderr",
          "text": [
            " 42%|████▏     | 3857/9172 [03:44<02:52, 30.78it/s]"
          ]
        },
        {
          "output_type": "stream",
          "name": "stdout",
          "text": [
            "15940\n",
            "15934\n",
            "15940\n",
            "15940\n",
            "15934\n",
            "15940\n",
            "15947\n",
            "15934\n"
          ]
        },
        {
          "output_type": "stream",
          "name": "stderr",
          "text": [
            "\r 42%|████▏     | 3861/9172 [03:44<03:36, 24.57it/s]"
          ]
        },
        {
          "output_type": "stream",
          "name": "stdout",
          "text": [
            "15951\n",
            "15954\n",
            "15940\n",
            "15940\n",
            "15947\n"
          ]
        },
        {
          "output_type": "stream",
          "name": "stderr",
          "text": [
            "\r 42%|████▏     | 3864/9172 [03:44<03:44, 23.62it/s]"
          ]
        },
        {
          "output_type": "stream",
          "name": "stdout",
          "text": [
            "15947\n",
            "15947\n",
            "15947\n"
          ]
        },
        {
          "output_type": "stream",
          "name": "stderr",
          "text": [
            "\r 42%|████▏     | 3867/9172 [03:44<04:20, 20.39it/s]"
          ]
        },
        {
          "output_type": "stream",
          "name": "stdout",
          "text": [
            "15954\n",
            "15951\n"
          ]
        },
        {
          "output_type": "stream",
          "name": "stderr",
          "text": [
            " 42%|████▏     | 3874/9172 [03:45<04:31, 19.50it/s]"
          ]
        },
        {
          "output_type": "stream",
          "name": "stdout",
          "text": [
            "15951\n",
            "15957\n",
            "15954\n",
            "15951\n",
            "15951\n",
            "15951\n"
          ]
        },
        {
          "output_type": "stream",
          "name": "stderr",
          "text": [
            " 42%|████▏     | 3881/9172 [03:45<03:38, 24.25it/s]"
          ]
        },
        {
          "output_type": "stream",
          "name": "stdout",
          "text": [
            "15954\n",
            "15951\n",
            "15951\n",
            "15947\n",
            "15954\n",
            "15951\n",
            "15951\n"
          ]
        },
        {
          "output_type": "stream",
          "name": "stderr",
          "text": [
            "\r 42%|████▏     | 3884/9172 [03:45<04:36, 19.11it/s]"
          ]
        },
        {
          "output_type": "stream",
          "name": "stdout",
          "text": [
            "15957\n",
            "15954\n",
            "15954\n",
            "15960\n"
          ]
        },
        {
          "output_type": "stream",
          "name": "stderr",
          "text": [
            "\r 42%|████▏     | 3887/9172 [03:46<06:12, 14.20it/s]"
          ]
        },
        {
          "output_type": "stream",
          "name": "stdout",
          "text": [
            "15954\n",
            "15957\n",
            "15957\n",
            "15960\n"
          ]
        },
        {
          "output_type": "stream",
          "name": "stderr",
          "text": [
            " 42%|████▏     | 3893/9172 [03:46<04:52, 18.02it/s]"
          ]
        },
        {
          "output_type": "stream",
          "name": "stdout",
          "text": [
            "15957\n",
            "15957\n",
            "15957\n",
            "15963\n",
            "15963\n",
            "15960\n",
            "15957\n",
            "15960\n"
          ]
        },
        {
          "output_type": "stream",
          "name": "stderr",
          "text": [
            " 43%|████▎     | 3902/9172 [03:46<03:54, 22.50it/s]"
          ]
        },
        {
          "output_type": "stream",
          "name": "stdout",
          "text": [
            "15960\n",
            "15963\n",
            "15966\n",
            "15960\n",
            "15963\n"
          ]
        },
        {
          "output_type": "stream",
          "name": "stderr",
          "text": [
            "\r 43%|████▎     | 3906/9172 [03:46<04:07, 21.25it/s]"
          ]
        },
        {
          "output_type": "stream",
          "name": "stdout",
          "text": [
            "15966\n",
            "15960\n",
            "15963\n",
            "15957\n",
            "15963\n"
          ]
        },
        {
          "output_type": "stream",
          "name": "stderr",
          "text": [
            " 43%|████▎     | 3911/9172 [03:47<05:08, 17.03it/s]"
          ]
        },
        {
          "output_type": "stream",
          "name": "stdout",
          "text": [
            "15963\n",
            "15970\n",
            "15974\n",
            "15966\n"
          ]
        },
        {
          "output_type": "stream",
          "name": "stderr",
          "text": [
            " 43%|████▎     | 3917/9172 [03:47<04:27, 19.67it/s]"
          ]
        },
        {
          "output_type": "stream",
          "name": "stdout",
          "text": [
            "15963\n",
            "15966\n",
            "15966\n",
            "15970\n",
            "15970\n",
            "15966\n",
            "15970\n"
          ]
        },
        {
          "output_type": "stream",
          "name": "stderr",
          "text": [
            "\r 43%|████▎     | 3924/9172 [03:47<03:02, 28.69it/s]"
          ]
        },
        {
          "output_type": "stream",
          "name": "stdout",
          "text": [
            "15966\n",
            "15970\n",
            "15966\n",
            "15966\n",
            "15966\n",
            "15966\n",
            "15970\n"
          ]
        },
        {
          "output_type": "stream",
          "name": "stderr",
          "text": [
            "\r 43%|████▎     | 3928/9172 [03:47<03:31, 24.83it/s]"
          ]
        },
        {
          "output_type": "stream",
          "name": "stdout",
          "text": [
            "15970\n",
            "15974\n",
            "15970\n",
            "15977\n",
            "15974\n"
          ]
        },
        {
          "output_type": "stream",
          "name": "stderr",
          "text": [
            " 43%|████▎     | 3934/9172 [03:48<04:28, 19.50it/s]"
          ]
        },
        {
          "output_type": "stream",
          "name": "stdout",
          "text": [
            "15977\n",
            "15974\n",
            "15974\n",
            "15974\n"
          ]
        },
        {
          "output_type": "stream",
          "name": "stderr",
          "text": [
            "\r 43%|████▎     | 3937/9172 [03:48<05:31, 15.78it/s]"
          ]
        },
        {
          "output_type": "stream",
          "name": "stdout",
          "text": [
            "15974\n",
            "15974\n",
            "15974\n",
            "15992\n",
            "15984\n",
            "15977\n"
          ]
        },
        {
          "output_type": "stream",
          "name": "stderr",
          "text": [
            " 43%|████▎     | 3945/9172 [03:48<04:16, 20.40it/s]"
          ]
        },
        {
          "output_type": "stream",
          "name": "stdout",
          "text": [
            "15977\n",
            "15977\n",
            "15977\n",
            "15984\n",
            "15977\n",
            "15977\n",
            "15977\n",
            "15977\n"
          ]
        },
        {
          "output_type": "stream",
          "name": "stderr",
          "text": [
            " 43%|████▎     | 3952/9172 [03:49<04:14, 20.55it/s]"
          ]
        },
        {
          "output_type": "stream",
          "name": "stdout",
          "text": [
            "15984\n",
            "15984\n",
            "15992\n",
            "15984\n"
          ]
        },
        {
          "output_type": "stream",
          "name": "stderr",
          "text": [
            "\r 43%|████▎     | 3955/9172 [03:49<04:18, 20.19it/s]"
          ]
        },
        {
          "output_type": "stream",
          "name": "stdout",
          "text": [
            "15995\n",
            "15984\n",
            "15984\n",
            "15984\n"
          ]
        },
        {
          "output_type": "stream",
          "name": "stderr",
          "text": [
            "\r 43%|████▎     | 3958/9172 [03:49<05:57, 14.60it/s]"
          ]
        },
        {
          "output_type": "stream",
          "name": "stdout",
          "text": [
            "15992\n",
            "15995\n"
          ]
        },
        {
          "output_type": "stream",
          "name": "stderr",
          "text": [
            "\r 43%|████▎     | 3960/9172 [03:49<06:34, 13.21it/s]"
          ]
        },
        {
          "output_type": "stream",
          "name": "stdout",
          "text": [
            "15992\n",
            "16005\n"
          ]
        },
        {
          "output_type": "stream",
          "name": "stderr",
          "text": [
            "\r 43%|████▎     | 3962/9172 [03:50<09:16,  9.37it/s]"
          ]
        },
        {
          "output_type": "stream",
          "name": "stdout",
          "text": [
            "16005\n",
            "16015\n",
            "15992\n"
          ]
        },
        {
          "output_type": "stream",
          "name": "stderr",
          "text": [
            " 43%|████▎     | 3968/9172 [03:50<06:58, 12.45it/s]"
          ]
        },
        {
          "output_type": "stream",
          "name": "stdout",
          "text": [
            "15992\n",
            "15995\n",
            "15995\n",
            "15995\n",
            "15995\n"
          ]
        },
        {
          "output_type": "stream",
          "name": "stderr",
          "text": [
            " 43%|████▎     | 3972/9172 [03:50<06:08, 14.10it/s]"
          ]
        },
        {
          "output_type": "stream",
          "name": "stdout",
          "text": [
            "15995\n",
            "15992\n",
            "15995\n",
            "15992\n",
            "15992\n"
          ]
        },
        {
          "output_type": "stream",
          "name": "stderr",
          "text": [
            " 43%|████▎     | 3976/9172 [03:51<05:59, 14.45it/s]"
          ]
        },
        {
          "output_type": "stream",
          "name": "stdout",
          "text": [
            "15995\n",
            "16015\n",
            "16005\n",
            "16005\n"
          ]
        },
        {
          "output_type": "stream",
          "name": "stderr",
          "text": [
            " 43%|████▎     | 3980/9172 [03:51<05:57, 14.52it/s]"
          ]
        },
        {
          "output_type": "stream",
          "name": "stdout",
          "text": [
            "16018\n",
            "16005\n",
            "16018\n",
            "16021\n",
            "16015\n"
          ]
        },
        {
          "output_type": "stream",
          "name": "stderr",
          "text": [
            " 43%|████▎     | 3985/9172 [03:51<06:26, 13.41it/s]"
          ]
        },
        {
          "output_type": "stream",
          "name": "stdout",
          "text": [
            "16015\n",
            "16005\n",
            "16015\n",
            "16005\n"
          ]
        },
        {
          "output_type": "stream",
          "name": "stderr",
          "text": [
            " 44%|████▎     | 3990/9172 [03:52<07:28, 11.56it/s]"
          ]
        },
        {
          "output_type": "stream",
          "name": "stdout",
          "text": [
            "16015\n",
            "16018\n",
            "16015\n",
            "16025\n",
            "16018\n"
          ]
        },
        {
          "output_type": "stream",
          "name": "stderr",
          "text": [
            " 44%|████▎     | 3994/9172 [03:52<07:23, 11.68it/s]"
          ]
        },
        {
          "output_type": "stream",
          "name": "stdout",
          "text": [
            "16018\n",
            "16021\n",
            "16018\n",
            "16021\n",
            "16021\n"
          ]
        },
        {
          "output_type": "stream",
          "name": "stderr",
          "text": [
            "\r 44%|████▎     | 3997/9172 [03:53<06:52, 12.54it/s]"
          ]
        },
        {
          "output_type": "stream",
          "name": "stdout",
          "text": [
            "16021\n",
            "16018\n",
            "16025\n"
          ]
        },
        {
          "output_type": "stream",
          "name": "stderr",
          "text": [
            " 44%|████▎     | 4007/9172 [03:53<04:33, 18.86it/s]"
          ]
        },
        {
          "output_type": "stream",
          "name": "stdout",
          "text": [
            "16028\n",
            "16021\n",
            "16021\n",
            "16021\n",
            "16021\n",
            "16021\n",
            "16021\n",
            "16021\n"
          ]
        },
        {
          "output_type": "stream",
          "name": "stderr",
          "text": [
            "\r 44%|████▎     | 4009/9172 [03:53<04:49, 17.84it/s]"
          ]
        },
        {
          "output_type": "stream",
          "name": "stdout",
          "text": [
            "16028\n",
            "16032\n"
          ]
        },
        {
          "output_type": "stream",
          "name": "stderr",
          "text": [
            " 44%|████▍     | 4014/9172 [03:53<05:06, 16.85it/s]"
          ]
        },
        {
          "output_type": "stream",
          "name": "stdout",
          "text": [
            "16021\n",
            "16025\n",
            "16035\n",
            "16025\n",
            "16032\n"
          ]
        },
        {
          "output_type": "stream",
          "name": "stderr",
          "text": [
            "\r 44%|████▍     | 4016/9172 [03:54<05:26, 15.80it/s]"
          ]
        },
        {
          "output_type": "stream",
          "name": "stdout",
          "text": [
            "16025\n",
            "16025\n",
            "16028\n"
          ]
        },
        {
          "output_type": "stream",
          "name": "stderr",
          "text": [
            " 44%|████▍     | 4020/9172 [03:54<05:54, 14.54it/s]"
          ]
        },
        {
          "output_type": "stream",
          "name": "stdout",
          "text": [
            "16028\n",
            "16032\n",
            "16032\n",
            "16032\n"
          ]
        },
        {
          "output_type": "stream",
          "name": "stderr",
          "text": [
            " 44%|████▍     | 4025/9172 [03:54<04:38, 18.48it/s]"
          ]
        },
        {
          "output_type": "stream",
          "name": "stdout",
          "text": [
            "16025\n",
            "16032\n",
            "16035\n",
            "16040\n",
            "16028\n",
            "16032\n",
            "16032\n"
          ]
        },
        {
          "output_type": "stream",
          "name": "stderr",
          "text": [
            "\r 44%|████▍     | 4028/9172 [03:54<04:06, 20.85it/s]"
          ]
        },
        {
          "output_type": "stream",
          "name": "stdout",
          "text": [
            "16028\n",
            "16028\n"
          ]
        },
        {
          "output_type": "stream",
          "name": "stderr",
          "text": [
            " 44%|████▍     | 4035/9172 [03:55<05:05, 16.80it/s]"
          ]
        },
        {
          "output_type": "stream",
          "name": "stdout",
          "text": [
            "16035\n",
            "16035\n",
            "16043\n",
            "16040\n",
            "16035\n"
          ]
        },
        {
          "output_type": "stream",
          "name": "stderr",
          "text": [
            "\r 44%|████▍     | 4038/9172 [03:55<06:48, 12.57it/s]"
          ]
        },
        {
          "output_type": "stream",
          "name": "stdout",
          "text": [
            "16035\n",
            "16040\n",
            "16035\n",
            "16040\n"
          ]
        },
        {
          "output_type": "stream",
          "name": "stderr",
          "text": [
            " 44%|████▍     | 4042/9172 [03:56<06:57, 12.30it/s]"
          ]
        },
        {
          "output_type": "stream",
          "name": "stdout",
          "text": [
            "16040\n",
            "16040\n",
            "16040\n"
          ]
        },
        {
          "output_type": "stream",
          "name": "stderr",
          "text": [
            "\r 44%|████▍     | 4044/9172 [03:56<07:45, 11.02it/s]"
          ]
        },
        {
          "output_type": "stream",
          "name": "stdout",
          "text": [
            "16043\n",
            "16040\n",
            "16043\n",
            "16043\n",
            "16043\n"
          ]
        },
        {
          "output_type": "stream",
          "name": "stderr",
          "text": [
            " 44%|████▍     | 4054/9172 [03:56<04:32, 18.79it/s]"
          ]
        },
        {
          "output_type": "stream",
          "name": "stdout",
          "text": [
            "16046\n",
            "16040\n",
            "16035\n",
            "16046\n",
            "16043\n",
            "16040\n",
            "16043\n",
            "16043\n",
            "16043\n"
          ]
        },
        {
          "output_type": "stream",
          "name": "stderr",
          "text": [
            "\r 44%|████▍     | 4057/9172 [03:56<04:37, 18.44it/s]"
          ]
        },
        {
          "output_type": "stream",
          "name": "stdout",
          "text": [
            "16050\n",
            "16046\n",
            "16050\n"
          ]
        },
        {
          "output_type": "stream",
          "name": "stderr",
          "text": [
            " 44%|████▍     | 4063/9172 [03:57<04:56, 17.22it/s]"
          ]
        },
        {
          "output_type": "stream",
          "name": "stdout",
          "text": [
            "16043\n",
            "16043\n",
            "16046\n",
            "16053\n",
            "16046\n"
          ]
        },
        {
          "output_type": "stream",
          "name": "stderr",
          "text": [
            " 44%|████▍     | 4068/9172 [03:57<05:35, 15.20it/s]"
          ]
        },
        {
          "output_type": "stream",
          "name": "stdout",
          "text": [
            "16046\n",
            "16053\n",
            "16043\n",
            "16050\n"
          ]
        },
        {
          "output_type": "stream",
          "name": "stderr",
          "text": [
            "\r 44%|████▍     | 4070/9172 [03:57<06:02, 14.07it/s]"
          ]
        },
        {
          "output_type": "stream",
          "name": "stdout",
          "text": [
            "16050\n",
            "16046\n",
            "16050\n"
          ]
        },
        {
          "output_type": "stream",
          "name": "stderr",
          "text": [
            "\r 44%|████▍     | 4072/9172 [03:57<05:39, 15.01it/s]"
          ]
        },
        {
          "output_type": "stream",
          "name": "stdout",
          "text": [
            "16050\n",
            "16050\n"
          ]
        },
        {
          "output_type": "stream",
          "name": "stderr",
          "text": [
            " 44%|████▍     | 4077/9172 [03:58<05:41, 14.93it/s]"
          ]
        },
        {
          "output_type": "stream",
          "name": "stdout",
          "text": [
            "16060\n",
            "16056\n",
            "16053\n",
            "16050\n"
          ]
        },
        {
          "output_type": "stream",
          "name": "stderr",
          "text": [
            "\r 44%|████▍     | 4079/9172 [03:58<06:17, 13.48it/s]"
          ]
        },
        {
          "output_type": "stream",
          "name": "stdout",
          "text": [
            "16053\n",
            "16053\n",
            "16053\n"
          ]
        },
        {
          "output_type": "stream",
          "name": "stderr",
          "text": [
            " 45%|████▍     | 4084/9172 [03:58<05:49, 14.54it/s]"
          ]
        },
        {
          "output_type": "stream",
          "name": "stdout",
          "text": [
            "16060\n",
            "16053\n",
            "16056\n",
            "16063\n",
            "16053\n"
          ]
        },
        {
          "output_type": "stream",
          "name": "stderr",
          "text": [
            " 45%|████▍     | 4092/9172 [03:59<04:09, 20.32it/s]"
          ]
        },
        {
          "output_type": "stream",
          "name": "stdout",
          "text": [
            "16056\n",
            "16056\n",
            "16056\n",
            "16066\n",
            "16056\n",
            "16063\n",
            "16060\n"
          ]
        },
        {
          "output_type": "stream",
          "name": "stderr",
          "text": [
            "\r 45%|████▍     | 4096/9172 [03:59<04:56, 17.13it/s]"
          ]
        },
        {
          "output_type": "stream",
          "name": "stdout",
          "text": [
            "16060\n",
            "16060\n",
            "16060\n",
            "16056\n"
          ]
        },
        {
          "output_type": "stream",
          "name": "stderr",
          "text": [
            "\r 45%|████▍     | 4099/9172 [03:59<05:46, 14.66it/s]"
          ]
        },
        {
          "output_type": "stream",
          "name": "stdout",
          "text": [
            "16063\n",
            "16060\n",
            "16060\n",
            "16066\n",
            "16060\n"
          ]
        },
        {
          "output_type": "stream",
          "name": "stderr",
          "text": [
            "\r 45%|████▍     | 4101/9172 [03:59<06:33, 12.88it/s]"
          ]
        },
        {
          "output_type": "stream",
          "name": "stdout",
          "text": [
            "16063\n"
          ]
        },
        {
          "output_type": "stream",
          "name": "stderr",
          "text": [
            " 45%|████▍     | 4105/9172 [04:00<08:12, 10.29it/s]"
          ]
        },
        {
          "output_type": "stream",
          "name": "stdout",
          "text": [
            "16063\n",
            "16066\n",
            "16063\n",
            "16066\n"
          ]
        },
        {
          "output_type": "stream",
          "name": "stderr",
          "text": [
            "\r 45%|████▍     | 4107/9172 [04:00<07:16, 11.60it/s]"
          ]
        },
        {
          "output_type": "stream",
          "name": "stdout",
          "text": [
            "16069\n",
            "16063\n",
            "16063\n"
          ]
        },
        {
          "output_type": "stream",
          "name": "stderr",
          "text": [
            " 45%|████▍     | 4112/9172 [04:01<07:24, 11.37it/s]"
          ]
        },
        {
          "output_type": "stream",
          "name": "stdout",
          "text": [
            "16066\n",
            "16073\n",
            "16066\n"
          ]
        },
        {
          "output_type": "stream",
          "name": "stderr",
          "text": [
            "\r 45%|████▍     | 4114/9172 [04:01<07:04, 11.90it/s]"
          ]
        },
        {
          "output_type": "stream",
          "name": "stdout",
          "text": [
            "16066\n",
            "16069\n",
            "16069\n"
          ]
        },
        {
          "output_type": "stream",
          "name": "stderr",
          "text": [
            " 45%|████▍     | 4120/9172 [04:01<06:02, 13.95it/s]"
          ]
        },
        {
          "output_type": "stream",
          "name": "stdout",
          "text": [
            "16073\n",
            "16066\n",
            "16069\n",
            "16069\n",
            "16069\n"
          ]
        },
        {
          "output_type": "stream",
          "name": "stderr",
          "text": [
            " 45%|████▍     | 4124/9172 [04:01<05:56, 14.17it/s]"
          ]
        },
        {
          "output_type": "stream",
          "name": "stdout",
          "text": [
            "16066\n",
            "16073\n",
            "16069\n",
            "16069\n",
            "16078\n",
            "16075\n"
          ]
        },
        {
          "output_type": "stream",
          "name": "stderr",
          "text": [
            " 45%|████▌     | 4129/9172 [04:02<05:27, 15.38it/s]"
          ]
        },
        {
          "output_type": "stream",
          "name": "stdout",
          "text": [
            "16069\n",
            "16073\n",
            "16073\n",
            "16073\n"
          ]
        },
        {
          "output_type": "stream",
          "name": "stderr",
          "text": [
            "\r 45%|████▌     | 4131/9172 [04:02<05:08, 16.34it/s]"
          ]
        },
        {
          "output_type": "stream",
          "name": "stdout",
          "text": [
            "16073\n",
            "16073\n",
            "16081\n",
            "16078\n"
          ]
        },
        {
          "output_type": "stream",
          "name": "stderr",
          "text": [
            " 45%|████▌     | 4137/9172 [04:02<05:55, 14.16it/s]"
          ]
        },
        {
          "output_type": "stream",
          "name": "stdout",
          "text": [
            "16075\n",
            "16075\n",
            "16075\n",
            "16081\n"
          ]
        },
        {
          "output_type": "stream",
          "name": "stderr",
          "text": [
            "\r 45%|████▌     | 4140/9172 [04:02<05:22, 15.59it/s]"
          ]
        },
        {
          "output_type": "stream",
          "name": "stdout",
          "text": [
            "16084\n",
            "16075\n",
            "16075\n",
            "16078\n"
          ]
        },
        {
          "output_type": "stream",
          "name": "stderr",
          "text": [
            " 45%|████▌     | 4147/9172 [04:03<03:46, 22.21it/s]"
          ]
        },
        {
          "output_type": "stream",
          "name": "stdout",
          "text": [
            "16078\n",
            "16075\n",
            "16075\n",
            "16078\n",
            "16078\n",
            "16078\n"
          ]
        },
        {
          "output_type": "stream",
          "name": "stderr",
          "text": [
            "\r 45%|████▌     | 4150/9172 [04:03<05:05, 16.45it/s]"
          ]
        },
        {
          "output_type": "stream",
          "name": "stdout",
          "text": [
            "16081\n",
            "16084\n",
            "16081\n"
          ]
        },
        {
          "output_type": "stream",
          "name": "stderr",
          "text": [
            "\r 45%|████▌     | 4153/9172 [04:03<04:41, 17.85it/s]"
          ]
        },
        {
          "output_type": "stream",
          "name": "stdout",
          "text": [
            "16087\n",
            "16081\n",
            "16084\n",
            "16087 - HTTP 404\n"
          ]
        },
        {
          "output_type": "stream",
          "name": "stderr",
          "text": [
            " 45%|████▌     | 4161/9172 [04:04<04:18, 19.37it/s]"
          ]
        },
        {
          "output_type": "stream",
          "name": "stdout",
          "text": [
            "16081\n",
            "16087 - HTTP 404\n",
            "16081\n",
            "16081\n",
            "16084\n",
            "16084\n"
          ]
        },
        {
          "output_type": "stream",
          "name": "stderr",
          "text": [
            "\r 45%|████▌     | 4165/9172 [04:04<03:41, 22.58it/s]"
          ]
        },
        {
          "output_type": "stream",
          "name": "stdout",
          "text": [
            "16084\n",
            "16090\n",
            "16084\n",
            "16084\n",
            "16090\n",
            "16093\n",
            "16084\n"
          ]
        },
        {
          "output_type": "stream",
          "name": "stderr",
          "text": [
            " 45%|████▌     | 4172/9172 [04:04<03:49, 21.75it/s]"
          ]
        },
        {
          "output_type": "stream",
          "name": "stdout",
          "text": [
            "16087\n",
            "16087\n",
            "16093\n",
            "16087\n",
            "16087\n"
          ]
        },
        {
          "output_type": "stream",
          "name": "stderr",
          "text": [
            "\r 46%|████▌     | 4176/9172 [04:04<03:59, 20.83it/s]"
          ]
        },
        {
          "output_type": "stream",
          "name": "stdout",
          "text": [
            "16087\n",
            "16097\n",
            "16087\n",
            "16097\n"
          ]
        },
        {
          "output_type": "stream",
          "name": "stderr",
          "text": [
            "\r 46%|████▌     | 4179/9172 [04:04<04:56, 16.86it/s]"
          ]
        },
        {
          "output_type": "stream",
          "name": "stdout",
          "text": [
            "16093\n",
            "16090\n",
            "16090\n",
            "16090\n",
            "16100\n"
          ]
        },
        {
          "output_type": "stream",
          "name": "stderr",
          "text": [
            " 46%|████▌     | 4187/9172 [04:05<04:03, 20.47it/s]"
          ]
        },
        {
          "output_type": "stream",
          "name": "stdout",
          "text": [
            "16093\n",
            "16093\n",
            "16093\n",
            "16090\n",
            "16100\n",
            "16097\n",
            "16097\n",
            "16097\n"
          ]
        },
        {
          "output_type": "stream",
          "name": "stderr",
          "text": [
            " 46%|████▌     | 4193/9172 [04:05<04:15, 19.52it/s]"
          ]
        },
        {
          "output_type": "stream",
          "name": "stdout",
          "text": [
            "16097\n",
            "16100\n",
            "16097\n",
            "16103\n",
            "16100\n",
            "16093\n",
            "16100\n"
          ]
        },
        {
          "output_type": "stream",
          "name": "stderr",
          "text": [
            "\r 46%|████▌     | 4198/9172 [04:05<03:16, 25.33it/s]"
          ]
        },
        {
          "output_type": "stream",
          "name": "stdout",
          "text": [
            "16097\n",
            "16107\n",
            "16103\n"
          ]
        },
        {
          "output_type": "stream",
          "name": "stderr",
          "text": [
            "\r 46%|████▌     | 4201/9172 [04:05<04:27, 18.61it/s]"
          ]
        },
        {
          "output_type": "stream",
          "name": "stdout",
          "text": [
            "16100\n",
            "16100\n",
            "16107\n"
          ]
        },
        {
          "output_type": "stream",
          "name": "stderr",
          "text": [
            " 46%|████▌     | 4207/9172 [04:06<04:41, 17.63it/s]"
          ]
        },
        {
          "output_type": "stream",
          "name": "stdout",
          "text": [
            "16100\n",
            "16103\n",
            "16100\n",
            "16110\n",
            "16103\n"
          ]
        },
        {
          "output_type": "stream",
          "name": "stderr",
          "text": [
            " 46%|████▌     | 4221/9172 [04:06<02:37, 31.51it/s]"
          ]
        },
        {
          "output_type": "stream",
          "name": "stdout",
          "text": [
            "16107\n",
            "16100\n",
            "16107\n",
            "16107\n",
            "16103\n",
            "16107\n",
            "16107\n",
            "16107\n",
            "16103\n",
            "16103\n",
            "16103\n",
            "16107\n",
            "16107\n",
            "16110\n",
            "16110\n",
            "16110\n",
            "16113\n"
          ]
        },
        {
          "output_type": "stream",
          "name": "stderr",
          "text": [
            " 46%|████▌     | 4230/9172 [04:07<03:55, 21.01it/s]"
          ]
        },
        {
          "output_type": "stream",
          "name": "stdout",
          "text": [
            "16113\n",
            "16110\n",
            "16110\n",
            "16110\n",
            "16110\n",
            "16118\n",
            "16110\n"
          ]
        },
        {
          "output_type": "stream",
          "name": "stderr",
          "text": [
            " 46%|████▌     | 4238/9172 [04:07<04:20, 18.97it/s]"
          ]
        },
        {
          "output_type": "stream",
          "name": "stdout",
          "text": [
            "16118\n",
            "16118\n",
            "16113\n",
            "16118\n",
            "16118\n",
            "16113\n",
            "16113\n"
          ]
        },
        {
          "output_type": "stream",
          "name": "stderr",
          "text": [
            " 46%|████▋     | 4244/9172 [04:08<03:53, 21.09it/s]"
          ]
        },
        {
          "output_type": "stream",
          "name": "stdout",
          "text": [
            "16113\n",
            "16113\n",
            "16113\n",
            "16118\n",
            "16122\n",
            "16122\n"
          ]
        },
        {
          "output_type": "stream",
          "name": "stderr",
          "text": [
            " 46%|████▋     | 4251/9172 [04:08<03:56, 20.84it/s]"
          ]
        },
        {
          "output_type": "stream",
          "name": "stdout",
          "text": [
            "16118\n",
            "16118\n",
            "16118\n",
            "16122\n",
            "16118\n",
            "16122\n",
            "16122\n"
          ]
        },
        {
          "output_type": "stream",
          "name": "stderr",
          "text": [
            "\r 46%|████▋     | 4255/9172 [04:08<03:24, 24.08it/s]"
          ]
        },
        {
          "output_type": "stream",
          "name": "stdout",
          "text": [
            "16125 - HTTP 404\n",
            "16125 - HTTP 404\n",
            "16125\n",
            "16129\n"
          ]
        },
        {
          "output_type": "stream",
          "name": "stderr",
          "text": [
            " 46%|████▋     | 4261/9172 [04:08<03:51, 21.18it/s]"
          ]
        },
        {
          "output_type": "stream",
          "name": "stdout",
          "text": [
            "16122\n",
            "16129\n",
            "16131\n",
            "16125\n",
            "16125\n",
            "16125\n",
            "16122\n"
          ]
        },
        {
          "output_type": "stream",
          "name": "stderr",
          "text": [
            "\r 47%|████▋     | 4265/9172 [04:09<04:12, 19.45it/s]"
          ]
        },
        {
          "output_type": "stream",
          "name": "stdout",
          "text": [
            "16122\n",
            "16125\n"
          ]
        },
        {
          "output_type": "stream",
          "name": "stderr",
          "text": [
            " 47%|████▋     | 4273/9172 [04:09<03:14, 25.19it/s]"
          ]
        },
        {
          "output_type": "stream",
          "name": "stdout",
          "text": [
            "16129\n",
            "16129\n",
            "16125\n",
            "16131\n",
            "16129\n",
            "16125\n",
            "16135\n",
            "16125\n"
          ]
        },
        {
          "output_type": "stream",
          "name": "stderr",
          "text": [
            "\r 47%|████▋     | 4276/9172 [04:09<04:00, 20.32it/s]"
          ]
        },
        {
          "output_type": "stream",
          "name": "stdout",
          "text": [
            "16131\n",
            "16129\n",
            "16131\n",
            "16135\n",
            "16129\n"
          ]
        },
        {
          "output_type": "stream",
          "name": "stderr",
          "text": [
            " 47%|████▋     | 4282/9172 [04:09<04:13, 19.31it/s]"
          ]
        },
        {
          "output_type": "stream",
          "name": "stdout",
          "text": [
            "16141\n",
            "16129\n",
            "16131\n",
            "16131\n",
            "16131\n",
            "16131\n"
          ]
        },
        {
          "output_type": "stream",
          "name": "stderr",
          "text": [
            "\r 47%|████▋     | 4286/9172 [04:10<03:36, 22.53it/s]"
          ]
        },
        {
          "output_type": "stream",
          "name": "stdout",
          "text": [
            "16141\n",
            "16145\n",
            "16135\n",
            "16131\n"
          ]
        },
        {
          "output_type": "stream",
          "name": "stderr",
          "text": [
            " 47%|████▋     | 4292/9172 [04:10<04:09, 19.58it/s]"
          ]
        },
        {
          "output_type": "stream",
          "name": "stdout",
          "text": [
            "16135\n",
            "16141\n",
            "16135\n",
            "16145\n",
            "16151\n",
            "16141\n",
            "16135\n"
          ]
        },
        {
          "output_type": "stream",
          "name": "stderr",
          "text": [
            "\r 47%|████▋     | 4296/9172 [04:10<03:39, 22.18it/s]"
          ]
        },
        {
          "output_type": "stream",
          "name": "stdout",
          "text": [
            "16141\n",
            "16141\n",
            "16135\n"
          ]
        },
        {
          "output_type": "stream",
          "name": "stderr",
          "text": [
            " 47%|████▋     | 4304/9172 [04:11<04:03, 19.98it/s]"
          ]
        },
        {
          "output_type": "stream",
          "name": "stdout",
          "text": [
            "16145\n",
            "16145\n",
            "16151\n",
            "16145\n",
            "16154\n",
            "16145\n"
          ]
        },
        {
          "output_type": "stream",
          "name": "stderr",
          "text": [
            "\r 47%|████▋     | 4307/9172 [04:11<04:05, 19.79it/s]"
          ]
        },
        {
          "output_type": "stream",
          "name": "stdout",
          "text": [
            "16141\n",
            "16141\n",
            "16154\n",
            "16145\n",
            "16145\n",
            "16158\n"
          ]
        },
        {
          "output_type": "stream",
          "name": "stderr",
          "text": [
            " 47%|████▋     | 4314/9172 [04:11<04:18, 18.77it/s]"
          ]
        },
        {
          "output_type": "stream",
          "name": "stdout",
          "text": [
            "16145\n",
            "16151\n",
            "16151\n",
            "16151\n"
          ]
        },
        {
          "output_type": "stream",
          "name": "stderr",
          "text": [
            "\r 47%|████▋     | 4317/9172 [04:11<04:05, 19.77it/s]"
          ]
        },
        {
          "output_type": "stream",
          "name": "stdout",
          "text": [
            "16151\n",
            "16158\n",
            "16154\n",
            "16154\n",
            "16151\n",
            "16151\n",
            "16154\n"
          ]
        },
        {
          "output_type": "stream",
          "name": "stderr",
          "text": [
            "\r 47%|████▋     | 4322/9172 [04:12<04:02, 19.97it/s]"
          ]
        },
        {
          "output_type": "stream",
          "name": "stdout",
          "text": [
            "16158\n",
            "16166\n",
            "16154\n"
          ]
        },
        {
          "output_type": "stream",
          "name": "stderr",
          "text": [
            " 47%|████▋     | 4327/9172 [04:12<05:49, 13.86it/s]"
          ]
        },
        {
          "output_type": "stream",
          "name": "stdout",
          "text": [
            "16158\n",
            "16154\n",
            "16158\n"
          ]
        },
        {
          "output_type": "stream",
          "name": "stderr",
          "text": [
            "\r 47%|████▋     | 4329/9172 [04:12<05:30, 14.66it/s]"
          ]
        },
        {
          "output_type": "stream",
          "name": "stdout",
          "text": [
            "16158\n",
            "16158\n",
            "16158\n",
            "16158\n",
            "16158\n"
          ]
        },
        {
          "output_type": "stream",
          "name": "stderr",
          "text": [
            " 47%|████▋     | 4335/9172 [04:13<05:12, 15.49it/s]"
          ]
        },
        {
          "output_type": "stream",
          "name": "stdout",
          "text": [
            "16166\n",
            "16158\n",
            "16158\n"
          ]
        },
        {
          "output_type": "stream",
          "name": "stderr",
          "text": [
            " 47%|████▋     | 4341/9172 [04:13<05:08, 15.64it/s]"
          ]
        },
        {
          "output_type": "stream",
          "name": "stdout",
          "text": [
            "16169\n",
            "16166\n",
            "16158\n",
            "16158\n",
            "16158\n",
            "16169\n"
          ]
        },
        {
          "output_type": "stream",
          "name": "stderr",
          "text": [
            "\r 47%|████▋     | 4343/9172 [04:13<05:06, 15.75it/s]"
          ]
        },
        {
          "output_type": "stream",
          "name": "stdout",
          "text": [
            "16166\n",
            "16166\n",
            "16173\n"
          ]
        },
        {
          "output_type": "stream",
          "name": "stderr",
          "text": [
            "\r 47%|████▋     | 4345/9172 [04:13<06:21, 12.66it/s]"
          ]
        },
        {
          "output_type": "stream",
          "name": "stdout",
          "text": [
            "16166\n",
            "16166\n",
            "16166\n"
          ]
        },
        {
          "output_type": "stream",
          "name": "stderr",
          "text": [
            " 47%|████▋     | 4350/9172 [04:14<06:38, 12.10it/s]"
          ]
        },
        {
          "output_type": "stream",
          "name": "stdout",
          "text": [
            "16173\n",
            "16169\n",
            "16169\n"
          ]
        },
        {
          "output_type": "stream",
          "name": "stderr",
          "text": [
            " 47%|████▋     | 4355/9172 [04:14<05:15, 15.26it/s]"
          ]
        },
        {
          "output_type": "stream",
          "name": "stdout",
          "text": [
            "16169\n",
            "16169\n",
            "16176\n",
            "16169\n",
            "16169\n",
            "16169\n"
          ]
        },
        {
          "output_type": "stream",
          "name": "stderr",
          "text": [
            "\r 48%|████▊     | 4357/9172 [04:14<05:43, 14.03it/s]"
          ]
        },
        {
          "output_type": "stream",
          "name": "stdout",
          "text": [
            "16173\n",
            "16176\n"
          ]
        },
        {
          "output_type": "stream",
          "name": "stderr",
          "text": [
            " 48%|████▊     | 4361/9172 [04:15<06:33, 12.22it/s]"
          ]
        },
        {
          "output_type": "stream",
          "name": "stdout",
          "text": [
            "16173\n",
            "16173\n",
            "16173\n",
            "16173\n"
          ]
        },
        {
          "output_type": "stream",
          "name": "stderr",
          "text": [
            " 48%|████▊     | 4366/9172 [04:15<06:12, 12.89it/s]"
          ]
        },
        {
          "output_type": "stream",
          "name": "stdout",
          "text": [
            "16173\n",
            "16176\n",
            "16173\n",
            "16179\n",
            "16176\n"
          ]
        },
        {
          "output_type": "stream",
          "name": "stderr",
          "text": [
            " 48%|████▊     | 4370/9172 [04:15<07:11, 11.13it/s]"
          ]
        },
        {
          "output_type": "stream",
          "name": "stdout",
          "text": [
            "16173\n",
            "16176\n",
            "16176\n"
          ]
        },
        {
          "output_type": "stream",
          "name": "stderr",
          "text": [
            "\r 48%|████▊     | 4374/9172 [04:16<05:49, 13.73it/s]"
          ]
        },
        {
          "output_type": "stream",
          "name": "stdout",
          "text": [
            "16176\n",
            "16176\n",
            "16179\n",
            "16179\n"
          ]
        },
        {
          "output_type": "stream",
          "name": "stderr",
          "text": [
            " 48%|████▊     | 4379/9172 [04:16<05:17, 15.09it/s]"
          ]
        },
        {
          "output_type": "stream",
          "name": "stdout",
          "text": [
            "16186\n",
            "16179\n",
            "16179\n",
            "16179\n",
            "16190\n",
            "16179\n"
          ]
        },
        {
          "output_type": "stream",
          "name": "stderr",
          "text": [
            " 48%|████▊     | 4384/9172 [04:16<05:58, 13.35it/s]"
          ]
        },
        {
          "output_type": "stream",
          "name": "stdout",
          "text": [
            "16186\n",
            "16190\n",
            "16186\n",
            "16186\n",
            "16186\n",
            "16192\n",
            "16186\n"
          ]
        },
        {
          "output_type": "stream",
          "name": "stderr",
          "text": [
            "\r 48%|████▊     | 4388/9172 [04:17<05:15, 15.15it/s]"
          ]
        },
        {
          "output_type": "stream",
          "name": "stdout",
          "text": [
            "16186\n",
            "16186\n"
          ]
        },
        {
          "output_type": "stream",
          "name": "stderr",
          "text": [
            " 48%|████▊     | 4397/9172 [04:17<04:08, 19.25it/s]"
          ]
        },
        {
          "output_type": "stream",
          "name": "stdout",
          "text": [
            "16190\n",
            "16186\n",
            "16190\n",
            "16192\n",
            "16186\n",
            "16190\n",
            "16190\n",
            "16190\n"
          ]
        },
        {
          "output_type": "stream",
          "name": "stderr",
          "text": [
            "\r 48%|████▊     | 4400/9172 [04:17<05:24, 14.69it/s]"
          ]
        },
        {
          "output_type": "stream",
          "name": "stdout",
          "text": [
            "16194\n",
            "16190\n",
            "16192\n",
            "16194\n"
          ]
        },
        {
          "output_type": "stream",
          "name": "stderr",
          "text": [
            "\r 48%|████▊     | 4403/9172 [04:18<05:02, 15.76it/s]"
          ]
        },
        {
          "output_type": "stream",
          "name": "stdout",
          "text": [
            "16197\n",
            "16192\n",
            "16192\n"
          ]
        },
        {
          "output_type": "stream",
          "name": "stderr",
          "text": [
            " 48%|████▊     | 4407/9172 [04:18<06:21, 12.51it/s]"
          ]
        },
        {
          "output_type": "stream",
          "name": "stdout",
          "text": [
            "16197\n",
            "16192\n",
            "16192\n",
            "16192\n"
          ]
        },
        {
          "output_type": "stream",
          "name": "stderr",
          "text": [
            " 48%|████▊     | 4411/9172 [04:18<05:42, 13.88it/s]"
          ]
        },
        {
          "output_type": "stream",
          "name": "stdout",
          "text": [
            "16194\n",
            "16192\n",
            "16200\n"
          ]
        },
        {
          "output_type": "stream",
          "name": "stderr",
          "text": [
            "\r 48%|████▊     | 4413/9172 [04:19<07:11, 11.03it/s]"
          ]
        },
        {
          "output_type": "stream",
          "name": "stdout",
          "text": [
            "16194\n",
            "16194\n",
            "16197\n",
            "16197\n"
          ]
        },
        {
          "output_type": "stream",
          "name": "stderr",
          "text": [
            " 48%|████▊     | 4417/9172 [04:19<08:20,  9.50it/s]"
          ]
        },
        {
          "output_type": "stream",
          "name": "stdout",
          "text": [
            "16194\n",
            "16197\n",
            "16194\n",
            "16200\n"
          ]
        },
        {
          "output_type": "stream",
          "name": "stderr",
          "text": [
            "\r 48%|████▊     | 4420/9172 [04:19<06:14, 12.67it/s]"
          ]
        },
        {
          "output_type": "stream",
          "name": "stdout",
          "text": [
            "16194\n",
            "16194\n"
          ]
        },
        {
          "output_type": "stream",
          "name": "stderr",
          "text": [
            " 48%|████▊     | 4426/9172 [04:20<05:49, 13.57it/s]"
          ]
        },
        {
          "output_type": "stream",
          "name": "stdout",
          "text": [
            "16197\n",
            "16200\n",
            "16200\n",
            "16200\n",
            "16194\n"
          ]
        },
        {
          "output_type": "stream",
          "name": "stderr",
          "text": [
            "\r 48%|████▊     | 4432/9172 [04:20<04:37, 17.09it/s]"
          ]
        },
        {
          "output_type": "stream",
          "name": "stdout",
          "text": [
            "16202\n",
            "16197\n",
            "16202\n",
            "16200\n",
            "16200\n",
            "16205\n"
          ]
        },
        {
          "output_type": "stream",
          "name": "stderr",
          "text": [
            " 48%|████▊     | 4437/9172 [04:20<05:10, 15.25it/s]"
          ]
        },
        {
          "output_type": "stream",
          "name": "stdout",
          "text": [
            "16202\n",
            "16200\n",
            "16200\n",
            "16208\n",
            "16205\n"
          ]
        },
        {
          "output_type": "stream",
          "name": "stderr",
          "text": [
            "\r 48%|████▊     | 4440/9172 [04:20<04:48, 16.40it/s]"
          ]
        },
        {
          "output_type": "stream",
          "name": "stdout",
          "text": [
            "16202\n",
            "16202\n",
            "16202\n",
            "16202\n",
            "16202\n"
          ]
        },
        {
          "output_type": "stream",
          "name": "stderr",
          "text": [
            " 48%|████▊     | 4444/9172 [04:21<06:07, 12.86it/s]"
          ]
        },
        {
          "output_type": "stream",
          "name": "stdout",
          "text": [
            "16205\n",
            "16205\n",
            "16202\n",
            "16205\n"
          ]
        },
        {
          "output_type": "stream",
          "name": "stderr",
          "text": [
            " 49%|████▊     | 4449/9172 [04:21<06:20, 12.43it/s]"
          ]
        },
        {
          "output_type": "stream",
          "name": "stdout",
          "text": [
            "16208\n",
            "16210\n",
            "16205\n",
            "16205\n"
          ]
        },
        {
          "output_type": "stream",
          "name": "stderr",
          "text": [
            "\r 49%|████▊     | 4451/9172 [04:21<05:55, 13.27it/s]"
          ]
        },
        {
          "output_type": "stream",
          "name": "stdout",
          "text": [
            "16205\n",
            "16210\n"
          ]
        },
        {
          "output_type": "stream",
          "name": "stderr",
          "text": [
            " 49%|████▊     | 4456/9172 [04:22<06:09, 12.77it/s]"
          ]
        },
        {
          "output_type": "stream",
          "name": "stdout",
          "text": [
            "16208\n",
            "16214\n",
            "16208\n",
            "16205\n",
            "16208\n"
          ]
        },
        {
          "output_type": "stream",
          "name": "stderr",
          "text": [
            " 49%|████▊     | 4460/9172 [04:22<06:21, 12.34it/s]"
          ]
        },
        {
          "output_type": "stream",
          "name": "stdout",
          "text": [
            "16208\n",
            "16210\n",
            "16208\n",
            "16214\n"
          ]
        },
        {
          "output_type": "stream",
          "name": "stderr",
          "text": [
            " 49%|████▊     | 4464/9172 [04:22<05:18, 14.78it/s]"
          ]
        },
        {
          "output_type": "stream",
          "name": "stdout",
          "text": [
            "16210\n",
            "16210\n",
            "16210\n",
            "16210\n",
            "16217\n"
          ]
        },
        {
          "output_type": "stream",
          "name": "stderr",
          "text": [
            "\r 49%|████▊     | 4467/9172 [04:23<05:01, 15.61it/s]"
          ]
        },
        {
          "output_type": "stream",
          "name": "stdout",
          "text": [
            "16208\n",
            "16210\n"
          ]
        },
        {
          "output_type": "stream",
          "name": "stderr",
          "text": [
            " 49%|████▉     | 4472/9172 [04:23<05:16, 14.84it/s]"
          ]
        },
        {
          "output_type": "stream",
          "name": "stdout",
          "text": [
            "16210\n",
            "16217\n",
            "16214\n",
            "16214\n",
            "16219\n"
          ]
        },
        {
          "output_type": "stream",
          "name": "stderr",
          "text": [
            " 49%|████▉     | 4477/9172 [04:24<06:47, 11.53it/s]"
          ]
        },
        {
          "output_type": "stream",
          "name": "stdout",
          "text": [
            "16214\n",
            "16219\n",
            "16214\n",
            "16214\n"
          ]
        },
        {
          "output_type": "stream",
          "name": "stderr",
          "text": [
            " 49%|████▉     | 4481/9172 [04:24<08:30,  9.19it/s]"
          ]
        },
        {
          "output_type": "stream",
          "name": "stdout",
          "text": [
            "16217\n",
            "16214\n",
            "16217\n",
            "16217\n"
          ]
        },
        {
          "output_type": "stream",
          "name": "stderr",
          "text": [
            " 49%|████▉     | 4486/9172 [04:25<07:05, 11.02it/s]"
          ]
        },
        {
          "output_type": "stream",
          "name": "stdout",
          "text": [
            "16217\n",
            "16217\n",
            "16222\n",
            "16219\n",
            "16219\n"
          ]
        },
        {
          "output_type": "stream",
          "name": "stderr",
          "text": [
            "\r 49%|████▉     | 4488/9172 [04:25<06:43, 11.61it/s]"
          ]
        },
        {
          "output_type": "stream",
          "name": "stdout",
          "text": [
            "16219\n",
            "16219\n",
            "16219\n"
          ]
        },
        {
          "output_type": "stream",
          "name": "stderr",
          "text": [
            " 49%|████▉     | 4493/9172 [04:25<07:09, 10.90it/s]"
          ]
        },
        {
          "output_type": "stream",
          "name": "stdout",
          "text": [
            "16226\n",
            "16222\n",
            "16219\n",
            "16219\n",
            "16219\n",
            "16217\n",
            "16219\n"
          ]
        },
        {
          "output_type": "stream",
          "name": "stderr",
          "text": [
            "\r 49%|████▉     | 4497/9172 [04:25<05:37, 13.85it/s]"
          ]
        },
        {
          "output_type": "stream",
          "name": "stdout",
          "text": [
            "16219\n",
            "16222\n"
          ]
        },
        {
          "output_type": "stream",
          "name": "stderr",
          "text": [
            " 49%|████▉     | 4501/9172 [04:26<07:42, 10.10it/s]"
          ]
        },
        {
          "output_type": "stream",
          "name": "stdout",
          "text": [
            "16226\n",
            "16222\n",
            "16222\n"
          ]
        },
        {
          "output_type": "stream",
          "name": "stderr",
          "text": [
            " 49%|████▉     | 4505/9172 [04:26<06:41, 11.62it/s]"
          ]
        },
        {
          "output_type": "stream",
          "name": "stdout",
          "text": [
            "16222\n",
            "16230\n",
            "16219\n",
            "16226\n"
          ]
        },
        {
          "output_type": "stream",
          "name": "stderr",
          "text": [
            "\r 49%|████▉     | 4507/9172 [04:27<07:27, 10.43it/s]"
          ]
        },
        {
          "output_type": "stream",
          "name": "stdout",
          "text": [
            "16226\n",
            "16226\n",
            "16222\n"
          ]
        },
        {
          "output_type": "stream",
          "name": "stderr",
          "text": [
            "\r 49%|████▉     | 4509/9172 [04:27<07:26, 10.44it/s]"
          ]
        },
        {
          "output_type": "stream",
          "name": "stdout",
          "text": [
            "16222\n"
          ]
        },
        {
          "output_type": "stream",
          "name": "stderr",
          "text": [
            "\r 49%|████▉     | 4511/9172 [04:27<08:45,  8.86it/s]"
          ]
        },
        {
          "output_type": "stream",
          "name": "stdout",
          "text": [
            "16230\n",
            "16226\n",
            "16226\n",
            "16226\n",
            "16226\n",
            "16226\n"
          ]
        },
        {
          "output_type": "stream",
          "name": "stderr",
          "text": [
            "\r 49%|████▉     | 4516/9172 [04:27<06:50, 11.35it/s]"
          ]
        },
        {
          "output_type": "stream",
          "name": "stdout",
          "text": [
            "16230\n",
            "16230\n"
          ]
        },
        {
          "output_type": "stream",
          "name": "stderr",
          "text": [
            " 49%|████▉     | 4521/9172 [04:28<06:16, 12.34it/s]"
          ]
        },
        {
          "output_type": "stream",
          "name": "stdout",
          "text": [
            "16234\n",
            "16226\n",
            "16234\n",
            "16226\n",
            "16230\n"
          ]
        },
        {
          "output_type": "stream",
          "name": "stderr",
          "text": [
            "\r 49%|████▉     | 4523/9172 [04:28<05:53, 13.17it/s]"
          ]
        },
        {
          "output_type": "stream",
          "name": "stdout",
          "text": [
            "16239\n",
            "16234\n",
            "16230\n"
          ]
        },
        {
          "output_type": "stream",
          "name": "stderr",
          "text": [
            " 49%|████▉     | 4528/9172 [04:28<06:45, 11.46it/s]"
          ]
        },
        {
          "output_type": "stream",
          "name": "stdout",
          "text": [
            "16234\n",
            "16239\n",
            "16230\n"
          ]
        },
        {
          "output_type": "stream",
          "name": "stderr",
          "text": [
            " 49%|████▉     | 4532/9172 [04:29<06:18, 12.27it/s]"
          ]
        },
        {
          "output_type": "stream",
          "name": "stdout",
          "text": [
            "16230\n",
            "16230\n",
            "16234\n",
            "16239\n"
          ]
        },
        {
          "output_type": "stream",
          "name": "stderr",
          "text": [
            "\r 49%|████▉     | 4535/9172 [04:29<05:29, 14.07it/s]"
          ]
        },
        {
          "output_type": "stream",
          "name": "stdout",
          "text": [
            "16234\n",
            "16239\n",
            "16234\n",
            "16234\n",
            "16234\n"
          ]
        },
        {
          "output_type": "stream",
          "name": "stderr",
          "text": [
            "\r 49%|████▉     | 4538/9172 [04:29<04:49, 16.02it/s]"
          ]
        },
        {
          "output_type": "stream",
          "name": "stdout",
          "text": [
            "16239\n",
            "16234\n",
            "16239\n"
          ]
        },
        {
          "output_type": "stream",
          "name": "stderr",
          "text": [
            " 50%|████▉     | 4543/9172 [04:30<08:32,  9.04it/s]"
          ]
        },
        {
          "output_type": "stream",
          "name": "stdout",
          "text": [
            "16239\n",
            "16247\n",
            "16244\n"
          ]
        },
        {
          "output_type": "stream",
          "name": "stderr",
          "text": [
            "\r 50%|████▉     | 4550/9172 [04:30<04:41, 16.45it/s]"
          ]
        },
        {
          "output_type": "stream",
          "name": "stdout",
          "text": [
            "16239\n",
            "16244\n",
            "16244\n",
            "16244\n",
            "16239\n",
            "16244\n",
            "16244\n",
            "16244\n"
          ]
        },
        {
          "output_type": "stream",
          "name": "stderr",
          "text": [
            " 50%|████▉     | 4555/9172 [04:31<06:25, 11.98it/s]"
          ]
        },
        {
          "output_type": "stream",
          "name": "stdout",
          "text": [
            "16244\n",
            "16244\n",
            "16244\n",
            "16250\n",
            "16247\n",
            "16244\n"
          ]
        },
        {
          "output_type": "stream",
          "name": "stderr",
          "text": [
            "\r 50%|████▉     | 4557/9172 [04:31<06:18, 12.19it/s]"
          ]
        },
        {
          "output_type": "stream",
          "name": "stdout",
          "text": [
            "16247\n"
          ]
        },
        {
          "output_type": "stream",
          "name": "stderr",
          "text": [
            " 50%|████▉     | 4562/9172 [04:31<07:12, 10.66it/s]"
          ]
        },
        {
          "output_type": "stream",
          "name": "stdout",
          "text": [
            "16247\n",
            "16247\n",
            "16250\n",
            "16247\n",
            "16250\n"
          ]
        },
        {
          "output_type": "stream",
          "name": "stderr",
          "text": [
            "\r 50%|████▉     | 4564/9172 [04:32<10:59,  6.99it/s]"
          ]
        },
        {
          "output_type": "stream",
          "name": "stdout",
          "text": [
            "16247\n",
            "16250\n",
            "16250\n",
            "16253\n"
          ]
        },
        {
          "output_type": "stream",
          "name": "stderr",
          "text": [
            " 50%|████▉     | 4570/9172 [04:33<09:35,  8.00it/s]"
          ]
        },
        {
          "output_type": "stream",
          "name": "stdout",
          "text": [
            "16250\n",
            "16256\n",
            "16253\n"
          ]
        },
        {
          "output_type": "stream",
          "name": "stderr",
          "text": [
            " 50%|████▉     | 4574/9172 [04:33<07:09, 10.70it/s]"
          ]
        },
        {
          "output_type": "stream",
          "name": "stdout",
          "text": [
            "16253\n",
            "16247\n",
            "16250\n",
            "16247\n"
          ]
        },
        {
          "output_type": "stream",
          "name": "stderr",
          "text": [
            " 50%|████▉     | 4581/9172 [04:33<04:20, 17.66it/s]"
          ]
        },
        {
          "output_type": "stream",
          "name": "stdout",
          "text": [
            "16250\n",
            "16253\n",
            "16253\n",
            "16247\n",
            "16250\n",
            "16253\n",
            "16158\n",
            "16256\n",
            "16260\n"
          ]
        },
        {
          "output_type": "stream",
          "name": "stderr",
          "text": [
            " 50%|█████     | 4587/9172 [04:34<05:32, 13.81it/s]"
          ]
        },
        {
          "output_type": "stream",
          "name": "stdout",
          "text": [
            "16256\n",
            "16256\n",
            "16256\n",
            "16264\n"
          ]
        },
        {
          "output_type": "stream",
          "name": "stderr",
          "text": [
            "\r 50%|█████     | 4589/9172 [04:34<05:33, 13.76it/s]"
          ]
        },
        {
          "output_type": "stream",
          "name": "stdout",
          "text": [
            "16253\n",
            "16253\n",
            "16260\n"
          ]
        },
        {
          "output_type": "stream",
          "name": "stderr",
          "text": [
            " 50%|█████     | 4594/9172 [04:34<05:15, 14.49it/s]"
          ]
        },
        {
          "output_type": "stream",
          "name": "stdout",
          "text": [
            "16260\n",
            "16256\n",
            "16260\n",
            "16256\n",
            "16260\n",
            "16260\n"
          ]
        },
        {
          "output_type": "stream",
          "name": "stderr",
          "text": [
            "\r 50%|█████     | 4597/9172 [04:34<04:35, 16.62it/s]"
          ]
        },
        {
          "output_type": "stream",
          "name": "stdout",
          "text": [
            "16264\n",
            "16260\n",
            "16256\n",
            "16260\n",
            "16260\n"
          ]
        },
        {
          "output_type": "stream",
          "name": "stderr",
          "text": [
            " 50%|█████     | 4609/9172 [04:35<03:06, 24.44it/s]"
          ]
        },
        {
          "output_type": "stream",
          "name": "stdout",
          "text": [
            "16268\n",
            "16264\n",
            "16268\n",
            "16260\n",
            "16264\n",
            "16264\n",
            "16272\n",
            "16264\n"
          ]
        },
        {
          "output_type": "stream",
          "name": "stderr",
          "text": [
            "\r 50%|█████     | 4612/9172 [04:35<04:12, 18.07it/s]"
          ]
        },
        {
          "output_type": "stream",
          "name": "stdout",
          "text": [
            "16264\n",
            "16264\n",
            "16268\n",
            "16264\n",
            "16272\n"
          ]
        },
        {
          "output_type": "stream",
          "name": "stderr",
          "text": [
            " 50%|█████     | 4618/9172 [04:35<04:37, 16.44it/s]"
          ]
        },
        {
          "output_type": "stream",
          "name": "stdout",
          "text": [
            "16268\n",
            "16272\n",
            "16268\n",
            "16268\n"
          ]
        },
        {
          "output_type": "stream",
          "name": "stderr",
          "text": [
            " 50%|█████     | 4625/9172 [04:36<03:35, 21.07it/s]"
          ]
        },
        {
          "output_type": "stream",
          "name": "stdout",
          "text": [
            "16268\n",
            "16272\n",
            "16272\n",
            "16272\n",
            "16272\n",
            "16272\n",
            "16272\n",
            "16272\n"
          ]
        },
        {
          "output_type": "stream",
          "name": "stderr",
          "text": [
            " 50%|█████     | 4631/9172 [04:36<03:17, 23.05it/s]"
          ]
        },
        {
          "output_type": "stream",
          "name": "stdout",
          "text": [
            "16275\n",
            "16268\n",
            "16272\n",
            "16272\n",
            "16272\n"
          ]
        },
        {
          "output_type": "stream",
          "name": "stderr",
          "text": [
            "\r 51%|█████     | 4634/9172 [04:36<04:12, 17.97it/s]"
          ]
        },
        {
          "output_type": "stream",
          "name": "stdout",
          "text": [
            "16275\n",
            "16275\n",
            "16278\n",
            "16275\n"
          ]
        },
        {
          "output_type": "stream",
          "name": "stderr",
          "text": [
            " 51%|█████     | 4640/9172 [04:37<04:13, 17.87it/s]"
          ]
        },
        {
          "output_type": "stream",
          "name": "stdout",
          "text": [
            "16275\n",
            "16275\n",
            "16275\n",
            "16275\n",
            "16278\n"
          ]
        },
        {
          "output_type": "stream",
          "name": "stderr",
          "text": [
            " 51%|█████     | 4645/9172 [04:37<04:24, 17.11it/s]"
          ]
        },
        {
          "output_type": "stream",
          "name": "stdout",
          "text": [
            "16275\n",
            "16278\n",
            "16278\n",
            "16278\n",
            "16281\n",
            "16278\n",
            "16293\n",
            "16278\n"
          ]
        },
        {
          "output_type": "stream",
          "name": "stderr",
          "text": [
            " 51%|█████     | 4652/9172 [04:37<03:36, 20.93it/s]"
          ]
        },
        {
          "output_type": "stream",
          "name": "stdout",
          "text": [
            "16275\n",
            "16278\n",
            "16278\n",
            "16281\n"
          ]
        },
        {
          "output_type": "stream",
          "name": "stderr",
          "text": [
            "\r 51%|█████     | 4655/9172 [04:37<03:56, 19.10it/s]"
          ]
        },
        {
          "output_type": "stream",
          "name": "stdout",
          "text": [
            "16293\n",
            "16296\n",
            "16281\n",
            "16293\n",
            "16281\n",
            "16281\n"
          ]
        },
        {
          "output_type": "stream",
          "name": "stderr",
          "text": [
            " 51%|█████     | 4663/9172 [04:38<03:36, 20.84it/s]"
          ]
        },
        {
          "output_type": "stream",
          "name": "stdout",
          "text": [
            "16281\n",
            "16293\n",
            "16281\n",
            "16281\n",
            "16296\n"
          ]
        },
        {
          "output_type": "stream",
          "name": "stderr",
          "text": [
            "\r 51%|█████     | 4666/9172 [04:38<06:08, 12.24it/s]"
          ]
        },
        {
          "output_type": "stream",
          "name": "stdout",
          "text": [
            "16293\n",
            "16299\n",
            "16296\n",
            "16293\n"
          ]
        },
        {
          "output_type": "stream",
          "name": "stderr",
          "text": [
            "\r 51%|█████     | 4672/9172 [04:38<04:34, 16.38it/s]"
          ]
        },
        {
          "output_type": "stream",
          "name": "stdout",
          "text": [
            "16299\n",
            "16293\n",
            "16293\n",
            "16293\n",
            "16296\n"
          ]
        },
        {
          "output_type": "stream",
          "name": "stderr",
          "text": [
            " 51%|█████     | 4677/9172 [04:39<05:14, 14.28it/s]"
          ]
        },
        {
          "output_type": "stream",
          "name": "stdout",
          "text": [
            "16303\n",
            "16296\n",
            "16296\n",
            "16296\n",
            "16296\n"
          ]
        },
        {
          "output_type": "stream",
          "name": "stderr",
          "text": [
            "\r 51%|█████     | 4679/9172 [04:39<05:51, 12.78it/s]"
          ]
        },
        {
          "output_type": "stream",
          "name": "stdout",
          "text": [
            "16308\n",
            "16299\n"
          ]
        },
        {
          "output_type": "stream",
          "name": "stderr",
          "text": [
            "\r 51%|█████     | 4681/9172 [04:39<07:04, 10.59it/s]"
          ]
        },
        {
          "output_type": "stream",
          "name": "stdout",
          "text": [
            "16299\n",
            "16299\n",
            "16299\n",
            "16299\n",
            "16299\n"
          ]
        },
        {
          "output_type": "stream",
          "name": "stderr",
          "text": [
            " 51%|█████     | 4687/9172 [04:40<05:37, 13.28it/s]"
          ]
        },
        {
          "output_type": "stream",
          "name": "stdout",
          "text": [
            "16308\n",
            "16303\n",
            "16303\n"
          ]
        },
        {
          "output_type": "stream",
          "name": "stderr",
          "text": [
            " 51%|█████     | 4691/9172 [04:40<05:22, 13.89it/s]"
          ]
        },
        {
          "output_type": "stream",
          "name": "stdout",
          "text": [
            "16303\n",
            "16303\n",
            "16303\n",
            "16303\n"
          ]
        },
        {
          "output_type": "stream",
          "name": "stderr",
          "text": [
            " 51%|█████     | 4697/9172 [04:40<04:27, 16.73it/s]"
          ]
        },
        {
          "output_type": "stream",
          "name": "stdout",
          "text": [
            "16308\n",
            "16311\n",
            "16219\n",
            "16303\n",
            "16308\n",
            "16311\n"
          ]
        },
        {
          "output_type": "stream",
          "name": "stderr",
          "text": [
            "\r 51%|█████     | 4699/9172 [04:40<04:46, 15.61it/s]"
          ]
        },
        {
          "output_type": "stream",
          "name": "stdout",
          "text": [
            "16315\n",
            "16308\n",
            "16308\n"
          ]
        },
        {
          "output_type": "stream",
          "name": "stderr",
          "text": [
            " 51%|█████▏    | 4704/9172 [04:41<05:30, 13.52it/s]"
          ]
        },
        {
          "output_type": "stream",
          "name": "stdout",
          "text": [
            "16308\n",
            "16308\n",
            "16311\n",
            "16311\n"
          ]
        },
        {
          "output_type": "stream",
          "name": "stderr",
          "text": [
            "\r 51%|█████▏    | 4708/9172 [04:41<04:09, 17.86it/s]"
          ]
        },
        {
          "output_type": "stream",
          "name": "stdout",
          "text": [
            "16311\n",
            "16311\n",
            "16311\n",
            "16315\n",
            "16335\n",
            "16311\n"
          ]
        },
        {
          "output_type": "stream",
          "name": "stderr",
          "text": [
            " 51%|█████▏    | 4714/9172 [04:42<05:48, 12.78it/s]"
          ]
        },
        {
          "output_type": "stream",
          "name": "stdout",
          "text": [
            "16311\n",
            "16338\n",
            "16311\n",
            "16315\n",
            "16315\n",
            "16315\n"
          ]
        },
        {
          "output_type": "stream",
          "name": "stderr",
          "text": [
            " 51%|█████▏    | 4719/9172 [04:42<05:38, 13.16it/s]"
          ]
        },
        {
          "output_type": "stream",
          "name": "stdout",
          "text": [
            "16315\n",
            "16335\n",
            "16335\n"
          ]
        },
        {
          "output_type": "stream",
          "name": "stderr",
          "text": [
            "\r 51%|█████▏    | 4721/9172 [04:42<05:24, 13.70it/s]"
          ]
        },
        {
          "output_type": "stream",
          "name": "stdout",
          "text": [
            "16338\n",
            "16335\n",
            "16335\n",
            "16335\n",
            "16341\n"
          ]
        },
        {
          "output_type": "stream",
          "name": "stderr",
          "text": [
            " 52%|█████▏    | 4727/9172 [04:42<04:31, 16.35it/s]"
          ]
        },
        {
          "output_type": "stream",
          "name": "stdout",
          "text": [
            "16315\n",
            "16315\n",
            "16315\n"
          ]
        },
        {
          "output_type": "stream",
          "name": "stderr",
          "text": [
            " 52%|█████▏    | 4731/9172 [04:43<04:49, 15.36it/s]"
          ]
        },
        {
          "output_type": "stream",
          "name": "stdout",
          "text": [
            "16338\n",
            "16341\n",
            "16344\n",
            "16338\n"
          ]
        },
        {
          "output_type": "stream",
          "name": "stderr",
          "text": [
            " 52%|█████▏    | 4735/9172 [04:43<05:21, 13.79it/s]"
          ]
        },
        {
          "output_type": "stream",
          "name": "stdout",
          "text": [
            "16335\n",
            "16338\n",
            "16335\n",
            "16344\n"
          ]
        },
        {
          "output_type": "stream",
          "name": "stderr",
          "text": [
            "\r 52%|█████▏    | 4737/9172 [04:43<06:53, 10.72it/s]"
          ]
        },
        {
          "output_type": "stream",
          "name": "stdout",
          "text": [
            "16335\n",
            "16341\n",
            "16341\n",
            "16347\n",
            "16338\n"
          ]
        },
        {
          "output_type": "stream",
          "name": "stderr",
          "text": [
            "\r 52%|█████▏    | 4741/9172 [04:44<05:02, 14.64it/s]"
          ]
        },
        {
          "output_type": "stream",
          "name": "stdout",
          "text": [
            "16344\n",
            "16341\n",
            "16341\n",
            "16338\n"
          ]
        },
        {
          "output_type": "stream",
          "name": "stderr",
          "text": [
            " 52%|█████▏    | 4747/9172 [04:44<04:36, 15.99it/s]"
          ]
        },
        {
          "output_type": "stream",
          "name": "stdout",
          "text": [
            "16347\n",
            "16350\n",
            "16344\n",
            "16344\n"
          ]
        },
        {
          "output_type": "stream",
          "name": "stderr",
          "text": [
            " 52%|█████▏    | 4751/9172 [04:44<04:55, 14.98it/s]"
          ]
        },
        {
          "output_type": "stream",
          "name": "stdout",
          "text": [
            "16350\n",
            "16344\n",
            "16353\n"
          ]
        },
        {
          "output_type": "stream",
          "name": "stderr",
          "text": [
            " 52%|█████▏    | 4755/9172 [04:45<05:20, 13.78it/s]"
          ]
        },
        {
          "output_type": "stream",
          "name": "stdout",
          "text": [
            "16344\n",
            "16347\n",
            "16347\n",
            "16341\n"
          ]
        },
        {
          "output_type": "stream",
          "name": "stderr",
          "text": [
            "\r 52%|█████▏    | 4759/9172 [04:45<04:06, 17.89it/s]"
          ]
        },
        {
          "output_type": "stream",
          "name": "stdout",
          "text": [
            "16344\n",
            "16347\n",
            "16353\n",
            "16347\n"
          ]
        },
        {
          "output_type": "stream",
          "name": "stderr",
          "text": [
            "\r 52%|█████▏    | 4761/9172 [04:45<05:33, 13.22it/s]"
          ]
        },
        {
          "output_type": "stream",
          "name": "stdout",
          "text": [
            "16347\n",
            "16350\n",
            "16357\n",
            "16347\n"
          ]
        },
        {
          "output_type": "stream",
          "name": "stderr",
          "text": [
            "\r 52%|█████▏    | 4764/9172 [04:45<05:09, 14.25it/s]"
          ]
        },
        {
          "output_type": "stream",
          "name": "stdout",
          "text": [
            "16350\n",
            "16347\n",
            "16350\n"
          ]
        },
        {
          "output_type": "stream",
          "name": "stderr",
          "text": [
            " 52%|█████▏    | 4771/9172 [04:46<04:43, 15.51it/s]"
          ]
        },
        {
          "output_type": "stream",
          "name": "stdout",
          "text": [
            "16361\n",
            "16353\n",
            "16357\n",
            "16353\n",
            "16353\n",
            "16353\n"
          ]
        },
        {
          "output_type": "stream",
          "name": "stderr",
          "text": [
            " 52%|█████▏    | 4775/9172 [04:46<06:07, 11.97it/s]"
          ]
        },
        {
          "output_type": "stream",
          "name": "stdout",
          "text": [
            "16353\n",
            "16361\n",
            "16353\n",
            "16365\n",
            "16357\n",
            "16357\n",
            "16357\n"
          ]
        },
        {
          "output_type": "stream",
          "name": "stderr",
          "text": [
            " 52%|█████▏    | 4783/9172 [04:46<04:33, 16.06it/s]"
          ]
        },
        {
          "output_type": "stream",
          "name": "stdout",
          "text": [
            "16357\n",
            "16357\n",
            "16361\n",
            "16365\n"
          ]
        },
        {
          "output_type": "stream",
          "name": "stderr",
          "text": [
            "\r 52%|█████▏    | 4785/9172 [04:47<05:53, 12.43it/s]"
          ]
        },
        {
          "output_type": "stream",
          "name": "stdout",
          "text": [
            "16368\n",
            "16361\n",
            "16361\n"
          ]
        },
        {
          "output_type": "stream",
          "name": "stderr",
          "text": [
            "\r 52%|█████▏    | 4788/9172 [04:47<05:05, 14.33it/s]"
          ]
        },
        {
          "output_type": "stream",
          "name": "stdout",
          "text": [
            "16361\n",
            "16368\n",
            "16365\n",
            "16365\n",
            "16357\n"
          ]
        },
        {
          "output_type": "stream",
          "name": "stderr",
          "text": [
            "\r 52%|█████▏    | 4791/9172 [04:47<05:20, 13.65it/s]"
          ]
        },
        {
          "output_type": "stream",
          "name": "stdout",
          "text": [
            "16357\n",
            "16372\n",
            "16365\n",
            "16361\n",
            "16365\n"
          ]
        },
        {
          "output_type": "stream",
          "name": "stderr",
          "text": [
            " 52%|█████▏    | 4802/9172 [04:48<04:08, 17.62it/s]"
          ]
        },
        {
          "output_type": "stream",
          "name": "stdout",
          "text": [
            "16368\n",
            "16368\n",
            "16372\n",
            "16375\n",
            "16368\n",
            "16361\n"
          ]
        },
        {
          "output_type": "stream",
          "name": "stderr",
          "text": [
            " 52%|█████▏    | 4808/9172 [04:48<04:51, 14.97it/s]"
          ]
        },
        {
          "output_type": "stream",
          "name": "stdout",
          "text": [
            "16368\n",
            "16372\n",
            "16372\n",
            "16368\n",
            "16375\n",
            "16389\n"
          ]
        },
        {
          "output_type": "stream",
          "name": "stderr",
          "text": [
            "\r 52%|█████▏    | 4811/9172 [04:48<04:57, 14.64it/s]"
          ]
        },
        {
          "output_type": "stream",
          "name": "stdout",
          "text": [
            "16372\n",
            "16372\n",
            "16375\n"
          ]
        },
        {
          "output_type": "stream",
          "name": "stderr",
          "text": [
            " 52%|█████▏    | 4815/9172 [04:49<05:24, 13.41it/s]"
          ]
        },
        {
          "output_type": "stream",
          "name": "stdout",
          "text": [
            "16375\n",
            "16375\n",
            "16372\n",
            "16375\n",
            "16372\n",
            "16389\n"
          ]
        },
        {
          "output_type": "stream",
          "name": "stderr",
          "text": [
            "\r 53%|█████▎    | 4818/9172 [04:49<04:31, 16.04it/s]"
          ]
        },
        {
          "output_type": "stream",
          "name": "stdout",
          "text": [
            "16393\n",
            "16375\n",
            "16372\n"
          ]
        },
        {
          "output_type": "stream",
          "name": "stderr",
          "text": [
            "\r 53%|█████▎    | 4821/9172 [04:49<05:07, 14.17it/s]"
          ]
        },
        {
          "output_type": "stream",
          "name": "stdout",
          "text": [
            "16375\n",
            "16375\n"
          ]
        },
        {
          "output_type": "stream",
          "name": "stderr",
          "text": [
            " 53%|█████▎    | 4831/9172 [04:50<03:39, 19.81it/s]"
          ]
        },
        {
          "output_type": "stream",
          "name": "stdout",
          "text": [
            "16375\n",
            "16393\n",
            "16389\n",
            "16389\n",
            "16375\n",
            "16389\n",
            "16397\n",
            "16389\n",
            "16389\n"
          ]
        },
        {
          "output_type": "stream",
          "name": "stderr",
          "text": [
            "\r 53%|█████▎    | 4834/9172 [04:50<04:53, 14.77it/s]"
          ]
        },
        {
          "output_type": "stream",
          "name": "stdout",
          "text": [
            "16397\n",
            "16393\n",
            "16389\n",
            "16393\n",
            "16400\n"
          ]
        },
        {
          "output_type": "stream",
          "name": "stderr",
          "text": [
            " 53%|█████▎    | 4840/9172 [04:50<05:04, 14.21it/s]"
          ]
        },
        {
          "output_type": "stream",
          "name": "stdout",
          "text": [
            "16400\n",
            "16397\n",
            "16393\n",
            "16393\n",
            "16393\n"
          ]
        },
        {
          "output_type": "stream",
          "name": "stderr",
          "text": [
            "\r 53%|█████▎    | 4843/9172 [04:51<04:18, 16.72it/s]"
          ]
        },
        {
          "output_type": "stream",
          "name": "stdout",
          "text": [
            "16407\n",
            "16397\n",
            "16393\n"
          ]
        },
        {
          "output_type": "stream",
          "name": "stderr",
          "text": [
            " 53%|█████▎    | 4849/9172 [04:51<04:44, 15.20it/s]"
          ]
        },
        {
          "output_type": "stream",
          "name": "stdout",
          "text": [
            "16397\n",
            "16397\n",
            "16407\n",
            "16410\n",
            "16400\n"
          ]
        },
        {
          "output_type": "stream",
          "name": "stderr",
          "text": [
            "\r 53%|█████▎    | 4852/9172 [04:51<04:46, 15.09it/s]"
          ]
        },
        {
          "output_type": "stream",
          "name": "stdout",
          "text": [
            "16397\n",
            "16400\n",
            "16397\n",
            "16400\n",
            "16400\n",
            "16407\n"
          ]
        },
        {
          "output_type": "stream",
          "name": "stderr",
          "text": [
            " 53%|█████▎    | 4857/9172 [04:52<04:21, 16.48it/s]"
          ]
        },
        {
          "output_type": "stream",
          "name": "stdout",
          "text": [
            "16400\n",
            "16410\n"
          ]
        },
        {
          "output_type": "stream",
          "name": "stderr",
          "text": [
            "\r 53%|█████▎    | 4859/9172 [04:52<04:30, 15.96it/s]"
          ]
        },
        {
          "output_type": "stream",
          "name": "stdout",
          "text": [
            "16400\n",
            "16407\n",
            "16407\n",
            "16413\n"
          ]
        },
        {
          "output_type": "stream",
          "name": "stderr",
          "text": [
            " 53%|█████▎    | 4867/9172 [04:52<03:23, 21.13it/s]"
          ]
        },
        {
          "output_type": "stream",
          "name": "stdout",
          "text": [
            "16407\n",
            "16413\n",
            "16410\n",
            "16416\n",
            "16407\n",
            "16410\n",
            "16410\n",
            "16407\n"
          ]
        },
        {
          "output_type": "stream",
          "name": "stderr",
          "text": [
            " 53%|█████▎    | 4873/9172 [04:52<03:55, 18.25it/s]"
          ]
        },
        {
          "output_type": "stream",
          "name": "stdout",
          "text": [
            "16416\n",
            "16410\n",
            "16420\n",
            "16410\n"
          ]
        },
        {
          "output_type": "stream",
          "name": "stderr",
          "text": [
            "\r 53%|█████▎    | 4876/9172 [04:53<04:09, 17.25it/s]"
          ]
        },
        {
          "output_type": "stream",
          "name": "stdout",
          "text": [
            "16413\n",
            "16413\n",
            "16413\n",
            "16420\n",
            "16410\n",
            "16422\n",
            "16413\n"
          ]
        },
        {
          "output_type": "stream",
          "name": "stderr",
          "text": [
            " 53%|█████▎    | 4884/9172 [04:53<03:40, 19.44it/s]"
          ]
        },
        {
          "output_type": "stream",
          "name": "stdout",
          "text": [
            "16416\n",
            "16416\n",
            "16416\n",
            "16420\n",
            "16413\n",
            "16426\n",
            "16416\n"
          ]
        },
        {
          "output_type": "stream",
          "name": "stderr",
          "text": [
            " 53%|█████▎    | 4892/9172 [04:53<02:56, 24.26it/s]"
          ]
        },
        {
          "output_type": "stream",
          "name": "stdout",
          "text": [
            "16422\n",
            "16420\n",
            "16416\n",
            "16420\n",
            "16420\n",
            "16426\n"
          ]
        },
        {
          "output_type": "stream",
          "name": "stderr",
          "text": [
            "\r 53%|█████▎    | 4895/9172 [04:53<03:36, 19.79it/s]"
          ]
        },
        {
          "output_type": "stream",
          "name": "stdout",
          "text": [
            "16430\n",
            "16422\n",
            "16422\n",
            "16420\n",
            "16422\n",
            "16422\n"
          ]
        },
        {
          "output_type": "stream",
          "name": "stderr",
          "text": [
            "\r 53%|█████▎    | 4900/9172 [04:54<02:59, 23.83it/s]"
          ]
        },
        {
          "output_type": "stream",
          "name": "stdout",
          "text": [
            "16430\n",
            "16433\n",
            "16426\n"
          ]
        },
        {
          "output_type": "stream",
          "name": "stderr",
          "text": [
            " 53%|█████▎    | 4906/9172 [04:54<03:41, 19.30it/s]"
          ]
        },
        {
          "output_type": "stream",
          "name": "stdout",
          "text": [
            "16422\n",
            "16426\n",
            "16433\n",
            "16422\n",
            "16437\n",
            "16426\n",
            "16426\n",
            "16426\n",
            "16430\n",
            "16430\n"
          ]
        },
        {
          "output_type": "stream",
          "name": "stderr",
          "text": [
            "\r 54%|█████▎    | 4913/9172 [04:54<02:38, 26.81it/s]"
          ]
        },
        {
          "output_type": "stream",
          "name": "stdout",
          "text": [
            "16430\n",
            "16430\n",
            "16426\n"
          ]
        },
        {
          "output_type": "stream",
          "name": "stderr",
          "text": [
            "\r 54%|█████▎    | 4917/9172 [04:54<03:42, 19.16it/s]"
          ]
        },
        {
          "output_type": "stream",
          "name": "stdout",
          "text": [
            "16437\n",
            "16444\n",
            "16433\n",
            "16441\n"
          ]
        },
        {
          "output_type": "stream",
          "name": "stderr",
          "text": [
            " 54%|█████▎    | 4923/9172 [04:55<03:43, 18.97it/s]"
          ]
        },
        {
          "output_type": "stream",
          "name": "stdout",
          "text": [
            "16433\n",
            "16430\n",
            "16437\n",
            "16433\n"
          ]
        },
        {
          "output_type": "stream",
          "name": "stderr",
          "text": [
            "\r 54%|█████▎    | 4926/9172 [04:55<04:16, 16.52it/s]"
          ]
        },
        {
          "output_type": "stream",
          "name": "stdout",
          "text": [
            "16433\n",
            "16437\n",
            "16437\n",
            "16437\n",
            "16444\n",
            "16437\n",
            "16441\n",
            "16441\n",
            "16448\n"
          ]
        },
        {
          "output_type": "stream",
          "name": "stderr",
          "text": [
            " 54%|█████▍    | 4936/9172 [04:55<03:03, 23.12it/s]"
          ]
        },
        {
          "output_type": "stream",
          "name": "stdout",
          "text": [
            "16441\n",
            "16441\n",
            "16444\n",
            "16451\n",
            "16448\n"
          ]
        },
        {
          "output_type": "stream",
          "name": "stderr",
          "text": [
            " 54%|█████▍    | 4942/9172 [04:56<03:01, 23.32it/s]"
          ]
        },
        {
          "output_type": "stream",
          "name": "stdout",
          "text": [
            "16441\n",
            "16444\n",
            "16441\n",
            "16444\n",
            "16444\n",
            "16451\n"
          ]
        },
        {
          "output_type": "stream",
          "name": "stderr",
          "text": [
            "\r 54%|█████▍    | 4945/9172 [04:56<04:55, 14.30it/s]"
          ]
        },
        {
          "output_type": "stream",
          "name": "stdout",
          "text": [
            "16448\n",
            "16451\n",
            "16448\n",
            "16448\n",
            "16444\n"
          ]
        },
        {
          "output_type": "stream",
          "name": "stderr",
          "text": [
            " 54%|█████▍    | 4954/9172 [04:56<03:34, 19.66it/s]"
          ]
        },
        {
          "output_type": "stream",
          "name": "stdout",
          "text": [
            "16455\n",
            "16448\n",
            "16451\n",
            "16451\n",
            "16459\n",
            "16451\n",
            "16455\n",
            "16455\n",
            "16455\n"
          ]
        },
        {
          "output_type": "stream",
          "name": "stderr",
          "text": [
            "\r 54%|█████▍    | 4959/9172 [04:57<02:51, 24.52it/s]"
          ]
        },
        {
          "output_type": "stream",
          "name": "stdout",
          "text": [
            "16448\n",
            "16451\n",
            "16455\n",
            "16455\n",
            "16451\n"
          ]
        },
        {
          "output_type": "stream",
          "name": "stderr",
          "text": [
            " 54%|█████▍    | 4966/9172 [04:57<03:02, 22.99it/s]"
          ]
        },
        {
          "output_type": "stream",
          "name": "stdout",
          "text": [
            "16459\n",
            "16455\n",
            "16455\n",
            "16462\n"
          ]
        },
        {
          "output_type": "stream",
          "name": "stderr",
          "text": [
            " 54%|█████▍    | 4972/9172 [04:57<03:12, 21.86it/s]"
          ]
        },
        {
          "output_type": "stream",
          "name": "stdout",
          "text": [
            "16459\n",
            "16462\n",
            "16459\n",
            "16459\n",
            "16455\n",
            "16468\n",
            "16459\n"
          ]
        },
        {
          "output_type": "stream",
          "name": "stderr",
          "text": [
            "\r 54%|█████▍    | 4975/9172 [04:57<04:04, 17.14it/s]"
          ]
        },
        {
          "output_type": "stream",
          "name": "stdout",
          "text": [
            "16459\n",
            "16459\n"
          ]
        },
        {
          "output_type": "stream",
          "name": "stderr",
          "text": [
            " 54%|█████▍    | 4979/9172 [04:58<04:09, 16.84it/s]"
          ]
        },
        {
          "output_type": "stream",
          "name": "stdout",
          "text": [
            "16459\n",
            "16462\n",
            "16462\n",
            "16478\n"
          ]
        },
        {
          "output_type": "stream",
          "name": "stderr",
          "text": [
            " 54%|█████▍    | 4983/9172 [04:58<04:39, 14.97it/s]"
          ]
        },
        {
          "output_type": "stream",
          "name": "stdout",
          "text": [
            "16459\n",
            "16462\n",
            "16462\n",
            "16468\n",
            "16468\n",
            "16459\n"
          ]
        },
        {
          "output_type": "stream",
          "name": "stderr",
          "text": [
            " 54%|█████▍    | 4990/9172 [04:58<03:11, 21.81it/s]"
          ]
        },
        {
          "output_type": "stream",
          "name": "stdout",
          "text": [
            "16468\n",
            "16478\n",
            "16468\n",
            "16483\n",
            "16468\n",
            "16462\n"
          ]
        },
        {
          "output_type": "stream",
          "name": "stderr",
          "text": [
            "\r 54%|█████▍    | 4993/9172 [04:58<03:48, 18.33it/s]"
          ]
        },
        {
          "output_type": "stream",
          "name": "stdout",
          "text": [
            "16468\n",
            "16483\n",
            "16462\n",
            "16468\n",
            "16486\n"
          ]
        },
        {
          "output_type": "stream",
          "name": "stderr",
          "text": [
            " 55%|█████▍    | 5004/9172 [04:59<02:36, 26.55it/s]"
          ]
        },
        {
          "output_type": "stream",
          "name": "stdout",
          "text": [
            "16478\n",
            "16478\n",
            "16486\n",
            "16468\n",
            "16478\n",
            "16478\n",
            "16468\n",
            "16483\n",
            "16492\n"
          ]
        },
        {
          "output_type": "stream",
          "name": "stderr",
          "text": [
            "\r 55%|█████▍    | 5008/9172 [04:59<03:02, 22.83it/s]"
          ]
        },
        {
          "output_type": "stream",
          "name": "stdout",
          "text": [
            "16483\n",
            "16486\n",
            "16492\n",
            "16483\n",
            "16496\n",
            "16478\n",
            "16483\n",
            "16483\n"
          ]
        },
        {
          "output_type": "stream",
          "name": "stderr",
          "text": [
            " 55%|█████▍    | 5017/9172 [05:00<03:21, 20.65it/s]"
          ]
        },
        {
          "output_type": "stream",
          "name": "stdout",
          "text": [
            "16486\n",
            "16486\n",
            "16500\n",
            "16486\n"
          ]
        },
        {
          "output_type": "stream",
          "name": "stderr",
          "text": [
            "\r 55%|█████▍    | 5020/9172 [05:00<04:05, 16.92it/s]"
          ]
        },
        {
          "output_type": "stream",
          "name": "stdout",
          "text": [
            "16492\n",
            "16486\n",
            "16492\n",
            "16492\n",
            "16486\n"
          ]
        },
        {
          "output_type": "stream",
          "name": "stderr",
          "text": [
            " 55%|█████▍    | 5031/9172 [05:00<03:01, 22.86it/s]"
          ]
        },
        {
          "output_type": "stream",
          "name": "stdout",
          "text": [
            "16492\n",
            "16496\n",
            "16492\n",
            "16496\n",
            "16496\n",
            "16496\n",
            "16492\n",
            "16496\n",
            "16496\n"
          ]
        },
        {
          "output_type": "stream",
          "name": "stderr",
          "text": [
            "\r 55%|█████▍    | 5034/9172 [05:00<03:20, 20.65it/s]"
          ]
        },
        {
          "output_type": "stream",
          "name": "stdout",
          "text": [
            "16500\n",
            "16496\n",
            "16508\n",
            "16500\n"
          ]
        },
        {
          "output_type": "stream",
          "name": "stderr",
          "text": [
            "\r 55%|█████▍    | 5037/9172 [05:01<03:34, 19.30it/s]"
          ]
        },
        {
          "output_type": "stream",
          "name": "stdout",
          "text": [
            "16496\n",
            "16500\n",
            "16508\n",
            "16511\n",
            "16500\n"
          ]
        },
        {
          "output_type": "stream",
          "name": "stderr",
          "text": [
            " 55%|█████▍    | 5043/9172 [05:01<03:50, 17.90it/s]"
          ]
        },
        {
          "output_type": "stream",
          "name": "stdout",
          "text": [
            "16500\n",
            "16500\n",
            "16511\n"
          ]
        },
        {
          "output_type": "stream",
          "name": "stderr",
          "text": [
            " 55%|█████▌    | 5048/9172 [05:01<04:16, 16.10it/s]"
          ]
        },
        {
          "output_type": "stream",
          "name": "stdout",
          "text": [
            "16508\n",
            "16523\n",
            "16500\n",
            "16508\n",
            "16508\n",
            "16508\n",
            "16500\n"
          ]
        },
        {
          "output_type": "stream",
          "name": "stderr",
          "text": [
            "\r 55%|█████▌    | 5051/9172 [05:01<03:47, 18.08it/s]"
          ]
        },
        {
          "output_type": "stream",
          "name": "stdout",
          "text": [
            "16508\n",
            "16511\n",
            "16511\n"
          ]
        },
        {
          "output_type": "stream",
          "name": "stderr",
          "text": [
            "\r 55%|█████▌    | 5054/9172 [05:02<04:57, 13.85it/s]"
          ]
        },
        {
          "output_type": "stream",
          "name": "stdout",
          "text": [
            "16523\n",
            "16511\n",
            "16511\n"
          ]
        },
        {
          "output_type": "stream",
          "name": "stderr",
          "text": [
            "\r 55%|█████▌    | 5057/9172 [05:02<05:04, 13.52it/s]"
          ]
        },
        {
          "output_type": "stream",
          "name": "stdout",
          "text": [
            "16511\n",
            "16511\n"
          ]
        },
        {
          "output_type": "stream",
          "name": "stderr",
          "text": [
            "\r 55%|█████▌    | 5059/9172 [05:02<05:53, 11.65it/s]"
          ]
        },
        {
          "output_type": "stream",
          "name": "stdout",
          "text": [
            "16500\n",
            "16523\n",
            "16511\n",
            "16508\n",
            "16523\n",
            "16508\n"
          ]
        },
        {
          "output_type": "stream",
          "name": "stderr",
          "text": [
            " 55%|█████▌    | 5066/9172 [05:03<05:44, 11.90it/s]"
          ]
        },
        {
          "output_type": "stream",
          "name": "stdout",
          "text": [
            "16523\n",
            "16523\n",
            "16523\n",
            "16527\n"
          ]
        },
        {
          "output_type": "stream",
          "name": "stderr",
          "text": [
            "\r 55%|█████▌    | 5069/9172 [05:03<05:13, 13.11it/s]"
          ]
        },
        {
          "output_type": "stream",
          "name": "stdout",
          "text": [
            "16531\n",
            "16527\n",
            "16523\n",
            "16527\n"
          ]
        },
        {
          "output_type": "stream",
          "name": "stderr",
          "text": [
            "\r 55%|█████▌    | 5072/9172 [05:03<05:13, 13.08it/s]"
          ]
        },
        {
          "output_type": "stream",
          "name": "stdout",
          "text": [
            "16527\n",
            "16531\n",
            "16527\n"
          ]
        },
        {
          "output_type": "stream",
          "name": "stderr",
          "text": [
            " 55%|█████▌    | 5079/9172 [05:04<04:18, 15.85it/s]"
          ]
        },
        {
          "output_type": "stream",
          "name": "stdout",
          "text": [
            "16527\n",
            "16527\n",
            "16534\n",
            "16523\n",
            "16523\n"
          ]
        },
        {
          "output_type": "stream",
          "name": "stderr",
          "text": [
            "\r 55%|█████▌    | 5081/9172 [05:04<04:27, 15.30it/s]"
          ]
        },
        {
          "output_type": "stream",
          "name": "stdout",
          "text": [
            "16531\n"
          ]
        },
        {
          "output_type": "stream",
          "name": "stderr",
          "text": [
            " 55%|█████▌    | 5086/9172 [05:04<05:13, 13.02it/s]"
          ]
        },
        {
          "output_type": "stream",
          "name": "stdout",
          "text": [
            "16534\n",
            "16527\n",
            "16531\n",
            "16531\n",
            "16537\n"
          ]
        },
        {
          "output_type": "stream",
          "name": "stderr",
          "text": [
            "\r 55%|█████▌    | 5088/9172 [05:04<05:45, 11.80it/s]"
          ]
        },
        {
          "output_type": "stream",
          "name": "stdout",
          "text": [
            "16531\n",
            "16527\n",
            "16537\n"
          ]
        },
        {
          "output_type": "stream",
          "name": "stderr",
          "text": [
            " 56%|█████▌    | 5093/9172 [05:05<06:08, 11.07it/s]"
          ]
        },
        {
          "output_type": "stream",
          "name": "stdout",
          "text": [
            "16531\n",
            "16534\n",
            "16534\n",
            "16534\n"
          ]
        },
        {
          "output_type": "stream",
          "name": "stderr",
          "text": [
            " 56%|█████▌    | 5097/9172 [05:05<05:43, 11.87it/s]"
          ]
        },
        {
          "output_type": "stream",
          "name": "stdout",
          "text": [
            "16534\n",
            "16534\n",
            "16531\n",
            "16534\n",
            "16527\n"
          ]
        },
        {
          "output_type": "stream",
          "name": "stderr",
          "text": [
            "\r 56%|█████▌    | 5099/9172 [05:06<06:28, 10.48it/s]"
          ]
        },
        {
          "output_type": "stream",
          "name": "stdout",
          "text": [
            "16537\n"
          ]
        },
        {
          "output_type": "stream",
          "name": "stderr",
          "text": [
            "\r 56%|█████▌    | 5101/9172 [05:06<06:59,  9.71it/s]"
          ]
        },
        {
          "output_type": "stream",
          "name": "stdout",
          "text": [
            "16541\n",
            "16537\n",
            "16537\n",
            "16537\n",
            "16545\n",
            "16541\n"
          ]
        },
        {
          "output_type": "stream",
          "name": "stderr",
          "text": [
            " 56%|█████▌    | 5108/9172 [05:06<05:18, 12.77it/s]"
          ]
        },
        {
          "output_type": "stream",
          "name": "stdout",
          "text": [
            "16541\n",
            "16534\n",
            "16534\n"
          ]
        },
        {
          "output_type": "stream",
          "name": "stderr",
          "text": [
            "\r 56%|█████▌    | 5110/9172 [05:06<05:51, 11.56it/s]"
          ]
        },
        {
          "output_type": "stream",
          "name": "stdout",
          "text": [
            "16534\n",
            "16541\n"
          ]
        },
        {
          "output_type": "stream",
          "name": "stderr",
          "text": [
            "\r 56%|█████▌    | 5112/9172 [05:07<07:53,  8.58it/s]"
          ]
        },
        {
          "output_type": "stream",
          "name": "stdout",
          "text": [
            "16541\n",
            "16545\n",
            "16541\n",
            "16541\n"
          ]
        },
        {
          "output_type": "stream",
          "name": "stderr",
          "text": [
            "\r 56%|█████▌    | 5115/9172 [05:07<07:54,  8.55it/s]"
          ]
        },
        {
          "output_type": "stream",
          "name": "stdout",
          "text": [
            "16541\n",
            "16537\n"
          ]
        },
        {
          "output_type": "stream",
          "name": "stderr",
          "text": [
            " 56%|█████▌    | 5118/9172 [05:08<09:20,  7.23it/s]"
          ]
        },
        {
          "output_type": "stream",
          "name": "stdout",
          "text": [
            "16541\n",
            "16545\n",
            "16548\n",
            "16545\n"
          ]
        },
        {
          "output_type": "stream",
          "name": "stderr",
          "text": [
            " 56%|█████▌    | 5123/9172 [05:08<06:37, 10.19it/s]"
          ]
        },
        {
          "output_type": "stream",
          "name": "stdout",
          "text": [
            "16545\n",
            "16545\n",
            "16551\n",
            "16541\n"
          ]
        },
        {
          "output_type": "stream",
          "name": "stderr",
          "text": [
            " 56%|█████▌    | 5127/9172 [05:08<06:15, 10.77it/s]"
          ]
        },
        {
          "output_type": "stream",
          "name": "stdout",
          "text": [
            "16545\n",
            "16541\n",
            "16548\n"
          ]
        },
        {
          "output_type": "stream",
          "name": "stderr",
          "text": [
            " 56%|█████▌    | 5132/9172 [05:09<04:17, 15.66it/s]"
          ]
        },
        {
          "output_type": "stream",
          "name": "stdout",
          "text": [
            "16548\n",
            "16548\n",
            "16548\n",
            "16545\n",
            "16545\n",
            "16548\n"
          ]
        },
        {
          "output_type": "stream",
          "name": "stderr",
          "text": [
            "\r 56%|█████▌    | 5136/9172 [05:09<04:17, 15.70it/s]"
          ]
        },
        {
          "output_type": "stream",
          "name": "stdout",
          "text": [
            "16551\n",
            "16555\n",
            "16548\n"
          ]
        },
        {
          "output_type": "stream",
          "name": "stderr",
          "text": [
            "\r 56%|█████▌    | 5138/9172 [05:09<05:15, 12.80it/s]"
          ]
        },
        {
          "output_type": "stream",
          "name": "stdout",
          "text": [
            "16555\n",
            "16558\n",
            "16551\n"
          ]
        },
        {
          "output_type": "stream",
          "name": "stderr",
          "text": [
            " 56%|█████▌    | 5142/9172 [05:10<06:31, 10.30it/s]"
          ]
        },
        {
          "output_type": "stream",
          "name": "stdout",
          "text": [
            "16551\n",
            "16551\n",
            "16548\n",
            "16551\n",
            "16551\n"
          ]
        },
        {
          "output_type": "stream",
          "name": "stderr",
          "text": [
            "\r 56%|█████▌    | 5144/9172 [05:10<05:41, 11.79it/s]"
          ]
        },
        {
          "output_type": "stream",
          "name": "stdout",
          "text": [
            "16558\n"
          ]
        },
        {
          "output_type": "stream",
          "name": "stderr",
          "text": [
            " 56%|█████▌    | 5148/9172 [05:10<06:13, 10.78it/s]"
          ]
        },
        {
          "output_type": "stream",
          "name": "stdout",
          "text": [
            "16555\n",
            "16548\n",
            "16567\n",
            "16555\n",
            "16555\n",
            "16555\n"
          ]
        },
        {
          "output_type": "stream",
          "name": "stderr",
          "text": [
            " 56%|█████▌    | 5154/9172 [05:11<05:32, 12.09it/s]"
          ]
        },
        {
          "output_type": "stream",
          "name": "stdout",
          "text": [
            "16558\n",
            "16567\n",
            "16558\n"
          ]
        },
        {
          "output_type": "stream",
          "name": "stderr",
          "text": [
            "\r 56%|█████▋    | 5161/9172 [05:11<03:08, 21.30it/s]"
          ]
        },
        {
          "output_type": "stream",
          "name": "stdout",
          "text": [
            "16555\n",
            "16558\n",
            "16555\n",
            "16558\n",
            "16551\n",
            "16572\n",
            "16555\n"
          ]
        },
        {
          "output_type": "stream",
          "name": "stderr",
          "text": [
            "\r 56%|█████▋    | 5164/9172 [05:11<04:09, 16.05it/s]"
          ]
        },
        {
          "output_type": "stream",
          "name": "stdout",
          "text": [
            "16567\n",
            "16572\n",
            "16575\n"
          ]
        },
        {
          "output_type": "stream",
          "name": "stderr",
          "text": [
            "\r 56%|█████▋    | 5167/9172 [05:12<05:30, 12.13it/s]"
          ]
        },
        {
          "output_type": "stream",
          "name": "stdout",
          "text": [
            "16567\n",
            "16558\n",
            "16567\n"
          ]
        },
        {
          "output_type": "stream",
          "name": "stderr",
          "text": [
            "\r 56%|█████▋    | 5169/9172 [05:12<05:19, 12.53it/s]"
          ]
        },
        {
          "output_type": "stream",
          "name": "stdout",
          "text": [
            "16567\n",
            "16567\n"
          ]
        },
        {
          "output_type": "stream",
          "name": "stderr",
          "text": [
            " 56%|█████▋    | 5173/9172 [05:12<05:06, 13.06it/s]"
          ]
        },
        {
          "output_type": "stream",
          "name": "stdout",
          "text": [
            "16572\n",
            "16575\n",
            "16567\n",
            "16572\n",
            "16578\n"
          ]
        },
        {
          "output_type": "stream",
          "name": "stderr",
          "text": [
            " 56%|█████▋    | 5177/9172 [05:12<05:15, 12.65it/s]"
          ]
        },
        {
          "output_type": "stream",
          "name": "stdout",
          "text": [
            "16572\n",
            "16575\n",
            "16572\n"
          ]
        },
        {
          "output_type": "stream",
          "name": "stderr",
          "text": [
            " 56%|█████▋    | 5181/9172 [05:13<05:07, 12.97it/s]"
          ]
        },
        {
          "output_type": "stream",
          "name": "stdout",
          "text": [
            "16575\n",
            "16572\n",
            "16572\n",
            "16575\n",
            "16575\n",
            "16558\n"
          ]
        },
        {
          "output_type": "stream",
          "name": "stderr",
          "text": [
            "\r 57%|█████▋    | 5184/9172 [05:13<04:26, 14.99it/s]"
          ]
        },
        {
          "output_type": "stream",
          "name": "stdout",
          "text": [
            "16572\n"
          ]
        },
        {
          "output_type": "stream",
          "name": "stderr",
          "text": [
            "\r 57%|█████▋    | 5186/9172 [05:13<05:38, 11.78it/s]"
          ]
        },
        {
          "output_type": "stream",
          "name": "stdout",
          "text": [
            "16578\n",
            "16584\n"
          ]
        },
        {
          "output_type": "stream",
          "name": "stderr",
          "text": [
            " 57%|█████▋    | 5192/9172 [05:13<04:48, 13.78it/s]"
          ]
        },
        {
          "output_type": "stream",
          "name": "stdout",
          "text": [
            "16578\n",
            "16578\n",
            "16578\n",
            "16578\n",
            "16575\n",
            "16572\n",
            "16584\n"
          ]
        },
        {
          "output_type": "stream",
          "name": "stderr",
          "text": [
            " 57%|█████▋    | 5197/9172 [05:14<04:18, 15.37it/s]"
          ]
        },
        {
          "output_type": "stream",
          "name": "stdout",
          "text": [
            "16575\n",
            "16578\n",
            "16587\n",
            "16587\n"
          ]
        },
        {
          "output_type": "stream",
          "name": "stderr",
          "text": [
            "\r 57%|█████▋    | 5199/9172 [05:14<05:45, 11.50it/s]"
          ]
        },
        {
          "output_type": "stream",
          "name": "stdout",
          "text": [
            "16578\n",
            "16584\n",
            "16590\n"
          ]
        },
        {
          "output_type": "stream",
          "name": "stderr",
          "text": [
            " 57%|█████▋    | 5205/9172 [05:14<04:04, 16.22it/s]"
          ]
        },
        {
          "output_type": "stream",
          "name": "stdout",
          "text": [
            "16578\n",
            "16578\n",
            "16584\n",
            "16584\n",
            "16584\n"
          ]
        },
        {
          "output_type": "stream",
          "name": "stderr",
          "text": [
            "\r 57%|█████▋    | 5207/9172 [05:15<05:43, 11.53it/s]"
          ]
        },
        {
          "output_type": "stream",
          "name": "stdout",
          "text": [
            "16584\n",
            "16584\n",
            "16587\n"
          ]
        },
        {
          "output_type": "stream",
          "name": "stderr",
          "text": [
            " 57%|█████▋    | 5213/9172 [05:15<04:03, 16.26it/s]"
          ]
        },
        {
          "output_type": "stream",
          "name": "stdout",
          "text": [
            "16590\n",
            "16587\n",
            "16587\n",
            "16595\n",
            "16584\n"
          ]
        },
        {
          "output_type": "stream",
          "name": "stderr",
          "text": [
            " 57%|█████▋    | 5218/9172 [05:15<03:40, 17.96it/s]"
          ]
        },
        {
          "output_type": "stream",
          "name": "stdout",
          "text": [
            "16587\n",
            "16590\n",
            "16590\n",
            "16595\n",
            "16587\n"
          ]
        },
        {
          "output_type": "stream",
          "name": "stderr",
          "text": [
            "\r 57%|█████▋    | 5221/9172 [05:15<04:13, 15.59it/s]"
          ]
        },
        {
          "output_type": "stream",
          "name": "stdout",
          "text": [
            "16590\n",
            "16599\n",
            "16590\n"
          ]
        },
        {
          "output_type": "stream",
          "name": "stderr",
          "text": [
            "\r 57%|█████▋    | 5225/9172 [05:16<03:28, 18.92it/s]"
          ]
        },
        {
          "output_type": "stream",
          "name": "stdout",
          "text": [
            "16587\n",
            "16590\n",
            "16590\n",
            "16595\n",
            "16599\n"
          ]
        },
        {
          "output_type": "stream",
          "name": "stderr",
          "text": [
            "\r 57%|█████▋    | 5228/9172 [05:16<04:22, 15.04it/s]"
          ]
        },
        {
          "output_type": "stream",
          "name": "stdout",
          "text": [
            "16590\n",
            "16590\n"
          ]
        },
        {
          "output_type": "stream",
          "name": "stderr",
          "text": [
            "\r 57%|█████▋    | 5230/9172 [05:16<05:40, 11.59it/s]"
          ]
        },
        {
          "output_type": "stream",
          "name": "stdout",
          "text": [
            "16595\n",
            "16599\n",
            "16595\n",
            "16599\n",
            "16599\n"
          ]
        },
        {
          "output_type": "stream",
          "name": "stderr",
          "text": [
            " 57%|█████▋    | 5239/9172 [05:16<03:36, 18.21it/s]"
          ]
        },
        {
          "output_type": "stream",
          "name": "stdout",
          "text": [
            "16599\n",
            "16609\n",
            "16595\n",
            "16599\n",
            "16609\n",
            "16609\n"
          ]
        },
        {
          "output_type": "stream",
          "name": "stderr",
          "text": [
            " 57%|█████▋    | 5247/9172 [05:17<02:43, 24.05it/s]"
          ]
        },
        {
          "output_type": "stream",
          "name": "stdout",
          "text": [
            "16599\n",
            "16609\n",
            "16609\n",
            "16622\n",
            "16599\n",
            "16609\n",
            "16609\n",
            "16599\n"
          ]
        },
        {
          "output_type": "stream",
          "name": "stderr",
          "text": [
            "\r 57%|█████▋    | 5250/9172 [05:17<03:29, 18.73it/s]"
          ]
        },
        {
          "output_type": "stream",
          "name": "stdout",
          "text": [
            "16628\n",
            "16609\n",
            "16622\n",
            "16609\n"
          ]
        },
        {
          "output_type": "stream",
          "name": "stderr",
          "text": [
            " 57%|█████▋    | 5258/9172 [05:17<03:32, 18.41it/s]"
          ]
        },
        {
          "output_type": "stream",
          "name": "stdout",
          "text": [
            "16622\n",
            "16609\n",
            "16609\n",
            "16622\n",
            "16622\n",
            "16622\n",
            "16628\n"
          ]
        },
        {
          "output_type": "stream",
          "name": "stderr",
          "text": [
            "\r 57%|█████▋    | 5261/9172 [05:18<03:21, 19.40it/s]"
          ]
        },
        {
          "output_type": "stream",
          "name": "stdout",
          "text": [
            "16628\n",
            "16622\n",
            "16631\n",
            "16628\n"
          ]
        },
        {
          "output_type": "stream",
          "name": "stderr",
          "text": [
            " 57%|█████▋    | 5267/9172 [05:18<03:27, 18.78it/s]"
          ]
        },
        {
          "output_type": "stream",
          "name": "stdout",
          "text": [
            "16628\n",
            "16622\n",
            "16628\n",
            "16628\n",
            "16631\n"
          ]
        },
        {
          "output_type": "stream",
          "name": "stderr",
          "text": [
            "\r 57%|█████▋    | 5270/9172 [05:18<03:38, 17.84it/s]"
          ]
        },
        {
          "output_type": "stream",
          "name": "stdout",
          "text": [
            "16628\n",
            "16622\n",
            "16631\n",
            "16631\n"
          ]
        },
        {
          "output_type": "stream",
          "name": "stderr",
          "text": [
            "\r 57%|█████▋    | 5272/9172 [05:18<04:07, 15.76it/s]"
          ]
        },
        {
          "output_type": "stream",
          "name": "stdout",
          "text": [
            "16631\n",
            "16651\n"
          ]
        },
        {
          "output_type": "stream",
          "name": "stderr",
          "text": [
            "\r 58%|█████▊    | 5274/9172 [05:19<04:53, 13.29it/s]"
          ]
        },
        {
          "output_type": "stream",
          "name": "stdout",
          "text": [
            "16654\n",
            "16631\n"
          ]
        },
        {
          "output_type": "stream",
          "name": "stderr",
          "text": [
            " 58%|█████▊    | 5279/9172 [05:19<04:40, 13.89it/s]"
          ]
        },
        {
          "output_type": "stream",
          "name": "stdout",
          "text": [
            "16631\n",
            "16654\n",
            "16651\n",
            "16651\n"
          ]
        },
        {
          "output_type": "stream",
          "name": "stderr",
          "text": [
            " 58%|█████▊    | 5283/9172 [05:19<04:32, 14.27it/s]"
          ]
        },
        {
          "output_type": "stream",
          "name": "stdout",
          "text": [
            "16631\n",
            "16651\n",
            "16651\n",
            "16651\n"
          ]
        },
        {
          "output_type": "stream",
          "name": "stderr",
          "text": [
            "\r 58%|█████▊    | 5285/9172 [05:19<04:50, 13.38it/s]"
          ]
        },
        {
          "output_type": "stream",
          "name": "stdout",
          "text": [
            "16651\n",
            "16654\n"
          ]
        },
        {
          "output_type": "stream",
          "name": "stderr",
          "text": [
            "\r 58%|█████▊    | 5287/9172 [05:20<06:27, 10.03it/s]"
          ]
        },
        {
          "output_type": "stream",
          "name": "stdout",
          "text": [
            "16657\n",
            "16659\n",
            "16651\n"
          ]
        },
        {
          "output_type": "stream",
          "name": "stderr",
          "text": [
            " 58%|█████▊    | 5291/9172 [05:20<06:00, 10.76it/s]"
          ]
        },
        {
          "output_type": "stream",
          "name": "stdout",
          "text": [
            "16657\n",
            "16657\n",
            "16659\n",
            "16667\n",
            "16657\n"
          ]
        },
        {
          "output_type": "stream",
          "name": "stderr",
          "text": [
            " 58%|█████▊    | 5296/9172 [05:20<04:38, 13.92it/s]"
          ]
        },
        {
          "output_type": "stream",
          "name": "stdout",
          "text": [
            "16657\n",
            "16657\n",
            "16657\n",
            "16667\n"
          ]
        },
        {
          "output_type": "stream",
          "name": "stderr",
          "text": [
            "\r 58%|█████▊    | 5298/9172 [05:21<05:37, 11.49it/s]"
          ]
        },
        {
          "output_type": "stream",
          "name": "stdout",
          "text": [
            "16659\n"
          ]
        },
        {
          "output_type": "stream",
          "name": "stderr",
          "text": [
            "\r 58%|█████▊    | 5300/9172 [05:21<06:36,  9.76it/s]"
          ]
        },
        {
          "output_type": "stream",
          "name": "stdout",
          "text": [
            "16657\n",
            "16667\n",
            "16659\n"
          ]
        },
        {
          "output_type": "stream",
          "name": "stderr",
          "text": [
            "\r 58%|█████▊    | 5302/9172 [05:21<06:49,  9.45it/s]"
          ]
        },
        {
          "output_type": "stream",
          "name": "stdout",
          "text": [
            "16670\n",
            "16670\n",
            "16670\n"
          ]
        },
        {
          "output_type": "stream",
          "name": "stderr",
          "text": [
            "\r 58%|█████▊    | 5305/9172 [05:21<06:21, 10.13it/s]"
          ]
        },
        {
          "output_type": "stream",
          "name": "stdout",
          "text": [
            "16670\n",
            "16670\n",
            "16651\n"
          ]
        },
        {
          "output_type": "stream",
          "name": "stderr",
          "text": [
            "\r 58%|█████▊    | 5308/9172 [05:22<05:54, 10.89it/s]"
          ]
        },
        {
          "output_type": "stream",
          "name": "stdout",
          "text": [
            "16670\n",
            "16670\n"
          ]
        },
        {
          "output_type": "stream",
          "name": "stderr",
          "text": [
            "\r 58%|█████▊    | 5310/9172 [05:22<07:57,  8.09it/s]"
          ]
        },
        {
          "output_type": "stream",
          "name": "stdout",
          "text": [
            "16676\n",
            "16657\n"
          ]
        },
        {
          "output_type": "stream",
          "name": "stderr",
          "text": [
            " 58%|█████▊    | 5315/9172 [05:22<06:12, 10.35it/s]"
          ]
        },
        {
          "output_type": "stream",
          "name": "stdout",
          "text": [
            "16670\n",
            "16676\n",
            "16676\n",
            "16676\n",
            "16676\n"
          ]
        },
        {
          "output_type": "stream",
          "name": "stderr",
          "text": [
            " 58%|█████▊    | 5319/9172 [05:23<07:23,  8.70it/s]"
          ]
        },
        {
          "output_type": "stream",
          "name": "stdout",
          "text": [
            "16676\n",
            "16676\n",
            "16676\n"
          ]
        },
        {
          "output_type": "stream",
          "name": "stderr",
          "text": [
            "\r 58%|█████▊    | 5321/9172 [05:23<08:19,  7.71it/s]"
          ]
        },
        {
          "output_type": "stream",
          "name": "stdout",
          "text": [
            "16682\n",
            "16682\n"
          ]
        },
        {
          "output_type": "stream",
          "name": "stderr",
          "text": [
            " 58%|█████▊    | 5323/9172 [05:24<08:41,  7.37it/s]"
          ]
        },
        {
          "output_type": "stream",
          "name": "stdout",
          "text": [
            "16670\n",
            "16682\n",
            "16682\n"
          ]
        },
        {
          "output_type": "stream",
          "name": "stderr",
          "text": [
            "\r 58%|█████▊    | 5325/9172 [05:24<09:40,  6.62it/s]"
          ]
        },
        {
          "output_type": "stream",
          "name": "stdout",
          "text": [
            "16682\n"
          ]
        },
        {
          "output_type": "stream",
          "name": "stderr",
          "text": [
            " 58%|█████▊    | 5327/9172 [05:25<14:15,  4.50it/s]"
          ]
        },
        {
          "output_type": "stream",
          "name": "stdout",
          "text": [
            "16682\n",
            "16682\n"
          ]
        },
        {
          "output_type": "stream",
          "name": "stderr",
          "text": [
            "\r 58%|█████▊    | 5331/9172 [05:25<07:10,  8.92it/s]"
          ]
        },
        {
          "output_type": "stream",
          "name": "stdout",
          "text": [
            "16682\n",
            "16676\n",
            "16682\n",
            "16682\n",
            "16682\n"
          ]
        },
        {
          "output_type": "stream",
          "name": "stderr",
          "text": [
            "\r 58%|█████▊    | 5333/9172 [05:25<07:14,  8.84it/s]"
          ]
        },
        {
          "output_type": "stream",
          "name": "stdout",
          "text": [
            "16682\n"
          ]
        },
        {
          "output_type": "stream",
          "name": "stderr",
          "text": [
            "\r 58%|█████▊    | 5335/9172 [05:26<12:57,  4.94it/s]"
          ]
        },
        {
          "output_type": "stream",
          "name": "stdout",
          "text": [
            "16682\n",
            "16682\n",
            "16685\n"
          ]
        },
        {
          "output_type": "stream",
          "name": "stderr",
          "text": [
            " 58%|█████▊    | 5338/9172 [05:27<13:30,  4.73it/s]"
          ]
        },
        {
          "output_type": "stream",
          "name": "stdout",
          "text": [
            "16685\n",
            "16685\n",
            "16682\n"
          ]
        },
        {
          "output_type": "stream",
          "name": "stderr",
          "text": [
            " 58%|█████▊    | 5342/9172 [05:27<10:01,  6.37it/s]"
          ]
        },
        {
          "output_type": "stream",
          "name": "stdout",
          "text": [
            "16685\n",
            "16682\n",
            "16690\n",
            "16682\n"
          ]
        },
        {
          "output_type": "stream",
          "name": "stderr",
          "text": [
            "\r 58%|█████▊    | 5344/9172 [05:28<11:09,  5.72it/s]"
          ]
        },
        {
          "output_type": "stream",
          "name": "stdout",
          "text": [
            "16690\n"
          ]
        },
        {
          "output_type": "stream",
          "name": "stderr",
          "text": [
            "\r 58%|█████▊    | 5345/9172 [05:28<12:19,  5.17it/s]"
          ]
        },
        {
          "output_type": "stream",
          "name": "stdout",
          "text": [
            "16685\n"
          ]
        },
        {
          "output_type": "stream",
          "name": "stderr",
          "text": [
            " 58%|█████▊    | 5348/9172 [05:29<14:24,  4.42it/s]"
          ]
        },
        {
          "output_type": "stream",
          "name": "stdout",
          "text": [
            "16690\n",
            "16690\n",
            "16685\n"
          ]
        },
        {
          "output_type": "stream",
          "name": "stderr",
          "text": [
            " 58%|█████▊    | 5350/9172 [05:29<11:53,  5.36it/s]"
          ]
        },
        {
          "output_type": "stream",
          "name": "stdout",
          "text": [
            "16694\n",
            "16694\n"
          ]
        },
        {
          "output_type": "stream",
          "name": "stderr",
          "text": [
            "\r 58%|█████▊    | 5351/9172 [05:29<14:42,  4.33it/s]"
          ]
        },
        {
          "output_type": "stream",
          "name": "stdout",
          "text": [
            "16694\n"
          ]
        },
        {
          "output_type": "stream",
          "name": "stderr",
          "text": [
            "\r 58%|█████▊    | 5352/9172 [05:30<15:31,  4.10it/s]"
          ]
        },
        {
          "output_type": "stream",
          "name": "stdout",
          "text": [
            "16694\n"
          ]
        },
        {
          "output_type": "stream",
          "name": "stderr",
          "text": [
            " 58%|█████▊    | 5354/9172 [05:30<17:35,  3.62it/s]"
          ]
        },
        {
          "output_type": "stream",
          "name": "stdout",
          "text": [
            "16685\n",
            "16694\n"
          ]
        },
        {
          "output_type": "stream",
          "name": "stderr",
          "text": [
            "\r 58%|█████▊    | 5355/9172 [05:31<16:16,  3.91it/s]"
          ]
        },
        {
          "output_type": "stream",
          "name": "stdout",
          "text": [
            "16694\n"
          ]
        },
        {
          "output_type": "stream",
          "name": "stderr",
          "text": [
            "\r 58%|█████▊    | 5356/9172 [05:31<18:15,  3.48it/s]"
          ]
        },
        {
          "output_type": "stream",
          "name": "stdout",
          "text": [
            "16694\n"
          ]
        },
        {
          "output_type": "stream",
          "name": "stderr",
          "text": [
            "\r 58%|█████▊    | 5357/9172 [05:31<20:06,  3.16it/s]"
          ]
        },
        {
          "output_type": "stream",
          "name": "stdout",
          "text": [
            "16697\n"
          ]
        },
        {
          "output_type": "stream",
          "name": "stderr",
          "text": [
            "\r 58%|█████▊    | 5358/9172 [05:32<21:52,  2.91it/s]"
          ]
        },
        {
          "output_type": "stream",
          "name": "stdout",
          "text": [
            "16697\n"
          ]
        },
        {
          "output_type": "stream",
          "name": "stderr",
          "text": [
            "\r 58%|█████▊    | 5359/9172 [05:32<22:25,  2.83it/s]"
          ]
        },
        {
          "output_type": "stream",
          "name": "stdout",
          "text": [
            "16697\n"
          ]
        },
        {
          "output_type": "stream",
          "name": "stderr",
          "text": [
            " 58%|█████▊    | 5361/9172 [05:32<15:52,  4.00it/s]"
          ]
        },
        {
          "output_type": "stream",
          "name": "stdout",
          "text": [
            "16697\n",
            "16694\n"
          ]
        },
        {
          "output_type": "stream",
          "name": "stderr",
          "text": [
            "\r 58%|█████▊    | 5362/9172 [05:33<13:09,  4.82it/s]"
          ]
        },
        {
          "output_type": "stream",
          "name": "stdout",
          "text": [
            "16697\n",
            "16697\n"
          ]
        },
        {
          "output_type": "stream",
          "name": "stderr",
          "text": [
            " 58%|█████▊    | 5365/9172 [05:33<11:07,  5.70it/s]"
          ]
        },
        {
          "output_type": "stream",
          "name": "stdout",
          "text": [
            "16700\n",
            "16700\n"
          ]
        },
        {
          "output_type": "stream",
          "name": "stderr",
          "text": [
            "\r 59%|█████▊    | 5366/9172 [05:33<15:41,  4.04it/s]"
          ]
        },
        {
          "output_type": "stream",
          "name": "stdout",
          "text": [
            "16697\n",
            "16704\n"
          ]
        },
        {
          "output_type": "stream",
          "name": "stderr",
          "text": [
            " 59%|█████▊    | 5369/9172 [05:34<12:44,  4.97it/s]"
          ]
        },
        {
          "output_type": "stream",
          "name": "stdout",
          "text": [
            "16697\n",
            "16700\n"
          ]
        },
        {
          "output_type": "stream",
          "name": "stderr",
          "text": [
            " 59%|█████▊    | 5371/9172 [05:35<17:01,  3.72it/s]"
          ]
        },
        {
          "output_type": "stream",
          "name": "stdout",
          "text": [
            "16697\n",
            "16704\n"
          ]
        },
        {
          "output_type": "stream",
          "name": "stderr",
          "text": [
            "\r 59%|█████▊    | 5372/9172 [05:35<15:16,  4.14it/s]"
          ]
        },
        {
          "output_type": "stream",
          "name": "stdout",
          "text": [
            "16700\n",
            "16704\n"
          ]
        },
        {
          "output_type": "stream",
          "name": "stderr",
          "text": [
            " 59%|█████▊    | 5377/9172 [05:35<07:23,  8.55it/s]"
          ]
        },
        {
          "output_type": "stream",
          "name": "stdout",
          "text": [
            "16704\n",
            "16704\n",
            "16708\n",
            "16609\n"
          ]
        },
        {
          "output_type": "stream",
          "name": "stderr",
          "text": [
            "\r 59%|█████▊    | 5379/9172 [05:36<09:08,  6.91it/s]"
          ]
        },
        {
          "output_type": "stream",
          "name": "stdout",
          "text": [
            "16704\n",
            "16704\n"
          ]
        },
        {
          "output_type": "stream",
          "name": "stderr",
          "text": [
            "\r 59%|█████▊    | 5380/9172 [05:36<09:56,  6.35it/s]"
          ]
        },
        {
          "output_type": "stream",
          "name": "stdout",
          "text": [
            "16704\n"
          ]
        },
        {
          "output_type": "stream",
          "name": "stderr",
          "text": [
            " 59%|█████▊    | 5383/9172 [05:37<11:47,  5.35it/s]"
          ]
        },
        {
          "output_type": "stream",
          "name": "stdout",
          "text": [
            "16708\n",
            "16708\n",
            "16708\n",
            "16708\n"
          ]
        },
        {
          "output_type": "stream",
          "name": "stderr",
          "text": [
            " 59%|█████▊    | 5386/9172 [05:37<09:22,  6.74it/s]"
          ]
        },
        {
          "output_type": "stream",
          "name": "stdout",
          "text": [
            "16708\n",
            "16712\n"
          ]
        },
        {
          "output_type": "stream",
          "name": "stderr",
          "text": [
            " 59%|█████▉    | 5390/9172 [05:37<06:39,  9.46it/s]"
          ]
        },
        {
          "output_type": "stream",
          "name": "stdout",
          "text": [
            "16708\n",
            "16708\n",
            "16708\n",
            "16708\n"
          ]
        },
        {
          "output_type": "stream",
          "name": "stderr",
          "text": [
            "\r 59%|█████▉    | 5392/9172 [05:38<07:47,  8.09it/s]"
          ]
        },
        {
          "output_type": "stream",
          "name": "stdout",
          "text": [
            "16712\n",
            "16716\n"
          ]
        },
        {
          "output_type": "stream",
          "name": "stderr",
          "text": [
            " 59%|█████▉    | 5394/9172 [05:38<09:07,  6.90it/s]"
          ]
        },
        {
          "output_type": "stream",
          "name": "stdout",
          "text": [
            "16712\n",
            "16712\n"
          ]
        },
        {
          "output_type": "stream",
          "name": "stderr",
          "text": [
            "\r 59%|█████▉    | 5395/9172 [05:38<10:12,  6.16it/s]"
          ]
        },
        {
          "output_type": "stream",
          "name": "stdout",
          "text": [
            "16712\n",
            "16712\n"
          ]
        },
        {
          "output_type": "stream",
          "name": "stderr",
          "text": [
            " 59%|█████▉    | 5400/9172 [05:39<06:17,  9.99it/s]"
          ]
        },
        {
          "output_type": "stream",
          "name": "stdout",
          "text": [
            "16716\n",
            "16712\n",
            "16716\n",
            "16716\n",
            "16716\n"
          ]
        },
        {
          "output_type": "stream",
          "name": "stderr",
          "text": [
            "\r 59%|█████▉    | 5402/9172 [05:39<06:55,  9.07it/s]"
          ]
        },
        {
          "output_type": "stream",
          "name": "stdout",
          "text": [
            "16720\n",
            "16716\n"
          ]
        },
        {
          "output_type": "stream",
          "name": "stderr",
          "text": [
            "\r 59%|█████▉    | 5404/9172 [05:39<07:05,  8.85it/s]"
          ]
        },
        {
          "output_type": "stream",
          "name": "stdout",
          "text": [
            "16716\n"
          ]
        },
        {
          "output_type": "stream",
          "name": "stderr",
          "text": [
            "\r 59%|█████▉    | 5406/9172 [05:40<10:41,  5.87it/s]"
          ]
        },
        {
          "output_type": "stream",
          "name": "stdout",
          "text": [
            "16720\n",
            "16720\n",
            "16716\n"
          ]
        },
        {
          "output_type": "stream",
          "name": "stderr",
          "text": [
            " 59%|█████▉    | 5410/9172 [05:40<07:38,  8.20it/s]"
          ]
        },
        {
          "output_type": "stream",
          "name": "stdout",
          "text": [
            "16720\n",
            "16716\n",
            "16720\n"
          ]
        },
        {
          "output_type": "stream",
          "name": "stderr",
          "text": [
            " 59%|█████▉    | 5413/9172 [05:40<07:43,  8.11it/s]"
          ]
        },
        {
          "output_type": "stream",
          "name": "stdout",
          "text": [
            "16720\n",
            "16720\n",
            "16628\n"
          ]
        },
        {
          "output_type": "stream",
          "name": "stderr",
          "text": [
            "\r 59%|█████▉    | 5414/9172 [05:41<09:13,  6.79it/s]"
          ]
        },
        {
          "output_type": "stream",
          "name": "stdout",
          "text": [
            "16723\n"
          ]
        },
        {
          "output_type": "stream",
          "name": "stderr",
          "text": [
            " 59%|█████▉    | 5417/9172 [05:41<07:53,  7.94it/s]"
          ]
        },
        {
          "output_type": "stream",
          "name": "stdout",
          "text": [
            "16720\n",
            "16720\n",
            "16720\n"
          ]
        },
        {
          "output_type": "stream",
          "name": "stderr",
          "text": [
            "\r 59%|█████▉    | 5419/9172 [05:41<06:43,  9.29it/s]"
          ]
        },
        {
          "output_type": "stream",
          "name": "stdout",
          "text": [
            "16720\n",
            "16720\n"
          ]
        },
        {
          "output_type": "stream",
          "name": "stderr",
          "text": [
            "\r 59%|█████▉    | 5421/9172 [05:41<07:28,  8.36it/s]"
          ]
        },
        {
          "output_type": "stream",
          "name": "stdout",
          "text": [
            "16720\n",
            "16720\n",
            "16723\n"
          ]
        },
        {
          "output_type": "stream",
          "name": "stderr",
          "text": [
            " 59%|█████▉    | 5424/9172 [05:42<08:03,  7.76it/s]"
          ]
        },
        {
          "output_type": "stream",
          "name": "stdout",
          "text": [
            "16723\n",
            "16727\n"
          ]
        },
        {
          "output_type": "stream",
          "name": "stderr",
          "text": [
            "\r 59%|█████▉    | 5425/9172 [05:42<09:52,  6.32it/s]"
          ]
        },
        {
          "output_type": "stream",
          "name": "stdout",
          "text": [
            "16723\n",
            "16723\n",
            "16723\n"
          ]
        },
        {
          "output_type": "stream",
          "name": "stderr",
          "text": [
            " 59%|█████▉    | 5430/9172 [05:43<07:29,  8.33it/s]"
          ]
        },
        {
          "output_type": "stream",
          "name": "stdout",
          "text": [
            "16723\n",
            "16727\n",
            "16723\n"
          ]
        },
        {
          "output_type": "stream",
          "name": "stderr",
          "text": [
            "\r 59%|█████▉    | 5431/9172 [05:43<07:16,  8.58it/s]"
          ]
        },
        {
          "output_type": "stream",
          "name": "stdout",
          "text": [
            "16723\n"
          ]
        },
        {
          "output_type": "stream",
          "name": "stderr",
          "text": [
            " 59%|█████▉    | 5434/9172 [05:43<07:32,  8.25it/s]"
          ]
        },
        {
          "output_type": "stream",
          "name": "stdout",
          "text": [
            "16735\n",
            "16727\n",
            "16727\n",
            "16727\n"
          ]
        },
        {
          "output_type": "stream",
          "name": "stderr",
          "text": [
            "\r 59%|█████▉    | 5436/9172 [05:43<06:55,  8.99it/s]"
          ]
        },
        {
          "output_type": "stream",
          "name": "stdout",
          "text": [
            "16727\n"
          ]
        },
        {
          "output_type": "stream",
          "name": "stderr",
          "text": [
            "\r 59%|█████▉    | 5437/9172 [05:44<08:21,  7.45it/s]"
          ]
        },
        {
          "output_type": "stream",
          "name": "stdout",
          "text": [
            "16727\n",
            "16735\n"
          ]
        },
        {
          "output_type": "stream",
          "name": "stderr",
          "text": [
            " 59%|█████▉    | 5441/9172 [05:44<07:01,  8.86it/s]"
          ]
        },
        {
          "output_type": "stream",
          "name": "stdout",
          "text": [
            "16651\n",
            "16735\n",
            "16735\n",
            "16738\n",
            "16735\n"
          ]
        },
        {
          "output_type": "stream",
          "name": "stderr",
          "text": [
            "\r 59%|█████▉    | 5444/9172 [05:44<06:01, 10.33it/s]"
          ]
        },
        {
          "output_type": "stream",
          "name": "stdout",
          "text": [
            "16735\n"
          ]
        },
        {
          "output_type": "stream",
          "name": "stderr",
          "text": [
            " 59%|█████▉    | 5448/9172 [05:45<05:46, 10.74it/s]"
          ]
        },
        {
          "output_type": "stream",
          "name": "stdout",
          "text": [
            "16735\n",
            "16735\n",
            "16595\n",
            "16670\n"
          ]
        },
        {
          "output_type": "stream",
          "name": "stderr",
          "text": [
            "\r 59%|█████▉    | 5450/9172 [05:45<06:10, 10.04it/s]"
          ]
        },
        {
          "output_type": "stream",
          "name": "stdout",
          "text": [
            "16738\n",
            "16735\n",
            "16609\n"
          ]
        },
        {
          "output_type": "stream",
          "name": "stderr",
          "text": [
            "\r 59%|█████▉    | 5452/9172 [05:45<06:09, 10.05it/s]"
          ]
        },
        {
          "output_type": "stream",
          "name": "stdout",
          "text": [
            "16738\n",
            "16738\n"
          ]
        },
        {
          "output_type": "stream",
          "name": "stderr",
          "text": [
            " 59%|█████▉    | 5457/9172 [05:45<04:56, 12.53it/s]"
          ]
        },
        {
          "output_type": "stream",
          "name": "stdout",
          "text": [
            "16742\n",
            "16738\n",
            "16738\n",
            "16738\n",
            "16738\n"
          ]
        },
        {
          "output_type": "stream",
          "name": "stderr",
          "text": [
            " 60%|█████▉    | 5461/9172 [05:46<05:19, 11.62it/s]"
          ]
        },
        {
          "output_type": "stream",
          "name": "stdout",
          "text": [
            "16657\n",
            "16742\n",
            "16738\n",
            "16745\n",
            "16738\n",
            "16738\n"
          ]
        },
        {
          "output_type": "stream",
          "name": "stderr",
          "text": [
            " 60%|█████▉    | 5467/9172 [05:46<03:51, 15.98it/s]"
          ]
        },
        {
          "output_type": "stream",
          "name": "stdout",
          "text": [
            "16738\n",
            "16742\n",
            "16745 - HTTP 404\n",
            "16745 - HTTP 404\n"
          ]
        },
        {
          "output_type": "stream",
          "name": "stderr",
          "text": [
            " 60%|█████▉    | 5471/9172 [05:46<04:18, 14.32it/s]"
          ]
        },
        {
          "output_type": "stream",
          "name": "stdout",
          "text": [
            "16742\n",
            "16748\n",
            "16742\n"
          ]
        },
        {
          "output_type": "stream",
          "name": "stderr",
          "text": [
            " 60%|█████▉    | 5475/9172 [05:47<05:30, 11.20it/s]"
          ]
        },
        {
          "output_type": "stream",
          "name": "stdout",
          "text": [
            "16742\n",
            "16745\n",
            "16748\n",
            "16742\n"
          ]
        },
        {
          "output_type": "stream",
          "name": "stderr",
          "text": [
            " 60%|█████▉    | 5479/9172 [05:47<04:39, 13.23it/s]"
          ]
        },
        {
          "output_type": "stream",
          "name": "stdout",
          "text": [
            "16742\n",
            "16628\n",
            "16745\n",
            "16745\n",
            "16752\n",
            "16745\n"
          ]
        },
        {
          "output_type": "stream",
          "name": "stderr",
          "text": [
            "\r 60%|█████▉    | 5482/9172 [05:47<05:30, 11.15it/s]"
          ]
        },
        {
          "output_type": "stream",
          "name": "stdout",
          "text": [
            "16745\n",
            "16748\n",
            "16748\n",
            "16748\n"
          ]
        },
        {
          "output_type": "stream",
          "name": "stderr",
          "text": [
            "\r 60%|█████▉    | 5486/9172 [05:48<06:12,  9.89it/s]"
          ]
        },
        {
          "output_type": "stream",
          "name": "stdout",
          "text": [
            "16748\n"
          ]
        },
        {
          "output_type": "stream",
          "name": "stderr",
          "text": [
            " 60%|█████▉    | 5489/9172 [05:48<07:17,  8.41it/s]"
          ]
        },
        {
          "output_type": "stream",
          "name": "stdout",
          "text": [
            "16676\n",
            "16757\n",
            "16748\n"
          ]
        },
        {
          "output_type": "stream",
          "name": "stderr",
          "text": [
            " 60%|█████▉    | 5493/9172 [05:49<06:40,  9.18it/s]"
          ]
        },
        {
          "output_type": "stream",
          "name": "stdout",
          "text": [
            "16752\n",
            "16752\n",
            "16752\n",
            "16752\n"
          ]
        },
        {
          "output_type": "stream",
          "name": "stderr",
          "text": [
            "\r 60%|█████▉    | 5495/9172 [05:49<07:04,  8.66it/s]"
          ]
        },
        {
          "output_type": "stream",
          "name": "stdout",
          "text": [
            "16752\n",
            "16752\n",
            "16752\n",
            "16752\n",
            "16752\n"
          ]
        },
        {
          "output_type": "stream",
          "name": "stderr",
          "text": [
            " 60%|█████▉    | 5501/9172 [05:49<04:27, 13.71it/s]"
          ]
        },
        {
          "output_type": "stream",
          "name": "stdout",
          "text": [
            "16752\n",
            "16764\n",
            "16757\n"
          ]
        },
        {
          "output_type": "stream",
          "name": "stderr",
          "text": [
            "\r 60%|█████▉    | 5503/9172 [05:49<04:27, 13.69it/s]"
          ]
        },
        {
          "output_type": "stream",
          "name": "stdout",
          "text": [
            "16764 - HTTP 404\n",
            "16764 - HTTP 404\n",
            "16752\n"
          ]
        },
        {
          "output_type": "stream",
          "name": "stderr",
          "text": [
            " 60%|██████    | 5507/9172 [05:50<05:13, 11.70it/s]"
          ]
        },
        {
          "output_type": "stream",
          "name": "stdout",
          "text": [
            "16757\n",
            "16768\n",
            "16757\n"
          ]
        },
        {
          "output_type": "stream",
          "name": "stderr",
          "text": [
            "\r 60%|██████    | 5509/9172 [05:50<05:44, 10.62it/s]"
          ]
        },
        {
          "output_type": "stream",
          "name": "stdout",
          "text": [
            "16757\n",
            "16757\n",
            "16682\n"
          ]
        },
        {
          "output_type": "stream",
          "name": "stderr",
          "text": [
            "\r 60%|██████    | 5511/9172 [05:50<05:23, 11.31it/s]"
          ]
        },
        {
          "output_type": "stream",
          "name": "stdout",
          "text": [
            "16768\n",
            "16772\n"
          ]
        },
        {
          "output_type": "stream",
          "name": "stderr",
          "text": [
            " 60%|██████    | 5516/9172 [05:51<04:53, 12.45it/s]"
          ]
        },
        {
          "output_type": "stream",
          "name": "stdout",
          "text": [
            "16764\n",
            "16757\n",
            "16764\n",
            "16764\n",
            "16764\n"
          ]
        },
        {
          "output_type": "stream",
          "name": "stderr",
          "text": [
            " 60%|██████    | 5520/9172 [05:51<05:21, 11.36it/s]"
          ]
        },
        {
          "output_type": "stream",
          "name": "stdout",
          "text": [
            "16772\n",
            "16768\n",
            "16768\n"
          ]
        },
        {
          "output_type": "stream",
          "name": "stderr",
          "text": [
            "\r 60%|██████    | 5522/9172 [05:51<04:45, 12.79it/s]"
          ]
        },
        {
          "output_type": "stream",
          "name": "stdout",
          "text": [
            "16768\n",
            "16791\n",
            "16768\n"
          ]
        },
        {
          "output_type": "stream",
          "name": "stderr",
          "text": [
            " 60%|██████    | 5526/9172 [05:52<05:13, 11.63it/s]"
          ]
        },
        {
          "output_type": "stream",
          "name": "stdout",
          "text": [
            "16764\n",
            "16772\n",
            "16791\n"
          ]
        },
        {
          "output_type": "stream",
          "name": "stderr",
          "text": [
            "\r 60%|██████    | 5528/9172 [05:52<04:50, 12.53it/s]"
          ]
        },
        {
          "output_type": "stream",
          "name": "stdout",
          "text": [
            "16768\n",
            "16768\n"
          ]
        },
        {
          "output_type": "stream",
          "name": "stderr",
          "text": [
            "\r 60%|██████    | 5530/9172 [05:52<07:08,  8.49it/s]"
          ]
        },
        {
          "output_type": "stream",
          "name": "stdout",
          "text": [
            "16772\n",
            "16772\n",
            "16772\n"
          ]
        },
        {
          "output_type": "stream",
          "name": "stderr",
          "text": [
            "\r 60%|██████    | 5532/9172 [05:52<06:11,  9.79it/s]"
          ]
        },
        {
          "output_type": "stream",
          "name": "stdout",
          "text": [
            "16791\n",
            "16791\n"
          ]
        },
        {
          "output_type": "stream",
          "name": "stderr",
          "text": [
            " 60%|██████    | 5536/9172 [05:53<05:32, 10.93it/s]"
          ]
        },
        {
          "output_type": "stream",
          "name": "stdout",
          "text": [
            "16791\n",
            "16772\n",
            "16809\n",
            "16772\n",
            "16791\n"
          ]
        },
        {
          "output_type": "stream",
          "name": "stderr",
          "text": [
            " 60%|██████    | 5541/9172 [05:53<05:19, 11.36it/s]"
          ]
        },
        {
          "output_type": "stream",
          "name": "stdout",
          "text": [
            "16685\n",
            "16806\n",
            "16791\n"
          ]
        },
        {
          "output_type": "stream",
          "name": "stderr",
          "text": [
            " 60%|██████    | 5546/9172 [05:53<04:08, 14.59it/s]"
          ]
        },
        {
          "output_type": "stream",
          "name": "stdout",
          "text": [
            "16809\n",
            "16821\n",
            "16791\n",
            "16806\n",
            "16806\n"
          ]
        },
        {
          "output_type": "stream",
          "name": "stderr",
          "text": [
            " 61%|██████    | 5550/9172 [05:54<05:13, 11.54it/s]"
          ]
        },
        {
          "output_type": "stream",
          "name": "stdout",
          "text": [
            "16821\n",
            "16809\n",
            "16806\n",
            "16809\n"
          ]
        },
        {
          "output_type": "stream",
          "name": "stderr",
          "text": [
            "\r 61%|██████    | 5552/9172 [05:54<06:59,  8.62it/s]"
          ]
        },
        {
          "output_type": "stream",
          "name": "stdout",
          "text": [
            "16809\n",
            "16821\n",
            "16809\n",
            "16809\n"
          ]
        },
        {
          "output_type": "stream",
          "name": "stderr",
          "text": [
            " 61%|██████    | 5556/9172 [05:55<07:25,  8.11it/s]"
          ]
        },
        {
          "output_type": "stream",
          "name": "stdout",
          "text": [
            "16821\n",
            "16821\n",
            "16821\n",
            "16828\n"
          ]
        },
        {
          "output_type": "stream",
          "name": "stderr",
          "text": [
            "\r 61%|██████    | 5559/9172 [05:55<06:59,  8.60it/s]"
          ]
        },
        {
          "output_type": "stream",
          "name": "stdout",
          "text": [
            "16824\n",
            "16824\n"
          ]
        },
        {
          "output_type": "stream",
          "name": "stderr",
          "text": [
            " 61%|██████    | 5562/9172 [05:55<08:06,  7.42it/s]"
          ]
        },
        {
          "output_type": "stream",
          "name": "stdout",
          "text": [
            "16824\n",
            "16824\n",
            "16821\n",
            "16828\n"
          ]
        },
        {
          "output_type": "stream",
          "name": "stderr",
          "text": [
            "\r 61%|██████    | 5565/9172 [05:56<08:32,  7.03it/s]"
          ]
        },
        {
          "output_type": "stream",
          "name": "stdout",
          "text": [
            "16824\n"
          ]
        },
        {
          "output_type": "stream",
          "name": "stderr",
          "text": [
            "\r 61%|██████    | 5566/9172 [05:56<09:13,  6.51it/s]"
          ]
        },
        {
          "output_type": "stream",
          "name": "stdout",
          "text": [
            "16828\n",
            "16833\n",
            "16828\n"
          ]
        },
        {
          "output_type": "stream",
          "name": "stderr",
          "text": [
            " 61%|██████    | 5572/9172 [05:57<06:28,  9.26it/s]"
          ]
        },
        {
          "output_type": "stream",
          "name": "stdout",
          "text": [
            "16828\n",
            "16828\n",
            "16828\n",
            "16833\n"
          ]
        },
        {
          "output_type": "stream",
          "name": "stderr",
          "text": [
            "\r 61%|██████    | 5574/9172 [05:57<06:32,  9.18it/s]"
          ]
        },
        {
          "output_type": "stream",
          "name": "stdout",
          "text": [
            "16694\n",
            "16828\n",
            "16848\n"
          ]
        },
        {
          "output_type": "stream",
          "name": "stderr",
          "text": [
            " 61%|██████    | 5578/9172 [05:57<05:49, 10.27it/s]"
          ]
        },
        {
          "output_type": "stream",
          "name": "stdout",
          "text": [
            "16833\n",
            "16828\n",
            "16848\n",
            "16806\n",
            "16833\n"
          ]
        },
        {
          "output_type": "stream",
          "name": "stderr",
          "text": [
            "\r 61%|██████    | 5581/9172 [05:57<04:37, 12.95it/s]"
          ]
        },
        {
          "output_type": "stream",
          "name": "stdout",
          "text": [
            "16833\n",
            "16833\n",
            "16854\n"
          ]
        },
        {
          "output_type": "stream",
          "name": "stderr",
          "text": [
            "\r 61%|██████    | 5584/9172 [05:58<05:11, 11.52it/s]"
          ]
        },
        {
          "output_type": "stream",
          "name": "stdout",
          "text": [
            "16848\n",
            "16833\n",
            "16854\n",
            "16848\n"
          ]
        },
        {
          "output_type": "stream",
          "name": "stderr",
          "text": [
            " 61%|██████    | 5591/9172 [05:58<04:02, 14.78it/s]"
          ]
        },
        {
          "output_type": "stream",
          "name": "stdout",
          "text": [
            "16848\n",
            "16806\n",
            "16848\n",
            "16867\n",
            "16697\n",
            "16833\n"
          ]
        },
        {
          "output_type": "stream",
          "name": "stderr",
          "text": [
            "\r 61%|██████    | 5594/9172 [05:58<03:36, 16.49it/s]"
          ]
        },
        {
          "output_type": "stream",
          "name": "stdout",
          "text": [
            "16848\n"
          ]
        },
        {
          "output_type": "stream",
          "name": "stderr",
          "text": [
            " 61%|██████    | 5601/9172 [05:59<03:13, 18.43it/s]"
          ]
        },
        {
          "output_type": "stream",
          "name": "stdout",
          "text": [
            "16854\n",
            "16870\n",
            "16867\n",
            "16854\n",
            "16854\n",
            "16854\n",
            "16854\n",
            "16854\n",
            "16824\n"
          ]
        },
        {
          "output_type": "stream",
          "name": "stderr",
          "text": [
            " 61%|██████    | 5607/9172 [05:59<03:21, 17.70it/s]"
          ]
        },
        {
          "output_type": "stream",
          "name": "stdout",
          "text": [
            "16867\n",
            "16867\n",
            "16824\n",
            "16867\n"
          ]
        },
        {
          "output_type": "stream",
          "name": "stderr",
          "text": [
            "\r 61%|██████    | 5610/9172 [05:59<04:11, 14.15it/s]"
          ]
        },
        {
          "output_type": "stream",
          "name": "stdout",
          "text": [
            "16870\n",
            "16867\n",
            "16867\n",
            "16874\n",
            "16867\n",
            "16867\n"
          ]
        },
        {
          "output_type": "stream",
          "name": "stderr",
          "text": [
            " 61%|██████    | 5616/9172 [06:00<04:02, 14.65it/s]"
          ]
        },
        {
          "output_type": "stream",
          "name": "stdout",
          "text": [
            "16870\n",
            "16870\n",
            "16874\n",
            "16867\n",
            "16870\n",
            "16870\n"
          ]
        },
        {
          "output_type": "stream",
          "name": "stderr",
          "text": [
            " 61%|██████▏   | 5623/9172 [06:00<03:12, 18.47it/s]"
          ]
        },
        {
          "output_type": "stream",
          "name": "stdout",
          "text": [
            "16870\n",
            "16870\n",
            "16870\n",
            "16870\n"
          ]
        },
        {
          "output_type": "stream",
          "name": "stderr",
          "text": [
            "\r 61%|██████▏   | 5628/9172 [06:00<03:18, 17.84it/s]"
          ]
        },
        {
          "output_type": "stream",
          "name": "stdout",
          "text": [
            "16870\n",
            "16877\n",
            "16870\n",
            "16874\n",
            "16877\n",
            "16874\n",
            "16874\n"
          ]
        },
        {
          "output_type": "stream",
          "name": "stderr",
          "text": [
            " 61%|██████▏   | 5633/9172 [06:01<04:10, 14.10it/s]"
          ]
        },
        {
          "output_type": "stream",
          "name": "stdout",
          "text": [
            "16877\n",
            "16874\n",
            "16877\n"
          ]
        },
        {
          "output_type": "stream",
          "name": "stderr",
          "text": [
            "\r 61%|██████▏   | 5635/9172 [06:01<03:55, 14.99it/s]"
          ]
        },
        {
          "output_type": "stream",
          "name": "stdout",
          "text": [
            "16874\n",
            "16877\n",
            "16874\n"
          ]
        },
        {
          "output_type": "stream",
          "name": "stderr",
          "text": [
            " 62%|██████▏   | 5641/9172 [06:01<03:34, 16.48it/s]"
          ]
        },
        {
          "output_type": "stream",
          "name": "stdout",
          "text": [
            "16877\n",
            "16880\n",
            "16877\n",
            "16880\n",
            "16880\n",
            "16880\n"
          ]
        },
        {
          "output_type": "stream",
          "name": "stderr",
          "text": [
            "\r 62%|██████▏   | 5644/9172 [06:01<03:29, 16.81it/s]"
          ]
        },
        {
          "output_type": "stream",
          "name": "stdout",
          "text": [
            "16877\n",
            "16880\n",
            "16880\n",
            "16880\n"
          ]
        },
        {
          "output_type": "stream",
          "name": "stderr",
          "text": [
            " 62%|██████▏   | 5649/9172 [06:02<04:11, 14.03it/s]"
          ]
        },
        {
          "output_type": "stream",
          "name": "stdout",
          "text": [
            "16884\n",
            "16880\n",
            "16880\n"
          ]
        },
        {
          "output_type": "stream",
          "name": "stderr",
          "text": [
            " 62%|██████▏   | 5653/9172 [06:02<04:08, 14.16it/s]"
          ]
        },
        {
          "output_type": "stream",
          "name": "stdout",
          "text": [
            "16880\n",
            "16880\n",
            "16880\n",
            "16884\n"
          ]
        },
        {
          "output_type": "stream",
          "name": "stderr",
          "text": [
            " 62%|██████▏   | 5658/9172 [06:02<03:30, 16.70it/s]"
          ]
        },
        {
          "output_type": "stream",
          "name": "stdout",
          "text": [
            "16880\n",
            "16880\n",
            "16880\n",
            "16884\n",
            "16884\n",
            "16884\n",
            "16884\n"
          ]
        },
        {
          "output_type": "stream",
          "name": "stderr",
          "text": [
            "\r 62%|██████▏   | 5661/9172 [06:02<03:19, 17.63it/s]"
          ]
        },
        {
          "output_type": "stream",
          "name": "stdout",
          "text": [
            "16887\n",
            "16884\n"
          ]
        },
        {
          "output_type": "stream",
          "name": "stderr",
          "text": [
            " 62%|██████▏   | 5665/9172 [06:03<04:31, 12.92it/s]"
          ]
        },
        {
          "output_type": "stream",
          "name": "stdout",
          "text": [
            "16887\n",
            "16890\n",
            "16887\n",
            "16887\n",
            "16887\n"
          ]
        },
        {
          "output_type": "stream",
          "name": "stderr",
          "text": [
            " 62%|██████▏   | 5670/9172 [06:03<04:26, 13.14it/s]"
          ]
        },
        {
          "output_type": "stream",
          "name": "stdout",
          "text": [
            "16887\n",
            "16887\n",
            "16897\n"
          ]
        },
        {
          "output_type": "stream",
          "name": "stderr",
          "text": [
            "\r 62%|██████▏   | 5672/9172 [06:03<04:32, 12.84it/s]"
          ]
        },
        {
          "output_type": "stream",
          "name": "stdout",
          "text": [
            "16890\n",
            "16890\n",
            "16887\n",
            "16890\n",
            "16890\n",
            "16890\n"
          ]
        },
        {
          "output_type": "stream",
          "name": "stderr",
          "text": [
            " 62%|██████▏   | 5682/9172 [06:04<02:48, 20.75it/s]"
          ]
        },
        {
          "output_type": "stream",
          "name": "stdout",
          "text": [
            "16890\n",
            "16903\n",
            "16880\n",
            "16897\n",
            "16903\n",
            "16890\n"
          ]
        },
        {
          "output_type": "stream",
          "name": "stderr",
          "text": [
            "\r 62%|██████▏   | 5685/9172 [06:04<03:44, 15.51it/s]"
          ]
        },
        {
          "output_type": "stream",
          "name": "stdout",
          "text": [
            "16907\n",
            "16897\n",
            "16897\n",
            "16907\n"
          ]
        },
        {
          "output_type": "stream",
          "name": "stderr",
          "text": [
            "\r 62%|██████▏   | 5688/9172 [06:04<03:19, 17.44it/s]"
          ]
        },
        {
          "output_type": "stream",
          "name": "stdout",
          "text": [
            "16897\n",
            "16897\n",
            "16912\n",
            "16897\n"
          ]
        },
        {
          "output_type": "stream",
          "name": "stderr",
          "text": [
            " 62%|██████▏   | 5695/9172 [06:05<03:29, 16.56it/s]"
          ]
        },
        {
          "output_type": "stream",
          "name": "stdout",
          "text": [
            "16903\n",
            "16903\n",
            "16880\n",
            "16903\n",
            "16903\n"
          ]
        },
        {
          "output_type": "stream",
          "name": "stderr",
          "text": [
            " 62%|██████▏   | 5702/9172 [06:05<02:39, 21.80it/s]"
          ]
        },
        {
          "output_type": "stream",
          "name": "stdout",
          "text": [
            "16907\n",
            "16903\n",
            "16907\n",
            "16907\n",
            "16907\n",
            "16912\n",
            "16915\n",
            "16912\n",
            "16912\n",
            "16915\n"
          ]
        },
        {
          "output_type": "stream",
          "name": "stderr",
          "text": [
            " 62%|██████▏   | 5708/9172 [06:06<03:46, 15.30it/s]"
          ]
        },
        {
          "output_type": "stream",
          "name": "stdout",
          "text": [
            "16912\n",
            "16919\n",
            "16912\n"
          ]
        },
        {
          "output_type": "stream",
          "name": "stderr",
          "text": [
            "\r 62%|██████▏   | 5710/9172 [06:06<03:53, 14.82it/s]"
          ]
        },
        {
          "output_type": "stream",
          "name": "stdout",
          "text": [
            "16912\n",
            "16912\n",
            "16919\n"
          ]
        },
        {
          "output_type": "stream",
          "name": "stderr",
          "text": [
            " 62%|██████▏   | 5717/9172 [06:06<03:10, 18.13it/s]"
          ]
        },
        {
          "output_type": "stream",
          "name": "stdout",
          "text": [
            "16915\n",
            "16915\n",
            "16915\n",
            "16912\n",
            "16922\n",
            "16915\n",
            "16919\n"
          ]
        },
        {
          "output_type": "stream",
          "name": "stderr",
          "text": [
            " 62%|██████▏   | 5723/9172 [06:06<03:20, 17.23it/s]"
          ]
        },
        {
          "output_type": "stream",
          "name": "stdout",
          "text": [
            "16915\n",
            "16919\n",
            "16919\n",
            "16922\n",
            "16919\n",
            "16928\n",
            "16915\n",
            "16919\n"
          ]
        },
        {
          "output_type": "stream",
          "name": "stderr",
          "text": [
            "\r 62%|██████▏   | 5727/9172 [06:07<03:07, 18.41it/s]"
          ]
        },
        {
          "output_type": "stream",
          "name": "stdout",
          "text": [
            "16922\n",
            "16928\n",
            "16922\n"
          ]
        },
        {
          "output_type": "stream",
          "name": "stderr",
          "text": [
            " 62%|██████▏   | 5732/9172 [06:07<04:08, 13.87it/s]"
          ]
        },
        {
          "output_type": "stream",
          "name": "stdout",
          "text": [
            "16922\n",
            "16919\n",
            "16922\n"
          ]
        },
        {
          "output_type": "stream",
          "name": "stderr",
          "text": [
            " 63%|██████▎   | 5736/9172 [06:08<04:39, 12.31it/s]"
          ]
        },
        {
          "output_type": "stream",
          "name": "stdout",
          "text": [
            "16928\n",
            "16935\n",
            "16935\n",
            "16928\n",
            "16947\n"
          ]
        },
        {
          "output_type": "stream",
          "name": "stderr",
          "text": [
            " 63%|██████▎   | 5740/9172 [06:08<04:24, 12.99it/s]"
          ]
        },
        {
          "output_type": "stream",
          "name": "stdout",
          "text": [
            "16922\n",
            "16928\n",
            "16935\n",
            "16935\n"
          ]
        },
        {
          "output_type": "stream",
          "name": "stderr",
          "text": [
            "\r 63%|██████▎   | 5742/9172 [06:08<04:00, 14.29it/s]"
          ]
        },
        {
          "output_type": "stream",
          "name": "stdout",
          "text": [
            "16935\n"
          ]
        },
        {
          "output_type": "stream",
          "name": "stderr",
          "text": [
            " 63%|██████▎   | 5749/9172 [06:08<03:17, 17.33it/s]"
          ]
        },
        {
          "output_type": "stream",
          "name": "stdout",
          "text": [
            "16935\n",
            "16928\n",
            "16935\n",
            "16935\n",
            "16955\n",
            "16947\n",
            "16928\n"
          ]
        },
        {
          "output_type": "stream",
          "name": "stderr",
          "text": [
            "\r 63%|██████▎   | 5752/9172 [06:09<04:09, 13.70it/s]"
          ]
        },
        {
          "output_type": "stream",
          "name": "stdout",
          "text": [
            "16928\n",
            "16955\n",
            "16964\n",
            "16935\n"
          ]
        },
        {
          "output_type": "stream",
          "name": "stderr",
          "text": [
            " 63%|██████▎   | 5756/9172 [06:09<05:46,  9.87it/s]"
          ]
        },
        {
          "output_type": "stream",
          "name": "stdout",
          "text": [
            "16947\n",
            "16947\n",
            "16947\n"
          ]
        },
        {
          "output_type": "stream",
          "name": "stderr",
          "text": [
            " 63%|██████▎   | 5761/9172 [06:10<04:28, 12.71it/s]"
          ]
        },
        {
          "output_type": "stream",
          "name": "stdout",
          "text": [
            "16947\n",
            "16955\n",
            "16955\n",
            "16947\n",
            "16955\n"
          ]
        },
        {
          "output_type": "stream",
          "name": "stderr",
          "text": [
            "\r 63%|██████▎   | 5763/9172 [06:10<06:05,  9.31it/s]"
          ]
        },
        {
          "output_type": "stream",
          "name": "stdout",
          "text": [
            "16964\n",
            "16955\n",
            "16955\n",
            "16964\n",
            "16964\n"
          ]
        },
        {
          "output_type": "stream",
          "name": "stderr",
          "text": [
            " 63%|██████▎   | 5769/9172 [06:10<04:01, 14.07it/s]"
          ]
        },
        {
          "output_type": "stream",
          "name": "stdout",
          "text": [
            "16964\n",
            "16965\n",
            "16965\n"
          ]
        },
        {
          "output_type": "stream",
          "name": "stderr",
          "text": [
            "\r 63%|██████▎   | 5771/9172 [06:11<05:09, 10.98it/s]"
          ]
        },
        {
          "output_type": "stream",
          "name": "stdout",
          "text": [
            "16966\n",
            "16964\n",
            "16964\n"
          ]
        },
        {
          "output_type": "stream",
          "name": "stderr",
          "text": [
            " 63%|██████▎   | 5775/9172 [06:11<05:58,  9.48it/s]"
          ]
        },
        {
          "output_type": "stream",
          "name": "stdout",
          "text": [
            "16964\n",
            "16966\n",
            "16964\n",
            "16965\n",
            "16965\n"
          ]
        },
        {
          "output_type": "stream",
          "name": "stderr",
          "text": [
            "\r 63%|██████▎   | 5780/9172 [06:11<03:54, 14.46it/s]"
          ]
        },
        {
          "output_type": "stream",
          "name": "stdout",
          "text": [
            "16964\n",
            "16965\n",
            "16967\n",
            "16964\n"
          ]
        },
        {
          "output_type": "stream",
          "name": "stderr",
          "text": [
            " 63%|██████▎   | 5784/9172 [06:12<05:00, 11.27it/s]"
          ]
        },
        {
          "output_type": "stream",
          "name": "stdout",
          "text": [
            "16965\n",
            "16967\n",
            "16966\n"
          ]
        },
        {
          "output_type": "stream",
          "name": "stderr",
          "text": [
            " 63%|██████▎   | 5789/9172 [06:12<04:17, 13.12it/s]"
          ]
        },
        {
          "output_type": "stream",
          "name": "stdout",
          "text": [
            "16966\n",
            "16966\n",
            "16968\n",
            "16966\n",
            "16966\n"
          ]
        },
        {
          "output_type": "stream",
          "name": "stderr",
          "text": [
            "\r 63%|██████▎   | 5791/9172 [06:12<04:23, 12.84it/s]"
          ]
        },
        {
          "output_type": "stream",
          "name": "stdout",
          "text": [
            "16966\n",
            "16966\n",
            "16968\n"
          ]
        },
        {
          "output_type": "stream",
          "name": "stderr",
          "text": [
            "\r 63%|██████▎   | 5793/9172 [06:12<04:42, 11.98it/s]"
          ]
        },
        {
          "output_type": "stream",
          "name": "stdout",
          "text": [
            "16970\n",
            "16967\n",
            "16967\n"
          ]
        },
        {
          "output_type": "stream",
          "name": "stderr",
          "text": [
            " 63%|██████▎   | 5797/9172 [06:13<04:57, 11.33it/s]"
          ]
        },
        {
          "output_type": "stream",
          "name": "stdout",
          "text": [
            "16967\n",
            "16967\n"
          ]
        },
        {
          "output_type": "stream",
          "name": "stderr",
          "text": [
            " 63%|██████▎   | 5803/9172 [06:13<04:48, 11.68it/s]"
          ]
        },
        {
          "output_type": "stream",
          "name": "stdout",
          "text": [
            "16968\n",
            "16967\n",
            "16968\n",
            "16968\n",
            "16970\n",
            "16824\n"
          ]
        },
        {
          "output_type": "stream",
          "name": "stderr",
          "text": [
            "\r 63%|██████▎   | 5806/9172 [06:14<04:09, 13.49it/s]"
          ]
        },
        {
          "output_type": "stream",
          "name": "stdout",
          "text": [
            "16968\n",
            "16968\n",
            "16968\n",
            "16968\n"
          ]
        },
        {
          "output_type": "stream",
          "name": "stderr",
          "text": [
            "\r 63%|██████▎   | 5808/9172 [06:14<04:03, 13.80it/s]"
          ]
        },
        {
          "output_type": "stream",
          "name": "stdout",
          "text": [
            "16970\n"
          ]
        },
        {
          "output_type": "stream",
          "name": "stderr",
          "text": [
            "\r 63%|██████▎   | 5810/9172 [06:14<05:43,  9.79it/s]"
          ]
        },
        {
          "output_type": "stream",
          "name": "stdout",
          "text": [
            "16972\n",
            "16970\n",
            "16970\n",
            "16972\n",
            "16970\n"
          ]
        },
        {
          "output_type": "stream",
          "name": "stderr",
          "text": [
            " 63%|██████▎   | 5817/9172 [06:14<03:40, 15.22it/s]"
          ]
        },
        {
          "output_type": "stream",
          "name": "stdout",
          "text": [
            "16970\n",
            "16973\n",
            "16970\n",
            "16970\n",
            "16970\n"
          ]
        },
        {
          "output_type": "stream",
          "name": "stderr",
          "text": [
            "\r 63%|██████▎   | 5819/9172 [06:15<05:33, 10.06it/s]"
          ]
        },
        {
          "output_type": "stream",
          "name": "stdout",
          "text": [
            "16973\n",
            "16974\n"
          ]
        },
        {
          "output_type": "stream",
          "name": "stderr",
          "text": [
            " 63%|██████▎   | 5823/9172 [06:15<06:05,  9.17it/s]"
          ]
        },
        {
          "output_type": "stream",
          "name": "stdout",
          "text": [
            "16972\n",
            "16972\n",
            "16972\n",
            "16972\n"
          ]
        },
        {
          "output_type": "stream",
          "name": "stderr",
          "text": [
            "\r 64%|██████▎   | 5825/9172 [06:16<06:04,  9.19it/s]"
          ]
        },
        {
          "output_type": "stream",
          "name": "stdout",
          "text": [
            "16973\n",
            "16973\n"
          ]
        },
        {
          "output_type": "stream",
          "name": "stderr",
          "text": [
            " 64%|██████▎   | 5831/9172 [06:16<04:30, 12.36it/s]"
          ]
        },
        {
          "output_type": "stream",
          "name": "stdout",
          "text": [
            "16974\n",
            "16975\n",
            "16973\n",
            "16972\n",
            "16972\n",
            "16973\n"
          ]
        },
        {
          "output_type": "stream",
          "name": "stderr",
          "text": [
            "\r 64%|██████▎   | 5833/9172 [06:16<04:46, 11.67it/s]"
          ]
        },
        {
          "output_type": "stream",
          "name": "stdout",
          "text": [
            "16974\n",
            "16974\n",
            "16973\n"
          ]
        },
        {
          "output_type": "stream",
          "name": "stderr",
          "text": [
            " 64%|██████▎   | 5838/9172 [06:17<04:34, 12.13it/s]"
          ]
        },
        {
          "output_type": "stream",
          "name": "stdout",
          "text": [
            "16974\n",
            "16975\n",
            "16976\n"
          ]
        },
        {
          "output_type": "stream",
          "name": "stderr",
          "text": [
            "\r 64%|██████▎   | 5841/9172 [06:17<04:17, 12.92it/s]"
          ]
        },
        {
          "output_type": "stream",
          "name": "stdout",
          "text": [
            "16974\n",
            "16974\n",
            "16974\n"
          ]
        },
        {
          "output_type": "stream",
          "name": "stderr",
          "text": [
            " 64%|██████▎   | 5845/9172 [06:17<04:34, 12.11it/s]"
          ]
        },
        {
          "output_type": "stream",
          "name": "stdout",
          "text": [
            "16974\n",
            "16976\n",
            "16978\n",
            "16975\n"
          ]
        },
        {
          "output_type": "stream",
          "name": "stderr",
          "text": [
            "\r 64%|██████▎   | 5847/9172 [06:17<06:10,  8.98it/s]"
          ]
        },
        {
          "output_type": "stream",
          "name": "stdout",
          "text": [
            "16978\n",
            "16975\n",
            "16975\n"
          ]
        },
        {
          "output_type": "stream",
          "name": "stderr",
          "text": [
            "\r 64%|██████▍   | 5849/9172 [06:18<05:13, 10.59it/s]"
          ]
        },
        {
          "output_type": "stream",
          "name": "stdout",
          "text": [
            "16979\n",
            "16975\n"
          ]
        },
        {
          "output_type": "stream",
          "name": "stderr",
          "text": [
            " 64%|██████▍   | 5853/9172 [06:18<05:17, 10.47it/s]"
          ]
        },
        {
          "output_type": "stream",
          "name": "stdout",
          "text": [
            "16976\n",
            "16976\n",
            "16976\n"
          ]
        },
        {
          "output_type": "stream",
          "name": "stderr",
          "text": [
            "\r 64%|██████▍   | 5855/9172 [06:18<05:08, 10.76it/s]"
          ]
        },
        {
          "output_type": "stream",
          "name": "stdout",
          "text": [
            "16978\n",
            "16976\n",
            "16979\n"
          ]
        },
        {
          "output_type": "stream",
          "name": "stderr",
          "text": [
            " 64%|██████▍   | 5859/9172 [06:18<04:18, 12.81it/s]"
          ]
        },
        {
          "output_type": "stream",
          "name": "stdout",
          "text": [
            "16978\n",
            "16978\n",
            "16976\n",
            "16978\n"
          ]
        },
        {
          "output_type": "stream",
          "name": "stderr",
          "text": [
            "\r 64%|██████▍   | 5861/9172 [06:19<04:50, 11.39it/s]"
          ]
        },
        {
          "output_type": "stream",
          "name": "stdout",
          "text": [
            "16976\n",
            "16979\n"
          ]
        },
        {
          "output_type": "stream",
          "name": "stderr",
          "text": [
            " 64%|██████▍   | 5865/9172 [06:19<05:53,  9.34it/s]"
          ]
        },
        {
          "output_type": "stream",
          "name": "stdout",
          "text": [
            "16980\n",
            "16979\n",
            "16979\n"
          ]
        },
        {
          "output_type": "stream",
          "name": "stderr",
          "text": [
            "\r 64%|██████▍   | 5867/9172 [06:19<06:30,  8.46it/s]"
          ]
        },
        {
          "output_type": "stream",
          "name": "stdout",
          "text": [
            "16979\n",
            "16979\n"
          ]
        },
        {
          "output_type": "stream",
          "name": "stderr",
          "text": [
            " 64%|██████▍   | 5870/9172 [06:20<06:42,  8.21it/s]"
          ]
        },
        {
          "output_type": "stream",
          "name": "stdout",
          "text": [
            "16979\n",
            "16983\n",
            "16980\n",
            "16980\n"
          ]
        },
        {
          "output_type": "stream",
          "name": "stderr",
          "text": [
            " 64%|██████▍   | 5874/9172 [06:20<05:08, 10.68it/s]"
          ]
        },
        {
          "output_type": "stream",
          "name": "stdout",
          "text": [
            "16984\n",
            "16979\n",
            "16980\n"
          ]
        },
        {
          "output_type": "stream",
          "name": "stderr",
          "text": [
            "\r 64%|██████▍   | 5876/9172 [06:20<06:00,  9.15it/s]"
          ]
        },
        {
          "output_type": "stream",
          "name": "stdout",
          "text": [
            "16983\n",
            "16983\n",
            "16980\n",
            "16980\n"
          ]
        },
        {
          "output_type": "stream",
          "name": "stderr",
          "text": [
            " 64%|██████▍   | 5881/9172 [06:21<04:55, 11.12it/s]"
          ]
        },
        {
          "output_type": "stream",
          "name": "stdout",
          "text": [
            "16984\n",
            "16980\n",
            "16983\n"
          ]
        },
        {
          "output_type": "stream",
          "name": "stderr",
          "text": [
            "\r 64%|██████▍   | 5883/9172 [06:21<05:49,  9.40it/s]"
          ]
        },
        {
          "output_type": "stream",
          "name": "stdout",
          "text": [
            "16986\n",
            "16983\n",
            "16983\n"
          ]
        },
        {
          "output_type": "stream",
          "name": "stderr",
          "text": [
            " 64%|██████▍   | 5888/9172 [06:21<04:38, 11.80it/s]"
          ]
        },
        {
          "output_type": "stream",
          "name": "stdout",
          "text": [
            "16986\n",
            "16983\n",
            "16983\n",
            "16983\n",
            "16984\n"
          ]
        },
        {
          "output_type": "stream",
          "name": "stderr",
          "text": [
            "\r 64%|██████▍   | 5890/9172 [06:22<04:22, 12.50it/s]"
          ]
        },
        {
          "output_type": "stream",
          "name": "stdout",
          "text": [
            "16989\n",
            "16984\n",
            "16984\n"
          ]
        },
        {
          "output_type": "stream",
          "name": "stderr",
          "text": [
            " 64%|██████▍   | 5895/9172 [06:22<03:51, 14.18it/s]"
          ]
        },
        {
          "output_type": "stream",
          "name": "stdout",
          "text": [
            "16984\n",
            "16984\n",
            "16989\n",
            "16986\n",
            "16994\n"
          ]
        },
        {
          "output_type": "stream",
          "name": "stderr",
          "text": [
            " 64%|██████▍   | 5901/9172 [06:22<03:30, 15.54it/s]"
          ]
        },
        {
          "output_type": "stream",
          "name": "stdout",
          "text": [
            "16986\n",
            "16986\n",
            "16984\n",
            "16986\n"
          ]
        },
        {
          "output_type": "stream",
          "name": "stderr",
          "text": [
            "\r 64%|██████▍   | 5903/9172 [06:23<04:28, 12.18it/s]"
          ]
        },
        {
          "output_type": "stream",
          "name": "stdout",
          "text": [
            "16994\n",
            "16997\n"
          ]
        },
        {
          "output_type": "stream",
          "name": "stderr",
          "text": [
            "\r 64%|██████▍   | 5905/9172 [06:23<05:00, 10.88it/s]"
          ]
        },
        {
          "output_type": "stream",
          "name": "stdout",
          "text": [
            "16989\n",
            "16986\n",
            "16989\n"
          ]
        },
        {
          "output_type": "stream",
          "name": "stderr",
          "text": [
            " 64%|██████▍   | 5909/9172 [06:23<04:58, 10.93it/s]"
          ]
        },
        {
          "output_type": "stream",
          "name": "stdout",
          "text": [
            "16989\n",
            "16997\n",
            "16994\n",
            "16989\n"
          ]
        },
        {
          "output_type": "stream",
          "name": "stderr",
          "text": [
            "\r 64%|██████▍   | 5912/9172 [06:23<04:04, 13.36it/s]"
          ]
        },
        {
          "output_type": "stream",
          "name": "stdout",
          "text": [
            "16989\n",
            "17000\n",
            "16994\n"
          ]
        },
        {
          "output_type": "stream",
          "name": "stderr",
          "text": [
            " 65%|██████▍   | 5918/9172 [06:24<04:04, 13.30it/s]"
          ]
        },
        {
          "output_type": "stream",
          "name": "stdout",
          "text": [
            "16994\n",
            "16997\n",
            "16997\n",
            "17000\n",
            "16997\n"
          ]
        },
        {
          "output_type": "stream",
          "name": "stderr",
          "text": [
            "\r 65%|██████▍   | 5921/9172 [06:24<03:46, 14.36it/s]"
          ]
        },
        {
          "output_type": "stream",
          "name": "stdout",
          "text": [
            "16997\n",
            "16994\n",
            "16997\n"
          ]
        },
        {
          "output_type": "stream",
          "name": "stderr",
          "text": [
            "\r 65%|██████▍   | 5923/9172 [06:24<04:24, 12.26it/s]"
          ]
        },
        {
          "output_type": "stream",
          "name": "stdout",
          "text": [
            "16994\n",
            "17004\n"
          ]
        },
        {
          "output_type": "stream",
          "name": "stderr",
          "text": [
            "\r 65%|██████▍   | 5925/9172 [06:24<04:58, 10.87it/s]"
          ]
        },
        {
          "output_type": "stream",
          "name": "stdout",
          "text": [
            "16997\n",
            "17007\n",
            "16806\n",
            "16880\n"
          ]
        },
        {
          "output_type": "stream",
          "name": "stderr",
          "text": [
            " 65%|██████▍   | 5933/9172 [06:25<03:39, 14.73it/s]"
          ]
        },
        {
          "output_type": "stream",
          "name": "stdout",
          "text": [
            "17000\n",
            "17000\n",
            "17000\n",
            "17000\n",
            "17004\n",
            "17007\n"
          ]
        },
        {
          "output_type": "stream",
          "name": "stderr",
          "text": [
            " 65%|██████▍   | 5938/9172 [06:25<04:18, 12.52it/s]"
          ]
        },
        {
          "output_type": "stream",
          "name": "stdout",
          "text": [
            "17000\n",
            "17004\n",
            "17010\n",
            "16997\n",
            "17004\n",
            "17004\n",
            "17004\n"
          ]
        },
        {
          "output_type": "stream",
          "name": "stderr",
          "text": [
            " 65%|██████▍   | 5944/9172 [06:26<03:32, 15.21it/s]"
          ]
        },
        {
          "output_type": "stream",
          "name": "stdout",
          "text": [
            "17000\n",
            "17004\n",
            "17007\n",
            "17007\n",
            "17007\n"
          ]
        },
        {
          "output_type": "stream",
          "name": "stderr",
          "text": [
            " 65%|██████▍   | 5949/9172 [06:26<02:58, 18.09it/s]"
          ]
        },
        {
          "output_type": "stream",
          "name": "stdout",
          "text": [
            "17010\n",
            "17011\n",
            "17007\n",
            "17010\n",
            "17010\n",
            "17007\n",
            "17011\n"
          ]
        },
        {
          "output_type": "stream",
          "name": "stderr",
          "text": [
            "\r 65%|██████▍   | 5953/9172 [06:26<02:44, 19.63it/s]"
          ]
        },
        {
          "output_type": "stream",
          "name": "stdout",
          "text": [
            "17010\n",
            "17012\n"
          ]
        },
        {
          "output_type": "stream",
          "name": "stderr",
          "text": [
            "\r 65%|██████▍   | 5956/9172 [06:26<03:01, 17.68it/s]"
          ]
        },
        {
          "output_type": "stream",
          "name": "stdout",
          "text": [
            "17007\n",
            "17010\n",
            "17012\n"
          ]
        },
        {
          "output_type": "stream",
          "name": "stderr",
          "text": [
            "\r 65%|██████▍   | 5958/9172 [06:27<03:48, 14.09it/s]"
          ]
        },
        {
          "output_type": "stream",
          "name": "stdout",
          "text": [
            "17010\n",
            "17011\n"
          ]
        },
        {
          "output_type": "stream",
          "name": "stderr",
          "text": [
            " 65%|██████▌   | 5962/9172 [06:27<04:30, 11.88it/s]"
          ]
        },
        {
          "output_type": "stream",
          "name": "stdout",
          "text": [
            "17010\n",
            "17011\n",
            "17011\n",
            "17011\n"
          ]
        },
        {
          "output_type": "stream",
          "name": "stderr",
          "text": [
            " 65%|██████▌   | 5966/9172 [06:27<04:29, 11.89it/s]"
          ]
        },
        {
          "output_type": "stream",
          "name": "stdout",
          "text": [
            "17018\n",
            "17011\n",
            "17021\n",
            "17012\n"
          ]
        },
        {
          "output_type": "stream",
          "name": "stderr",
          "text": [
            "\r 65%|██████▌   | 5968/9172 [06:28<04:53, 10.93it/s]"
          ]
        },
        {
          "output_type": "stream",
          "name": "stdout",
          "text": [
            "17011\n",
            "17018\n",
            "17012\n",
            "17018\n",
            "17012\n",
            "17012\n",
            "17018\n"
          ]
        },
        {
          "output_type": "stream",
          "name": "stderr",
          "text": [
            " 65%|██████▌   | 5977/9172 [06:28<03:12, 16.58it/s]"
          ]
        },
        {
          "output_type": "stream",
          "name": "stdout",
          "text": [
            "17018\n",
            "17022\n",
            "17018\n",
            "17018\n",
            "17012\n",
            "17018\n",
            "17012\n"
          ]
        },
        {
          "output_type": "stream",
          "name": "stderr",
          "text": [
            " 65%|██████▌   | 5985/9172 [06:28<02:54, 18.23it/s]"
          ]
        },
        {
          "output_type": "stream",
          "name": "stdout",
          "text": [
            "17021\n",
            "17022\n",
            "17021\n",
            "17021\n"
          ]
        },
        {
          "output_type": "stream",
          "name": "stderr",
          "text": [
            " 65%|██████▌   | 5991/9172 [06:29<02:30, 21.19it/s]"
          ]
        },
        {
          "output_type": "stream",
          "name": "stdout",
          "text": [
            "17023\n",
            "17021\n",
            "17022\n",
            "17021\n",
            "17023\n",
            "17021\n"
          ]
        },
        {
          "output_type": "stream",
          "name": "stderr",
          "text": [
            "\r 65%|██████▌   | 5994/9172 [06:29<02:33, 20.67it/s]"
          ]
        },
        {
          "output_type": "stream",
          "name": "stdout",
          "text": [
            "17021\n",
            "17022\n",
            "17022\n"
          ]
        },
        {
          "output_type": "stream",
          "name": "stderr",
          "text": [
            " 65%|██████▌   | 5999/9172 [06:29<03:02, 17.34it/s]"
          ]
        },
        {
          "output_type": "stream",
          "name": "stdout",
          "text": [
            "17022\n",
            "17024\n",
            "17021\n",
            "17024\n",
            "17023\n"
          ]
        },
        {
          "output_type": "stream",
          "name": "stderr",
          "text": [
            "\r 65%|██████▌   | 6001/9172 [06:29<03:25, 15.40it/s]"
          ]
        },
        {
          "output_type": "stream",
          "name": "stdout",
          "text": [
            "17022\n",
            "17023\n",
            "17023\n",
            "17022\n"
          ]
        },
        {
          "output_type": "stream",
          "name": "stderr",
          "text": [
            " 65%|██████▌   | 6006/9172 [06:30<02:47, 18.87it/s]"
          ]
        },
        {
          "output_type": "stream",
          "name": "stdout",
          "text": [
            "17025\n",
            "17023\n",
            "17024\n",
            "17024\n",
            "17026\n"
          ]
        },
        {
          "output_type": "stream",
          "name": "stderr",
          "text": [
            " 66%|██████▌   | 6011/9172 [06:30<03:01, 17.42it/s]"
          ]
        },
        {
          "output_type": "stream",
          "name": "stdout",
          "text": [
            "17023\n",
            "17025\n",
            "17025\n",
            "17025\n",
            "17024\n"
          ]
        },
        {
          "output_type": "stream",
          "name": "stderr",
          "text": [
            " 66%|██████▌   | 6018/9172 [06:30<02:15, 23.21it/s]"
          ]
        },
        {
          "output_type": "stream",
          "name": "stdout",
          "text": [
            "17025\n",
            "17025\n",
            "17026\n",
            "17024\n",
            "17024\n",
            "17025\n"
          ]
        },
        {
          "output_type": "stream",
          "name": "stderr",
          "text": [
            "\r 66%|██████▌   | 6021/9172 [06:30<02:17, 22.88it/s]"
          ]
        },
        {
          "output_type": "stream",
          "name": "stdout",
          "text": [
            "17025\n",
            "17026\n",
            "17027\n",
            "17025\n"
          ]
        },
        {
          "output_type": "stream",
          "name": "stderr",
          "text": [
            " 66%|██████▌   | 6026/9172 [06:31<02:57, 17.68it/s]"
          ]
        },
        {
          "output_type": "stream",
          "name": "stdout",
          "text": [
            "17028\n",
            "17026\n",
            "17026\n",
            "17025\n"
          ]
        },
        {
          "output_type": "stream",
          "name": "stderr",
          "text": [
            " 66%|██████▌   | 6030/9172 [06:31<03:26, 15.24it/s]"
          ]
        },
        {
          "output_type": "stream",
          "name": "stdout",
          "text": [
            "17026\n",
            "17028\n",
            "17026\n"
          ]
        },
        {
          "output_type": "stream",
          "name": "stderr",
          "text": [
            " 66%|██████▌   | 6034/9172 [06:31<03:50, 13.62it/s]"
          ]
        },
        {
          "output_type": "stream",
          "name": "stdout",
          "text": [
            "17026\n",
            "17027\n",
            "17027\n",
            "17027\n",
            "17027\n",
            "17028\n",
            "17027\n"
          ]
        },
        {
          "output_type": "stream",
          "name": "stderr",
          "text": [
            "\r 66%|██████▌   | 6037/9172 [06:31<03:15, 16.00it/s]"
          ]
        },
        {
          "output_type": "stream",
          "name": "stdout",
          "text": [
            "17027\n",
            "17027\n"
          ]
        },
        {
          "output_type": "stream",
          "name": "stderr",
          "text": [
            " 66%|██████▌   | 6042/9172 [06:32<03:49, 13.61it/s]"
          ]
        },
        {
          "output_type": "stream",
          "name": "stdout",
          "text": [
            "17028\n",
            "17029\n",
            "17028\n",
            "17028\n"
          ]
        },
        {
          "output_type": "stream",
          "name": "stderr",
          "text": [
            " 66%|██████▌   | 6046/9172 [06:32<03:56, 13.23it/s]"
          ]
        },
        {
          "output_type": "stream",
          "name": "stdout",
          "text": [
            "17029\n",
            "17029\n",
            "17029\n",
            "17028\n",
            "17028\n"
          ]
        },
        {
          "output_type": "stream",
          "name": "stderr",
          "text": [
            " 66%|██████▌   | 6052/9172 [06:32<03:04, 16.92it/s]"
          ]
        },
        {
          "output_type": "stream",
          "name": "stdout",
          "text": [
            "17030\n",
            "17029\n",
            "17029\n",
            "17031\n",
            "17029\n"
          ]
        },
        {
          "output_type": "stream",
          "name": "stderr",
          "text": [
            "\r 66%|██████▌   | 6054/9172 [06:33<03:54, 13.32it/s]"
          ]
        },
        {
          "output_type": "stream",
          "name": "stdout",
          "text": [
            "17031\n",
            "17029\n"
          ]
        },
        {
          "output_type": "stream",
          "name": "stderr",
          "text": [
            " 66%|██████▌   | 6058/9172 [06:33<04:35, 11.30it/s]"
          ]
        },
        {
          "output_type": "stream",
          "name": "stdout",
          "text": [
            "17029\n",
            "17030\n",
            "17030\n"
          ]
        },
        {
          "output_type": "stream",
          "name": "stderr",
          "text": [
            "\r 66%|██████▌   | 6060/9172 [06:33<04:05, 12.68it/s]"
          ]
        },
        {
          "output_type": "stream",
          "name": "stdout",
          "text": [
            "17032\n",
            "17030\n"
          ]
        },
        {
          "output_type": "stream",
          "name": "stderr",
          "text": [
            "\r 66%|██████▌   | 6062/9172 [06:34<05:10, 10.00it/s]"
          ]
        },
        {
          "output_type": "stream",
          "name": "stdout",
          "text": [
            "17031\n",
            "17033\n"
          ]
        },
        {
          "output_type": "stream",
          "name": "stderr",
          "text": [
            "\r 66%|██████▌   | 6064/9172 [06:34<05:12,  9.96it/s]"
          ]
        },
        {
          "output_type": "stream",
          "name": "stdout",
          "text": [
            "17030\n",
            "17030\n",
            "17031\n",
            "17031\n"
          ]
        },
        {
          "output_type": "stream",
          "name": "stderr",
          "text": [
            " 66%|██████▌   | 6072/9172 [06:34<03:17, 15.68it/s]"
          ]
        },
        {
          "output_type": "stream",
          "name": "stdout",
          "text": [
            "17031\n",
            "17032\n",
            "17031\n",
            "17032\n",
            "17032\n",
            "17032\n",
            "17030\n",
            "17033\n",
            "17032\n"
          ]
        },
        {
          "output_type": "stream",
          "name": "stderr",
          "text": [
            "\r 66%|██████▌   | 6076/9172 [06:34<03:12, 16.10it/s]"
          ]
        },
        {
          "output_type": "stream",
          "name": "stdout",
          "text": [
            "17031\n",
            "17032\n"
          ]
        },
        {
          "output_type": "stream",
          "name": "stderr",
          "text": [
            "\r 66%|██████▋   | 6078/9172 [06:35<04:08, 12.43it/s]"
          ]
        },
        {
          "output_type": "stream",
          "name": "stdout",
          "text": [
            "17034\n",
            "17033\n",
            "17036\n",
            "17033\n"
          ]
        },
        {
          "output_type": "stream",
          "name": "stderr",
          "text": [
            " 66%|██████▋   | 6084/9172 [06:35<04:08, 12.43it/s]"
          ]
        },
        {
          "output_type": "stream",
          "name": "stdout",
          "text": [
            "17033\n",
            "17033\n",
            "17036\n",
            "17033\n"
          ]
        },
        {
          "output_type": "stream",
          "name": "stderr",
          "text": [
            "\r 66%|██████▋   | 6086/9172 [06:35<05:08, 10.01it/s]"
          ]
        },
        {
          "output_type": "stream",
          "name": "stdout",
          "text": [
            "17034\n",
            "17033\n",
            "17034\n"
          ]
        },
        {
          "output_type": "stream",
          "name": "stderr",
          "text": [
            " 66%|██████▋   | 6094/9172 [06:36<03:25, 14.99it/s]"
          ]
        },
        {
          "output_type": "stream",
          "name": "stdout",
          "text": [
            "17036\n",
            "17034\n",
            "17036\n",
            "17034\n",
            "17034\n",
            "17036\n"
          ]
        },
        {
          "output_type": "stream",
          "name": "stderr",
          "text": [
            "\r 66%|██████▋   | 6096/9172 [06:36<04:10, 12.29it/s]"
          ]
        },
        {
          "output_type": "stream",
          "name": "stdout",
          "text": [
            "17037\n",
            "17036\n",
            "17034\n"
          ]
        },
        {
          "output_type": "stream",
          "name": "stderr",
          "text": [
            " 67%|██████▋   | 6100/9172 [06:37<04:34, 11.19it/s]"
          ]
        },
        {
          "output_type": "stream",
          "name": "stdout",
          "text": [
            "17038\n",
            "17036\n",
            "17039\n",
            "17036\n"
          ]
        },
        {
          "output_type": "stream",
          "name": "stderr",
          "text": [
            " 67%|██████▋   | 6108/9172 [06:37<02:55, 17.42it/s]"
          ]
        },
        {
          "output_type": "stream",
          "name": "stdout",
          "text": [
            "17037\n",
            "17037\n",
            "17036\n",
            "17034\n",
            "17037\n",
            "17037\n",
            "17037\n"
          ]
        },
        {
          "output_type": "stream",
          "name": "stderr",
          "text": [
            "\r 67%|██████▋   | 6111/9172 [06:37<02:58, 17.14it/s]"
          ]
        },
        {
          "output_type": "stream",
          "name": "stdout",
          "text": [
            "17038\n",
            "17038\n",
            "17039\n",
            "17068\n"
          ]
        },
        {
          "output_type": "stream",
          "name": "stderr",
          "text": [
            " 67%|██████▋   | 6115/9172 [06:37<03:20, 15.27it/s]"
          ]
        },
        {
          "output_type": "stream",
          "name": "stdout",
          "text": [
            "17038\n",
            "17038\n",
            "17038\n",
            "17068\n",
            "17038\n",
            "17068\n"
          ]
        },
        {
          "output_type": "stream",
          "name": "stderr",
          "text": [
            "\r 67%|██████▋   | 6119/9172 [06:38<02:51, 17.84it/s]"
          ]
        },
        {
          "output_type": "stream",
          "name": "stdout",
          "text": [
            "17069\n",
            "17039\n"
          ]
        },
        {
          "output_type": "stream",
          "name": "stderr",
          "text": [
            " 67%|██████▋   | 6124/9172 [06:38<03:17, 15.46it/s]"
          ]
        },
        {
          "output_type": "stream",
          "name": "stdout",
          "text": [
            "17070\n",
            "17068\n",
            "17069\n",
            "17039\n",
            "17068\n"
          ]
        },
        {
          "output_type": "stream",
          "name": "stderr",
          "text": [
            " 67%|██████▋   | 6130/9172 [06:38<02:47, 18.20it/s]"
          ]
        },
        {
          "output_type": "stream",
          "name": "stdout",
          "text": [
            "17038\n",
            "17068\n",
            "17070\n",
            "17068\n",
            "17069\n",
            "17069\n",
            "17069\n",
            "17039\n",
            "17039\n"
          ]
        },
        {
          "output_type": "stream",
          "name": "stderr",
          "text": [
            "\r 67%|██████▋   | 6135/9172 [06:38<02:19, 21.78it/s]"
          ]
        },
        {
          "output_type": "stream",
          "name": "stdout",
          "text": [
            "17069\n",
            "17070\n",
            "17037\n"
          ]
        },
        {
          "output_type": "stream",
          "name": "stderr",
          "text": [
            "\r 67%|██████▋   | 6138/9172 [06:39<03:16, 15.42it/s]"
          ]
        },
        {
          "output_type": "stream",
          "name": "stdout",
          "text": [
            "17071\n",
            "17068\n",
            "17070\n",
            "17070\n"
          ]
        },
        {
          "output_type": "stream",
          "name": "stderr",
          "text": [
            " 67%|██████▋   | 6144/9172 [06:39<03:09, 16.01it/s]"
          ]
        },
        {
          "output_type": "stream",
          "name": "stdout",
          "text": [
            "17071\n",
            "17070\n",
            "17073\n",
            "17073\n"
          ]
        },
        {
          "output_type": "stream",
          "name": "stderr",
          "text": [
            "\r 67%|██████▋   | 6146/9172 [06:39<04:14, 11.90it/s]"
          ]
        },
        {
          "output_type": "stream",
          "name": "stdout",
          "text": [
            "17070\n",
            "17069\n"
          ]
        },
        {
          "output_type": "stream",
          "name": "stderr",
          "text": [
            " 67%|██████▋   | 6150/9172 [06:40<05:02,  9.99it/s]"
          ]
        },
        {
          "output_type": "stream",
          "name": "stdout",
          "text": [
            "17071\n",
            "17071\n",
            "17071\n"
          ]
        },
        {
          "output_type": "stream",
          "name": "stderr",
          "text": [
            " 67%|██████▋   | 6154/9172 [06:40<04:01, 12.49it/s]"
          ]
        },
        {
          "output_type": "stream",
          "name": "stdout",
          "text": [
            "17071\n",
            "17071\n",
            "17073\n",
            "17073\n"
          ]
        },
        {
          "output_type": "stream",
          "name": "stderr",
          "text": [
            "\r 67%|██████▋   | 6156/9172 [06:40<04:20, 11.57it/s]"
          ]
        },
        {
          "output_type": "stream",
          "name": "stdout",
          "text": [
            "17073\n",
            "17073\n",
            "17073\n",
            "17074\n"
          ]
        },
        {
          "output_type": "stream",
          "name": "stderr",
          "text": [
            " 67%|██████▋   | 6161/9172 [06:41<03:58, 12.61it/s]"
          ]
        },
        {
          "output_type": "stream",
          "name": "stdout",
          "text": [
            "17073\n",
            "17075\n",
            "17074\n",
            "17073\n",
            "17070\n"
          ]
        },
        {
          "output_type": "stream",
          "name": "stderr",
          "text": [
            "\r 67%|██████▋   | 6164/9172 [06:41<03:48, 13.16it/s]"
          ]
        },
        {
          "output_type": "stream",
          "name": "stdout",
          "text": [
            "17070\n",
            "17075\n",
            "17074\n",
            "17074\n",
            "17075\n"
          ]
        },
        {
          "output_type": "stream",
          "name": "stderr",
          "text": [
            " 67%|██████▋   | 6172/9172 [06:41<03:06, 16.11it/s]"
          ]
        },
        {
          "output_type": "stream",
          "name": "stdout",
          "text": [
            "17074\n",
            "17074\n",
            "17074\n",
            "17076\n"
          ]
        },
        {
          "output_type": "stream",
          "name": "stderr",
          "text": [
            " 67%|██████▋   | 6177/9172 [06:42<02:55, 17.10it/s]"
          ]
        },
        {
          "output_type": "stream",
          "name": "stdout",
          "text": [
            "17074\n",
            "17076\n",
            "17075\n",
            "17075\n",
            "17075\n"
          ]
        },
        {
          "output_type": "stream",
          "name": "stderr",
          "text": [
            "\r 67%|██████▋   | 6179/9172 [06:42<04:01, 12.38it/s]"
          ]
        },
        {
          "output_type": "stream",
          "name": "stdout",
          "text": [
            "17074\n",
            "17082\n",
            "17081\n",
            "17076\n"
          ]
        },
        {
          "output_type": "stream",
          "name": "stderr",
          "text": [
            " 67%|██████▋   | 6186/9172 [06:43<03:31, 14.12it/s]"
          ]
        },
        {
          "output_type": "stream",
          "name": "stdout",
          "text": [
            "17075\n",
            "17075\n",
            "17076\n",
            "17076\n",
            "17076\n",
            "17081\n"
          ]
        },
        {
          "output_type": "stream",
          "name": "stderr",
          "text": [
            " 68%|██████▊   | 6193/9172 [06:43<02:40, 18.52it/s]"
          ]
        },
        {
          "output_type": "stream",
          "name": "stdout",
          "text": [
            "17081\n",
            "17082\n",
            "17083\n",
            "17081\n",
            "17081\n",
            "17082\n",
            "17076\n",
            "17081\n"
          ]
        },
        {
          "output_type": "stream",
          "name": "stderr",
          "text": [
            "\r 68%|██████▊   | 6196/9172 [06:43<02:47, 17.77it/s]"
          ]
        },
        {
          "output_type": "stream",
          "name": "stdout",
          "text": [
            "17083\n",
            "17082\n",
            "17081\n"
          ]
        },
        {
          "output_type": "stream",
          "name": "stderr",
          "text": [
            " 68%|██████▊   | 6203/9172 [06:43<02:42, 18.32it/s]"
          ]
        },
        {
          "output_type": "stream",
          "name": "stdout",
          "text": [
            "17081\n",
            "17081\n",
            "17082\n",
            "17082\n",
            "17084\n",
            "17082\n"
          ]
        },
        {
          "output_type": "stream",
          "name": "stderr",
          "text": [
            "\r 68%|██████▊   | 6206/9172 [06:44<03:17, 15.04it/s]"
          ]
        },
        {
          "output_type": "stream",
          "name": "stdout",
          "text": [
            "17082\n",
            "17084\n",
            "17083\n"
          ]
        },
        {
          "output_type": "stream",
          "name": "stderr",
          "text": [
            " 68%|██████▊   | 6210/9172 [06:44<03:51, 12.77it/s]"
          ]
        },
        {
          "output_type": "stream",
          "name": "stdout",
          "text": [
            "17085\n",
            "17083\n",
            "17083\n",
            "17083\n"
          ]
        },
        {
          "output_type": "stream",
          "name": "stderr",
          "text": [
            " 68%|██████▊   | 6218/9172 [06:44<02:19, 21.17it/s]"
          ]
        },
        {
          "output_type": "stream",
          "name": "stdout",
          "text": [
            "17084\n",
            "17083\n",
            "17083\n",
            "17084\n",
            "17085\n",
            "17084\n",
            "17086\n",
            "17084\n"
          ]
        },
        {
          "output_type": "stream",
          "name": "stderr",
          "text": [
            "\r 68%|██████▊   | 6221/9172 [06:45<02:50, 17.35it/s]"
          ]
        },
        {
          "output_type": "stream",
          "name": "stdout",
          "text": [
            "17084\n",
            "17083\n",
            "17085\n",
            "17087\n",
            "17085\n",
            "17086\n"
          ]
        },
        {
          "output_type": "stream",
          "name": "stderr",
          "text": [
            " 68%|██████▊   | 6229/9172 [06:45<02:16, 21.51it/s]"
          ]
        },
        {
          "output_type": "stream",
          "name": "stdout",
          "text": [
            "17085\n",
            "17085\n",
            "17085\n",
            "17087\n",
            "17085\n",
            "17088\n",
            "17085\n"
          ]
        },
        {
          "output_type": "stream",
          "name": "stderr",
          "text": [
            "\r 68%|██████▊   | 6233/9172 [06:45<02:08, 22.96it/s]"
          ]
        },
        {
          "output_type": "stream",
          "name": "stdout",
          "text": [
            "17086\n",
            "17086\n",
            "17086\n"
          ]
        },
        {
          "output_type": "stream",
          "name": "stderr",
          "text": [
            " 68%|██████▊   | 6239/9172 [06:45<02:28, 19.70it/s]"
          ]
        },
        {
          "output_type": "stream",
          "name": "stdout",
          "text": [
            "17088\n",
            "17089\n",
            "17086\n",
            "17086\n"
          ]
        },
        {
          "output_type": "stream",
          "name": "stderr",
          "text": [
            "\r 68%|██████▊   | 6242/9172 [06:46<03:10, 15.42it/s]"
          ]
        },
        {
          "output_type": "stream",
          "name": "stdout",
          "text": [
            "17086\n",
            "17087\n",
            "17089\n",
            "17086\n",
            "17088\n",
            "17088\n"
          ]
        },
        {
          "output_type": "stream",
          "name": "stderr",
          "text": [
            " 68%|██████▊   | 6253/9172 [06:46<01:46, 27.32it/s]"
          ]
        },
        {
          "output_type": "stream",
          "name": "stdout",
          "text": [
            "17087\n",
            "17087\n",
            "17090\n",
            "17088\n",
            "17087\n",
            "17089\n",
            "17089\n",
            "17087\n",
            "17088\n",
            "17088\n"
          ]
        },
        {
          "output_type": "stream",
          "name": "stderr",
          "text": [
            "\r 68%|██████▊   | 6257/9172 [06:46<01:57, 24.74it/s]"
          ]
        },
        {
          "output_type": "stream",
          "name": "stdout",
          "text": [
            "17089\n",
            "17089\n",
            "17090\n"
          ]
        },
        {
          "output_type": "stream",
          "name": "stderr",
          "text": [
            "\r 68%|██████▊   | 6260/9172 [06:46<02:04, 23.39it/s]"
          ]
        },
        {
          "output_type": "stream",
          "name": "stdout",
          "text": [
            "17091\n",
            "17089\n",
            "17089\n",
            "17091\n",
            "17090\n",
            "17089\n"
          ]
        },
        {
          "output_type": "stream",
          "name": "stderr",
          "text": [
            "\r 68%|██████▊   | 6265/9172 [06:47<02:22, 20.47it/s]"
          ]
        },
        {
          "output_type": "stream",
          "name": "stdout",
          "text": [
            "17092\n",
            "17090\n"
          ]
        },
        {
          "output_type": "stream",
          "name": "stderr",
          "text": [
            " 68%|██████▊   | 6271/9172 [06:47<02:44, 17.60it/s]"
          ]
        },
        {
          "output_type": "stream",
          "name": "stdout",
          "text": [
            "17092\n",
            "17091\n",
            "17090\n",
            "17090\n",
            "17091\n",
            "17091\n",
            "17090\n",
            "17090\n",
            "17091\n"
          ]
        },
        {
          "output_type": "stream",
          "name": "stderr",
          "text": [
            " 69%|██████▊   | 6283/9172 [06:47<01:44, 27.52it/s]"
          ]
        },
        {
          "output_type": "stream",
          "name": "stdout",
          "text": [
            "17091\n",
            "17091\n",
            "17090\n",
            "17095\n",
            "17092\n",
            "17091\n",
            "17092\n",
            "17092\n"
          ]
        },
        {
          "output_type": "stream",
          "name": "stderr",
          "text": [
            "\r 69%|██████▊   | 6287/9172 [06:48<01:56, 24.80it/s]"
          ]
        },
        {
          "output_type": "stream",
          "name": "stdout",
          "text": [
            "17092\n",
            "17095\n",
            "17092\n",
            "17092\n",
            "17098\n",
            "17098\n"
          ]
        },
        {
          "output_type": "stream",
          "name": "stderr",
          "text": [
            " 69%|██████▊   | 6293/9172 [06:48<03:03, 15.66it/s]"
          ]
        },
        {
          "output_type": "stream",
          "name": "stdout",
          "text": [
            "17099\n",
            "17095\n",
            "17095\n",
            "17095\n",
            "17098\n"
          ]
        },
        {
          "output_type": "stream",
          "name": "stderr",
          "text": [
            " 69%|██████▊   | 6302/9172 [06:49<02:06, 22.70it/s]"
          ]
        },
        {
          "output_type": "stream",
          "name": "stdout",
          "text": [
            "17098\n",
            "17098\n",
            "17095\n",
            "17095\n",
            "17098\n",
            "17095\n",
            "17098\n",
            "17098\n",
            "17098\n"
          ]
        },
        {
          "output_type": "stream",
          "name": "stderr",
          "text": [
            " 69%|██████▉   | 6310/9172 [06:49<01:48, 26.31it/s]"
          ]
        },
        {
          "output_type": "stream",
          "name": "stdout",
          "text": [
            "17095\n",
            "17098\n",
            "17095\n",
            "17099\n",
            "17099\n",
            "17099\n",
            "17103\n",
            "17099\n",
            "17103\n",
            "17099\n",
            "17104\n"
          ]
        },
        {
          "output_type": "stream",
          "name": "stderr",
          "text": [
            " 69%|██████▉   | 6317/9172 [06:49<02:43, 17.45it/s]"
          ]
        },
        {
          "output_type": "stream",
          "name": "stdout",
          "text": [
            "17103\n",
            "17103\n",
            "17104\n",
            "17105\n"
          ]
        },
        {
          "output_type": "stream",
          "name": "stderr",
          "text": [
            "\r 69%|██████▉   | 6320/9172 [06:50<02:45, 17.24it/s]"
          ]
        },
        {
          "output_type": "stream",
          "name": "stdout",
          "text": [
            "17103\n",
            "17099\n",
            "17103\n",
            "17104\n"
          ]
        },
        {
          "output_type": "stream",
          "name": "stderr",
          "text": [
            " 69%|██████▉   | 6325/9172 [06:50<02:46, 17.11it/s]"
          ]
        },
        {
          "output_type": "stream",
          "name": "stdout",
          "text": [
            "17103\n",
            "17099\n",
            "17103\n",
            "17104\n",
            "17104\n"
          ]
        },
        {
          "output_type": "stream",
          "name": "stderr",
          "text": [
            " 69%|██████▉   | 6334/9172 [06:50<01:55, 24.65it/s]"
          ]
        },
        {
          "output_type": "stream",
          "name": "stdout",
          "text": [
            "17103\n",
            "17104\n",
            "17105\n",
            "17106\n",
            "17104\n",
            "17104\n",
            "17104\n"
          ]
        },
        {
          "output_type": "stream",
          "name": "stderr",
          "text": [
            "\r 69%|██████▉   | 6337/9172 [06:50<02:25, 19.48it/s]"
          ]
        },
        {
          "output_type": "stream",
          "name": "stdout",
          "text": [
            "17105\n",
            "17104\n",
            "17105\n",
            "17106\n",
            "17105\n"
          ]
        },
        {
          "output_type": "stream",
          "name": "stderr",
          "text": [
            " 69%|██████▉   | 6343/9172 [06:51<02:20, 20.10it/s]"
          ]
        },
        {
          "output_type": "stream",
          "name": "stdout",
          "text": [
            "17107\n",
            "17105\n",
            "17106\n",
            "17105\n"
          ]
        },
        {
          "output_type": "stream",
          "name": "stderr",
          "text": [
            "\r 69%|██████▉   | 6346/9172 [06:51<02:18, 20.46it/s]"
          ]
        },
        {
          "output_type": "stream",
          "name": "stdout",
          "text": [
            "17105\n",
            "17107\n",
            "17105\n"
          ]
        },
        {
          "output_type": "stream",
          "name": "stderr",
          "text": [
            "\r 69%|██████▉   | 6349/9172 [06:51<02:59, 15.70it/s]"
          ]
        },
        {
          "output_type": "stream",
          "name": "stdout",
          "text": [
            "17106\n",
            "17108\n",
            "17106\n",
            "17106\n"
          ]
        },
        {
          "output_type": "stream",
          "name": "stderr",
          "text": [
            " 69%|██████▉   | 6353/9172 [06:51<03:16, 14.38it/s]"
          ]
        },
        {
          "output_type": "stream",
          "name": "stdout",
          "text": [
            "17107\n",
            "17106\n",
            "17109\n",
            "17108\n",
            "17107\n",
            "17107\n",
            "17107\n"
          ]
        },
        {
          "output_type": "stream",
          "name": "stderr",
          "text": [
            " 69%|██████▉   | 6361/9172 [06:52<02:10, 21.56it/s]"
          ]
        },
        {
          "output_type": "stream",
          "name": "stdout",
          "text": [
            "17107\n",
            "17106\n",
            "17107\n",
            "17107\n"
          ]
        },
        {
          "output_type": "stream",
          "name": "stderr",
          "text": [
            "\r 69%|██████▉   | 6364/9172 [06:52<02:20, 19.98it/s]"
          ]
        },
        {
          "output_type": "stream",
          "name": "stdout",
          "text": [
            "17108\n",
            "17109\n",
            "17108\n",
            "17111\n"
          ]
        },
        {
          "output_type": "stream",
          "name": "stderr",
          "text": [
            "\r 69%|██████▉   | 6367/9172 [06:52<02:43, 17.19it/s]"
          ]
        },
        {
          "output_type": "stream",
          "name": "stdout",
          "text": [
            "17108\n",
            "17108\n",
            "17111\n",
            "17108\n",
            "17108\n",
            "17108\n"
          ]
        },
        {
          "output_type": "stream",
          "name": "stderr",
          "text": [
            " 70%|██████▉   | 6376/9172 [06:52<02:02, 22.86it/s]"
          ]
        },
        {
          "output_type": "stream",
          "name": "stdout",
          "text": [
            "17109\n",
            "17109\n",
            "17112\n",
            "17109\n",
            "17109\n",
            "17111\n"
          ]
        },
        {
          "output_type": "stream",
          "name": "stderr",
          "text": [
            " 70%|██████▉   | 6385/9172 [06:53<01:54, 24.42it/s]"
          ]
        },
        {
          "output_type": "stream",
          "name": "stdout",
          "text": [
            "17109\n",
            "17111\n",
            "17115\n",
            "17112\n",
            "17109\n",
            "17111\n",
            "17109\n",
            "17111\n",
            "17111\n",
            "17115\n"
          ]
        },
        {
          "output_type": "stream",
          "name": "stderr",
          "text": [
            "\r 70%|██████▉   | 6389/9172 [06:53<01:56, 23.98it/s]"
          ]
        },
        {
          "output_type": "stream",
          "name": "stdout",
          "text": [
            "17116\n",
            "17112\n",
            "17111\n"
          ]
        },
        {
          "output_type": "stream",
          "name": "stderr",
          "text": [
            "\r 70%|██████▉   | 6392/9172 [06:53<02:17, 20.26it/s]"
          ]
        },
        {
          "output_type": "stream",
          "name": "stdout",
          "text": [
            "17111\n",
            "17116\n",
            "17115\n",
            "17115\n",
            "17112\n",
            "17120\n"
          ]
        },
        {
          "output_type": "stream",
          "name": "stderr",
          "text": [
            " 70%|██████▉   | 6400/9172 [06:53<01:51, 24.80it/s]"
          ]
        },
        {
          "output_type": "stream",
          "name": "stdout",
          "text": [
            "17115\n",
            "17112\n",
            "17115\n",
            "17112\n",
            "17115\n"
          ]
        },
        {
          "output_type": "stream",
          "name": "stderr",
          "text": [
            " 70%|██████▉   | 6407/9172 [06:54<01:56, 23.67it/s]"
          ]
        },
        {
          "output_type": "stream",
          "name": "stdout",
          "text": [
            "17116\n",
            "17120\n",
            "17112\n",
            "17115\n",
            "17116\n",
            "17116\n"
          ]
        },
        {
          "output_type": "stream",
          "name": "stderr",
          "text": [
            "\r 70%|██████▉   | 6410/9172 [06:54<02:01, 22.72it/s]"
          ]
        },
        {
          "output_type": "stream",
          "name": "stdout",
          "text": [
            "17120\n",
            "17121\n",
            "17121\n"
          ]
        },
        {
          "output_type": "stream",
          "name": "stderr",
          "text": [
            " 70%|██████▉   | 6418/9172 [06:54<01:36, 28.69it/s]"
          ]
        },
        {
          "output_type": "stream",
          "name": "stdout",
          "text": [
            "17128\n",
            "17116\n",
            "17128\n",
            "17116\n",
            "17128\n",
            "17128\n",
            "17128\n",
            "17116\n"
          ]
        },
        {
          "output_type": "stream",
          "name": "stderr",
          "text": [
            "\r 70%|███████   | 6422/9172 [06:54<01:55, 23.83it/s]"
          ]
        },
        {
          "output_type": "stream",
          "name": "stdout",
          "text": [
            "17128\n",
            "17120\n",
            "17120\n",
            "17120\n",
            "17121\n",
            "17128\n"
          ]
        },
        {
          "output_type": "stream",
          "name": "stderr",
          "text": [
            " 70%|███████   | 6428/9172 [06:55<02:12, 20.69it/s]"
          ]
        },
        {
          "output_type": "stream",
          "name": "stdout",
          "text": [
            "17130\n",
            "17130\n",
            "17130\n",
            "17130\n",
            "17130\n"
          ]
        },
        {
          "output_type": "stream",
          "name": "stderr",
          "text": [
            "\r 70%|███████   | 6434/9172 [06:55<01:38, 27.80it/s]"
          ]
        },
        {
          "output_type": "stream",
          "name": "stdout",
          "text": [
            "17120\n",
            "17121\n",
            "17121\n",
            "17130\n",
            "17120\n",
            "17121\n",
            "17130\n",
            "17130\n"
          ]
        },
        {
          "output_type": "stream",
          "name": "stderr",
          "text": [
            "\r 70%|███████   | 6438/9172 [06:55<02:00, 22.73it/s]"
          ]
        },
        {
          "output_type": "stream",
          "name": "stdout",
          "text": [
            "17130\n",
            "17121\n"
          ]
        },
        {
          "output_type": "stream",
          "name": "stderr",
          "text": [
            "\r 70%|███████   | 6441/9172 [06:56<03:09, 14.38it/s]"
          ]
        },
        {
          "output_type": "stream",
          "name": "stdout",
          "text": [
            "17131\n",
            "17128\n",
            "17128\n",
            "17131\n"
          ]
        },
        {
          "output_type": "stream",
          "name": "stderr",
          "text": [
            " 70%|███████   | 6446/9172 [06:56<03:36, 12.61it/s]"
          ]
        },
        {
          "output_type": "stream",
          "name": "stdout",
          "text": [
            "17132\n",
            "17128\n",
            "17128\n",
            "17128\n"
          ]
        },
        {
          "output_type": "stream",
          "name": "stderr",
          "text": [
            " 70%|███████   | 6451/9172 [06:56<03:08, 14.45it/s]"
          ]
        },
        {
          "output_type": "stream",
          "name": "stdout",
          "text": [
            "17130\n",
            "17130\n",
            "17131\n",
            "17130\n",
            "17130\n",
            "17130\n",
            "17130\n",
            "17130\n",
            "17131\n",
            "17131\n"
          ]
        },
        {
          "output_type": "stream",
          "name": "stderr",
          "text": [
            " 70%|███████   | 6462/9172 [06:57<02:13, 20.26it/s]"
          ]
        },
        {
          "output_type": "stream",
          "name": "stdout",
          "text": [
            "17131\n",
            "17131\n",
            "17131\n",
            "17132\n",
            "17133\n",
            "17132\n",
            "17132\n"
          ]
        },
        {
          "output_type": "stream",
          "name": "stderr",
          "text": [
            " 71%|███████   | 6468/9172 [06:58<04:01, 11.18it/s]"
          ]
        },
        {
          "output_type": "stream",
          "name": "stdout",
          "text": [
            "17132\n",
            "17132\n",
            "17132\n",
            "17133\n",
            "17132\n",
            "17133\n"
          ]
        },
        {
          "output_type": "stream",
          "name": "stderr",
          "text": [
            " 71%|███████   | 6473/9172 [06:58<03:15, 13.79it/s]"
          ]
        },
        {
          "output_type": "stream",
          "name": "stdout",
          "text": [
            "17132\n",
            "17133\n",
            "17133\n",
            "17133\n",
            "17133\n",
            "17133\n",
            "17133\n"
          ]
        },
        {
          "output_type": "stream",
          "name": "stderr",
          "text": [
            " 71%|███████   | 6482/9172 [06:58<02:36, 17.22it/s]"
          ]
        },
        {
          "output_type": "stream",
          "name": "stdout",
          "text": [
            "17134\n",
            "17133\n",
            "17133\n",
            "17133\n",
            "17133\n",
            "17134\n",
            "17133\n"
          ]
        },
        {
          "output_type": "stream",
          "name": "stderr",
          "text": [
            " 71%|███████   | 6487/9172 [06:59<03:22, 13.27it/s]"
          ]
        },
        {
          "output_type": "stream",
          "name": "stdout",
          "text": [
            "17135\n",
            "17133\n",
            "17134\n"
          ]
        },
        {
          "output_type": "stream",
          "name": "stderr",
          "text": [
            "\r 71%|███████   | 6489/9172 [06:59<03:20, 13.40it/s]"
          ]
        },
        {
          "output_type": "stream",
          "name": "stdout",
          "text": [
            "17133\n",
            "17133\n",
            "17134\n"
          ]
        },
        {
          "output_type": "stream",
          "name": "stderr",
          "text": [
            " 71%|███████   | 6493/9172 [06:59<03:43, 12.01it/s]"
          ]
        },
        {
          "output_type": "stream",
          "name": "stdout",
          "text": [
            "17133\n",
            "17135\n",
            "17134\n"
          ]
        },
        {
          "output_type": "stream",
          "name": "stderr",
          "text": [
            "\r 71%|███████   | 6495/9172 [07:00<03:54, 11.40it/s]"
          ]
        },
        {
          "output_type": "stream",
          "name": "stdout",
          "text": [
            "17138\n",
            "17134\n",
            "17134\n"
          ]
        },
        {
          "output_type": "stream",
          "name": "stderr",
          "text": [
            "\r 71%|███████   | 6498/9172 [07:00<03:26, 12.95it/s]"
          ]
        },
        {
          "output_type": "stream",
          "name": "stdout",
          "text": [
            "17135\n",
            "17138\n",
            "17139\n",
            "17135\n"
          ]
        },
        {
          "output_type": "stream",
          "name": "stderr",
          "text": [
            " 71%|███████   | 6504/9172 [07:00<03:11, 13.94it/s]"
          ]
        },
        {
          "output_type": "stream",
          "name": "stdout",
          "text": [
            "17134\n",
            "17135\n",
            "17135\n",
            "17139\n",
            "17135\n",
            "17135\n"
          ]
        },
        {
          "output_type": "stream",
          "name": "stderr",
          "text": [
            " 71%|███████   | 6509/9172 [07:01<03:16, 13.58it/s]"
          ]
        },
        {
          "output_type": "stream",
          "name": "stdout",
          "text": [
            "17138\n",
            "17138\n",
            "17138\n",
            "17140\n"
          ]
        },
        {
          "output_type": "stream",
          "name": "stderr",
          "text": [
            "\r 71%|███████   | 6512/9172 [07:01<03:09, 14.07it/s]"
          ]
        },
        {
          "output_type": "stream",
          "name": "stdout",
          "text": [
            "17140\n",
            "17135\n",
            "17135\n",
            "17138\n"
          ]
        },
        {
          "output_type": "stream",
          "name": "stderr",
          "text": [
            " 71%|███████   | 6517/9172 [07:01<03:08, 14.08it/s]"
          ]
        },
        {
          "output_type": "stream",
          "name": "stdout",
          "text": [
            "17135\n",
            "17141\n",
            "17139\n",
            "17139\n"
          ]
        },
        {
          "output_type": "stream",
          "name": "stderr",
          "text": [
            " 71%|███████   | 6521/9172 [07:01<03:16, 13.52it/s]"
          ]
        },
        {
          "output_type": "stream",
          "name": "stdout",
          "text": [
            "17139\n",
            "17141\n",
            "17139\n",
            "17144\n",
            "17138\n",
            "17140\n"
          ]
        },
        {
          "output_type": "stream",
          "name": "stderr",
          "text": [
            " 71%|███████   | 6526/9172 [07:02<03:19, 13.26it/s]"
          ]
        },
        {
          "output_type": "stream",
          "name": "stdout",
          "text": [
            "17144\n",
            "17140\n",
            "17140\n"
          ]
        },
        {
          "output_type": "stream",
          "name": "stderr",
          "text": [
            "\r 71%|███████   | 6528/9172 [07:02<03:18, 13.30it/s]"
          ]
        },
        {
          "output_type": "stream",
          "name": "stdout",
          "text": [
            "17146\n",
            "17140\n",
            "17140\n",
            "17141\n"
          ]
        },
        {
          "output_type": "stream",
          "name": "stderr",
          "text": [
            " 71%|███████   | 6535/9172 [07:02<02:45, 15.89it/s]"
          ]
        },
        {
          "output_type": "stream",
          "name": "stdout",
          "text": [
            "17141\n",
            "17141\n",
            "17141\n",
            "17146\n"
          ]
        },
        {
          "output_type": "stream",
          "name": "stderr",
          "text": [
            " 71%|███████▏  | 6539/9172 [07:03<03:19, 13.17it/s]"
          ]
        },
        {
          "output_type": "stream",
          "name": "stdout",
          "text": [
            "17140\n",
            "17147\n",
            "17144\n",
            "17147\n",
            "17144\n"
          ]
        },
        {
          "output_type": "stream",
          "name": "stderr",
          "text": [
            " 71%|███████▏  | 6543/9172 [07:03<03:45, 11.66it/s]"
          ]
        },
        {
          "output_type": "stream",
          "name": "stdout",
          "text": [
            "17146\n",
            "17144\n",
            "17146\n",
            "17144\n",
            "17141\n",
            "17144\n"
          ]
        },
        {
          "output_type": "stream",
          "name": "stderr",
          "text": [
            " 71%|███████▏  | 6549/9172 [07:04<02:52, 15.20it/s]"
          ]
        },
        {
          "output_type": "stream",
          "name": "stdout",
          "text": [
            "17148\n",
            "17146\n",
            "17146\n"
          ]
        },
        {
          "output_type": "stream",
          "name": "stderr",
          "text": [
            "\r 71%|███████▏  | 6551/9172 [07:04<03:45, 11.61it/s]"
          ]
        },
        {
          "output_type": "stream",
          "name": "stdout",
          "text": [
            "17148\n",
            "17146\n",
            "17147\n",
            "17147\n",
            "17147\n"
          ]
        },
        {
          "output_type": "stream",
          "name": "stderr",
          "text": [
            " 71%|███████▏  | 6557/9172 [07:04<03:52, 11.26it/s]"
          ]
        },
        {
          "output_type": "stream",
          "name": "stdout",
          "text": [
            "17147\n",
            "17147\n",
            "17149\n",
            "17146\n"
          ]
        },
        {
          "output_type": "stream",
          "name": "stderr",
          "text": [
            " 72%|███████▏  | 6562/9172 [07:05<03:22, 12.87it/s]"
          ]
        },
        {
          "output_type": "stream",
          "name": "stdout",
          "text": [
            "17148\n",
            "17148\n",
            "17148\n",
            "17151\n"
          ]
        },
        {
          "output_type": "stream",
          "name": "stderr",
          "text": [
            "\r 72%|███████▏  | 6564/9172 [07:05<03:44, 11.60it/s]"
          ]
        },
        {
          "output_type": "stream",
          "name": "stdout",
          "text": [
            "17149\n",
            "17148\n"
          ]
        },
        {
          "output_type": "stream",
          "name": "stderr",
          "text": [
            "\r 72%|███████▏  | 6567/9172 [07:05<03:36, 12.03it/s]"
          ]
        },
        {
          "output_type": "stream",
          "name": "stdout",
          "text": [
            "17154\n",
            "17148\n",
            "17149\n"
          ]
        },
        {
          "output_type": "stream",
          "name": "stderr",
          "text": [
            "\r 72%|███████▏  | 6569/9172 [07:05<03:38, 11.90it/s]"
          ]
        },
        {
          "output_type": "stream",
          "name": "stdout",
          "text": [
            "17151\n",
            "17149\n",
            "17149\n",
            "17149\n",
            "17151\n"
          ]
        },
        {
          "output_type": "stream",
          "name": "stderr",
          "text": [
            "\r 72%|███████▏  | 6573/9172 [07:05<02:53, 14.99it/s]"
          ]
        },
        {
          "output_type": "stream",
          "name": "stdout",
          "text": [
            "17149\n",
            "17151\n"
          ]
        },
        {
          "output_type": "stream",
          "name": "stderr",
          "text": [
            " 72%|███████▏  | 6577/9172 [07:06<03:44, 11.55it/s]"
          ]
        },
        {
          "output_type": "stream",
          "name": "stdout",
          "text": [
            "17151\n",
            "17151\n",
            "17149\n",
            "17154\n",
            "17154\n",
            "17154\n",
            "17155\n",
            "17151\n",
            "17154\n",
            "17154\n"
          ]
        },
        {
          "output_type": "stream",
          "name": "stderr",
          "text": [
            " 72%|███████▏  | 6586/9172 [07:06<03:03, 14.06it/s]"
          ]
        },
        {
          "output_type": "stream",
          "name": "stdout",
          "text": [
            "17156\n",
            "17158\n",
            "17155\n",
            "17156\n"
          ]
        },
        {
          "output_type": "stream",
          "name": "stderr",
          "text": [
            "\r 72%|███████▏  | 6589/9172 [07:07<03:07, 13.75it/s]"
          ]
        },
        {
          "output_type": "stream",
          "name": "stdout",
          "text": [
            "17155\n",
            "17154\n"
          ]
        },
        {
          "output_type": "stream",
          "name": "stderr",
          "text": [
            " 72%|███████▏  | 6595/9172 [07:07<03:01, 14.17it/s]"
          ]
        },
        {
          "output_type": "stream",
          "name": "stdout",
          "text": [
            "17154\n",
            "17154\n",
            "17155\n",
            "17154\n",
            "17158\n",
            "17155\n"
          ]
        },
        {
          "output_type": "stream",
          "name": "stderr",
          "text": [
            "\r 72%|███████▏  | 6597/9172 [07:07<03:34, 12.00it/s]"
          ]
        },
        {
          "output_type": "stream",
          "name": "stdout",
          "text": [
            "17155\n",
            "17155\n"
          ]
        },
        {
          "output_type": "stream",
          "name": "stderr",
          "text": [
            " 72%|███████▏  | 6602/9172 [07:08<03:17, 13.03it/s]"
          ]
        },
        {
          "output_type": "stream",
          "name": "stdout",
          "text": [
            "17156\n",
            "17156\n",
            "17155\n",
            "17156\n",
            "17158\n"
          ]
        },
        {
          "output_type": "stream",
          "name": "stderr",
          "text": [
            " 72%|███████▏  | 6606/9172 [07:08<03:34, 11.96it/s]"
          ]
        },
        {
          "output_type": "stream",
          "name": "stdout",
          "text": [
            "17159\n",
            "17159\n",
            "17156\n"
          ]
        },
        {
          "output_type": "stream",
          "name": "stderr",
          "text": [
            "\r 72%|███████▏  | 6610/9172 [07:08<02:33, 16.74it/s]"
          ]
        },
        {
          "output_type": "stream",
          "name": "stdout",
          "text": [
            "17158\n",
            "17159\n",
            "17159\n",
            "17158\n",
            "17159\n",
            "17156\n"
          ]
        },
        {
          "output_type": "stream",
          "name": "stderr",
          "text": [
            " 72%|███████▏  | 6620/9172 [07:09<02:07, 19.99it/s]"
          ]
        },
        {
          "output_type": "stream",
          "name": "stdout",
          "text": [
            "17159\n",
            "17158\n",
            "17159\n",
            "17159\n",
            "17159\n",
            "17159\n",
            "17158\n",
            "17161\n",
            "17159\n"
          ]
        },
        {
          "output_type": "stream",
          "name": "stderr",
          "text": [
            "\r 72%|███████▏  | 6623/9172 [07:09<02:54, 14.59it/s]"
          ]
        },
        {
          "output_type": "stream",
          "name": "stdout",
          "text": [
            "17162\n",
            "17159\n",
            "17159\n"
          ]
        },
        {
          "output_type": "stream",
          "name": "stderr",
          "text": [
            " 72%|███████▏  | 6628/9172 [07:10<03:07, 13.58it/s]"
          ]
        },
        {
          "output_type": "stream",
          "name": "stdout",
          "text": [
            "17161\n",
            "17161\n",
            "17161\n",
            "17161\n",
            "17161\n",
            "17161\n"
          ]
        },
        {
          "output_type": "stream",
          "name": "stderr",
          "text": [
            " 72%|███████▏  | 6637/9172 [07:10<02:00, 21.05it/s]"
          ]
        },
        {
          "output_type": "stream",
          "name": "stdout",
          "text": [
            "17162\n",
            "17162\n",
            "17162\n",
            "17163\n",
            "17163\n",
            "17161\n",
            "17163\n",
            "17162\n",
            "17162\n",
            "17163\n"
          ]
        },
        {
          "output_type": "stream",
          "name": "stderr",
          "text": [
            " 72%|███████▏  | 6645/9172 [07:10<01:40, 25.02it/s]"
          ]
        },
        {
          "output_type": "stream",
          "name": "stdout",
          "text": [
            "17163\n",
            "17162\n",
            "17164\n",
            "17163\n",
            "17162\n",
            "17164\n"
          ]
        },
        {
          "output_type": "stream",
          "name": "stderr",
          "text": [
            "\r 72%|███████▏  | 6649/9172 [07:11<02:19, 18.02it/s]"
          ]
        },
        {
          "output_type": "stream",
          "name": "stdout",
          "text": [
            "17167\n",
            "17167\n",
            "17163\n",
            "17168\n"
          ]
        },
        {
          "output_type": "stream",
          "name": "stderr",
          "text": [
            " 73%|███████▎  | 6656/9172 [07:11<02:27, 17.10it/s]"
          ]
        },
        {
          "output_type": "stream",
          "name": "stdout",
          "text": [
            "17164\n",
            "17168\n",
            "17163\n",
            "17163\n",
            "17164\n",
            "17167\n",
            "17164\n",
            "17164\n",
            "17167\n"
          ]
        },
        {
          "output_type": "stream",
          "name": "stderr",
          "text": [
            " 73%|███████▎  | 6662/9172 [07:12<02:41, 15.54it/s]"
          ]
        },
        {
          "output_type": "stream",
          "name": "stdout",
          "text": [
            "17167\n",
            "17168\n",
            "17167\n",
            "17173\n"
          ]
        },
        {
          "output_type": "stream",
          "name": "stderr",
          "text": [
            " 73%|███████▎  | 6670/9172 [07:12<02:02, 20.39it/s]"
          ]
        },
        {
          "output_type": "stream",
          "name": "stdout",
          "text": [
            "17168\n",
            "17175\n",
            "17167\n",
            "17168\n",
            "17168\n",
            "17164\n",
            "17164\n"
          ]
        },
        {
          "output_type": "stream",
          "name": "stderr",
          "text": [
            "\r 73%|███████▎  | 6673/9172 [07:12<02:29, 16.67it/s]"
          ]
        },
        {
          "output_type": "stream",
          "name": "stdout",
          "text": [
            "17168\n",
            "17168\n",
            "17175\n",
            "17176\n",
            "17173\n"
          ]
        },
        {
          "output_type": "stream",
          "name": "stderr",
          "text": [
            " 73%|███████▎  | 6678/9172 [07:12<02:38, 15.77it/s]"
          ]
        },
        {
          "output_type": "stream",
          "name": "stdout",
          "text": [
            "17173\n",
            "17176\n",
            "17173\n",
            "17179\n"
          ]
        },
        {
          "output_type": "stream",
          "name": "stderr",
          "text": [
            " 73%|███████▎  | 6682/9172 [07:13<03:08, 13.22it/s]"
          ]
        },
        {
          "output_type": "stream",
          "name": "stdout",
          "text": [
            "17173\n",
            "17173\n",
            "17176\n"
          ]
        },
        {
          "output_type": "stream",
          "name": "stderr",
          "text": [
            "\r 73%|███████▎  | 6687/9172 [07:13<02:16, 18.24it/s]"
          ]
        },
        {
          "output_type": "stream",
          "name": "stdout",
          "text": [
            "17175\n",
            "17175\n",
            "17175\n",
            "17175\n",
            "17175\n"
          ]
        },
        {
          "output_type": "stream",
          "name": "stderr",
          "text": [
            " 73%|███████▎  | 6692/9172 [07:13<02:05, 19.78it/s]"
          ]
        },
        {
          "output_type": "stream",
          "name": "stdout",
          "text": [
            "17176\n",
            "17176\n",
            "17179\n",
            "17173\n",
            "17176\n",
            "17175\n",
            "17184\n"
          ]
        },
        {
          "output_type": "stream",
          "name": "stderr",
          "text": [
            " 73%|███████▎  | 6697/9172 [07:14<02:19, 17.78it/s]"
          ]
        },
        {
          "output_type": "stream",
          "name": "stdout",
          "text": [
            "17179\n",
            "17179\n",
            "17175\n",
            "17176\n"
          ]
        },
        {
          "output_type": "stream",
          "name": "stderr",
          "text": [
            "\r 73%|███████▎  | 6699/9172 [07:14<02:36, 15.81it/s]"
          ]
        },
        {
          "output_type": "stream",
          "name": "stdout",
          "text": [
            "17185\n",
            "17179\n",
            "17179\n"
          ]
        },
        {
          "output_type": "stream",
          "name": "stderr",
          "text": [
            "\r 73%|███████▎  | 6702/9172 [07:14<02:58, 13.81it/s]"
          ]
        },
        {
          "output_type": "stream",
          "name": "stdout",
          "text": [
            "17179\n",
            "17185\n"
          ]
        },
        {
          "output_type": "stream",
          "name": "stderr",
          "text": [
            "\r 73%|███████▎  | 6704/9172 [07:14<03:55, 10.50it/s]"
          ]
        },
        {
          "output_type": "stream",
          "name": "stdout",
          "text": [
            "17179\n",
            "17184\n"
          ]
        },
        {
          "output_type": "stream",
          "name": "stderr",
          "text": [
            " 73%|███████▎  | 6712/9172 [07:15<02:24, 17.04it/s]"
          ]
        },
        {
          "output_type": "stream",
          "name": "stdout",
          "text": [
            "17184\n",
            "17184\n",
            "17184\n",
            "17184\n",
            "17185\n",
            "17185\n",
            "17184\n",
            "17184\n"
          ]
        },
        {
          "output_type": "stream",
          "name": "stderr",
          "text": [
            " 73%|███████▎  | 6718/9172 [07:15<02:10, 18.75it/s]"
          ]
        },
        {
          "output_type": "stream",
          "name": "stdout",
          "text": [
            "17185\n",
            "17184\n",
            "17185\n",
            "17185\n",
            "17185\n"
          ]
        },
        {
          "output_type": "stream",
          "name": "stderr",
          "text": [
            "\r 73%|███████▎  | 6721/9172 [07:15<02:16, 18.00it/s]"
          ]
        },
        {
          "output_type": "stream",
          "name": "stdout",
          "text": [
            "17187\n",
            "17187\n",
            "17191\n",
            "17191\n"
          ]
        },
        {
          "output_type": "stream",
          "name": "stderr",
          "text": [
            "\r 73%|███████▎  | 6724/9172 [07:15<02:36, 15.60it/s]"
          ]
        },
        {
          "output_type": "stream",
          "name": "stdout",
          "text": [
            "17187\n",
            "17192\n"
          ]
        },
        {
          "output_type": "stream",
          "name": "stderr",
          "text": [
            "\r 73%|███████▎  | 6726/9172 [07:16<02:46, 14.67it/s]"
          ]
        },
        {
          "output_type": "stream",
          "name": "stdout",
          "text": [
            "17187\n",
            "17187\n"
          ]
        },
        {
          "output_type": "stream",
          "name": "stderr",
          "text": [
            "\r 73%|███████▎  | 6728/9172 [07:16<03:26, 11.86it/s]"
          ]
        },
        {
          "output_type": "stream",
          "name": "stdout",
          "text": [
            "17192\n",
            "17197\n",
            "17187\n",
            "17191\n",
            "17191\n"
          ]
        },
        {
          "output_type": "stream",
          "name": "stderr",
          "text": [
            " 73%|███████▎  | 6735/9172 [07:16<02:21, 17.22it/s]"
          ]
        },
        {
          "output_type": "stream",
          "name": "stdout",
          "text": [
            "17192\n",
            "17191\n",
            "17187\n",
            "17192\n",
            "17191\n",
            "17192\n",
            "17192\n",
            "17192\n"
          ]
        },
        {
          "output_type": "stream",
          "name": "stderr",
          "text": [
            " 74%|███████▎  | 6743/9172 [07:16<01:59, 20.26it/s]"
          ]
        },
        {
          "output_type": "stream",
          "name": "stdout",
          "text": [
            "17197\n",
            "17198\n",
            "17191\n",
            "17191\n",
            "17198\n",
            "17197\n"
          ]
        },
        {
          "output_type": "stream",
          "name": "stderr",
          "text": [
            "\r 74%|███████▎  | 6746/9172 [07:17<03:26, 11.77it/s]"
          ]
        },
        {
          "output_type": "stream",
          "name": "stdout",
          "text": [
            "17197\n",
            "17198\n",
            "17197\n",
            "17198\n",
            "17197\n"
          ]
        },
        {
          "output_type": "stream",
          "name": "stderr",
          "text": [
            " 74%|███████▎  | 6753/9172 [07:17<02:41, 14.99it/s]"
          ]
        },
        {
          "output_type": "stream",
          "name": "stdout",
          "text": [
            "17197\n",
            "17198\n",
            "17198\n",
            "17202\n",
            "17198\n",
            "17202\n",
            "17202\n",
            "17202\n",
            "17202\n"
          ]
        },
        {
          "output_type": "stream",
          "name": "stderr",
          "text": [
            "\r 74%|███████▎  | 6760/9172 [07:17<01:51, 21.69it/s]"
          ]
        },
        {
          "output_type": "stream",
          "name": "stdout",
          "text": [
            "17207\n",
            "17208\n"
          ]
        },
        {
          "output_type": "stream",
          "name": "stderr",
          "text": [
            "\r 74%|███████▎  | 6763/9172 [07:18<02:15, 17.81it/s]"
          ]
        },
        {
          "output_type": "stream",
          "name": "stdout",
          "text": [
            "17207\n",
            "17202\n"
          ]
        },
        {
          "output_type": "stream",
          "name": "stderr",
          "text": [
            "\r 74%|███████▍  | 6766/9172 [07:18<02:27, 16.29it/s]"
          ]
        },
        {
          "output_type": "stream",
          "name": "stdout",
          "text": [
            "17208\n",
            "17210\n",
            "17207\n",
            "17202\n",
            "17202\n",
            "17207\n"
          ]
        },
        {
          "output_type": "stream",
          "name": "stderr",
          "text": [
            " 74%|███████▍  | 6773/9172 [07:18<02:02, 19.55it/s]"
          ]
        },
        {
          "output_type": "stream",
          "name": "stdout",
          "text": [
            "17202\n",
            "17207\n",
            "17207\n",
            "17208\n",
            "17208\n"
          ]
        },
        {
          "output_type": "stream",
          "name": "stderr",
          "text": [
            " 74%|███████▍  | 6779/9172 [07:19<01:57, 20.30it/s]"
          ]
        },
        {
          "output_type": "stream",
          "name": "stdout",
          "text": [
            "17208\n",
            "17208\n",
            "17210\n",
            "17208\n",
            "17184\n",
            "17210\n",
            "17214\n",
            "17184\n"
          ]
        },
        {
          "output_type": "stream",
          "name": "stderr",
          "text": [
            " 74%|███████▍  | 6787/9172 [07:19<01:38, 24.32it/s]"
          ]
        },
        {
          "output_type": "stream",
          "name": "stdout",
          "text": [
            "17207\n",
            "17207\n",
            "17210\n",
            "17184\n",
            "17214\n"
          ]
        },
        {
          "output_type": "stream",
          "name": "stderr",
          "text": [
            "\r 74%|███████▍  | 6790/9172 [07:19<02:03, 19.23it/s]"
          ]
        },
        {
          "output_type": "stream",
          "name": "stdout",
          "text": [
            "17210\n",
            "17210\n",
            "17220\n",
            "17210\n"
          ]
        },
        {
          "output_type": "stream",
          "name": "stderr",
          "text": [
            "\r 74%|███████▍  | 6793/9172 [07:19<02:24, 16.51it/s]"
          ]
        },
        {
          "output_type": "stream",
          "name": "stdout",
          "text": [
            "17220\n",
            "17222\n"
          ]
        },
        {
          "output_type": "stream",
          "name": "stderr",
          "text": [
            " 74%|███████▍  | 6797/9172 [07:20<03:27, 11.43it/s]"
          ]
        },
        {
          "output_type": "stream",
          "name": "stdout",
          "text": [
            "17222\n",
            "17214\n",
            "17214\n",
            "17223\n"
          ]
        },
        {
          "output_type": "stream",
          "name": "stderr",
          "text": [
            "\r 74%|███████▍  | 6799/9172 [07:20<04:09,  9.52it/s]"
          ]
        },
        {
          "output_type": "stream",
          "name": "stdout",
          "text": [
            "17214\n",
            "17220\n",
            "17220\n"
          ]
        },
        {
          "output_type": "stream",
          "name": "stderr",
          "text": [
            "\r 74%|███████▍  | 6802/9172 [07:20<03:41, 10.68it/s]"
          ]
        },
        {
          "output_type": "stream",
          "name": "stdout",
          "text": [
            "17214\n",
            "17220\n",
            "17222\n",
            "17220\n",
            "17222\n"
          ]
        },
        {
          "output_type": "stream",
          "name": "stderr",
          "text": [
            " 74%|███████▍  | 6808/9172 [07:21<02:36, 15.07it/s]"
          ]
        },
        {
          "output_type": "stream",
          "name": "stdout",
          "text": [
            "17220\n",
            "17222\n",
            "17222\n",
            "17220\n",
            "17223\n"
          ]
        },
        {
          "output_type": "stream",
          "name": "stderr",
          "text": [
            " 74%|███████▍  | 6812/9172 [07:21<03:06, 12.67it/s]"
          ]
        },
        {
          "output_type": "stream",
          "name": "stdout",
          "text": [
            "17220\n",
            "17225\n"
          ]
        },
        {
          "output_type": "stream",
          "name": "stderr",
          "text": [
            "\r 74%|███████▍  | 6815/9172 [07:21<02:34, 15.29it/s]"
          ]
        },
        {
          "output_type": "stream",
          "name": "stdout",
          "text": [
            "17223\n",
            "17225\n",
            "17227\n"
          ]
        },
        {
          "output_type": "stream",
          "name": "stderr",
          "text": [
            "\r 74%|███████▍  | 6817/9172 [07:22<03:53, 10.07it/s]"
          ]
        },
        {
          "output_type": "stream",
          "name": "stdout",
          "text": [
            "17214\n",
            "17223\n",
            "17214\n",
            "17223\n",
            "17223\n"
          ]
        },
        {
          "output_type": "stream",
          "name": "stderr",
          "text": [
            " 74%|███████▍  | 6823/9172 [07:22<02:53, 13.54it/s]"
          ]
        },
        {
          "output_type": "stream",
          "name": "stdout",
          "text": [
            "17223\n",
            "17227\n",
            "17227\n"
          ]
        },
        {
          "output_type": "stream",
          "name": "stderr",
          "text": [
            "\r 74%|███████▍  | 6825/9172 [07:22<03:07, 12.54it/s]"
          ]
        },
        {
          "output_type": "stream",
          "name": "stdout",
          "text": [
            "17223\n",
            "17223\n",
            "17228\n"
          ]
        },
        {
          "output_type": "stream",
          "name": "stderr",
          "text": [
            " 74%|███████▍  | 6829/9172 [07:23<03:28, 11.21it/s]"
          ]
        },
        {
          "output_type": "stream",
          "name": "stdout",
          "text": [
            "17227\n",
            "17227\n",
            "17225\n",
            "17225\n",
            "17225\n",
            "17227\n"
          ]
        },
        {
          "output_type": "stream",
          "name": "stderr",
          "text": [
            "\r 74%|███████▍  | 6833/9172 [07:23<02:26, 16.01it/s]"
          ]
        },
        {
          "output_type": "stream",
          "name": "stdout",
          "text": [
            "17228\n",
            "17227\n",
            "17225\n"
          ]
        },
        {
          "output_type": "stream",
          "name": "stderr",
          "text": [
            "\r 75%|███████▍  | 6836/9172 [07:23<02:44, 14.19it/s]"
          ]
        },
        {
          "output_type": "stream",
          "name": "stdout",
          "text": [
            "17225\n",
            "17229\n"
          ]
        },
        {
          "output_type": "stream",
          "name": "stderr",
          "text": [
            "\r 75%|███████▍  | 6838/9172 [07:23<03:19, 11.71it/s]"
          ]
        },
        {
          "output_type": "stream",
          "name": "stdout",
          "text": [
            "17229\n"
          ]
        },
        {
          "output_type": "stream",
          "name": "stderr",
          "text": [
            "\r 75%|███████▍  | 6840/9172 [07:23<03:51, 10.08it/s]"
          ]
        },
        {
          "output_type": "stream",
          "name": "stdout",
          "text": [
            "17232\n",
            "17225\n",
            "17228\n"
          ]
        },
        {
          "output_type": "stream",
          "name": "stderr",
          "text": [
            " 75%|███████▍  | 6844/9172 [07:24<03:36, 10.77it/s]"
          ]
        },
        {
          "output_type": "stream",
          "name": "stdout",
          "text": [
            "17228\n",
            "17228\n",
            "17228\n",
            "17228\n"
          ]
        },
        {
          "output_type": "stream",
          "name": "stderr",
          "text": [
            " 75%|███████▍  | 6850/9172 [07:24<03:03, 12.68it/s]"
          ]
        },
        {
          "output_type": "stream",
          "name": "stdout",
          "text": [
            "17229\n",
            "17232\n",
            "17229\n",
            "17228\n",
            "17229\n",
            "17229\n"
          ]
        },
        {
          "output_type": "stream",
          "name": "stderr",
          "text": [
            " 75%|███████▍  | 6854/9172 [07:25<03:08, 12.29it/s]"
          ]
        },
        {
          "output_type": "stream",
          "name": "stdout",
          "text": [
            "17229\n",
            "17237\n",
            "17236\n",
            "17232\n"
          ]
        },
        {
          "output_type": "stream",
          "name": "stderr",
          "text": [
            "\r 75%|███████▍  | 6856/9172 [07:25<04:18,  8.95it/s]"
          ]
        },
        {
          "output_type": "stream",
          "name": "stdout",
          "text": [
            "17232\n",
            "17228\n",
            "17232\n"
          ]
        },
        {
          "output_type": "stream",
          "name": "stderr",
          "text": [
            " 75%|███████▍  | 6861/9172 [07:25<03:26, 11.18it/s]"
          ]
        },
        {
          "output_type": "stream",
          "name": "stdout",
          "text": [
            "17236\n",
            "17232\n",
            "17237\n",
            "17236\n"
          ]
        },
        {
          "output_type": "stream",
          "name": "stderr",
          "text": [
            "\r 75%|███████▍  | 6863/9172 [07:26<03:14, 11.85it/s]"
          ]
        },
        {
          "output_type": "stream",
          "name": "stdout",
          "text": [
            "17229\n",
            "17240\n",
            "17236\n",
            "17237\n"
          ]
        },
        {
          "output_type": "stream",
          "name": "stderr",
          "text": [
            " 75%|███████▍  | 6870/9172 [07:26<02:29, 15.39it/s]"
          ]
        },
        {
          "output_type": "stream",
          "name": "stdout",
          "text": [
            "17232\n",
            "17236\n",
            "17237\n",
            "17232\n",
            "17240\n",
            "17236\n"
          ]
        },
        {
          "output_type": "stream",
          "name": "stderr",
          "text": [
            " 75%|███████▍  | 6877/9172 [07:26<02:28, 15.44it/s]"
          ]
        },
        {
          "output_type": "stream",
          "name": "stdout",
          "text": [
            "17236\n",
            "17237\n",
            "17237\n",
            "17241\n",
            "17237\n"
          ]
        },
        {
          "output_type": "stream",
          "name": "stderr",
          "text": [
            "\r 75%|███████▌  | 6879/9172 [07:27<03:22, 11.33it/s]"
          ]
        },
        {
          "output_type": "stream",
          "name": "stdout",
          "text": [
            "17241\n",
            "17240\n",
            "17240\n",
            "17242\n"
          ]
        },
        {
          "output_type": "stream",
          "name": "stderr",
          "text": [
            " 75%|███████▌  | 6883/9172 [07:27<03:02, 12.54it/s]"
          ]
        },
        {
          "output_type": "stream",
          "name": "stdout",
          "text": [
            "17240\n",
            "17240\n"
          ]
        },
        {
          "output_type": "stream",
          "name": "stderr",
          "text": [
            "\r 75%|███████▌  | 6885/9172 [07:27<03:51,  9.86it/s]"
          ]
        },
        {
          "output_type": "stream",
          "name": "stdout",
          "text": [
            "17242\n",
            "17243\n"
          ]
        },
        {
          "output_type": "stream",
          "name": "stderr",
          "text": [
            "\r 75%|███████▌  | 6887/9172 [07:28<04:06,  9.26it/s]"
          ]
        },
        {
          "output_type": "stream",
          "name": "stdout",
          "text": [
            "17241\n",
            "17241\n",
            "17241\n",
            "17241\n"
          ]
        },
        {
          "output_type": "stream",
          "name": "stderr",
          "text": [
            " 75%|███████▌  | 6892/9172 [07:28<03:29, 10.87it/s]"
          ]
        },
        {
          "output_type": "stream",
          "name": "stdout",
          "text": [
            "17242\n",
            "17242\n",
            "17242\n",
            "17242\n"
          ]
        },
        {
          "output_type": "stream",
          "name": "stderr",
          "text": [
            "\r 75%|███████▌  | 6894/9172 [07:28<03:59,  9.53it/s]"
          ]
        },
        {
          "output_type": "stream",
          "name": "stdout",
          "text": [
            "17243\n",
            "17246\n"
          ]
        },
        {
          "output_type": "stream",
          "name": "stderr",
          "text": [
            " 75%|███████▌  | 6900/9172 [07:29<02:52, 13.15it/s]"
          ]
        },
        {
          "output_type": "stream",
          "name": "stdout",
          "text": [
            "17240\n",
            "17243\n",
            "17243\n",
            "17240\n",
            "17241\n"
          ]
        },
        {
          "output_type": "stream",
          "name": "stderr",
          "text": [
            "\r 75%|███████▌  | 6902/9172 [07:29<02:48, 13.49it/s]"
          ]
        },
        {
          "output_type": "stream",
          "name": "stdout",
          "text": [
            "17243\n",
            "17243\n",
            "17246\n"
          ]
        },
        {
          "output_type": "stream",
          "name": "stderr",
          "text": [
            "\r 75%|███████▌  | 6904/9172 [07:29<03:24, 11.09it/s]"
          ]
        },
        {
          "output_type": "stream",
          "name": "stdout",
          "text": [
            "17247\n",
            "17243\n"
          ]
        },
        {
          "output_type": "stream",
          "name": "stderr",
          "text": [
            " 75%|███████▌  | 6909/9172 [07:30<03:30, 10.74it/s]"
          ]
        },
        {
          "output_type": "stream",
          "name": "stdout",
          "text": [
            "17243\n",
            "17242\n",
            "17246\n",
            "17247\n",
            "17246\n",
            "17246\n"
          ]
        },
        {
          "output_type": "stream",
          "name": "stderr",
          "text": [
            " 75%|███████▌  | 6915/9172 [07:30<02:35, 14.55it/s]"
          ]
        },
        {
          "output_type": "stream",
          "name": "stdout",
          "text": [
            "17248\n",
            "17248 - HTTP 404\n",
            "17246\n",
            "17243\n",
            "17248 - HTTP 404\n",
            "17248 - HTTP 404\n",
            "17248 - HTTP 404\n"
          ]
        },
        {
          "output_type": "stream",
          "name": "stderr",
          "text": [
            "\r 75%|███████▌  | 6919/9172 [07:30<01:56, 19.38it/s]"
          ]
        },
        {
          "output_type": "stream",
          "name": "stdout",
          "text": [
            "17248 - HTTP 404\n",
            "17248\n"
          ]
        },
        {
          "output_type": "stream",
          "name": "stderr",
          "text": [
            "\r 75%|███████▌  | 6922/9172 [07:30<03:20, 11.22it/s]"
          ]
        },
        {
          "output_type": "stream",
          "name": "stdout",
          "text": [
            "17246\n",
            "17247\n"
          ]
        },
        {
          "output_type": "stream",
          "name": "stderr",
          "text": [
            "\r 75%|███████▌  | 6924/9172 [07:31<03:25, 10.94it/s]"
          ]
        },
        {
          "output_type": "stream",
          "name": "stdout",
          "text": [
            "17250\n",
            "17246\n",
            "17247\n"
          ]
        },
        {
          "output_type": "stream",
          "name": "stderr",
          "text": [
            " 76%|███████▌  | 6929/9172 [07:31<02:57, 12.61it/s]"
          ]
        },
        {
          "output_type": "stream",
          "name": "stdout",
          "text": [
            "17247\n",
            "17247\n",
            "17247\n",
            "17248\n"
          ]
        },
        {
          "output_type": "stream",
          "name": "stderr",
          "text": [
            "\r 76%|███████▌  | 6932/9172 [07:31<02:36, 14.27it/s]"
          ]
        },
        {
          "output_type": "stream",
          "name": "stdout",
          "text": [
            "17250\n",
            "17248\n",
            "17248\n"
          ]
        },
        {
          "output_type": "stream",
          "name": "stderr",
          "text": [
            "\r 76%|███████▌  | 6934/9172 [07:31<03:12, 11.64it/s]"
          ]
        },
        {
          "output_type": "stream",
          "name": "stdout",
          "text": [
            "17247\n",
            "17248\n",
            "17250\n",
            "17250\n"
          ]
        },
        {
          "output_type": "stream",
          "name": "stderr",
          "text": [
            " 76%|███████▌  | 6941/9172 [07:32<02:45, 13.49it/s]"
          ]
        },
        {
          "output_type": "stream",
          "name": "stdout",
          "text": [
            "17250\n",
            "17252\n",
            "17250\n",
            "17248\n",
            "17251\n",
            "17250\n",
            "17251\n"
          ]
        },
        {
          "output_type": "stream",
          "name": "stderr",
          "text": [
            " 76%|███████▌  | 6946/9172 [07:32<02:32, 14.61it/s]"
          ]
        },
        {
          "output_type": "stream",
          "name": "stdout",
          "text": [
            "17250\n",
            "17248\n",
            "17252\n"
          ]
        },
        {
          "output_type": "stream",
          "name": "stderr",
          "text": [
            "\r 76%|███████▌  | 6948/9172 [07:32<02:35, 14.32it/s]"
          ]
        },
        {
          "output_type": "stream",
          "name": "stdout",
          "text": [
            "17255\n",
            "17251\n",
            "17251\n"
          ]
        },
        {
          "output_type": "stream",
          "name": "stderr",
          "text": [
            "\r 76%|███████▌  | 6950/9172 [07:33<02:39, 13.92it/s]"
          ]
        },
        {
          "output_type": "stream",
          "name": "stdout",
          "text": [
            "17247\n",
            "17251\n"
          ]
        },
        {
          "output_type": "stream",
          "name": "stderr",
          "text": [
            "\r 76%|███████▌  | 6952/9172 [07:33<03:03, 12.09it/s]"
          ]
        },
        {
          "output_type": "stream",
          "name": "stdout",
          "text": [
            "17251\n"
          ]
        },
        {
          "output_type": "stream",
          "name": "stderr",
          "text": [
            "\r 76%|███████▌  | 6954/9172 [07:33<03:54,  9.47it/s]"
          ]
        },
        {
          "output_type": "stream",
          "name": "stdout",
          "text": [
            "17255\n",
            "17251\n",
            "17256\n",
            "17252\n"
          ]
        },
        {
          "output_type": "stream",
          "name": "stderr",
          "text": [
            " 76%|███████▌  | 6961/9172 [07:33<02:31, 14.64it/s]"
          ]
        },
        {
          "output_type": "stream",
          "name": "stdout",
          "text": [
            "17252\n",
            "17251\n",
            "17252\n",
            "17252\n",
            "17251\n"
          ]
        },
        {
          "output_type": "stream",
          "name": "stderr",
          "text": [
            "\r 76%|███████▌  | 6963/9172 [07:34<02:38, 13.91it/s]"
          ]
        },
        {
          "output_type": "stream",
          "name": "stdout",
          "text": [
            "17252\n",
            "17251\n",
            "17255\n",
            "17255\n",
            "17259 - HTTP 404\n"
          ]
        },
        {
          "output_type": "stream",
          "name": "stderr",
          "text": [
            " 76%|███████▌  | 6970/9172 [07:34<01:52, 19.65it/s]"
          ]
        },
        {
          "output_type": "stream",
          "name": "stdout",
          "text": [
            "17255\n",
            "17256\n",
            "17255\n",
            "17259\n",
            "17259 - HTTP 404\n",
            "17259 - HTTP 404\n",
            "17255\n"
          ]
        },
        {
          "output_type": "stream",
          "name": "stderr",
          "text": [
            "\r 76%|███████▌  | 6975/9172 [07:34<01:33, 23.48it/s]"
          ]
        },
        {
          "output_type": "stream",
          "name": "stdout",
          "text": [
            "17259 - HTTP 404\n",
            "17259 - HTTP 404\n",
            "17259\n"
          ]
        },
        {
          "output_type": "stream",
          "name": "stderr",
          "text": [
            " 76%|███████▌  | 6980/9172 [07:35<02:18, 15.83it/s]"
          ]
        },
        {
          "output_type": "stream",
          "name": "stdout",
          "text": [
            "17256\n",
            "17256\n",
            "17262\n",
            "17256\n",
            "17256\n"
          ]
        },
        {
          "output_type": "stream",
          "name": "stderr",
          "text": [
            " 76%|███████▌  | 6985/9172 [07:35<02:24, 15.17it/s]"
          ]
        },
        {
          "output_type": "stream",
          "name": "stdout",
          "text": [
            "17256\n",
            "17262\n",
            "17259\n",
            "17259\n",
            "17259\n"
          ]
        },
        {
          "output_type": "stream",
          "name": "stderr",
          "text": [
            "\r 76%|███████▌  | 6990/9172 [07:35<02:12, 16.52it/s]"
          ]
        },
        {
          "output_type": "stream",
          "name": "stdout",
          "text": [
            "17259\n",
            "17256\n",
            "17256\n",
            "17259\n"
          ]
        },
        {
          "output_type": "stream",
          "name": "stderr",
          "text": [
            "\r 76%|███████▋  | 6995/9172 [07:35<01:57, 18.57it/s]"
          ]
        },
        {
          "output_type": "stream",
          "name": "stdout",
          "text": [
            "17262\n",
            "17262\n",
            "17259\n",
            "17262\n",
            "17268\n"
          ]
        },
        {
          "output_type": "stream",
          "name": "stderr",
          "text": [
            " 76%|███████▋  | 6999/9172 [07:36<02:04, 17.49it/s]"
          ]
        },
        {
          "output_type": "stream",
          "name": "stdout",
          "text": [
            "17262\n",
            "17268\n",
            "17269\n",
            "17268\n"
          ]
        },
        {
          "output_type": "stream",
          "name": "stderr",
          "text": [
            " 76%|███████▋  | 7003/9172 [07:36<02:35, 13.99it/s]"
          ]
        },
        {
          "output_type": "stream",
          "name": "stdout",
          "text": [
            "17262\n",
            "17268\n",
            "17268\n",
            "17269\n"
          ]
        },
        {
          "output_type": "stream",
          "name": "stderr",
          "text": [
            "\r 76%|███████▋  | 7006/9172 [07:36<02:09, 16.76it/s]"
          ]
        },
        {
          "output_type": "stream",
          "name": "stdout",
          "text": [
            "17268\n",
            "17268\n",
            "17269\n",
            "17271\n"
          ]
        },
        {
          "output_type": "stream",
          "name": "stderr",
          "text": [
            " 76%|███████▋  | 7011/9172 [07:36<02:11, 16.48it/s]"
          ]
        },
        {
          "output_type": "stream",
          "name": "stdout",
          "text": [
            "17268\n",
            "17268\n",
            "17262\n",
            "17271\n",
            "17268\n",
            "17269\n"
          ]
        },
        {
          "output_type": "stream",
          "name": "stderr",
          "text": [
            "\r 76%|███████▋  | 7014/9172 [07:37<01:59, 18.04it/s]"
          ]
        },
        {
          "output_type": "stream",
          "name": "stdout",
          "text": [
            "17268\n",
            "17269\n"
          ]
        },
        {
          "output_type": "stream",
          "name": "stderr",
          "text": [
            " 77%|███████▋  | 7018/9172 [07:37<02:33, 14.01it/s]"
          ]
        },
        {
          "output_type": "stream",
          "name": "stdout",
          "text": [
            "17269\n",
            "17272\n",
            "17272\n",
            "17275\n",
            "17271\n"
          ]
        },
        {
          "output_type": "stream",
          "name": "stderr",
          "text": [
            " 77%|███████▋  | 7023/9172 [07:37<02:25, 14.72it/s]"
          ]
        },
        {
          "output_type": "stream",
          "name": "stdout",
          "text": [
            "17269\n",
            "17271\n",
            "17271\n"
          ]
        },
        {
          "output_type": "stream",
          "name": "stderr",
          "text": [
            "\r 77%|███████▋  | 7026/9172 [07:37<02:22, 15.02it/s]"
          ]
        },
        {
          "output_type": "stream",
          "name": "stdout",
          "text": [
            "17237\n",
            "17271\n",
            "17269\n",
            "17271\n",
            "17269\n"
          ]
        },
        {
          "output_type": "stream",
          "name": "stderr",
          "text": [
            "\r 77%|███████▋  | 7030/9172 [07:38<01:48, 19.74it/s]"
          ]
        },
        {
          "output_type": "stream",
          "name": "stdout",
          "text": [
            "17271\n",
            "17272\n",
            "17272\n",
            "17275\n"
          ]
        },
        {
          "output_type": "stream",
          "name": "stderr",
          "text": [
            " 77%|███████▋  | 7036/9172 [07:38<02:00, 17.73it/s]"
          ]
        },
        {
          "output_type": "stream",
          "name": "stdout",
          "text": [
            "17272\n",
            "17272\n",
            "17272\n",
            "17275\n"
          ]
        },
        {
          "output_type": "stream",
          "name": "stderr",
          "text": [
            "\r 77%|███████▋  | 7038/9172 [07:38<02:26, 14.57it/s]"
          ]
        },
        {
          "output_type": "stream",
          "name": "stdout",
          "text": [
            "17277\n",
            "17275\n",
            "17275\n"
          ]
        },
        {
          "output_type": "stream",
          "name": "stderr",
          "text": [
            "\r 77%|███████▋  | 7040/9172 [07:38<02:18, 15.37it/s]"
          ]
        },
        {
          "output_type": "stream",
          "name": "stdout",
          "text": [
            "17275\n",
            "17275\n",
            "17278\n"
          ]
        },
        {
          "output_type": "stream",
          "name": "stderr",
          "text": [
            " 77%|███████▋  | 7045/9172 [07:39<02:31, 14.01it/s]"
          ]
        },
        {
          "output_type": "stream",
          "name": "stdout",
          "text": [
            "17278\n",
            "17192\n",
            "17277\n",
            "17283\n"
          ]
        },
        {
          "output_type": "stream",
          "name": "stderr",
          "text": [
            " 77%|███████▋  | 7050/9172 [07:39<02:03, 17.16it/s]"
          ]
        },
        {
          "output_type": "stream",
          "name": "stdout",
          "text": [
            "17277\n",
            "17275\n",
            "17277\n",
            "17278\n"
          ]
        },
        {
          "output_type": "stream",
          "name": "stderr",
          "text": [
            " 77%|███████▋  | 7056/9172 [07:39<01:42, 20.74it/s]"
          ]
        },
        {
          "output_type": "stream",
          "name": "stdout",
          "text": [
            "17277\n",
            "17278\n",
            "17275\n",
            "17283\n",
            "17277\n",
            "17278\n",
            "17277\n"
          ]
        },
        {
          "output_type": "stream",
          "name": "stderr",
          "text": [
            " 77%|███████▋  | 7062/9172 [07:39<01:41, 20.72it/s]"
          ]
        },
        {
          "output_type": "stream",
          "name": "stdout",
          "text": [
            "17285\n",
            "17278\n",
            "17283\n",
            "17277\n",
            "17285\n"
          ]
        },
        {
          "output_type": "stream",
          "name": "stderr",
          "text": [
            "\r 77%|███████▋  | 7065/9172 [07:40<01:58, 17.79it/s]"
          ]
        },
        {
          "output_type": "stream",
          "name": "stdout",
          "text": [
            "17283\n",
            "17288\n",
            "17277\n"
          ]
        },
        {
          "output_type": "stream",
          "name": "stderr",
          "text": [
            " 77%|███████▋  | 7071/9172 [07:40<01:52, 18.67it/s]"
          ]
        },
        {
          "output_type": "stream",
          "name": "stdout",
          "text": [
            "17278\n",
            "17288\n",
            "17283\n",
            "17285\n",
            "17283\n",
            "17285\n",
            "17289\n",
            "17285\n"
          ]
        },
        {
          "output_type": "stream",
          "name": "stderr",
          "text": [
            " 77%|███████▋  | 7079/9172 [07:41<01:52, 18.55it/s]"
          ]
        },
        {
          "output_type": "stream",
          "name": "stdout",
          "text": [
            "17283\n",
            "17288\n",
            "17289\n",
            "17290\n",
            "17288\n",
            "17285\n"
          ]
        },
        {
          "output_type": "stream",
          "name": "stderr",
          "text": [
            "\r 77%|███████▋  | 7082/9172 [07:41<02:12, 15.71it/s]"
          ]
        },
        {
          "output_type": "stream",
          "name": "stdout",
          "text": [
            "17288\n",
            "17285\n",
            "17285\n"
          ]
        },
        {
          "output_type": "stream",
          "name": "stderr",
          "text": [
            " 77%|███████▋  | 7089/9172 [07:41<01:53, 18.39it/s]"
          ]
        },
        {
          "output_type": "stream",
          "name": "stdout",
          "text": [
            "17285\n",
            "17290\n",
            "17289\n",
            "17289\n",
            "17288\n",
            "17288\n",
            "17288\n",
            "17289\n"
          ]
        },
        {
          "output_type": "stream",
          "name": "stderr",
          "text": [
            " 77%|███████▋  | 7095/9172 [07:42<02:02, 16.90it/s]"
          ]
        },
        {
          "output_type": "stream",
          "name": "stdout",
          "text": [
            "17291\n",
            "17289\n",
            "17291\n",
            "17289\n",
            "17292\n"
          ]
        },
        {
          "output_type": "stream",
          "name": "stderr",
          "text": [
            " 77%|███████▋  | 7099/9172 [07:42<02:14, 15.42it/s]"
          ]
        },
        {
          "output_type": "stream",
          "name": "stdout",
          "text": [
            "17290\n",
            "17289\n",
            "17290\n",
            "17290\n",
            "17292\n",
            "17289\n",
            "17290\n"
          ]
        },
        {
          "output_type": "stream",
          "name": "stderr",
          "text": [
            " 77%|███████▋  | 7108/9172 [07:42<01:37, 21.23it/s]"
          ]
        },
        {
          "output_type": "stream",
          "name": "stdout",
          "text": [
            "17291\n",
            "17291\n",
            "17290\n",
            "17294 - HTTP 404\n",
            "17293\n",
            "17290\n",
            "17293\n",
            "17294 - HTTP 404\n",
            "17290\n"
          ]
        },
        {
          "output_type": "stream",
          "name": "stderr",
          "text": [
            " 78%|███████▊  | 7117/9172 [07:43<01:16, 26.92it/s]"
          ]
        },
        {
          "output_type": "stream",
          "name": "stdout",
          "text": [
            "17294 - HTTP 404\n",
            "17291\n",
            "17294 - HTTP 404\n",
            "17294 - HTTP 404\n",
            "17292\n",
            "17294 - HTTP 404\n",
            "17294 - HTTP 404\n",
            "17292\n",
            "17292\n"
          ]
        },
        {
          "output_type": "stream",
          "name": "stderr",
          "text": [
            " 78%|███████▊  | 7125/9172 [07:43<01:26, 23.73it/s]"
          ]
        },
        {
          "output_type": "stream",
          "name": "stdout",
          "text": [
            "17292\n",
            "17293\n",
            "17295\n",
            "17295\n",
            "17296\n",
            "17293\n"
          ]
        },
        {
          "output_type": "stream",
          "name": "stderr",
          "text": [
            "\r 78%|███████▊  | 7128/9172 [07:43<01:57, 17.39it/s]"
          ]
        },
        {
          "output_type": "stream",
          "name": "stdout",
          "text": [
            "17293\n",
            "17293\n",
            "17291\n",
            "17296\n",
            "17292\n"
          ]
        },
        {
          "output_type": "stream",
          "name": "stderr",
          "text": [
            " 78%|███████▊  | 7137/9172 [07:44<01:53, 17.91it/s]"
          ]
        },
        {
          "output_type": "stream",
          "name": "stdout",
          "text": [
            "17295\n",
            "17294\n",
            "17297\n",
            "17295\n",
            "17296\n",
            "17295\n"
          ]
        },
        {
          "output_type": "stream",
          "name": "stderr",
          "text": [
            "\r 78%|███████▊  | 7140/9172 [07:44<01:48, 18.66it/s]"
          ]
        },
        {
          "output_type": "stream",
          "name": "stdout",
          "text": [
            "17295\n",
            "17295\n",
            "17296\n",
            "17296\n",
            "17296\n"
          ]
        },
        {
          "output_type": "stream",
          "name": "stderr",
          "text": [
            " 78%|███████▊  | 7145/9172 [07:44<02:04, 16.32it/s]"
          ]
        },
        {
          "output_type": "stream",
          "name": "stdout",
          "text": [
            "17293\n",
            "17297\n",
            "17297\n"
          ]
        },
        {
          "output_type": "stream",
          "name": "stderr",
          "text": [
            "\r 78%|███████▊  | 7150/9172 [07:44<01:32, 21.78it/s]"
          ]
        },
        {
          "output_type": "stream",
          "name": "stdout",
          "text": [
            "17296\n",
            "17296\n",
            "17296\n",
            "17299\n",
            "17297\n"
          ]
        },
        {
          "output_type": "stream",
          "name": "stderr",
          "text": [
            "\r 78%|███████▊  | 7153/9172 [07:45<02:16, 14.76it/s]"
          ]
        },
        {
          "output_type": "stream",
          "name": "stdout",
          "text": [
            "17297\n",
            "17297\n",
            "17299\n",
            "17302\n"
          ]
        },
        {
          "output_type": "stream",
          "name": "stderr",
          "text": [
            " 78%|███████▊  | 7159/9172 [07:45<02:46, 12.09it/s]"
          ]
        },
        {
          "output_type": "stream",
          "name": "stdout",
          "text": [
            "17303\n",
            "17296\n",
            "17297\n",
            "17297\n",
            "17299\n"
          ]
        },
        {
          "output_type": "stream",
          "name": "stderr",
          "text": [
            "\r 78%|███████▊  | 7161/9172 [07:46<02:50, 11.77it/s]"
          ]
        },
        {
          "output_type": "stream",
          "name": "stdout",
          "text": [
            "17299\n",
            "17297\n",
            "17299\n",
            "17297\n"
          ]
        },
        {
          "output_type": "stream",
          "name": "stderr",
          "text": [
            " 78%|███████▊  | 7166/9172 [07:46<02:32, 13.14it/s]"
          ]
        },
        {
          "output_type": "stream",
          "name": "stdout",
          "text": [
            "17299\n",
            "17302\n",
            "17302\n",
            "17302\n"
          ]
        },
        {
          "output_type": "stream",
          "name": "stderr",
          "text": [
            " 78%|███████▊  | 7172/9172 [07:46<01:57, 16.99it/s]"
          ]
        },
        {
          "output_type": "stream",
          "name": "stdout",
          "text": [
            "17302\n",
            "17302\n",
            "17303\n",
            "17299\n",
            "17304\n",
            "17299\n"
          ]
        },
        {
          "output_type": "stream",
          "name": "stderr",
          "text": [
            "\r 78%|███████▊  | 7174/9172 [07:47<02:34, 12.90it/s]"
          ]
        },
        {
          "output_type": "stream",
          "name": "stdout",
          "text": [
            "17305\n",
            "17304\n",
            "17302\n"
          ]
        },
        {
          "output_type": "stream",
          "name": "stderr",
          "text": [
            " 78%|███████▊  | 7179/9172 [07:47<02:51, 11.65it/s]"
          ]
        },
        {
          "output_type": "stream",
          "name": "stdout",
          "text": [
            "17303\n",
            "17303\n",
            "17303\n",
            "17305\n",
            "17303\n"
          ]
        },
        {
          "output_type": "stream",
          "name": "stderr",
          "text": [
            " 78%|███████▊  | 7184/9172 [07:48<03:22,  9.81it/s]"
          ]
        },
        {
          "output_type": "stream",
          "name": "stdout",
          "text": [
            "17306\n",
            "17303\n",
            "17305\n"
          ]
        },
        {
          "output_type": "stream",
          "name": "stderr",
          "text": [
            "\r 78%|███████▊  | 7186/9172 [07:48<03:04, 10.77it/s]"
          ]
        },
        {
          "output_type": "stream",
          "name": "stdout",
          "text": [
            "17304\n",
            "17304\n"
          ]
        },
        {
          "output_type": "stream",
          "name": "stderr",
          "text": [
            "\r 78%|███████▊  | 7188/9172 [07:48<02:54, 11.37it/s]"
          ]
        },
        {
          "output_type": "stream",
          "name": "stdout",
          "text": [
            "17304\n",
            "17305\n",
            "17304\n",
            "17305\n",
            "17305\n",
            "17305\n",
            "17305\n"
          ]
        },
        {
          "output_type": "stream",
          "name": "stderr",
          "text": [
            " 78%|███████▊  | 7196/9172 [07:48<02:09, 15.30it/s]"
          ]
        },
        {
          "output_type": "stream",
          "name": "stdout",
          "text": [
            "17303\n",
            "17306\n",
            "17305\n"
          ]
        },
        {
          "output_type": "stream",
          "name": "stderr",
          "text": [
            "\r 78%|███████▊  | 7198/9172 [07:48<02:18, 14.21it/s]"
          ]
        },
        {
          "output_type": "stream",
          "name": "stdout",
          "text": [
            "17308\n",
            "17308\n",
            "17306\n"
          ]
        },
        {
          "output_type": "stream",
          "name": "stderr",
          "text": [
            " 79%|███████▊  | 7202/9172 [07:49<03:04, 10.70it/s]"
          ]
        },
        {
          "output_type": "stream",
          "name": "stdout",
          "text": [
            "17306\n",
            "17309\n",
            "17306\n",
            "17306\n"
          ]
        },
        {
          "output_type": "stream",
          "name": "stderr",
          "text": [
            "\r 79%|███████▊  | 7204/9172 [07:49<02:51, 11.48it/s]"
          ]
        },
        {
          "output_type": "stream",
          "name": "stdout",
          "text": [
            "17304\n",
            "17308\n",
            "17306\n"
          ]
        },
        {
          "output_type": "stream",
          "name": "stderr",
          "text": [
            " 79%|███████▊  | 7209/9172 [07:50<02:42, 12.10it/s]"
          ]
        },
        {
          "output_type": "stream",
          "name": "stdout",
          "text": [
            "17308\n",
            "17309\n",
            "17311\n",
            "17308\n",
            "17306\n"
          ]
        },
        {
          "output_type": "stream",
          "name": "stderr",
          "text": [
            "\r 79%|███████▊  | 7213/9172 [07:50<02:08, 15.20it/s]"
          ]
        },
        {
          "output_type": "stream",
          "name": "stdout",
          "text": [
            "17308\n",
            "17309\n",
            "17304\n"
          ]
        },
        {
          "output_type": "stream",
          "name": "stderr",
          "text": [
            " 79%|███████▊  | 7217/9172 [07:50<02:03, 15.83it/s]"
          ]
        },
        {
          "output_type": "stream",
          "name": "stdout",
          "text": [
            "17309\n",
            "17309\n",
            "17308\n"
          ]
        },
        {
          "output_type": "stream",
          "name": "stderr",
          "text": [
            " 79%|███████▊  | 7222/9172 [07:50<02:01, 16.03it/s]"
          ]
        },
        {
          "output_type": "stream",
          "name": "stdout",
          "text": [
            "17309\n",
            "17309\n",
            "17311\n",
            "17309\n",
            "17306\n",
            "17315\n",
            "17311\n"
          ]
        },
        {
          "output_type": "stream",
          "name": "stderr",
          "text": [
            " 79%|███████▉  | 7227/9172 [07:51<01:54, 16.93it/s]"
          ]
        },
        {
          "output_type": "stream",
          "name": "stdout",
          "text": [
            "17311\n",
            "17311\n",
            "17311\n"
          ]
        },
        {
          "output_type": "stream",
          "name": "stderr",
          "text": [
            "\r 79%|███████▉  | 7229/9172 [07:51<02:17, 14.08it/s]"
          ]
        },
        {
          "output_type": "stream",
          "name": "stdout",
          "text": [
            "17315\n",
            "17311\n",
            "17316\n"
          ]
        },
        {
          "output_type": "stream",
          "name": "stderr",
          "text": [
            "\r 79%|███████▉  | 7231/9172 [07:51<03:07, 10.36it/s]"
          ]
        },
        {
          "output_type": "stream",
          "name": "stdout",
          "text": [
            "17316\n",
            "17317\n"
          ]
        },
        {
          "output_type": "stream",
          "name": "stderr",
          "text": [
            "\r 79%|███████▉  | 7233/9172 [07:51<03:17,  9.80it/s]"
          ]
        },
        {
          "output_type": "stream",
          "name": "stdout",
          "text": [
            "17311\n",
            "17311\n"
          ]
        },
        {
          "output_type": "stream",
          "name": "stderr",
          "text": [
            "\r 79%|███████▉  | 7235/9172 [07:52<03:19,  9.71it/s]"
          ]
        },
        {
          "output_type": "stream",
          "name": "stdout",
          "text": [
            "17315\n",
            "17315\n"
          ]
        },
        {
          "output_type": "stream",
          "name": "stderr",
          "text": [
            " 79%|███████▉  | 7241/9172 [07:52<02:30, 12.81it/s]"
          ]
        },
        {
          "output_type": "stream",
          "name": "stdout",
          "text": [
            "17315\n",
            "17316\n",
            "17317\n",
            "17316\n",
            "17316\n",
            "17315\n",
            "17315\n"
          ]
        },
        {
          "output_type": "stream",
          "name": "stderr",
          "text": [
            " 79%|███████▉  | 7248/9172 [07:52<02:02, 15.69it/s]"
          ]
        },
        {
          "output_type": "stream",
          "name": "stdout",
          "text": [
            "17316\n",
            "17316\n",
            "17316\n",
            "17320\n",
            "17320\n"
          ]
        },
        {
          "output_type": "stream",
          "name": "stderr",
          "text": [
            "\r 79%|███████▉  | 7251/9172 [07:52<01:49, 17.58it/s]"
          ]
        },
        {
          "output_type": "stream",
          "name": "stdout",
          "text": [
            "17315\n",
            "17317\n",
            "17317\n",
            "17317\n"
          ]
        },
        {
          "output_type": "stream",
          "name": "stderr",
          "text": [
            " 79%|███████▉  | 7257/9172 [07:53<01:53, 16.88it/s]"
          ]
        },
        {
          "output_type": "stream",
          "name": "stdout",
          "text": [
            "17315\n",
            "17317\n",
            "17317\n",
            "17324\n",
            "17327 - HTTP 404\n",
            "17327 - HTTP 404\n"
          ]
        },
        {
          "output_type": "stream",
          "name": "stderr",
          "text": [
            " 79%|███████▉  | 7264/9172 [07:53<01:38, 19.31it/s]"
          ]
        },
        {
          "output_type": "stream",
          "name": "stdout",
          "text": [
            "17327\n",
            "17327 - HTTP 404\n",
            "17327 - HTTP 404\n",
            "17324\n",
            "17327 - HTTP 404\n",
            "17327 - HTTP 404\n"
          ]
        },
        {
          "output_type": "stream",
          "name": "stderr",
          "text": [
            "\r 79%|███████▉  | 7267/9172 [07:54<02:06, 15.10it/s]"
          ]
        },
        {
          "output_type": "stream",
          "name": "stdout",
          "text": [
            "17317\n",
            "17320\n",
            "17324\n"
          ]
        },
        {
          "output_type": "stream",
          "name": "stderr",
          "text": [
            "\r 79%|███████▉  | 7274/9172 [07:54<01:26, 22.01it/s]"
          ]
        },
        {
          "output_type": "stream",
          "name": "stdout",
          "text": [
            "17320\n",
            "17327\n",
            "17327\n",
            "17327\n",
            "17320\n",
            "17320\n",
            "17327\n",
            "17324\n",
            "17324\n"
          ]
        },
        {
          "output_type": "stream",
          "name": "stderr",
          "text": [
            "\r 79%|███████▉  | 7277/9172 [07:54<01:40, 18.86it/s]"
          ]
        },
        {
          "output_type": "stream",
          "name": "stdout",
          "text": [
            "17320\n",
            "17329\n",
            "17320\n"
          ]
        },
        {
          "output_type": "stream",
          "name": "stderr",
          "text": [
            " 79%|███████▉  | 7282/9172 [07:54<02:09, 14.64it/s]"
          ]
        },
        {
          "output_type": "stream",
          "name": "stdout",
          "text": [
            "17320\n",
            "17324\n",
            "17327\n"
          ]
        },
        {
          "output_type": "stream",
          "name": "stderr",
          "text": [
            "\r 79%|███████▉  | 7284/9172 [07:55<02:08, 14.71it/s]"
          ]
        },
        {
          "output_type": "stream",
          "name": "stdout",
          "text": [
            "17324\n",
            "17330\n",
            "17327\n"
          ]
        },
        {
          "output_type": "stream",
          "name": "stderr",
          "text": [
            "\r 79%|███████▉  | 7286/9172 [07:55<02:28, 12.71it/s]"
          ]
        },
        {
          "output_type": "stream",
          "name": "stdout",
          "text": [
            "17327\n",
            "17324\n",
            "17327\n",
            "17327\n",
            "17330\n"
          ]
        },
        {
          "output_type": "stream",
          "name": "stderr",
          "text": [
            "\r 79%|███████▉  | 7291/9172 [07:55<02:01, 15.51it/s]"
          ]
        },
        {
          "output_type": "stream",
          "name": "stdout",
          "text": [
            "17329\n",
            "17329\n"
          ]
        },
        {
          "output_type": "stream",
          "name": "stderr",
          "text": [
            "\r 80%|███████▉  | 7293/9172 [07:55<02:26, 12.84it/s]"
          ]
        },
        {
          "output_type": "stream",
          "name": "stdout",
          "text": [
            "17332\n",
            "17329\n",
            "17332\n"
          ]
        },
        {
          "output_type": "stream",
          "name": "stderr",
          "text": [
            " 80%|███████▉  | 7298/9172 [07:56<02:38, 11.84it/s]"
          ]
        },
        {
          "output_type": "stream",
          "name": "stdout",
          "text": [
            "17329\n",
            "17329\n",
            "17330\n"
          ]
        },
        {
          "output_type": "stream",
          "name": "stderr",
          "text": [
            "\r 80%|███████▉  | 7301/9172 [07:56<02:24, 12.92it/s]"
          ]
        },
        {
          "output_type": "stream",
          "name": "stdout",
          "text": [
            "17336\n",
            "17329\n",
            "17330\n",
            "17330\n"
          ]
        },
        {
          "output_type": "stream",
          "name": "stderr",
          "text": [
            " 80%|███████▉  | 7305/9172 [07:56<02:39, 11.70it/s]"
          ]
        },
        {
          "output_type": "stream",
          "name": "stdout",
          "text": [
            "17329\n",
            "17336\n",
            "17330\n"
          ]
        },
        {
          "output_type": "stream",
          "name": "stderr",
          "text": [
            "\r 80%|███████▉  | 7307/9172 [07:57<02:49, 10.97it/s]"
          ]
        },
        {
          "output_type": "stream",
          "name": "stdout",
          "text": [
            "17332\n",
            "17330\n"
          ]
        },
        {
          "output_type": "stream",
          "name": "stderr",
          "text": [
            " 80%|███████▉  | 7311/9172 [07:57<02:52, 10.80it/s]"
          ]
        },
        {
          "output_type": "stream",
          "name": "stdout",
          "text": [
            "17332\n",
            "17330\n",
            "17330\n",
            "17339\n"
          ]
        },
        {
          "output_type": "stream",
          "name": "stderr",
          "text": [
            "\r 80%|███████▉  | 7316/9172 [07:57<02:01, 15.24it/s]"
          ]
        },
        {
          "output_type": "stream",
          "name": "stdout",
          "text": [
            "17336\n",
            "17332\n",
            "17332\n",
            "17336\n",
            "17340\n",
            "17336\n"
          ]
        },
        {
          "output_type": "stream",
          "name": "stderr",
          "text": [
            "\r 80%|███████▉  | 7318/9172 [07:57<02:14, 13.74it/s]"
          ]
        },
        {
          "output_type": "stream",
          "name": "stdout",
          "text": [
            "17336\n",
            "17339\n"
          ]
        },
        {
          "output_type": "stream",
          "name": "stderr",
          "text": [
            " 80%|███████▉  | 7322/9172 [07:58<02:47, 11.06it/s]"
          ]
        },
        {
          "output_type": "stream",
          "name": "stdout",
          "text": [
            "17339\n",
            "17336\n",
            "17340\n",
            "17339\n",
            "17332\n",
            "17336\n",
            "17341\n"
          ]
        },
        {
          "output_type": "stream",
          "name": "stderr",
          "text": [
            "\r 80%|███████▉  | 7326/9172 [07:58<01:56, 15.84it/s]"
          ]
        },
        {
          "output_type": "stream",
          "name": "stdout",
          "text": [
            "17339\n"
          ]
        },
        {
          "output_type": "stream",
          "name": "stderr",
          "text": [
            "\r 80%|███████▉  | 7329/9172 [07:58<02:36, 11.75it/s]"
          ]
        },
        {
          "output_type": "stream",
          "name": "stdout",
          "text": [
            "17339\n",
            "42029\n",
            "17339\n",
            "17341\n"
          ]
        },
        {
          "output_type": "stream",
          "name": "stderr",
          "text": [
            " 80%|███████▉  | 7336/9172 [07:59<02:08, 14.30it/s]"
          ]
        },
        {
          "output_type": "stream",
          "name": "stdout",
          "text": [
            "17340\n",
            "42029\n",
            "42029\n",
            "17340\n",
            "42029\n",
            "42029\n"
          ]
        },
        {
          "output_type": "stream",
          "name": "stderr",
          "text": [
            " 80%|████████  | 7341/9172 [07:59<02:03, 14.81it/s]"
          ]
        },
        {
          "output_type": "stream",
          "name": "stdout",
          "text": [
            "17340\n",
            "17340\n",
            "17340\n",
            "42029\n",
            "42029\n",
            "17341\n",
            "42029\n",
            "17341\n",
            "42029\n"
          ]
        },
        {
          "output_type": "stream",
          "name": "stderr",
          "text": [
            " 80%|████████  | 7351/9172 [07:59<01:17, 23.58it/s]"
          ]
        },
        {
          "output_type": "stream",
          "name": "stdout",
          "text": [
            "42029\n",
            "17341\n",
            "42030\n",
            "17340\n",
            "42029\n",
            "17341\n"
          ]
        },
        {
          "output_type": "stream",
          "name": "stderr",
          "text": [
            " 80%|████████  | 7358/9172 [08:00<01:14, 24.41it/s]"
          ]
        },
        {
          "output_type": "stream",
          "name": "stdout",
          "text": [
            "17340\n",
            "42031\n",
            "42030\n",
            "42030\n",
            "42030\n",
            "42030\n",
            "42030\n",
            "42030\n"
          ]
        },
        {
          "output_type": "stream",
          "name": "stderr",
          "text": [
            " 80%|████████  | 7364/9172 [08:00<01:13, 24.63it/s]"
          ]
        },
        {
          "output_type": "stream",
          "name": "stdout",
          "text": [
            "17341\n",
            "42031\n",
            "42031\n",
            "42031\n",
            "42031\n",
            "42031\n"
          ]
        },
        {
          "output_type": "stream",
          "name": "stderr",
          "text": [
            " 80%|████████  | 7370/9172 [08:00<01:25, 21.17it/s]"
          ]
        },
        {
          "output_type": "stream",
          "name": "stdout",
          "text": [
            "42030\n",
            "42031\n",
            "42032\n",
            "42031\n",
            "42030\n",
            "42032\n"
          ]
        },
        {
          "output_type": "stream",
          "name": "stderr",
          "text": [
            " 80%|████████  | 7377/9172 [08:00<01:14, 24.25it/s]"
          ]
        },
        {
          "output_type": "stream",
          "name": "stdout",
          "text": [
            "42030\n",
            "42031\n",
            "42030\n",
            "42032\n",
            "42032\n",
            "42032\n",
            "42032\n"
          ]
        },
        {
          "output_type": "stream",
          "name": "stderr",
          "text": [
            "\r 80%|████████  | 7381/9172 [08:01<01:10, 25.58it/s]"
          ]
        },
        {
          "output_type": "stream",
          "name": "stdout",
          "text": [
            "42031\n",
            "42032\n",
            "42031\n",
            "42033\n",
            "42030\n"
          ]
        },
        {
          "output_type": "stream",
          "name": "stderr",
          "text": [
            " 81%|████████  | 7392/9172 [08:01<01:01, 29.15it/s]"
          ]
        },
        {
          "output_type": "stream",
          "name": "stdout",
          "text": [
            "42031\n",
            "42033\n",
            "42033\n",
            "42031\n",
            "42033\n",
            "42033\n",
            "42033\n",
            "42032\n",
            "42032\n"
          ]
        },
        {
          "output_type": "stream",
          "name": "stderr",
          "text": [
            " 81%|████████  | 7398/9172 [08:01<01:04, 27.68it/s]"
          ]
        },
        {
          "output_type": "stream",
          "name": "stdout",
          "text": [
            "42032\n",
            "42032\n",
            "42032\n",
            "42033\n",
            "42033\n",
            "42034\n",
            "42033\n",
            "42033\n"
          ]
        },
        {
          "output_type": "stream",
          "name": "stderr",
          "text": [
            " 81%|████████  | 7408/9172 [08:01<00:46, 37.54it/s]"
          ]
        },
        {
          "output_type": "stream",
          "name": "stdout",
          "text": [
            "42032\n",
            "42034\n",
            "42034\n",
            "42033\n",
            "42034\n",
            "42034\n",
            "42033\n",
            "42034\n",
            "42033\n"
          ]
        },
        {
          "output_type": "stream",
          "name": "stderr",
          "text": [
            "\r 81%|████████  | 7412/9172 [08:02<00:57, 30.83it/s]"
          ]
        },
        {
          "output_type": "stream",
          "name": "stdout",
          "text": [
            "42034\n",
            "42033\n",
            "42035\n",
            "42035\n"
          ]
        },
        {
          "output_type": "stream",
          "name": "stderr",
          "text": [
            "\r 81%|████████  | 7416/9172 [08:02<01:05, 26.90it/s]"
          ]
        },
        {
          "output_type": "stream",
          "name": "stdout",
          "text": [
            "42035\n",
            "42035\n",
            "42035\n",
            "42034\n",
            "42034\n",
            "42035\n",
            "42035\n"
          ]
        },
        {
          "output_type": "stream",
          "name": "stderr",
          "text": [
            " 81%|████████  | 7425/9172 [08:02<01:13, 23.75it/s]"
          ]
        },
        {
          "output_type": "stream",
          "name": "stdout",
          "text": [
            "42034\n",
            "42036\n",
            "42034\n",
            "42036\n",
            "42034\n",
            "42035\n",
            "42036\n"
          ]
        },
        {
          "output_type": "stream",
          "name": "stderr",
          "text": [
            " 81%|████████  | 7433/9172 [08:02<01:02, 27.97it/s]"
          ]
        },
        {
          "output_type": "stream",
          "name": "stdout",
          "text": [
            "42036\n",
            "42035\n",
            "42036\n",
            "42035\n",
            "42036\n",
            "42036\n",
            "42035\n",
            "42036\n",
            "42036\n",
            "42035\n",
            "42037\n",
            "42035\n"
          ]
        },
        {
          "output_type": "stream",
          "name": "stderr",
          "text": [
            " 81%|████████  | 7448/9172 [08:03<00:40, 42.62it/s]"
          ]
        },
        {
          "output_type": "stream",
          "name": "stdout",
          "text": [
            "42037\n",
            "42037\n",
            "42037\n",
            "42036\n",
            "42036\n",
            "42036\n",
            "42037\n",
            "42036\n",
            "42037\n",
            "42037\n",
            "42036\n",
            "42037\n",
            "42037\n",
            "42037\n",
            "42036\n",
            "42037\n",
            "42037\n",
            "42037\n",
            "42037\n"
          ]
        },
        {
          "output_type": "stream",
          "name": "stderr",
          "text": [
            "\r 81%|████████▏ | 7461/9172 [08:03<00:27, 61.97it/s]"
          ]
        },
        {
          "output_type": "stream",
          "name": "stdout",
          "text": [
            "42037\n",
            "42037\n",
            "42037\n",
            "42038\n",
            "42038\n"
          ]
        },
        {
          "output_type": "stream",
          "name": "stderr",
          "text": [
            " 81%|████████▏ | 7474/9172 [08:03<00:41, 41.35it/s]"
          ]
        },
        {
          "output_type": "stream",
          "name": "stdout",
          "text": [
            "42038\n",
            "42038\n",
            "42039 - HTTP 404\n",
            "42038\n",
            "42039\n",
            "42037\n",
            "42038\n",
            "42038\n",
            "42037\n",
            "42037\n",
            "42039 - HTTP 404\n",
            "42039 - HTTP 404\n",
            "42039 - HTTP 404\n",
            "42039 - HTTP 404\n",
            "42039 - HTTP 404\n",
            "42039 - HTTP 404\n"
          ]
        },
        {
          "output_type": "stream",
          "name": "stderr",
          "text": [
            " 82%|████████▏ | 7491/9172 [08:04<00:31, 52.75it/s]"
          ]
        },
        {
          "output_type": "stream",
          "name": "stdout",
          "text": [
            "42039 - HTTP 404\n",
            "42039 - HTTP 404\n",
            "42039 - HTTP 404\n",
            "42039 - HTTP 404\n",
            "42037\n",
            "42037\n",
            "42038\n",
            "42038\n",
            "42039\n",
            "42039\n",
            "42039\n",
            "42039\n"
          ]
        },
        {
          "output_type": "stream",
          "name": "stderr",
          "text": [
            "\r 82%|████████▏ | 7497/9172 [08:04<00:50, 33.27it/s]"
          ]
        },
        {
          "output_type": "stream",
          "name": "stdout",
          "text": [
            "42038\n",
            "42038\n",
            "42038\n",
            "42040\n",
            "42040\n"
          ]
        },
        {
          "output_type": "stream",
          "name": "stderr",
          "text": [
            "\r 82%|████████▏ | 7502/9172 [08:04<00:52, 32.04it/s]"
          ]
        },
        {
          "output_type": "stream",
          "name": "stdout",
          "text": [
            "42040\n",
            "42040\n",
            "42039\n",
            "42040\n",
            "42040\n",
            "42040\n",
            "42039\n"
          ]
        },
        {
          "output_type": "stream",
          "name": "stderr",
          "text": [
            "\r 82%|████████▏ | 7507/9172 [08:04<00:55, 29.88it/s]"
          ]
        },
        {
          "output_type": "stream",
          "name": "stdout",
          "text": [
            "42039\n",
            "42041\n",
            "42038\n",
            "42039\n",
            "42039\n",
            "42041\n"
          ]
        },
        {
          "output_type": "stream",
          "name": "stderr",
          "text": [
            " 82%|████████▏ | 7515/9172 [08:05<01:00, 27.52it/s]"
          ]
        },
        {
          "output_type": "stream",
          "name": "stdout",
          "text": [
            "42040\n",
            "42040\n",
            "42040\n",
            "42040\n",
            "42040\n",
            "42041\n",
            "42041\n",
            "42041\n"
          ]
        },
        {
          "output_type": "stream",
          "name": "stderr",
          "text": [
            " 82%|████████▏ | 7527/9172 [08:05<00:53, 31.00it/s]"
          ]
        },
        {
          "output_type": "stream",
          "name": "stdout",
          "text": [
            "42042\n",
            "42040\n",
            "42041\n",
            "42040\n",
            "42040\n",
            "42041\n",
            "42041\n",
            "42041\n",
            "42041\n"
          ]
        },
        {
          "output_type": "stream",
          "name": "stderr",
          "text": [
            "\r 82%|████████▏ | 7531/9172 [08:05<00:54, 30.10it/s]"
          ]
        },
        {
          "output_type": "stream",
          "name": "stdout",
          "text": [
            "42041\n",
            "42042\n",
            "42042\n",
            "42041\n",
            "42042\n",
            "42042\n",
            "42042\n"
          ]
        },
        {
          "output_type": "stream",
          "name": "stderr",
          "text": [
            "\r 82%|████████▏ | 7535/9172 [08:05<00:58, 27.93it/s]"
          ]
        },
        {
          "output_type": "stream",
          "name": "stdout",
          "text": [
            "42042\n",
            "42041\n",
            "42043\n",
            "42043\n"
          ]
        },
        {
          "output_type": "stream",
          "name": "stderr",
          "text": [
            " 82%|████████▏ | 7543/9172 [08:06<01:02, 26.13it/s]"
          ]
        },
        {
          "output_type": "stream",
          "name": "stdout",
          "text": [
            "42043\n",
            "42043\n",
            "42042\n",
            "42043\n",
            "42042\n",
            "42042\n",
            "42044\n",
            "42043\n"
          ]
        },
        {
          "output_type": "stream",
          "name": "stderr",
          "text": [
            " 82%|████████▏ | 7550/9172 [08:06<01:17, 21.00it/s]"
          ]
        },
        {
          "output_type": "stream",
          "name": "stdout",
          "text": [
            "42042\n",
            "42043\n",
            "42043\n",
            "42044\n"
          ]
        },
        {
          "output_type": "stream",
          "name": "stderr",
          "text": [
            " 82%|████████▏ | 7559/9172 [08:06<00:58, 27.71it/s]"
          ]
        },
        {
          "output_type": "stream",
          "name": "stdout",
          "text": [
            "42044\n",
            "42044\n",
            "42044\n",
            "42043\n",
            "42044\n",
            "42044\n",
            "42042\n",
            "42044\n",
            "42043\n"
          ]
        },
        {
          "output_type": "stream",
          "name": "stderr",
          "text": [
            " 83%|████████▎ | 7568/9172 [08:07<00:50, 31.55it/s]"
          ]
        },
        {
          "output_type": "stream",
          "name": "stdout",
          "text": [
            "42043\n",
            "42045\n",
            "42042\n",
            "42043\n",
            "42043\n",
            "42043\n",
            "42044\n",
            "42044\n",
            "42045\n",
            "42044\n"
          ]
        },
        {
          "output_type": "stream",
          "name": "stderr",
          "text": [
            " 83%|████████▎ | 7577/9172 [08:07<00:48, 32.77it/s]"
          ]
        },
        {
          "output_type": "stream",
          "name": "stdout",
          "text": [
            "42045\n",
            "42044\n",
            "42046\n",
            "42045\n",
            "42045\n",
            "42044\n",
            "42045\n",
            "42046\n",
            "42046\n"
          ]
        },
        {
          "output_type": "stream",
          "name": "stderr",
          "text": [
            "\r 83%|████████▎ | 7581/9172 [08:07<00:58, 27.03it/s]"
          ]
        },
        {
          "output_type": "stream",
          "name": "stdout",
          "text": [
            "42045\n",
            "42046\n",
            "42046\n"
          ]
        },
        {
          "output_type": "stream",
          "name": "stderr",
          "text": [
            "\r 83%|████████▎ | 7584/9172 [08:07<01:05, 24.32it/s]"
          ]
        },
        {
          "output_type": "stream",
          "name": "stdout",
          "text": [
            "42046\n",
            "42047\n",
            "42045\n"
          ]
        },
        {
          "output_type": "stream",
          "name": "stderr",
          "text": [
            " 83%|████████▎ | 7592/9172 [08:08<00:58, 27.22it/s]"
          ]
        },
        {
          "output_type": "stream",
          "name": "stdout",
          "text": [
            "42045\n",
            "42046\n",
            "42045\n",
            "42046\n",
            "42045\n",
            "42045\n",
            "42047\n",
            "42047\n",
            "42047\n"
          ]
        },
        {
          "output_type": "stream",
          "name": "stderr",
          "text": [
            " 83%|████████▎ | 7601/9172 [08:08<01:02, 25.24it/s]"
          ]
        },
        {
          "output_type": "stream",
          "name": "stdout",
          "text": [
            "42047\n",
            "42046\n",
            "42046\n",
            "42046\n",
            "42047\n",
            "42047\n",
            "42049\n",
            "42046\n"
          ]
        },
        {
          "output_type": "stream",
          "name": "stderr",
          "text": [
            "\r 83%|████████▎ | 7604/9172 [08:08<01:01, 25.70it/s]"
          ]
        },
        {
          "output_type": "stream",
          "name": "stdout",
          "text": [
            "42047\n",
            "42047\n",
            "42047\n",
            "42047\n",
            "42049\n",
            "42047\n",
            "42049\n"
          ]
        },
        {
          "output_type": "stream",
          "name": "stderr",
          "text": [
            " 83%|████████▎ | 7611/9172 [08:08<01:08, 22.76it/s]"
          ]
        },
        {
          "output_type": "stream",
          "name": "stdout",
          "text": [
            "42047\n",
            "42049\n",
            "42049\n",
            "42049\n",
            "42049\n",
            "42050\n"
          ]
        },
        {
          "output_type": "stream",
          "name": "stderr",
          "text": [
            " 83%|████████▎ | 7618/9172 [08:09<01:07, 23.01it/s]"
          ]
        },
        {
          "output_type": "stream",
          "name": "stdout",
          "text": [
            "42050\n",
            "42050\n",
            "42050\n",
            "42049\n",
            "42050\n",
            "42050\n",
            "42049\n",
            "42049\n",
            "42049\n"
          ]
        },
        {
          "output_type": "stream",
          "name": "stderr",
          "text": [
            " 83%|████████▎ | 7628/9172 [08:09<00:49, 30.98it/s]"
          ]
        },
        {
          "output_type": "stream",
          "name": "stdout",
          "text": [
            "42050\n",
            "42049\n",
            "42049\n",
            "42049\n",
            "42049\n",
            "42051\n",
            "42051\n"
          ]
        },
        {
          "output_type": "stream",
          "name": "stderr",
          "text": [
            " 83%|████████▎ | 7638/9172 [08:09<00:41, 36.80it/s]"
          ]
        },
        {
          "output_type": "stream",
          "name": "stdout",
          "text": [
            "42050\n",
            "42051\n",
            "42051\n",
            "42051\n",
            "42051\n",
            "42051\n",
            "42050\n",
            "42052\n",
            "42050\n",
            "42049\n"
          ]
        },
        {
          "output_type": "stream",
          "name": "stderr",
          "text": [
            "\r 83%|████████▎ | 7642/9172 [08:09<00:59, 25.68it/s]"
          ]
        },
        {
          "output_type": "stream",
          "name": "stdout",
          "text": [
            "42050\n",
            "42052\n",
            "42052\n"
          ]
        },
        {
          "output_type": "stream",
          "name": "stderr",
          "text": [
            "\r 83%|████████▎ | 7646/9172 [08:10<01:08, 22.34it/s]"
          ]
        },
        {
          "output_type": "stream",
          "name": "stdout",
          "text": [
            "42052\n",
            "42052\n",
            "42052\n",
            "42052\n",
            "42051\n",
            "42053\n"
          ]
        },
        {
          "output_type": "stream",
          "name": "stderr",
          "text": [
            " 83%|████████▎ | 7658/9172 [08:10<00:57, 26.44it/s]"
          ]
        },
        {
          "output_type": "stream",
          "name": "stdout",
          "text": [
            "42052\n",
            "42051\n",
            "42053 - HTTP 404\n",
            "42053 - HTTP 404\n",
            "42053 - HTTP 404\n",
            "42053 - HTTP 404\n",
            "42053 - HTTP 404\n",
            "42053 - HTTP 404\n",
            "42052\n",
            "42051\n"
          ]
        },
        {
          "output_type": "stream",
          "name": "stderr",
          "text": [
            " 84%|████████▎ | 7665/9172 [08:11<01:07, 22.33it/s]"
          ]
        },
        {
          "output_type": "stream",
          "name": "stdout",
          "text": [
            "42052\n",
            "42050\n",
            "42052\n",
            "42051\n",
            "42054\n",
            "42054\n",
            "42054\n"
          ]
        },
        {
          "output_type": "stream",
          "name": "stderr",
          "text": [
            "\r 84%|████████▎ | 7668/9172 [08:11<01:17, 19.33it/s]"
          ]
        },
        {
          "output_type": "stream",
          "name": "stdout",
          "text": [
            "42054\n",
            "42054\n",
            "42054\n",
            "42054\n"
          ]
        },
        {
          "output_type": "stream",
          "name": "stderr",
          "text": [
            "\r 84%|████████▎ | 7673/9172 [08:11<01:02, 24.17it/s]"
          ]
        },
        {
          "output_type": "stream",
          "name": "stdout",
          "text": [
            "42052\n",
            "42055 - HTTP 404\n",
            "42055 - HTTP 404\n",
            "42055\n",
            "42055 - HTTP 404\n"
          ]
        },
        {
          "output_type": "stream",
          "name": "stderr",
          "text": [
            " 84%|████████▎ | 7679/9172 [08:11<01:12, 20.62it/s]"
          ]
        },
        {
          "output_type": "stream",
          "name": "stdout",
          "text": [
            "42055 - HTTP 404\n",
            "42055 - HTTP 404\n",
            "42055\n",
            "42055\n"
          ]
        },
        {
          "output_type": "stream",
          "name": "stderr",
          "text": [
            " 84%|████████▍ | 7686/9172 [08:11<01:02, 23.94it/s]"
          ]
        },
        {
          "output_type": "stream",
          "name": "stdout",
          "text": [
            "42053\n",
            "42055\n",
            "42055\n",
            "42055\n",
            "42055\n",
            "42053\n",
            "42054\n",
            "42053\n",
            "42054\n"
          ]
        },
        {
          "output_type": "stream",
          "name": "stderr",
          "text": [
            "\r 84%|████████▍ | 7690/9172 [08:12<00:53, 27.60it/s]"
          ]
        },
        {
          "output_type": "stream",
          "name": "stdout",
          "text": [
            "42053\n",
            "42053\n",
            "42054\n"
          ]
        },
        {
          "output_type": "stream",
          "name": "stderr",
          "text": [
            " 84%|████████▍ | 7696/9172 [08:12<01:18, 18.80it/s]"
          ]
        },
        {
          "output_type": "stream",
          "name": "stdout",
          "text": [
            "42056\n",
            "42055\n",
            "42054\n",
            "42056\n",
            "42056\n",
            "42056\n",
            "42056\n",
            "42056\n",
            "42054\n"
          ]
        },
        {
          "output_type": "stream",
          "name": "stderr",
          "text": [
            "\r 84%|████████▍ | 7701/9172 [08:12<01:02, 23.42it/s]"
          ]
        },
        {
          "output_type": "stream",
          "name": "stdout",
          "text": [
            "42056\n",
            "42054\n"
          ]
        },
        {
          "output_type": "stream",
          "name": "stderr",
          "text": [
            "\r 84%|████████▍ | 7704/9172 [08:13<01:35, 15.36it/s]"
          ]
        },
        {
          "output_type": "stream",
          "name": "stdout",
          "text": [
            "42055\n",
            "42057\n",
            "42057\n",
            "42055\n",
            "42057\n"
          ]
        },
        {
          "output_type": "stream",
          "name": "stderr",
          "text": [
            " 84%|████████▍ | 7711/9172 [08:13<01:15, 19.34it/s]"
          ]
        },
        {
          "output_type": "stream",
          "name": "stdout",
          "text": [
            "42057\n",
            "42057\n",
            "42055\n",
            "42057\n"
          ]
        },
        {
          "output_type": "stream",
          "name": "stderr",
          "text": [
            "\r 84%|████████▍ | 7714/9172 [08:13<01:19, 18.24it/s]"
          ]
        },
        {
          "output_type": "stream",
          "name": "stdout",
          "text": [
            "42055\n",
            "42057\n",
            "42055\n",
            "42058\n"
          ]
        },
        {
          "output_type": "stream",
          "name": "stderr",
          "text": [
            "\r 84%|████████▍ | 7717/9172 [08:13<01:47, 13.55it/s]"
          ]
        },
        {
          "output_type": "stream",
          "name": "stdout",
          "text": [
            "42056\n",
            "42058\n",
            "42056\n",
            "42058\n",
            "42056\n",
            "42058\n",
            "42058\n"
          ]
        },
        {
          "output_type": "stream",
          "name": "stderr",
          "text": [
            " 84%|████████▍ | 7726/9172 [08:14<01:22, 17.46it/s]"
          ]
        },
        {
          "output_type": "stream",
          "name": "stdout",
          "text": [
            "42056\n",
            "42057\n",
            "42057\n",
            "42058\n"
          ]
        },
        {
          "output_type": "stream",
          "name": "stderr",
          "text": [
            "\r 84%|████████▍ | 7728/9172 [08:14<01:26, 16.65it/s]"
          ]
        },
        {
          "output_type": "stream",
          "name": "stdout",
          "text": [
            "42057\n",
            "42058\n",
            "42057\n",
            "42059\n"
          ]
        },
        {
          "output_type": "stream",
          "name": "stderr",
          "text": [
            " 84%|████████▍ | 7733/9172 [08:14<01:22, 17.40it/s]"
          ]
        },
        {
          "output_type": "stream",
          "name": "stdout",
          "text": [
            "42058\n",
            "42058\n",
            "42059\n",
            "42057\n",
            "42058\n"
          ]
        },
        {
          "output_type": "stream",
          "name": "stderr",
          "text": [
            " 84%|████████▍ | 7740/9172 [08:15<01:11, 19.92it/s]"
          ]
        },
        {
          "output_type": "stream",
          "name": "stdout",
          "text": [
            "42058\n",
            "42059\n",
            "42059\n",
            "42059\n",
            "42060 - HTTP 404\n"
          ]
        },
        {
          "output_type": "stream",
          "name": "stderr",
          "text": [
            " 84%|████████▍ | 7747/9172 [08:15<01:03, 22.52it/s]"
          ]
        },
        {
          "output_type": "stream",
          "name": "stdout",
          "text": [
            "42060 - HTTP 404\n",
            "42060 - HTTP 404\n",
            "42060 - HTTP 404\n",
            "42060 - HTTP 404\n",
            "42058\n",
            "42058\n",
            "42060 - HTTP 404\n",
            "42058\n",
            "42060 - HTTP 404\n"
          ]
        },
        {
          "output_type": "stream",
          "name": "stderr",
          "text": [
            "\r 85%|████████▍ | 7754/9172 [08:15<00:44, 31.67it/s]"
          ]
        },
        {
          "output_type": "stream",
          "name": "stdout",
          "text": [
            "42059\n",
            "42060 - HTTP 404\n",
            "42060 - HTTP 404\n",
            "42060 - HTTP 404\n",
            "42060 - HTTP 404\n",
            "42060 - HTTP 404\n",
            "42060\n"
          ]
        },
        {
          "output_type": "stream",
          "name": "stderr",
          "text": [
            "\r 85%|████████▍ | 7758/9172 [08:15<01:03, 22.33it/s]"
          ]
        },
        {
          "output_type": "stream",
          "name": "stdout",
          "text": [
            "42060\n",
            "42060\n",
            "42059\n",
            "42060\n",
            "42059\n",
            "42059\n",
            "42060\n",
            "42059\n"
          ]
        },
        {
          "output_type": "stream",
          "name": "stderr",
          "text": [
            "\r 85%|████████▍ | 7764/9172 [08:15<00:50, 27.62it/s]"
          ]
        },
        {
          "output_type": "stream",
          "name": "stdout",
          "text": [
            "42061\n",
            "42059\n"
          ]
        },
        {
          "output_type": "stream",
          "name": "stderr",
          "text": [
            "\r 85%|████████▍ | 7768/9172 [08:16<01:11, 19.64it/s]"
          ]
        },
        {
          "output_type": "stream",
          "name": "stdout",
          "text": [
            "42059\n",
            "42059\n",
            "42061\n",
            "42061\n",
            "42061\n",
            "42061\n",
            "42061\n",
            "42060\n"
          ]
        },
        {
          "output_type": "stream",
          "name": "stderr",
          "text": [
            " 85%|████████▍ | 7778/9172 [08:16<01:08, 20.38it/s]"
          ]
        },
        {
          "output_type": "stream",
          "name": "stdout",
          "text": [
            "42060\n",
            "42062\n",
            "42060\n",
            "42061\n"
          ]
        },
        {
          "output_type": "stream",
          "name": "stderr",
          "text": [
            "\r 85%|████████▍ | 7781/9172 [08:16<01:17, 17.98it/s]"
          ]
        },
        {
          "output_type": "stream",
          "name": "stdout",
          "text": [
            "42060\n",
            "42062\n",
            "42060\n"
          ]
        },
        {
          "output_type": "stream",
          "name": "stderr",
          "text": [
            "\r 85%|████████▍ | 7785/9172 [08:17<01:09, 19.88it/s]"
          ]
        },
        {
          "output_type": "stream",
          "name": "stdout",
          "text": [
            "42062\n",
            "42062\n",
            "42061\n",
            "42062\n"
          ]
        },
        {
          "output_type": "stream",
          "name": "stderr",
          "text": [
            "\r 85%|████████▍ | 7788/9172 [08:17<01:19, 17.32it/s]"
          ]
        },
        {
          "output_type": "stream",
          "name": "stdout",
          "text": [
            "42062\n",
            "42061\n",
            "42061\n",
            "42061\n",
            "42063\n"
          ]
        },
        {
          "output_type": "stream",
          "name": "stderr",
          "text": [
            "\r 85%|████████▍ | 7791/9172 [08:17<01:15, 18.35it/s]"
          ]
        },
        {
          "output_type": "stream",
          "name": "stdout",
          "text": [
            "42063\n",
            "42061\n",
            "42063\n",
            "42063\n"
          ]
        },
        {
          "output_type": "stream",
          "name": "stderr",
          "text": [
            " 85%|████████▍ | 7796/9172 [08:17<01:20, 17.07it/s]"
          ]
        },
        {
          "output_type": "stream",
          "name": "stdout",
          "text": [
            "42063\n",
            "42062\n"
          ]
        },
        {
          "output_type": "stream",
          "name": "stderr",
          "text": [
            "\r 85%|████████▌ | 7798/9172 [08:17<01:19, 17.37it/s]"
          ]
        },
        {
          "output_type": "stream",
          "name": "stdout",
          "text": [
            "42064\n",
            "42063\n"
          ]
        },
        {
          "output_type": "stream",
          "name": "stderr",
          "text": [
            "\r 85%|████████▌ | 7800/9172 [08:18<02:18,  9.91it/s]"
          ]
        },
        {
          "output_type": "stream",
          "name": "stdout",
          "text": [
            "42062\n",
            "42064\n",
            "42062\n",
            "42062\n"
          ]
        },
        {
          "output_type": "stream",
          "name": "stderr",
          "text": [
            " 85%|████████▌ | 7805/9172 [08:18<01:38, 13.81it/s]"
          ]
        },
        {
          "output_type": "stream",
          "name": "stdout",
          "text": [
            "42064\n",
            "42062\n",
            "42063\n",
            "42062\n",
            "42062\n",
            "42064\n"
          ]
        },
        {
          "output_type": "stream",
          "name": "stderr",
          "text": [
            " 85%|████████▌ | 7812/9172 [08:18<01:13, 18.49it/s]"
          ]
        },
        {
          "output_type": "stream",
          "name": "stdout",
          "text": [
            "42064\n",
            "42064\n",
            "42063\n",
            "42063\n"
          ]
        },
        {
          "output_type": "stream",
          "name": "stderr",
          "text": [
            " 85%|████████▌ | 7818/9172 [08:19<01:12, 18.58it/s]"
          ]
        },
        {
          "output_type": "stream",
          "name": "stdout",
          "text": [
            "42065\n",
            "42063\n",
            "42065\n",
            "42063\n",
            "42064\n",
            "42065\n"
          ]
        },
        {
          "output_type": "stream",
          "name": "stderr",
          "text": [
            " 85%|████████▌ | 7826/9172 [08:19<00:55, 24.05it/s]"
          ]
        },
        {
          "output_type": "stream",
          "name": "stdout",
          "text": [
            "42064\n",
            "42065\n",
            "42065\n",
            "42064\n",
            "42064\n",
            "42064\n",
            "42065\n",
            "42064\n"
          ]
        },
        {
          "output_type": "stream",
          "name": "stderr",
          "text": [
            "\r 85%|████████▌ | 7829/9172 [08:19<01:08, 19.60it/s]"
          ]
        },
        {
          "output_type": "stream",
          "name": "stdout",
          "text": [
            "42064\n",
            "42066\n",
            "42064\n",
            "42066\n"
          ]
        },
        {
          "output_type": "stream",
          "name": "stderr",
          "text": [
            " 85%|████████▌ | 7836/9172 [08:19<01:02, 21.36it/s]"
          ]
        },
        {
          "output_type": "stream",
          "name": "stdout",
          "text": [
            "42065\n",
            "42065\n",
            "42065\n",
            "42065\n",
            "42066\n",
            "42066\n",
            "42066\n"
          ]
        },
        {
          "output_type": "stream",
          "name": "stderr",
          "text": [
            " 85%|████████▌ | 7842/9172 [08:20<00:59, 22.48it/s]"
          ]
        },
        {
          "output_type": "stream",
          "name": "stdout",
          "text": [
            "42066\n",
            "42067 - HTTP 404\n",
            "42067 - HTTP 404\n",
            "42067\n",
            "42067 - HTTP 404\n",
            "42067\n"
          ]
        },
        {
          "output_type": "stream",
          "name": "stderr",
          "text": [
            "\r 86%|████████▌ | 7847/9172 [08:20<01:00, 21.83it/s]"
          ]
        },
        {
          "output_type": "stream",
          "name": "stdout",
          "text": [
            "42067\n",
            "42067\n",
            "42067\n",
            "42066\n",
            "42067\n",
            "42067\n",
            "42067\n"
          ]
        },
        {
          "output_type": "stream",
          "name": "stderr",
          "text": [
            "\r 86%|████████▌ | 7851/9172 [08:20<00:53, 24.55it/s]"
          ]
        },
        {
          "output_type": "stream",
          "name": "stdout",
          "text": [
            "42066\n",
            "42067\n",
            "42066\n"
          ]
        },
        {
          "output_type": "stream",
          "name": "stderr",
          "text": [
            " 86%|████████▌ | 7857/9172 [08:21<01:32, 14.29it/s]"
          ]
        },
        {
          "output_type": "stream",
          "name": "stdout",
          "text": [
            "42066\n",
            "42066\n",
            "42068\n",
            "42066\n",
            "42067\n",
            "42066\n"
          ]
        },
        {
          "output_type": "stream",
          "name": "stderr",
          "text": [
            " 86%|████████▌ | 7863/9172 [08:21<01:14, 17.53it/s]"
          ]
        },
        {
          "output_type": "stream",
          "name": "stdout",
          "text": [
            "42067\n",
            "42066\n",
            "42068\n",
            "42068\n",
            "42068\n"
          ]
        },
        {
          "output_type": "stream",
          "name": "stderr",
          "text": [
            " 86%|████████▌ | 7870/9172 [08:21<01:03, 20.49it/s]"
          ]
        },
        {
          "output_type": "stream",
          "name": "stdout",
          "text": [
            "42068\n",
            "42069 - HTTP 404\n",
            "42069 - HTTP 404\n",
            "42069 - HTTP 404\n",
            "42069 - HTTP 404\n",
            "42069 - HTTP 404\n"
          ]
        },
        {
          "output_type": "stream",
          "name": "stderr",
          "text": [
            "\r 86%|████████▌ | 7879/9172 [08:21<00:39, 32.96it/s]"
          ]
        },
        {
          "output_type": "stream",
          "name": "stdout",
          "text": [
            "42069 - HTTP 404\n",
            "42067\n",
            "42067\n",
            "42069\n",
            "42068\n",
            "42068\n",
            "42069 - HTTP 404\n",
            "42069 - HTTP 404\n",
            "42067\n",
            "42069 - HTTP 404\n",
            "42069 - HTTP 404\n",
            "42068\n",
            "42068\n"
          ]
        },
        {
          "output_type": "stream",
          "name": "stderr",
          "text": [
            " 86%|████████▌ | 7887/9172 [08:22<00:43, 29.22it/s]"
          ]
        },
        {
          "output_type": "stream",
          "name": "stdout",
          "text": [
            "42068\n",
            "42069\n",
            "42068\n",
            "42069\n",
            "42069\n",
            "42068\n"
          ]
        },
        {
          "output_type": "stream",
          "name": "stderr",
          "text": [
            " 86%|████████▌ | 7895/9172 [08:22<00:43, 29.61it/s]"
          ]
        },
        {
          "output_type": "stream",
          "name": "stdout",
          "text": [
            "42069\n",
            "42068\n",
            "42070\n",
            "42070\n",
            "42070\n",
            "42070\n",
            "42070\n",
            "42068\n"
          ]
        },
        {
          "output_type": "stream",
          "name": "stderr",
          "text": [
            "\r 86%|████████▌ | 7899/9172 [08:22<00:50, 25.03it/s]"
          ]
        },
        {
          "output_type": "stream",
          "name": "stdout",
          "text": [
            "42070\n",
            "42071\n"
          ]
        },
        {
          "output_type": "stream",
          "name": "stderr",
          "text": [
            "\r 86%|████████▌ | 7902/9172 [08:23<01:20, 15.79it/s]"
          ]
        },
        {
          "output_type": "stream",
          "name": "stdout",
          "text": [
            "42070\n",
            "42069\n",
            "42071\n"
          ]
        },
        {
          "output_type": "stream",
          "name": "stderr",
          "text": [
            "\r 86%|████████▌ | 7905/9172 [08:23<01:12, 17.48it/s]"
          ]
        },
        {
          "output_type": "stream",
          "name": "stdout",
          "text": [
            "42071\n",
            "42069\n",
            "42070\n",
            "42070\n",
            "42069\n",
            "42069\n",
            "42071\n"
          ]
        },
        {
          "output_type": "stream",
          "name": "stderr",
          "text": [
            "\r 86%|████████▌ | 7910/9172 [08:23<01:02, 20.32it/s]"
          ]
        },
        {
          "output_type": "stream",
          "name": "stdout",
          "text": [
            "42071\n",
            "42071\n"
          ]
        },
        {
          "output_type": "stream",
          "name": "stderr",
          "text": [
            " 86%|████████▋ | 7918/9172 [08:23<00:58, 21.33it/s]"
          ]
        },
        {
          "output_type": "stream",
          "name": "stdout",
          "text": [
            "42071\n",
            "42071\n",
            "42070\n",
            "42072\n",
            "42069\n",
            "42071\n",
            "42071\n",
            "42071\n",
            "42071\n",
            "42070\n"
          ]
        },
        {
          "output_type": "stream",
          "name": "stderr",
          "text": [
            " 86%|████████▋ | 7925/9172 [08:24<00:54, 22.69it/s]"
          ]
        },
        {
          "output_type": "stream",
          "name": "stdout",
          "text": [
            "42071\n",
            "42071\n",
            "42072\n",
            "42072\n"
          ]
        },
        {
          "output_type": "stream",
          "name": "stderr",
          "text": [
            "\r 86%|████████▋ | 7928/9172 [08:24<01:03, 19.62it/s]"
          ]
        },
        {
          "output_type": "stream",
          "name": "stdout",
          "text": [
            "42072\n",
            "42072\n",
            "42072\n"
          ]
        },
        {
          "output_type": "stream",
          "name": "stderr",
          "text": [
            "\r 86%|████████▋ | 7931/9172 [08:24<01:05, 18.84it/s]"
          ]
        },
        {
          "output_type": "stream",
          "name": "stdout",
          "text": [
            "42072\n",
            "42073\n",
            "42073\n"
          ]
        },
        {
          "output_type": "stream",
          "name": "stderr",
          "text": [
            " 87%|████████▋ | 7936/9172 [08:24<01:13, 16.91it/s]"
          ]
        },
        {
          "output_type": "stream",
          "name": "stdout",
          "text": [
            "42072\n",
            "42073\n",
            "42072\n",
            "42072\n",
            "42073\n"
          ]
        },
        {
          "output_type": "stream",
          "name": "stderr",
          "text": [
            "\r 87%|████████▋ | 7939/9172 [08:25<01:09, 17.86it/s]"
          ]
        },
        {
          "output_type": "stream",
          "name": "stdout",
          "text": [
            "42073\n",
            "42072\n",
            "42072\n",
            "42073\n",
            "42073\n",
            "42074\n"
          ]
        },
        {
          "output_type": "stream",
          "name": "stderr",
          "text": [
            "\r 87%|████████▋ | 7942/9172 [08:25<01:08, 17.88it/s]"
          ]
        },
        {
          "output_type": "stream",
          "name": "stdout",
          "text": [
            "42072\n",
            "42072\n"
          ]
        },
        {
          "output_type": "stream",
          "name": "stderr",
          "text": [
            " 87%|████████▋ | 7947/9172 [08:25<01:21, 15.09it/s]"
          ]
        },
        {
          "output_type": "stream",
          "name": "stdout",
          "text": [
            "42074\n",
            "42074\n",
            "42074\n",
            "42074\n",
            "42073\n",
            "42073\n",
            "42073\n"
          ]
        },
        {
          "output_type": "stream",
          "name": "stderr",
          "text": [
            "\r 87%|████████▋ | 7951/9172 [08:25<01:01, 19.78it/s]"
          ]
        },
        {
          "output_type": "stream",
          "name": "stdout",
          "text": [
            "42074\n",
            "42074\n",
            "42075\n"
          ]
        },
        {
          "output_type": "stream",
          "name": "stderr",
          "text": [
            " 87%|████████▋ | 7958/9172 [08:26<01:11, 17.03it/s]"
          ]
        },
        {
          "output_type": "stream",
          "name": "stdout",
          "text": [
            "42075\n",
            "42073\n",
            "42075\n",
            "42075\n",
            "42075\n",
            "42075\n"
          ]
        },
        {
          "output_type": "stream",
          "name": "stderr",
          "text": [
            " 87%|████████▋ | 7968/9172 [08:26<00:46, 25.65it/s]"
          ]
        },
        {
          "output_type": "stream",
          "name": "stdout",
          "text": [
            "42075\n",
            "42075\n",
            "42075\n",
            "42074\n",
            "42075\n",
            "42074\n",
            "42075\n",
            "42073\n",
            "42074\n"
          ]
        },
        {
          "output_type": "stream",
          "name": "stderr",
          "text": [
            " 87%|████████▋ | 7979/9172 [08:26<00:33, 36.02it/s]"
          ]
        },
        {
          "output_type": "stream",
          "name": "stdout",
          "text": [
            "42075\n",
            "42075\n",
            "42076 - HTTP 404\n",
            "42076 - HTTP 404\n",
            "42076 - HTTP 404\n",
            "42074\n",
            "42074\n",
            "42076 - HTTP 404\n",
            "42076 - HTTP 404\n",
            "42076 - HTTP 404\n",
            "42076 - HTTP 404\n",
            "42076 - HTTP 404\n",
            "42076 - HTTP 404\n",
            "42076 - HTTP 404\n",
            "42076 - HTTP 404\n"
          ]
        },
        {
          "output_type": "stream",
          "name": "stderr",
          "text": [
            "\r 87%|████████▋ | 7987/9172 [08:26<00:26, 44.06it/s]"
          ]
        },
        {
          "output_type": "stream",
          "name": "stdout",
          "text": [
            "42076 - HTTP 404\n",
            "42075\n",
            "42076\n",
            "42075\n",
            "42076\n"
          ]
        },
        {
          "output_type": "stream",
          "name": "stderr",
          "text": [
            " 87%|████████▋ | 7998/9172 [08:27<00:29, 40.31it/s]"
          ]
        },
        {
          "output_type": "stream",
          "name": "stdout",
          "text": [
            "42076\n",
            "42076\n",
            "42075\n",
            "42075\n",
            "42075\n",
            "42076\n",
            "42075\n",
            "42076\n",
            "42077\n",
            "42077\n",
            "42077\n",
            "42077\n",
            "42077\n"
          ]
        },
        {
          "output_type": "stream",
          "name": "stderr",
          "text": [
            " 87%|████████▋ | 8008/9172 [08:27<00:54, 21.35it/s]"
          ]
        },
        {
          "output_type": "stream",
          "name": "stdout",
          "text": [
            "42077\n",
            "42078\n",
            "42076\n",
            "42076\n",
            "42076\n",
            "42076\n"
          ]
        },
        {
          "output_type": "stream",
          "name": "stderr",
          "text": [
            "\r 87%|████████▋ | 8012/9172 [08:28<01:03, 18.41it/s]"
          ]
        },
        {
          "output_type": "stream",
          "name": "stdout",
          "text": [
            "42076\n",
            "42076\n",
            "42078\n",
            "42078\n",
            "42078\n",
            "42078\n"
          ]
        },
        {
          "output_type": "stream",
          "name": "stderr",
          "text": [
            "\r 87%|████████▋ | 8015/9172 [08:28<01:02, 18.63it/s]"
          ]
        },
        {
          "output_type": "stream",
          "name": "stdout",
          "text": [
            "42078\n",
            "42078\n"
          ]
        },
        {
          "output_type": "stream",
          "name": "stderr",
          "text": [
            "\r 87%|████████▋ | 8018/9172 [08:28<01:16, 15.03it/s]"
          ]
        },
        {
          "output_type": "stream",
          "name": "stdout",
          "text": [
            "42078\n",
            "42078\n",
            "42079\n",
            "42078\n",
            "42079\n"
          ]
        },
        {
          "output_type": "stream",
          "name": "stderr",
          "text": [
            " 87%|████████▋ | 8024/9172 [08:29<01:11, 16.06it/s]"
          ]
        },
        {
          "output_type": "stream",
          "name": "stdout",
          "text": [
            "42077\n",
            "42077\n",
            "42079\n",
            "42078\n",
            "42077\n"
          ]
        },
        {
          "output_type": "stream",
          "name": "stderr",
          "text": [
            "\r 88%|████████▊ | 8027/9172 [08:29<01:09, 16.59it/s]"
          ]
        },
        {
          "output_type": "stream",
          "name": "stdout",
          "text": [
            "42078\n",
            "42079\n",
            "42077\n",
            "42077\n",
            "42079\n",
            "42079\n"
          ]
        },
        {
          "output_type": "stream",
          "name": "stderr",
          "text": [
            " 88%|████████▊ | 8041/9172 [08:29<00:39, 28.56it/s]"
          ]
        },
        {
          "output_type": "stream",
          "name": "stdout",
          "text": [
            "42078\n",
            "42080\n",
            "42080\n",
            "42078\n",
            "42080\n",
            "42080\n",
            "42080\n",
            "42080\n",
            "42079\n",
            "42080\n"
          ]
        },
        {
          "output_type": "stream",
          "name": "stderr",
          "text": [
            "\r 88%|████████▊ | 8045/9172 [08:29<00:50, 22.42it/s]"
          ]
        },
        {
          "output_type": "stream",
          "name": "stdout",
          "text": [
            "42079\n",
            "42081\n",
            "42079\n",
            "42079\n"
          ]
        },
        {
          "output_type": "stream",
          "name": "stderr",
          "text": [
            "\r 88%|████████▊ | 8051/9172 [08:30<00:39, 28.29it/s]"
          ]
        },
        {
          "output_type": "stream",
          "name": "stdout",
          "text": [
            "42081\n",
            "42081\n",
            "42081\n",
            "42081\n",
            "42081\n",
            "42080\n",
            "42080\n",
            "42080\n"
          ]
        },
        {
          "output_type": "stream",
          "name": "stderr",
          "text": [
            "\r 88%|████████▊ | 8055/9172 [08:30<00:45, 24.72it/s]"
          ]
        },
        {
          "output_type": "stream",
          "name": "stdout",
          "text": [
            "42081\n",
            "42080\n",
            "42082\n",
            "42082\n",
            "42080\n"
          ]
        },
        {
          "output_type": "stream",
          "name": "stderr",
          "text": [
            " 88%|████████▊ | 8066/9172 [08:30<00:44, 25.03it/s]"
          ]
        },
        {
          "output_type": "stream",
          "name": "stdout",
          "text": [
            "42082\n",
            "42082\n",
            "42079\n",
            "42082\n",
            "42082\n",
            "42081\n",
            "42082\n"
          ]
        },
        {
          "output_type": "stream",
          "name": "stderr",
          "text": [
            "\r 88%|████████▊ | 8069/9172 [08:30<00:57, 19.26it/s]"
          ]
        },
        {
          "output_type": "stream",
          "name": "stdout",
          "text": [
            "42081\n",
            "42081\n",
            "42083\n",
            "42081\n",
            "42081\n"
          ]
        },
        {
          "output_type": "stream",
          "name": "stderr",
          "text": [
            " 88%|████████▊ | 8077/9172 [08:31<00:46, 23.66it/s]"
          ]
        },
        {
          "output_type": "stream",
          "name": "stdout",
          "text": [
            "42081\n",
            "42081\n",
            "42082\n",
            "42083\n",
            "42082\n",
            "42082\n",
            "42082\n",
            "42083\n",
            "42083\n"
          ]
        },
        {
          "output_type": "stream",
          "name": "stderr",
          "text": [
            " 88%|████████▊ | 8084/9172 [08:31<00:43, 24.94it/s]"
          ]
        },
        {
          "output_type": "stream",
          "name": "stdout",
          "text": [
            "42082\n",
            "42083\n",
            "42083\n",
            "42083\n",
            "42083\n",
            "42084\n"
          ]
        },
        {
          "output_type": "stream",
          "name": "stderr",
          "text": [
            " 88%|████████▊ | 8090/9172 [08:31<00:49, 21.66it/s]"
          ]
        },
        {
          "output_type": "stream",
          "name": "stdout",
          "text": [
            "42084\n",
            "42083\n",
            "42084\n",
            "42084\n"
          ]
        },
        {
          "output_type": "stream",
          "name": "stderr",
          "text": [
            "\r 88%|████████▊ | 8094/9172 [08:31<00:46, 23.24it/s]"
          ]
        },
        {
          "output_type": "stream",
          "name": "stdout",
          "text": [
            "42084\n",
            "42083\n",
            "42085\n",
            "42083\n",
            "42083\n",
            "42084\n",
            "42084\n"
          ]
        },
        {
          "output_type": "stream",
          "name": "stderr",
          "text": [
            " 88%|████████▊ | 8106/9172 [08:32<00:37, 28.57it/s]"
          ]
        },
        {
          "output_type": "stream",
          "name": "stdout",
          "text": [
            "42083\n",
            "42085\n",
            "42085\n",
            "42085\n",
            "42085\n",
            "42084\n",
            "42083\n",
            "42085\n",
            "42085\n"
          ]
        },
        {
          "output_type": "stream",
          "name": "stderr",
          "text": [
            "\r 88%|████████▊ | 8110/9172 [08:32<00:44, 23.62it/s]"
          ]
        },
        {
          "output_type": "stream",
          "name": "stdout",
          "text": [
            "42084\n",
            "42084\n",
            "42084\n",
            "42084\n",
            "42084\n",
            "42086\n"
          ]
        },
        {
          "output_type": "stream",
          "name": "stderr",
          "text": [
            " 89%|████████▊ | 8118/9172 [08:32<00:38, 27.60it/s]"
          ]
        },
        {
          "output_type": "stream",
          "name": "stdout",
          "text": [
            "42085\n",
            "42086\n",
            "42084\n",
            "42086\n",
            "42086\n",
            "42086\n",
            "42086\n"
          ]
        },
        {
          "output_type": "stream",
          "name": "stderr",
          "text": [
            "\r 89%|████████▊ | 8122/9172 [08:33<00:44, 23.52it/s]"
          ]
        },
        {
          "output_type": "stream",
          "name": "stdout",
          "text": [
            "42085\n",
            "42087\n",
            "42085\n",
            "42085\n",
            "42086\n",
            "42087\n"
          ]
        },
        {
          "output_type": "stream",
          "name": "stderr",
          "text": [
            " 89%|████████▊ | 8128/9172 [08:33<00:49, 21.19it/s]"
          ]
        },
        {
          "output_type": "stream",
          "name": "stdout",
          "text": [
            "42087\n",
            "42087\n",
            "42086\n",
            "42086\n",
            "42085\n",
            "42087\n",
            "42087\n",
            "42086\n",
            "42088\n",
            "42087\n"
          ]
        },
        {
          "output_type": "stream",
          "name": "stderr",
          "text": [
            " 89%|████████▊ | 8139/9172 [08:33<00:42, 24.52it/s]"
          ]
        },
        {
          "output_type": "stream",
          "name": "stdout",
          "text": [
            "42086\n",
            "42086\n",
            "42088\n",
            "42088\n",
            "42088\n",
            "42088\n",
            "42087\n",
            "42086\n"
          ]
        },
        {
          "output_type": "stream",
          "name": "stderr",
          "text": [
            "\r 89%|████████▉ | 8145/9172 [08:33<00:35, 28.87it/s]"
          ]
        },
        {
          "output_type": "stream",
          "name": "stdout",
          "text": [
            "42088\n",
            "42089\n",
            "42087\n"
          ]
        },
        {
          "output_type": "stream",
          "name": "stderr",
          "text": [
            " 89%|████████▉ | 8152/9172 [08:34<00:39, 25.75it/s]"
          ]
        },
        {
          "output_type": "stream",
          "name": "stdout",
          "text": [
            "42087\n",
            "42087\n",
            "42088\n",
            "42087\n",
            "42089\n",
            "42089\n"
          ]
        },
        {
          "output_type": "stream",
          "name": "stderr",
          "text": [
            " 89%|████████▉ | 8160/9172 [08:34<00:40, 25.09it/s]"
          ]
        },
        {
          "output_type": "stream",
          "name": "stdout",
          "text": [
            "42089\n",
            "42089\n",
            "42088\n",
            "42088\n",
            "42087\n",
            "42090\n",
            "42089\n",
            "42088\n"
          ]
        },
        {
          "output_type": "stream",
          "name": "stderr",
          "text": [
            "\r 89%|████████▉ | 8163/9172 [08:35<00:55, 18.23it/s]"
          ]
        },
        {
          "output_type": "stream",
          "name": "stdout",
          "text": [
            "42088\n",
            "42089\n",
            "42090\n"
          ]
        },
        {
          "output_type": "stream",
          "name": "stderr",
          "text": [
            "\r 89%|████████▉ | 8170/9172 [08:35<00:44, 22.52it/s]"
          ]
        },
        {
          "output_type": "stream",
          "name": "stdout",
          "text": [
            "42089\n",
            "42090\n",
            "42090\n",
            "42089\n",
            "42090\n",
            "42090\n",
            "42091\n"
          ]
        },
        {
          "output_type": "stream",
          "name": "stderr",
          "text": [
            "\r 89%|████████▉ | 8173/9172 [08:35<00:46, 21.37it/s]"
          ]
        },
        {
          "output_type": "stream",
          "name": "stdout",
          "text": [
            "42089\n",
            "42090\n",
            "42090\n",
            "42089\n",
            "42090\n",
            "42089\n",
            "42091\n",
            "42089\n"
          ]
        },
        {
          "output_type": "stream",
          "name": "stderr",
          "text": [
            " 89%|████████▉ | 8183/9172 [08:35<00:42, 23.00it/s]"
          ]
        },
        {
          "output_type": "stream",
          "name": "stdout",
          "text": [
            "42091\n",
            "42091\n",
            "42091\n",
            "42092\n",
            "42090\n",
            "42091\n",
            "42089\n"
          ]
        },
        {
          "output_type": "stream",
          "name": "stderr",
          "text": [
            " 89%|████████▉ | 8191/9172 [08:36<00:39, 24.75it/s]"
          ]
        },
        {
          "output_type": "stream",
          "name": "stdout",
          "text": [
            "42092\n",
            "42092\n",
            "42092\n",
            "42092\n",
            "42092\n",
            "42091\n",
            "42090\n",
            "42090\n"
          ]
        },
        {
          "output_type": "stream",
          "name": "stderr",
          "text": [
            " 89%|████████▉ | 8197/9172 [08:36<00:40, 23.93it/s]"
          ]
        },
        {
          "output_type": "stream",
          "name": "stdout",
          "text": [
            "42091\n",
            "42091\n",
            "42093\n",
            "42091\n",
            "42091\n",
            "42091\n",
            "42091\n",
            "42093\n"
          ]
        },
        {
          "output_type": "stream",
          "name": "stderr",
          "text": [
            " 89%|████████▉ | 8204/9172 [08:36<00:40, 24.04it/s]"
          ]
        },
        {
          "output_type": "stream",
          "name": "stdout",
          "text": [
            "42093\n",
            "42092\n",
            "42092\n",
            "42093\n",
            "42092\n",
            "42092\n",
            "42092\n",
            "42093\n"
          ]
        },
        {
          "output_type": "stream",
          "name": "stderr",
          "text": [
            "\r 90%|████████▉ | 8210/9172 [08:36<00:30, 31.49it/s]"
          ]
        },
        {
          "output_type": "stream",
          "name": "stdout",
          "text": [
            "42092\n",
            "42093\n",
            "42093\n",
            "42093\n"
          ]
        },
        {
          "output_type": "stream",
          "name": "stderr",
          "text": [
            " 90%|████████▉ | 8218/9172 [08:37<00:38, 24.98it/s]"
          ]
        },
        {
          "output_type": "stream",
          "name": "stdout",
          "text": [
            "42093\n",
            "42093\n",
            "42093\n",
            "42094\n",
            "42094\n",
            "42094\n",
            "42094\n"
          ]
        },
        {
          "output_type": "stream",
          "name": "stderr",
          "text": [
            " 90%|████████▉ | 8224/9172 [08:37<00:42, 22.52it/s]"
          ]
        },
        {
          "output_type": "stream",
          "name": "stdout",
          "text": [
            "42094\n",
            "42094\n",
            "42095\n",
            "42095\n",
            "42095\n",
            "42095\n"
          ]
        },
        {
          "output_type": "stream",
          "name": "stderr",
          "text": [
            "\r 90%|████████▉ | 8228/9172 [08:37<00:37, 25.14it/s]"
          ]
        },
        {
          "output_type": "stream",
          "name": "stdout",
          "text": [
            "42095\n",
            "42095\n",
            "42096\n"
          ]
        },
        {
          "output_type": "stream",
          "name": "stderr",
          "text": [
            "\r 90%|████████▉ | 8231/9172 [08:37<00:54, 17.15it/s]"
          ]
        },
        {
          "output_type": "stream",
          "name": "stdout",
          "text": [
            "42094\n",
            "42096\n"
          ]
        },
        {
          "output_type": "stream",
          "name": "stderr",
          "text": [
            " 90%|████████▉ | 8237/9172 [08:38<00:50, 18.57it/s]"
          ]
        },
        {
          "output_type": "stream",
          "name": "stdout",
          "text": [
            "42094\n",
            "42094\n",
            "42096\n",
            "42096\n",
            "42095\n",
            "42096\n",
            "42094\n"
          ]
        },
        {
          "output_type": "stream",
          "name": "stderr",
          "text": [
            " 90%|████████▉ | 8243/9172 [08:38<00:45, 20.56it/s]"
          ]
        },
        {
          "output_type": "stream",
          "name": "stdout",
          "text": [
            "42095\n",
            "42096\n",
            "42094\n",
            "42096\n",
            "42096\n",
            "42097\n",
            "42095\n",
            "42095\n"
          ]
        },
        {
          "output_type": "stream",
          "name": "stderr",
          "text": [
            " 90%|████████▉ | 8250/9172 [08:38<00:41, 22.30it/s]"
          ]
        },
        {
          "output_type": "stream",
          "name": "stdout",
          "text": [
            "42096\n",
            "42097\n",
            "42097\n",
            "42097\n"
          ]
        },
        {
          "output_type": "stream",
          "name": "stderr",
          "text": [
            " 90%|█████████ | 8258/9172 [08:38<00:31, 29.43it/s]"
          ]
        },
        {
          "output_type": "stream",
          "name": "stdout",
          "text": [
            "42097\n",
            "42096\n",
            "42096\n",
            "42097\n",
            "42095\n",
            "42098\n",
            "42097\n",
            "42095\n",
            "42094\n",
            "42097\n",
            "42096\n"
          ]
        },
        {
          "output_type": "stream",
          "name": "stderr",
          "text": [
            " 90%|█████████ | 8265/9172 [08:39<00:43, 20.70it/s]"
          ]
        },
        {
          "output_type": "stream",
          "name": "stdout",
          "text": [
            "42098\n",
            "42098\n",
            "42098\n",
            "42097\n",
            "42097\n",
            "42098\n",
            "42098\n",
            "42098\n"
          ]
        },
        {
          "output_type": "stream",
          "name": "stderr",
          "text": [
            "\r 90%|█████████ | 8270/9172 [08:39<00:37, 24.15it/s]"
          ]
        },
        {
          "output_type": "stream",
          "name": "stdout",
          "text": [
            "42098\n",
            "42099\n"
          ]
        },
        {
          "output_type": "stream",
          "name": "stderr",
          "text": [
            " 90%|█████████ | 8277/9172 [08:39<00:40, 22.19it/s]"
          ]
        },
        {
          "output_type": "stream",
          "name": "stdout",
          "text": [
            "42099\n",
            "42099\n",
            "42097\n",
            "42098\n",
            "42098\n",
            "42097\n",
            "42099\n",
            "42099\n",
            "42097\n",
            "42098\n",
            "42099\n"
          ]
        },
        {
          "output_type": "stream",
          "name": "stderr",
          "text": [
            "\r 90%|█████████ | 8283/9172 [08:40<00:31, 28.12it/s]"
          ]
        },
        {
          "output_type": "stream",
          "name": "stdout",
          "text": [
            "42098\n",
            "42098\n",
            "42099\n"
          ]
        },
        {
          "output_type": "stream",
          "name": "stderr",
          "text": [
            "\r 90%|█████████ | 8287/9172 [08:40<00:40, 21.96it/s]"
          ]
        },
        {
          "output_type": "stream",
          "name": "stdout",
          "text": [
            "42100 - HTTP 404\n",
            "42100 - HTTP 404\n",
            "42098\n",
            "42100\n",
            "42100\n"
          ]
        },
        {
          "output_type": "stream",
          "name": "stderr",
          "text": [
            " 90%|█████████ | 8296/9172 [08:40<00:39, 22.24it/s]"
          ]
        },
        {
          "output_type": "stream",
          "name": "stdout",
          "text": [
            "42100\n",
            "42100\n",
            "42100\n",
            "42100\n",
            "42100\n",
            "42099\n",
            "42101\n",
            "42099\n"
          ]
        },
        {
          "output_type": "stream",
          "name": "stderr",
          "text": [
            " 91%|█████████ | 8302/9172 [08:41<00:56, 15.39it/s]"
          ]
        },
        {
          "output_type": "stream",
          "name": "stdout",
          "text": [
            "42099\n",
            "42101\n",
            "42101\n",
            "42100\n",
            "42101\n",
            "42101\n",
            "42099\n"
          ]
        },
        {
          "output_type": "stream",
          "name": "stderr",
          "text": [
            " 91%|█████████ | 8310/9172 [08:41<00:40, 21.21it/s]"
          ]
        },
        {
          "output_type": "stream",
          "name": "stdout",
          "text": [
            "42099\n",
            "42100\n",
            "42100\n",
            "42100\n",
            "42100\n",
            "42100\n"
          ]
        },
        {
          "output_type": "stream",
          "name": "stderr",
          "text": [
            "\r 91%|█████████ | 8313/9172 [08:41<00:44, 19.10it/s]"
          ]
        },
        {
          "output_type": "stream",
          "name": "stdout",
          "text": [
            "42101\n",
            "42102\n",
            "42101\n"
          ]
        },
        {
          "output_type": "stream",
          "name": "stderr",
          "text": [
            " 91%|█████████ | 8319/9172 [08:42<00:46, 18.44it/s]"
          ]
        },
        {
          "output_type": "stream",
          "name": "stdout",
          "text": [
            "42102\n",
            "42102\n",
            "42102\n",
            "42101\n",
            "42102\n",
            "42101\n",
            "42101\n",
            "42102\n"
          ]
        },
        {
          "output_type": "stream",
          "name": "stderr",
          "text": [
            "\r 91%|█████████ | 8326/9172 [08:42<00:31, 26.94it/s]"
          ]
        },
        {
          "output_type": "stream",
          "name": "stdout",
          "text": [
            "42101\n",
            "42102\n",
            "42101\n",
            "42101\n"
          ]
        },
        {
          "output_type": "stream",
          "name": "stderr",
          "text": [
            "\r 91%|█████████ | 8329/9172 [08:42<00:50, 16.66it/s]"
          ]
        },
        {
          "output_type": "stream",
          "name": "stdout",
          "text": [
            "42101\n",
            "42103\n",
            "42103\n",
            "42103\n",
            "42103\n",
            "42103\n"
          ]
        },
        {
          "output_type": "stream",
          "name": "stderr",
          "text": [
            " 91%|█████████ | 8336/9172 [08:43<00:51, 16.20it/s]"
          ]
        },
        {
          "output_type": "stream",
          "name": "stdout",
          "text": [
            "42103\n",
            "42103\n",
            "42102\n",
            "42102\n",
            "42104\n",
            "42102\n",
            "42102\n",
            "42102\n",
            "42102\n"
          ]
        },
        {
          "output_type": "stream",
          "name": "stderr",
          "text": [
            " 91%|█████████ | 8345/9172 [08:43<00:53, 15.46it/s]"
          ]
        },
        {
          "output_type": "stream",
          "name": "stdout",
          "text": [
            "42104\n",
            "42104\n",
            "42103\n",
            "42104\n",
            "42104\n",
            "42104\n",
            "42105\n"
          ]
        },
        {
          "output_type": "stream",
          "name": "stderr",
          "text": [
            "\r 91%|█████████ | 8350/9172 [08:43<00:44, 18.51it/s]"
          ]
        },
        {
          "output_type": "stream",
          "name": "stdout",
          "text": [
            "42104\n",
            "42104\n",
            "42103\n"
          ]
        },
        {
          "output_type": "stream",
          "name": "stderr",
          "text": [
            "\r 91%|█████████ | 8353/9172 [08:44<00:43, 18.90it/s]"
          ]
        },
        {
          "output_type": "stream",
          "name": "stdout",
          "text": [
            "42103\n",
            "42103\n",
            "42104\n",
            "42103\n"
          ]
        },
        {
          "output_type": "stream",
          "name": "stderr",
          "text": [
            " 91%|█████████ | 8358/9172 [08:44<00:50, 16.20it/s]"
          ]
        },
        {
          "output_type": "stream",
          "name": "stdout",
          "text": [
            "42105\n",
            "42105\n",
            "42104\n",
            "42105\n",
            "42105\n"
          ]
        },
        {
          "output_type": "stream",
          "name": "stderr",
          "text": [
            " 91%|█████████ | 8363/9172 [08:44<00:46, 17.42it/s]"
          ]
        },
        {
          "output_type": "stream",
          "name": "stdout",
          "text": [
            "42104\n",
            "42103\n",
            "42105\n"
          ]
        },
        {
          "output_type": "stream",
          "name": "stderr",
          "text": [
            " 91%|█████████ | 8369/9172 [08:44<00:38, 20.83it/s]"
          ]
        },
        {
          "output_type": "stream",
          "name": "stdout",
          "text": [
            "42105\n",
            "42104\n",
            "42104\n",
            "42104\n",
            "42106\n",
            "42106\n",
            "42105\n"
          ]
        },
        {
          "output_type": "stream",
          "name": "stderr",
          "text": [
            " 91%|█████████▏| 8380/9172 [08:45<00:27, 28.85it/s]"
          ]
        },
        {
          "output_type": "stream",
          "name": "stdout",
          "text": [
            "42106\n",
            "42106\n",
            "42105\n",
            "42105\n",
            "42105\n",
            "42106\n",
            "42105\n",
            "42105\n",
            "42106\n",
            "42107\n",
            "42106\n",
            "42107\n"
          ]
        },
        {
          "output_type": "stream",
          "name": "stderr",
          "text": [
            " 91%|█████████▏| 8388/9172 [08:45<00:29, 26.48it/s]"
          ]
        },
        {
          "output_type": "stream",
          "name": "stdout",
          "text": [
            "42107\n",
            "42107\n",
            "42107\n",
            "42107\n",
            "42106\n",
            "42107\n",
            "42106\n"
          ]
        },
        {
          "output_type": "stream",
          "name": "stderr",
          "text": [
            " 92%|█████████▏| 8394/9172 [08:46<00:35, 21.88it/s]"
          ]
        },
        {
          "output_type": "stream",
          "name": "stdout",
          "text": [
            "42106\n",
            "42108\n",
            "42106\n",
            "42108\n",
            "42108\n",
            "42108\n"
          ]
        },
        {
          "output_type": "stream",
          "name": "stderr",
          "text": [
            " 92%|█████████▏| 8400/9172 [08:46<00:32, 23.66it/s]"
          ]
        },
        {
          "output_type": "stream",
          "name": "stdout",
          "text": [
            "42108\n",
            "42108\n",
            "42106\n",
            "42107\n",
            "42108\n"
          ]
        },
        {
          "output_type": "stream",
          "name": "stderr",
          "text": [
            "\r 92%|█████████▏| 8403/9172 [08:46<00:44, 17.36it/s]"
          ]
        },
        {
          "output_type": "stream",
          "name": "stdout",
          "text": [
            "42109\n",
            "42107\n",
            "42107\n",
            "42109\n"
          ]
        },
        {
          "output_type": "stream",
          "name": "stderr",
          "text": [
            "\r 92%|█████████▏| 8406/9172 [08:46<00:44, 17.30it/s]"
          ]
        },
        {
          "output_type": "stream",
          "name": "stdout",
          "text": [
            "42109\n",
            "42107\n"
          ]
        },
        {
          "output_type": "stream",
          "name": "stderr",
          "text": [
            " 92%|█████████▏| 8413/9172 [08:47<00:40, 18.74it/s]"
          ]
        },
        {
          "output_type": "stream",
          "name": "stdout",
          "text": [
            "42109\n",
            "42108\n",
            "42109\n",
            "42107\n",
            "42109\n",
            "42108\n",
            "42109\n"
          ]
        },
        {
          "output_type": "stream",
          "name": "stderr",
          "text": [
            "\r 92%|█████████▏| 8416/9172 [08:47<00:44, 17.12it/s]"
          ]
        },
        {
          "output_type": "stream",
          "name": "stdout",
          "text": [
            "42108\n",
            "42110\n",
            "42109\n",
            "42109\n"
          ]
        },
        {
          "output_type": "stream",
          "name": "stderr",
          "text": [
            " 92%|█████████▏| 8421/9172 [08:47<00:48, 15.36it/s]"
          ]
        },
        {
          "output_type": "stream",
          "name": "stdout",
          "text": [
            "42110\n",
            "42110\n",
            "42108\n",
            "42109\n"
          ]
        },
        {
          "output_type": "stream",
          "name": "stderr",
          "text": [
            " 92%|█████████▏| 8430/9172 [08:48<00:31, 23.22it/s]"
          ]
        },
        {
          "output_type": "stream",
          "name": "stdout",
          "text": [
            "42108\n",
            "42109\n",
            "42109\n",
            "42110\n",
            "42110\n",
            "42108\n",
            "42109\n",
            "42110\n",
            "42110\n"
          ]
        },
        {
          "output_type": "stream",
          "name": "stderr",
          "text": [
            "\r 92%|█████████▏| 8433/9172 [08:48<00:44, 16.62it/s]"
          ]
        },
        {
          "output_type": "stream",
          "name": "stdout",
          "text": [
            "42109\n",
            "42110\n",
            "42110\n",
            "42111\n",
            "42111\n"
          ]
        },
        {
          "output_type": "stream",
          "name": "stderr",
          "text": [
            " 92%|█████████▏| 8439/9172 [08:48<00:37, 19.33it/s]"
          ]
        },
        {
          "output_type": "stream",
          "name": "stdout",
          "text": [
            "42111\n",
            "42111\n",
            "42111\n",
            "42110\n",
            "42111\n"
          ]
        },
        {
          "output_type": "stream",
          "name": "stderr",
          "text": [
            "\r 92%|█████████▏| 8442/9172 [08:48<00:49, 14.74it/s]"
          ]
        },
        {
          "output_type": "stream",
          "name": "stdout",
          "text": [
            "42110\n",
            "42111\n",
            "42112\n"
          ]
        },
        {
          "output_type": "stream",
          "name": "stderr",
          "text": [
            " 92%|█████████▏| 8447/9172 [08:49<00:56, 12.93it/s]"
          ]
        },
        {
          "output_type": "stream",
          "name": "stdout",
          "text": [
            "42112\n",
            "42110\n",
            "42112\n",
            "42112\n"
          ]
        },
        {
          "output_type": "stream",
          "name": "stderr",
          "text": [
            "\r 92%|█████████▏| 8449/9172 [08:49<01:03, 11.33it/s]"
          ]
        },
        {
          "output_type": "stream",
          "name": "stdout",
          "text": [
            "42112\n",
            "42111\n",
            "42111\n"
          ]
        },
        {
          "output_type": "stream",
          "name": "stderr",
          "text": [
            "\r 92%|█████████▏| 8452/9172 [08:49<01:00, 11.92it/s]"
          ]
        },
        {
          "output_type": "stream",
          "name": "stdout",
          "text": [
            "42110\n",
            "42113\n",
            "42112\n",
            "42111\n"
          ]
        },
        {
          "output_type": "stream",
          "name": "stderr",
          "text": [
            " 92%|█████████▏| 8456/9172 [08:50<00:53, 13.32it/s]"
          ]
        },
        {
          "output_type": "stream",
          "name": "stdout",
          "text": [
            "42111\n",
            "42111\n",
            "42112\n",
            "42112\n",
            "42112\n"
          ]
        },
        {
          "output_type": "stream",
          "name": "stderr",
          "text": [
            " 92%|█████████▏| 8462/9172 [08:50<00:48, 14.67it/s]"
          ]
        },
        {
          "output_type": "stream",
          "name": "stdout",
          "text": [
            "42111\n",
            "42113\n",
            "42113\n",
            "42111\n",
            "42112\n",
            "42111\n"
          ]
        },
        {
          "output_type": "stream",
          "name": "stderr",
          "text": [
            " 92%|█████████▏| 8472/9172 [08:50<00:29, 23.47it/s]"
          ]
        },
        {
          "output_type": "stream",
          "name": "stdout",
          "text": [
            "42113\n",
            "42113\n",
            "42113\n",
            "42112\n",
            "42113\n",
            "42114\n",
            "42112\n"
          ]
        },
        {
          "output_type": "stream",
          "name": "stderr",
          "text": [
            "\r 92%|█████████▏| 8475/9172 [08:51<00:36, 18.90it/s]"
          ]
        },
        {
          "output_type": "stream",
          "name": "stdout",
          "text": [
            "42112\n",
            "42114\n",
            "42113\n",
            "42114\n",
            "42114\n"
          ]
        },
        {
          "output_type": "stream",
          "name": "stderr",
          "text": [
            " 92%|█████████▏| 8482/9172 [08:51<00:28, 23.89it/s]"
          ]
        },
        {
          "output_type": "stream",
          "name": "stdout",
          "text": [
            "42113\n",
            "42114\n",
            "42113\n",
            "42114\n",
            "42115\n",
            "42114\n",
            "42113\n",
            "42113\n"
          ]
        },
        {
          "output_type": "stream",
          "name": "stderr",
          "text": [
            " 93%|█████████▎| 8489/9172 [08:51<00:32, 21.13it/s]"
          ]
        },
        {
          "output_type": "stream",
          "name": "stdout",
          "text": [
            "42113\n",
            "42115\n",
            "42115\n",
            "42115\n",
            "42115\n"
          ]
        },
        {
          "output_type": "stream",
          "name": "stderr",
          "text": [
            " 93%|█████████▎| 8495/9172 [08:51<00:30, 21.91it/s]"
          ]
        },
        {
          "output_type": "stream",
          "name": "stdout",
          "text": [
            "42115\n",
            "42114\n",
            "42115\n",
            "42114\n",
            "42116\n"
          ]
        },
        {
          "output_type": "stream",
          "name": "stderr",
          "text": [
            " 93%|█████████▎| 8501/9172 [08:52<00:35, 18.87it/s]"
          ]
        },
        {
          "output_type": "stream",
          "name": "stdout",
          "text": [
            "42116\n",
            "42116\n",
            "42116\n",
            "42116\n",
            "42114\n",
            "42114\n",
            "42114\n",
            "42116\n"
          ]
        },
        {
          "output_type": "stream",
          "name": "stderr",
          "text": [
            " 93%|█████████▎| 8509/9172 [08:52<00:36, 18.28it/s]"
          ]
        },
        {
          "output_type": "stream",
          "name": "stdout",
          "text": [
            "42115\n",
            "42115\n",
            "42117\n",
            "42115\n",
            "42116\n",
            "42116\n",
            "42117\n"
          ]
        },
        {
          "output_type": "stream",
          "name": "stderr",
          "text": [
            " 93%|█████████▎| 8515/9172 [08:53<00:33, 19.84it/s]"
          ]
        },
        {
          "output_type": "stream",
          "name": "stdout",
          "text": [
            "42115\n",
            "42115\n",
            "42115\n",
            "42117\n",
            "42116\n"
          ]
        },
        {
          "output_type": "stream",
          "name": "stderr",
          "text": [
            "\r 93%|█████████▎| 8518/9172 [08:53<00:36, 17.73it/s]"
          ]
        },
        {
          "output_type": "stream",
          "name": "stdout",
          "text": [
            "42117\n",
            "42117\n",
            "42116\n",
            "42117\n",
            "42118\n",
            "42116\n",
            "42116\n"
          ]
        },
        {
          "output_type": "stream",
          "name": "stderr",
          "text": [
            "\r 93%|█████████▎| 8523/9172 [08:53<00:31, 20.59it/s]"
          ]
        },
        {
          "output_type": "stream",
          "name": "stdout",
          "text": [
            "42117\n",
            "42118\n",
            "42118\n"
          ]
        },
        {
          "output_type": "stream",
          "name": "stderr",
          "text": [
            " 93%|█████████▎| 8531/9172 [08:53<00:29, 21.54it/s]"
          ]
        },
        {
          "output_type": "stream",
          "name": "stdout",
          "text": [
            "42117\n",
            "42118\n",
            "42118\n",
            "42117\n",
            "42118\n",
            "42117\n",
            "42119\n"
          ]
        },
        {
          "output_type": "stream",
          "name": "stderr",
          "text": [
            "\r 93%|█████████▎| 8534/9172 [08:54<00:37, 17.06it/s]"
          ]
        },
        {
          "output_type": "stream",
          "name": "stdout",
          "text": [
            "42117\n",
            "42118\n",
            "42119\n",
            "42118\n",
            "42117\n",
            "42119\n",
            "42119\n"
          ]
        },
        {
          "output_type": "stream",
          "name": "stderr",
          "text": [
            " 93%|█████████▎| 8545/9172 [08:54<00:30, 20.35it/s]"
          ]
        },
        {
          "output_type": "stream",
          "name": "stdout",
          "text": [
            "42119\n",
            "42118\n",
            "42119\n",
            "42118\n",
            "42118\n",
            "42120\n"
          ]
        },
        {
          "output_type": "stream",
          "name": "stderr",
          "text": [
            "\r 93%|█████████▎| 8548/9172 [08:54<00:28, 21.88it/s]"
          ]
        },
        {
          "output_type": "stream",
          "name": "stdout",
          "text": [
            "42119\n",
            "42118\n",
            "42119\n",
            "42120\n",
            "42120\n"
          ]
        },
        {
          "output_type": "stream",
          "name": "stderr",
          "text": [
            " 93%|█████████▎| 8555/9172 [08:55<00:29, 20.92it/s]"
          ]
        },
        {
          "output_type": "stream",
          "name": "stdout",
          "text": [
            "42119\n",
            "42120\n",
            "42118\n",
            "42119\n",
            "42120\n",
            "42119\n",
            "42120\n"
          ]
        },
        {
          "output_type": "stream",
          "name": "stderr",
          "text": [
            "\r 93%|█████████▎| 8559/9172 [08:55<00:30, 20.30it/s]"
          ]
        },
        {
          "output_type": "stream",
          "name": "stdout",
          "text": [
            "42120\n",
            "42119\n"
          ]
        },
        {
          "output_type": "stream",
          "name": "stderr",
          "text": [
            "\r 93%|█████████▎| 8562/9172 [08:55<00:31, 19.53it/s]"
          ]
        },
        {
          "output_type": "stream",
          "name": "stdout",
          "text": [
            "42121\n",
            "42120\n",
            "42120\n",
            "42121\n",
            "42121\n",
            "42121\n"
          ]
        },
        {
          "output_type": "stream",
          "name": "stderr",
          "text": [
            " 93%|█████████▎| 8569/9172 [08:55<00:33, 17.89it/s]"
          ]
        },
        {
          "output_type": "stream",
          "name": "stdout",
          "text": [
            "42121\n",
            "97539\n",
            "42121\n",
            "42120\n",
            "42121\n"
          ]
        },
        {
          "output_type": "stream",
          "name": "stderr",
          "text": [
            "\r 93%|█████████▎| 8574/9172 [08:56<00:24, 24.54it/s]"
          ]
        },
        {
          "output_type": "stream",
          "name": "stdout",
          "text": [
            "42119\n",
            "42121\n",
            "42121\n",
            "42120\n",
            "97539\n"
          ]
        },
        {
          "output_type": "stream",
          "name": "stderr",
          "text": [
            " 94%|█████████▎| 8584/9172 [08:56<00:22, 26.39it/s]"
          ]
        },
        {
          "output_type": "stream",
          "name": "stdout",
          "text": [
            "97539\n",
            "42121\n",
            "97539\n",
            "97539\n",
            "97539\n",
            "97539\n",
            "42120\n",
            "42120\n",
            "42121\n"
          ]
        },
        {
          "output_type": "stream",
          "name": "stderr",
          "text": [
            "\r 94%|█████████▎| 8588/9172 [08:56<00:23, 24.83it/s]"
          ]
        },
        {
          "output_type": "stream",
          "name": "stdout",
          "text": [
            "97540\n",
            "42121\n",
            "97539\n",
            "97539\n"
          ]
        },
        {
          "output_type": "stream",
          "name": "stderr",
          "text": [
            " 94%|█████████▎| 8597/9172 [08:56<00:21, 26.99it/s]"
          ]
        },
        {
          "output_type": "stream",
          "name": "stdout",
          "text": [
            "97539\n",
            "42121\n",
            "97540\n",
            "97540\n",
            "97540\n",
            "97540\n",
            "97540\n",
            "97539\n",
            "97539\n",
            "97540\n",
            "97539\n"
          ]
        },
        {
          "output_type": "stream",
          "name": "stderr",
          "text": [
            "\r 94%|█████████▍| 8601/9172 [08:57<00:25, 22.15it/s]"
          ]
        },
        {
          "output_type": "stream",
          "name": "stdout",
          "text": [
            "97540\n",
            "97540\n",
            "97540\n"
          ]
        },
        {
          "output_type": "stream",
          "name": "stderr",
          "text": [
            " 94%|█████████▍| 8607/9172 [08:57<00:29, 19.03it/s]"
          ]
        },
        {
          "output_type": "stream",
          "name": "stdout",
          "text": [
            "97540\n",
            "97540\n",
            "97541\n",
            "97540\n",
            "97541\n",
            "97541\n"
          ]
        },
        {
          "output_type": "stream",
          "name": "stderr",
          "text": [
            " 94%|█████████▍| 8615/9172 [08:57<00:24, 22.58it/s]"
          ]
        },
        {
          "output_type": "stream",
          "name": "stdout",
          "text": [
            "97541\n",
            "97541\n",
            "97540\n",
            "97540\n",
            "97541\n",
            "97541\n",
            "97540\n"
          ]
        },
        {
          "output_type": "stream",
          "name": "stderr",
          "text": [
            "\r 94%|█████████▍| 8618/9172 [08:58<00:32, 16.93it/s]"
          ]
        },
        {
          "output_type": "stream",
          "name": "stdout",
          "text": [
            "97542\n",
            "97542\n",
            "97542\n"
          ]
        },
        {
          "output_type": "stream",
          "name": "stderr",
          "text": [
            " 94%|█████████▍| 8624/9172 [08:58<00:31, 17.19it/s]"
          ]
        },
        {
          "output_type": "stream",
          "name": "stdout",
          "text": [
            "97542\n",
            "97542\n",
            "97542\n",
            "97543\n",
            "97541\n",
            "97541\n",
            "97541\n"
          ]
        },
        {
          "output_type": "stream",
          "name": "stderr",
          "text": [
            " 94%|█████████▍| 8628/9172 [08:58<00:34, 15.71it/s]"
          ]
        },
        {
          "output_type": "stream",
          "name": "stdout",
          "text": [
            "97541\n",
            "97542\n",
            "97541\n",
            "97542\n",
            "97543\n"
          ]
        },
        {
          "output_type": "stream",
          "name": "stderr",
          "text": [
            " 94%|█████████▍| 8636/9172 [08:59<00:21, 24.78it/s]"
          ]
        },
        {
          "output_type": "stream",
          "name": "stdout",
          "text": [
            "97542\n",
            "97543\n",
            "97542\n",
            "97543\n",
            "97541\n",
            "97542\n",
            "97543\n",
            "97542\n"
          ]
        },
        {
          "output_type": "stream",
          "name": "stderr",
          "text": [
            "\r 94%|█████████▍| 8639/9172 [08:59<00:23, 23.05it/s]"
          ]
        },
        {
          "output_type": "stream",
          "name": "stdout",
          "text": [
            "97543\n",
            "97543\n",
            "97543\n"
          ]
        },
        {
          "output_type": "stream",
          "name": "stderr",
          "text": [
            " 94%|█████████▍| 8650/9172 [08:59<00:20, 25.45it/s]"
          ]
        },
        {
          "output_type": "stream",
          "name": "stdout",
          "text": [
            "97544\n",
            "97543\n",
            "97543\n",
            "97544\n",
            "97541\n",
            "97544\n",
            "97544\n",
            "97543\n",
            "97543\n"
          ]
        },
        {
          "output_type": "stream",
          "name": "stderr",
          "text": [
            "\r 94%|█████████▍| 8653/9172 [08:59<00:23, 21.72it/s]"
          ]
        },
        {
          "output_type": "stream",
          "name": "stdout",
          "text": [
            "97544\n",
            "97544\n",
            "97545\n"
          ]
        },
        {
          "output_type": "stream",
          "name": "stderr",
          "text": [
            "\r 94%|█████████▍| 8656/9172 [09:00<00:30, 17.03it/s]"
          ]
        },
        {
          "output_type": "stream",
          "name": "stdout",
          "text": [
            "97545\n",
            "97545\n",
            "97545\n",
            "97545\n",
            "97545\n"
          ]
        },
        {
          "output_type": "stream",
          "name": "stderr",
          "text": [
            " 94%|█████████▍| 8661/9172 [09:00<00:33, 15.35it/s]"
          ]
        },
        {
          "output_type": "stream",
          "name": "stdout",
          "text": [
            "97546\n",
            "97544\n",
            "97544\n",
            "97544\n"
          ]
        },
        {
          "output_type": "stream",
          "name": "stderr",
          "text": [
            "\r 94%|█████████▍| 8665/9172 [09:00<00:32, 15.67it/s]"
          ]
        },
        {
          "output_type": "stream",
          "name": "stdout",
          "text": [
            "97544\n",
            "97546\n",
            "97545\n"
          ]
        },
        {
          "output_type": "stream",
          "name": "stderr",
          "text": [
            " 95%|█████████▍| 8669/9172 [09:01<00:32, 15.71it/s]"
          ]
        },
        {
          "output_type": "stream",
          "name": "stdout",
          "text": [
            "97545\n",
            "97544\n",
            "97546\n",
            "97546\n"
          ]
        },
        {
          "output_type": "stream",
          "name": "stderr",
          "text": [
            " 95%|█████████▍| 8680/9172 [09:01<00:16, 29.56it/s]"
          ]
        },
        {
          "output_type": "stream",
          "name": "stdout",
          "text": [
            "97544\n",
            "97545\n",
            "97546\n",
            "97547\n",
            "97545\n",
            "97547\n",
            "97546\n",
            "97545\n",
            "97545\n",
            "97546\n",
            "97546\n"
          ]
        },
        {
          "output_type": "stream",
          "name": "stderr",
          "text": [
            "\r 95%|█████████▍| 8684/9172 [09:01<00:17, 27.90it/s]"
          ]
        },
        {
          "output_type": "stream",
          "name": "stdout",
          "text": [
            "97546\n",
            "97547\n",
            "97546\n",
            "97546\n",
            "97547\n",
            "97546\n",
            "97547\n"
          ]
        },
        {
          "output_type": "stream",
          "name": "stderr",
          "text": [
            " 95%|█████████▍| 8695/9172 [09:01<00:13, 34.66it/s]"
          ]
        },
        {
          "output_type": "stream",
          "name": "stdout",
          "text": [
            "97547\n",
            "97547\n",
            "97548\n",
            "97547\n",
            "97548\n",
            "97548\n",
            "97548\n",
            "97547\n",
            "97547\n"
          ]
        },
        {
          "output_type": "stream",
          "name": "stderr",
          "text": [
            "\r 95%|█████████▍| 8699/9172 [09:01<00:17, 26.90it/s]"
          ]
        },
        {
          "output_type": "stream",
          "name": "stdout",
          "text": [
            "97548\n",
            "97548\n",
            "97547\n",
            "97548\n",
            "97547\n",
            "97548\n",
            "97547\n"
          ]
        },
        {
          "output_type": "stream",
          "name": "stderr",
          "text": [
            " 95%|█████████▍| 8708/9172 [09:02<00:15, 29.02it/s]"
          ]
        },
        {
          "output_type": "stream",
          "name": "stdout",
          "text": [
            "97548\n",
            "97547\n",
            "97548\n",
            "97549\n",
            "97549\n"
          ]
        },
        {
          "output_type": "stream",
          "name": "stderr",
          "text": [
            " 95%|█████████▌| 8715/9172 [09:02<00:18, 24.88it/s]"
          ]
        },
        {
          "output_type": "stream",
          "name": "stdout",
          "text": [
            "97549\n",
            "97549\n",
            "97549\n",
            "97549\n",
            "97549\n",
            "97550\n",
            "97548\n",
            "97549\n"
          ]
        },
        {
          "output_type": "stream",
          "name": "stderr",
          "text": [
            " 95%|█████████▌| 8721/9172 [09:02<00:19, 23.51it/s]"
          ]
        },
        {
          "output_type": "stream",
          "name": "stdout",
          "text": [
            "97550\n",
            "97549\n",
            "97548\n",
            "97550\n",
            "97550\n",
            "97550\n"
          ]
        },
        {
          "output_type": "stream",
          "name": "stderr",
          "text": [
            "\r 95%|█████████▌| 8727/9172 [09:02<00:14, 30.33it/s]"
          ]
        },
        {
          "output_type": "stream",
          "name": "stdout",
          "text": [
            "97550\n",
            "97551\n",
            "97548\n",
            "97551\n",
            "97549\n",
            "97548\n",
            "97550\n",
            "97549\n",
            "97551\n"
          ]
        },
        {
          "output_type": "stream",
          "name": "stderr",
          "text": [
            " 95%|█████████▌| 8736/9172 [09:03<00:13, 32.47it/s]"
          ]
        },
        {
          "output_type": "stream",
          "name": "stdout",
          "text": [
            "97550\n",
            "97549\n",
            "97550\n",
            "97551\n",
            "97551\n",
            "97551\n",
            "97551\n",
            "97552\n",
            "97551\n"
          ]
        },
        {
          "output_type": "stream",
          "name": "stderr",
          "text": [
            " 95%|█████████▌| 8751/9172 [09:03<00:12, 34.64it/s]"
          ]
        },
        {
          "output_type": "stream",
          "name": "stdout",
          "text": [
            "97551\n",
            "97551\n",
            "97552\n",
            "97552\n",
            "97551\n",
            "97552\n",
            "97550\n",
            "97552\n",
            "97552\n",
            "97554\n",
            "97552\n",
            "97554\n",
            "97554\n",
            "97551\n",
            "97551\n"
          ]
        },
        {
          "output_type": "stream",
          "name": "stderr",
          "text": [
            " 96%|█████████▌| 8763/9172 [09:03<00:09, 42.24it/s]"
          ]
        },
        {
          "output_type": "stream",
          "name": "stdout",
          "text": [
            "97554\n",
            "97554\n",
            "97554\n",
            "97554\n",
            "97555\n",
            "97552\n",
            "97552\n",
            "97552\n"
          ]
        },
        {
          "output_type": "stream",
          "name": "stderr",
          "text": [
            "\r 96%|█████████▌| 8768/9172 [09:04<00:10, 38.18it/s]"
          ]
        },
        {
          "output_type": "stream",
          "name": "stdout",
          "text": [
            "97555\n",
            "97552\n",
            "97554\n",
            "97554\n",
            "97555\n",
            "97554\n",
            "97556\n",
            "97555\n",
            "97555\n",
            "97555\n"
          ]
        },
        {
          "output_type": "stream",
          "name": "stderr",
          "text": [
            " 96%|█████████▌| 8777/9172 [09:04<00:11, 34.97it/s]"
          ]
        },
        {
          "output_type": "stream",
          "name": "stdout",
          "text": [
            "97555\n",
            "97554\n",
            "97554\n",
            "97555\n",
            "97556\n"
          ]
        },
        {
          "output_type": "stream",
          "name": "stderr",
          "text": [
            "\r 96%|█████████▌| 8781/9172 [09:04<00:13, 29.47it/s]"
          ]
        },
        {
          "output_type": "stream",
          "name": "stdout",
          "text": [
            "97556\n",
            "97556\n",
            "97556\n",
            "97556\n",
            "97556\n"
          ]
        },
        {
          "output_type": "stream",
          "name": "stderr",
          "text": [
            " 96%|█████████▌| 8789/9172 [09:04<00:13, 27.44it/s]"
          ]
        },
        {
          "output_type": "stream",
          "name": "stdout",
          "text": [
            "97557\n",
            "97555\n",
            "97555\n",
            "97556\n",
            "97555\n",
            "97556\n",
            "97557\n"
          ]
        },
        {
          "output_type": "stream",
          "name": "stderr",
          "text": [
            " 96%|█████████▌| 8798/9172 [09:05<00:10, 34.01it/s]"
          ]
        },
        {
          "output_type": "stream",
          "name": "stdout",
          "text": [
            "97555\n",
            "97556\n",
            "97557\n",
            "97557\n",
            "97556\n",
            "97557\n",
            "97557\n",
            "97556\n",
            "97558\n",
            "97556\n",
            "97555\n"
          ]
        },
        {
          "output_type": "stream",
          "name": "stderr",
          "text": [
            " 96%|█████████▌| 8806/9172 [09:05<00:12, 30.38it/s]"
          ]
        },
        {
          "output_type": "stream",
          "name": "stdout",
          "text": [
            "97557\n",
            "97557\n",
            "97557\n",
            "97557\n",
            "97557\n",
            "97557\n",
            "97558\n",
            "97558\n",
            "97558\n",
            "97558\n"
          ]
        },
        {
          "output_type": "stream",
          "name": "stderr",
          "text": [
            "\r 96%|█████████▌| 8812/9172 [09:05<00:10, 33.35it/s]"
          ]
        },
        {
          "output_type": "stream",
          "name": "stdout",
          "text": [
            "97558\n",
            "97559\n",
            "97558\n",
            "97559\n"
          ]
        },
        {
          "output_type": "stream",
          "name": "stderr",
          "text": [
            " 96%|█████████▌| 8820/9172 [09:05<00:13, 26.84it/s]"
          ]
        },
        {
          "output_type": "stream",
          "name": "stdout",
          "text": [
            "97559\n",
            "97559\n",
            "97559\n",
            "97559\n",
            "97561\n"
          ]
        },
        {
          "output_type": "stream",
          "name": "stderr",
          "text": [
            "\r 96%|█████████▌| 8823/9172 [09:06<00:15, 22.39it/s]"
          ]
        },
        {
          "output_type": "stream",
          "name": "stdout",
          "text": [
            "97558\n",
            "97561\n",
            "97561\n",
            "97559\n",
            "97559\n"
          ]
        },
        {
          "output_type": "stream",
          "name": "stderr",
          "text": [
            " 96%|█████████▋| 8833/9172 [09:06<00:10, 32.50it/s]"
          ]
        },
        {
          "output_type": "stream",
          "name": "stdout",
          "text": [
            "97559\n",
            "97559\n",
            "97558\n",
            "97559\n",
            "97558\n",
            "97558\n",
            "97561\n",
            "97558\n",
            "97561\n",
            "97561\n"
          ]
        },
        {
          "output_type": "stream",
          "name": "stderr",
          "text": [
            "\r 96%|█████████▋| 8837/9172 [09:06<00:14, 22.61it/s]"
          ]
        },
        {
          "output_type": "stream",
          "name": "stdout",
          "text": [
            "97558\n",
            "116103\n"
          ]
        },
        {
          "output_type": "stream",
          "name": "stderr",
          "text": [
            "\r 96%|█████████▋| 8841/9172 [09:07<00:18, 18.19it/s]"
          ]
        },
        {
          "output_type": "stream",
          "name": "stdout",
          "text": [
            "97561\n",
            "97561\n",
            "97561\n",
            "116104\n",
            "97561\n"
          ]
        },
        {
          "output_type": "stream",
          "name": "stderr",
          "text": [
            "\r 96%|█████████▋| 8844/9172 [09:07<00:18, 17.47it/s]"
          ]
        },
        {
          "output_type": "stream",
          "name": "stdout",
          "text": [
            "97561\n",
            "116103\n",
            "116103\n"
          ]
        },
        {
          "output_type": "stream",
          "name": "stderr",
          "text": [
            " 96%|█████████▋| 8850/9172 [09:07<00:21, 14.73it/s]"
          ]
        },
        {
          "output_type": "stream",
          "name": "stdout",
          "text": [
            "116103\n",
            "116103\n",
            "116103\n",
            "116103\n",
            "116103\n"
          ]
        },
        {
          "output_type": "stream",
          "name": "stderr",
          "text": [
            " 97%|█████████▋| 8859/9172 [09:07<00:13, 23.17it/s]"
          ]
        },
        {
          "output_type": "stream",
          "name": "stdout",
          "text": [
            "116103\n",
            "116104\n",
            "116103\n",
            "116104\n",
            "116104\n",
            "116103\n",
            "116103\n",
            "116103\n",
            "116104\n",
            "116105\n"
          ]
        },
        {
          "output_type": "stream",
          "name": "stderr",
          "text": [
            "\r 97%|█████████▋| 8863/9172 [09:08<00:13, 22.43it/s]"
          ]
        },
        {
          "output_type": "stream",
          "name": "stdout",
          "text": [
            "116104\n",
            "116104\n",
            "116106\n"
          ]
        },
        {
          "output_type": "stream",
          "name": "stderr",
          "text": [
            "\r 97%|█████████▋| 8866/9172 [09:08<00:14, 20.64it/s]"
          ]
        },
        {
          "output_type": "stream",
          "name": "stdout",
          "text": [
            "116104\n",
            "116104\n",
            "116104\n",
            "116104\n",
            "116104\n"
          ]
        },
        {
          "output_type": "stream",
          "name": "stderr",
          "text": [
            " 97%|█████████▋| 8873/9172 [09:08<00:15, 19.89it/s]"
          ]
        },
        {
          "output_type": "stream",
          "name": "stdout",
          "text": [
            "116104\n",
            "116104\n",
            "116105\n",
            "116105\n",
            "116105\n"
          ]
        },
        {
          "output_type": "stream",
          "name": "stderr",
          "text": [
            "\r 97%|█████████▋| 8876/9172 [09:09<00:18, 15.61it/s]"
          ]
        },
        {
          "output_type": "stream",
          "name": "stdout",
          "text": [
            "116105\n",
            "116106\n",
            "116106\n",
            "116106\n",
            "116106\n"
          ]
        },
        {
          "output_type": "stream",
          "name": "stderr",
          "text": [
            " 97%|█████████▋| 8882/9172 [09:09<00:16, 17.64it/s]"
          ]
        },
        {
          "output_type": "stream",
          "name": "stdout",
          "text": [
            "116106\n",
            "116106\n",
            "116106\n",
            "116106\n",
            "116106\n",
            "116106\n",
            "116106\n",
            "116106\n"
          ]
        },
        {
          "output_type": "stream",
          "name": "stderr",
          "text": [
            " 97%|█████████▋| 8891/9172 [09:09<00:11, 25.40it/s]"
          ]
        },
        {
          "output_type": "stream",
          "name": "stdout",
          "text": [
            "116106\n",
            "116106\n",
            "116107\n",
            "116106\n",
            "116106\n"
          ]
        },
        {
          "output_type": "stream",
          "name": "stderr",
          "text": [
            "\r 97%|█████████▋| 8894/9172 [09:10<00:17, 15.61it/s]"
          ]
        },
        {
          "output_type": "stream",
          "name": "stdout",
          "text": [
            "118441\n",
            "116106\n",
            "116106\n",
            "116106\n"
          ]
        },
        {
          "output_type": "stream",
          "name": "stderr",
          "text": [
            "\r 97%|█████████▋| 8897/9172 [09:10<00:21, 12.92it/s]"
          ]
        },
        {
          "output_type": "stream",
          "name": "stdout",
          "text": [
            "116106\n",
            "116106\n",
            "116106\n"
          ]
        },
        {
          "output_type": "stream",
          "name": "stderr",
          "text": [
            " 97%|█████████▋| 8902/9172 [09:10<00:19, 14.06it/s]"
          ]
        },
        {
          "output_type": "stream",
          "name": "stdout",
          "text": [
            "116107\n",
            "116107\n",
            "118441\n",
            "116107\n",
            "118442\n"
          ]
        },
        {
          "output_type": "stream",
          "name": "stderr",
          "text": [
            " 97%|█████████▋| 8907/9172 [09:11<00:16, 15.91it/s]"
          ]
        },
        {
          "output_type": "stream",
          "name": "stdout",
          "text": [
            "118441\n",
            "118441\n",
            "116107\n",
            "116107\n",
            "116107\n",
            "118441\n",
            "116107\n",
            "116107\n",
            "116107\n"
          ]
        },
        {
          "output_type": "stream",
          "name": "stderr",
          "text": [
            " 97%|█████████▋| 8915/9172 [09:11<00:15, 17.05it/s]"
          ]
        },
        {
          "output_type": "stream",
          "name": "stdout",
          "text": [
            "118441\n",
            "116107\n",
            "116107\n",
            "116107\n",
            "118442\n",
            "118443\n"
          ]
        },
        {
          "output_type": "stream",
          "name": "stderr",
          "text": [
            "\r 97%|█████████▋| 8919/9172 [09:11<00:15, 16.79it/s]"
          ]
        },
        {
          "output_type": "stream",
          "name": "stdout",
          "text": [
            "118442\n",
            "118442\n",
            "118441\n",
            "118442\n"
          ]
        },
        {
          "output_type": "stream",
          "name": "stderr",
          "text": [
            "\r 97%|█████████▋| 8923/9172 [09:12<00:19, 13.08it/s]"
          ]
        },
        {
          "output_type": "stream",
          "name": "stdout",
          "text": [
            "118442\n"
          ]
        },
        {
          "output_type": "stream",
          "name": "stderr",
          "text": [
            "\r 97%|█████████▋| 8925/9172 [09:12<00:27,  8.92it/s]"
          ]
        },
        {
          "output_type": "stream",
          "name": "stdout",
          "text": [
            "118443\n",
            "118444\n",
            "118443\n"
          ]
        },
        {
          "output_type": "stream",
          "name": "stderr",
          "text": [
            "\r 97%|█████████▋| 8927/9172 [09:13<00:48,  5.06it/s]"
          ]
        },
        {
          "output_type": "stream",
          "name": "stdout",
          "text": [
            "118445\n",
            "118443\n",
            "118444\n"
          ]
        },
        {
          "output_type": "stream",
          "name": "stderr",
          "text": [
            "\r 97%|█████████▋| 8930/9172 [09:14<00:46,  5.20it/s]"
          ]
        },
        {
          "output_type": "stream",
          "name": "stdout",
          "text": [
            "118443\n",
            "118444\n",
            "118444\n"
          ]
        },
        {
          "output_type": "stream",
          "name": "stderr",
          "text": [
            " 97%|█████████▋| 8934/9172 [09:14<00:37,  6.41it/s]"
          ]
        },
        {
          "output_type": "stream",
          "name": "stdout",
          "text": [
            "118444\n",
            "118444\n",
            "118446\n"
          ]
        },
        {
          "output_type": "stream",
          "name": "stderr",
          "text": [
            "\r 97%|█████████▋| 8936/9172 [09:15<00:40,  5.79it/s]"
          ]
        },
        {
          "output_type": "stream",
          "name": "stdout",
          "text": [
            "118445\n",
            "118445\n",
            "118445\n",
            "118445\n"
          ]
        },
        {
          "output_type": "stream",
          "name": "stderr",
          "text": [
            "\r 97%|█████████▋| 8940/9172 [09:15<00:36,  6.38it/s]"
          ]
        },
        {
          "output_type": "stream",
          "name": "stdout",
          "text": [
            "118447\n"
          ]
        },
        {
          "output_type": "stream",
          "name": "stderr",
          "text": [
            " 98%|█████████▊| 8944/9172 [09:16<00:37,  6.13it/s]"
          ]
        },
        {
          "output_type": "stream",
          "name": "stdout",
          "text": [
            "118446\n",
            "118446\n",
            "118446\n",
            "118446\n"
          ]
        },
        {
          "output_type": "stream",
          "name": "stderr",
          "text": [
            "\r 98%|█████████▊| 8945/9172 [09:16<00:38,  5.84it/s]"
          ]
        },
        {
          "output_type": "stream",
          "name": "stdout",
          "text": [
            "118445\n",
            "118446\n"
          ]
        },
        {
          "output_type": "stream",
          "name": "stderr",
          "text": [
            "\r 98%|█████████▊| 8947/9172 [09:17<00:43,  5.13it/s]"
          ]
        },
        {
          "output_type": "stream",
          "name": "stdout",
          "text": [
            "118447\n",
            "118446\n"
          ]
        },
        {
          "output_type": "stream",
          "name": "stderr",
          "text": [
            " 98%|█████████▊| 8949/9172 [09:17<00:40,  5.48it/s]"
          ]
        },
        {
          "output_type": "stream",
          "name": "stdout",
          "text": [
            "118447\n"
          ]
        },
        {
          "output_type": "stream",
          "name": "stderr",
          "text": [
            " 98%|█████████▊| 8952/9172 [09:18<00:40,  5.42it/s]"
          ]
        },
        {
          "output_type": "stream",
          "name": "stdout",
          "text": [
            "118447\n",
            "118447\n",
            "118447\n"
          ]
        },
        {
          "output_type": "stream",
          "name": "stderr",
          "text": [
            "\r 98%|█████████▊| 8953/9172 [09:18<00:37,  5.78it/s]"
          ]
        },
        {
          "output_type": "stream",
          "name": "stdout",
          "text": [
            "118447\n"
          ]
        },
        {
          "output_type": "stream",
          "name": "stderr",
          "text": [
            "\r 98%|█████████▊| 8954/9172 [09:18<00:45,  4.78it/s]"
          ]
        },
        {
          "output_type": "stream",
          "name": "stdout",
          "text": [
            "118448\n",
            "118447\n",
            "118447\n"
          ]
        },
        {
          "output_type": "stream",
          "name": "stderr",
          "text": [
            "\r 98%|█████████▊| 8957/9172 [09:18<00:31,  6.90it/s]"
          ]
        },
        {
          "output_type": "stream",
          "name": "stdout",
          "text": [
            "118447\n"
          ]
        },
        {
          "output_type": "stream",
          "name": "stderr",
          "text": [
            " 98%|█████████▊| 8959/9172 [09:19<00:43,  4.93it/s]"
          ]
        },
        {
          "output_type": "stream",
          "name": "stdout",
          "text": [
            "118447\n",
            "118447\n"
          ]
        },
        {
          "output_type": "stream",
          "name": "stderr",
          "text": [
            " 98%|█████████▊| 8962/9172 [09:19<00:32,  6.55it/s]"
          ]
        },
        {
          "output_type": "stream",
          "name": "stdout",
          "text": [
            "118447\n",
            "118448\n",
            "118448\n"
          ]
        },
        {
          "output_type": "stream",
          "name": "stderr",
          "text": [
            "\r 98%|█████████▊| 8963/9172 [09:20<00:41,  5.06it/s]"
          ]
        },
        {
          "output_type": "stream",
          "name": "stdout",
          "text": [
            "118448\n"
          ]
        },
        {
          "output_type": "stream",
          "name": "stderr",
          "text": [
            " 98%|█████████▊| 8966/9172 [09:20<00:36,  5.64it/s]"
          ]
        },
        {
          "output_type": "stream",
          "name": "stdout",
          "text": [
            "118448\n",
            "118448\n",
            "118448\n"
          ]
        },
        {
          "output_type": "stream",
          "name": "stderr",
          "text": [
            " 98%|█████████▊| 8971/9172 [09:21<00:22,  8.84it/s]"
          ]
        },
        {
          "output_type": "stream",
          "name": "stdout",
          "text": [
            "118448\n",
            "118442\n",
            "118449\n",
            "118442\n",
            "118448\n",
            "118448\n"
          ]
        },
        {
          "output_type": "stream",
          "name": "stderr",
          "text": [
            " 98%|█████████▊| 8975/9172 [09:21<00:21,  9.11it/s]"
          ]
        },
        {
          "output_type": "stream",
          "name": "stdout",
          "text": [
            "118444\n",
            "118448\n",
            "118448\n",
            "118442\n"
          ]
        },
        {
          "output_type": "stream",
          "name": "stderr",
          "text": [
            "\r 98%|█████████▊| 8977/9172 [09:21<00:20,  9.34it/s]"
          ]
        },
        {
          "output_type": "stream",
          "name": "stdout",
          "text": [
            "118449\n",
            "118448\n"
          ]
        },
        {
          "output_type": "stream",
          "name": "stderr",
          "text": [
            "\r 98%|█████████▊| 8979/9172 [09:22<00:24,  7.92it/s]"
          ]
        },
        {
          "output_type": "stream",
          "name": "stdout",
          "text": [
            "118442\n",
            "118444\n",
            "118449\n"
          ]
        },
        {
          "output_type": "stream",
          "name": "stderr",
          "text": [
            " 98%|█████████▊| 8995/9172 [09:22<00:08, 20.63it/s]"
          ]
        },
        {
          "output_type": "stream",
          "name": "stdout",
          "text": [
            "118449\n",
            "118449\n",
            "118444\n",
            "118442\n",
            "118449\n",
            "118449\n",
            "118444\n",
            "118444\n",
            "118444\n",
            "118449\n",
            "118449\n",
            "118449\n",
            "118449\n",
            "118450\n",
            "118449\n",
            "118449\n",
            "118451\n"
          ]
        },
        {
          "output_type": "stream",
          "name": "stderr",
          "text": [
            "\r 98%|█████████▊| 8999/9172 [09:23<00:15, 10.85it/s]"
          ]
        },
        {
          "output_type": "stream",
          "name": "stdout",
          "text": [
            "118450\n",
            "118450\n"
          ]
        },
        {
          "output_type": "stream",
          "name": "stderr",
          "text": [
            " 98%|█████████▊| 9005/9172 [09:24<00:14, 11.87it/s]"
          ]
        },
        {
          "output_type": "stream",
          "name": "stdout",
          "text": [
            "118450\n",
            "118450\n",
            "118450\n",
            "118450\n",
            "118450\n",
            "118450\n",
            "118451\n",
            "118450\n",
            "118450\n",
            "118451\n"
          ]
        },
        {
          "output_type": "stream",
          "name": "stderr",
          "text": [
            " 98%|█████████▊| 9015/9172 [09:24<00:08, 18.23it/s]"
          ]
        },
        {
          "output_type": "stream",
          "name": "stdout",
          "text": [
            "118450\n",
            "118451\n",
            "118451\n",
            "118450\n",
            "118451\n",
            "118451\n",
            "118451\n",
            "118452\n"
          ]
        },
        {
          "output_type": "stream",
          "name": "stderr",
          "text": [
            "\r 98%|█████████▊| 9019/9172 [09:25<00:10, 13.95it/s]"
          ]
        },
        {
          "output_type": "stream",
          "name": "stdout",
          "text": [
            "118453\n",
            "118451\n",
            "118452\n",
            "118451\n"
          ]
        },
        {
          "output_type": "stream",
          "name": "stderr",
          "text": [
            " 98%|█████████▊| 9024/9172 [09:25<00:11, 12.61it/s]"
          ]
        },
        {
          "output_type": "stream",
          "name": "stdout",
          "text": [
            "118452\n",
            "118451\n"
          ]
        },
        {
          "output_type": "stream",
          "name": "stderr",
          "text": [
            "\r 98%|█████████▊| 9026/9172 [09:25<00:13, 10.53it/s]"
          ]
        },
        {
          "output_type": "stream",
          "name": "stdout",
          "text": [
            "118451\n",
            "118452\n",
            "118453\n"
          ]
        },
        {
          "output_type": "stream",
          "name": "stderr",
          "text": [
            "\r 98%|█████████▊| 9028/9172 [09:26<00:13, 10.45it/s]"
          ]
        },
        {
          "output_type": "stream",
          "name": "stdout",
          "text": [
            "118451\n",
            "118452\n",
            "118452\n"
          ]
        },
        {
          "output_type": "stream",
          "name": "stderr",
          "text": [
            "\r 98%|█████████▊| 9031/9172 [09:26<00:13, 10.47it/s]"
          ]
        },
        {
          "output_type": "stream",
          "name": "stdout",
          "text": [
            "118452\n",
            "118453\n",
            "118454\n"
          ]
        },
        {
          "output_type": "stream",
          "name": "stderr",
          "text": [
            "\r 98%|█████████▊| 9033/9172 [09:26<00:17,  7.82it/s]"
          ]
        },
        {
          "output_type": "stream",
          "name": "stdout",
          "text": [
            "118453\n",
            "118453\n"
          ]
        },
        {
          "output_type": "stream",
          "name": "stderr",
          "text": [
            " 99%|█████████▊| 9037/9172 [09:27<00:20,  6.55it/s]"
          ]
        },
        {
          "output_type": "stream",
          "name": "stdout",
          "text": [
            "118453\n",
            "118453\n"
          ]
        },
        {
          "output_type": "stream",
          "name": "stderr",
          "text": [
            "\r 99%|█████████▊| 9038/9172 [09:27<00:24,  5.49it/s]"
          ]
        },
        {
          "output_type": "stream",
          "name": "stdout",
          "text": [
            "118454\n"
          ]
        },
        {
          "output_type": "stream",
          "name": "stderr",
          "text": [
            "\r 99%|█████████▊| 9039/9172 [09:28<00:28,  4.63it/s]"
          ]
        },
        {
          "output_type": "stream",
          "name": "stdout",
          "text": [
            "118454\n",
            "118454\n",
            "118454\n"
          ]
        },
        {
          "output_type": "stream",
          "name": "stderr",
          "text": [
            " 99%|█████████▊| 9043/9172 [09:28<00:21,  5.87it/s]"
          ]
        },
        {
          "output_type": "stream",
          "name": "stdout",
          "text": [
            "118454\n",
            "118454\n"
          ]
        },
        {
          "output_type": "stream",
          "name": "stderr",
          "text": [
            "\r 99%|█████████▊| 9044/9172 [09:29<00:27,  4.70it/s]"
          ]
        },
        {
          "output_type": "stream",
          "name": "stdout",
          "text": [
            "118455\n"
          ]
        },
        {
          "output_type": "stream",
          "name": "stderr",
          "text": [
            "\r 99%|█████████▊| 9045/9172 [09:29<00:43,  2.92it/s]"
          ]
        },
        {
          "output_type": "stream",
          "name": "stdout",
          "text": [
            "118455\n"
          ]
        },
        {
          "output_type": "stream",
          "name": "stderr",
          "text": [
            "\r 99%|█████████▊| 9046/9172 [09:30<00:42,  2.96it/s]"
          ]
        },
        {
          "output_type": "stream",
          "name": "stdout",
          "text": [
            "118455\n"
          ]
        },
        {
          "output_type": "stream",
          "name": "stderr",
          "text": [
            "\r 99%|█████████▊| 9047/9172 [09:30<00:51,  2.44it/s]"
          ]
        },
        {
          "output_type": "stream",
          "name": "stdout",
          "text": [
            "118455\n"
          ]
        },
        {
          "output_type": "stream",
          "name": "stderr",
          "text": [
            "\r 99%|█████████▊| 9048/9172 [09:31<01:01,  2.01it/s]"
          ]
        },
        {
          "output_type": "stream",
          "name": "stdout",
          "text": [
            "118455\n"
          ]
        },
        {
          "output_type": "stream",
          "name": "stderr",
          "text": [
            "\r 99%|█████████▊| 9049/9172 [09:31<00:51,  2.38it/s]"
          ]
        },
        {
          "output_type": "stream",
          "name": "stdout",
          "text": [
            "118455\n",
            "118456\n"
          ]
        },
        {
          "output_type": "stream",
          "name": "stderr",
          "text": [
            " 99%|█████████▊| 9052/9172 [09:33<00:48,  2.46it/s]"
          ]
        },
        {
          "output_type": "stream",
          "name": "stdout",
          "text": [
            "118456\n",
            "118456\n"
          ]
        },
        {
          "output_type": "stream",
          "name": "stderr",
          "text": [
            " 99%|█████████▊| 9055/9172 [09:34<00:39,  2.96it/s]"
          ]
        },
        {
          "output_type": "stream",
          "name": "stdout",
          "text": [
            "118452\n",
            "118456\n",
            "118456\n"
          ]
        },
        {
          "output_type": "stream",
          "name": "stderr",
          "text": [
            "\r 99%|█████████▊| 9056/9172 [09:34<00:36,  3.20it/s]"
          ]
        },
        {
          "output_type": "stream",
          "name": "stdout",
          "text": [
            "118453\n"
          ]
        },
        {
          "output_type": "stream",
          "name": "stderr",
          "text": [
            "\r 99%|█████████▊| 9057/9172 [09:34<00:35,  3.27it/s]"
          ]
        },
        {
          "output_type": "stream",
          "name": "stdout",
          "text": [
            "118452\n",
            "118454\n",
            "118454\n"
          ]
        },
        {
          "output_type": "stream",
          "name": "stderr",
          "text": [
            "\r 99%|█████████▉| 9059/9172 [09:34<00:26,  4.28it/s]"
          ]
        },
        {
          "output_type": "stream",
          "name": "stdout",
          "text": [
            "118454\n"
          ]
        },
        {
          "output_type": "stream",
          "name": "stderr",
          "text": [
            " 99%|█████████▉| 9062/9172 [09:35<00:26,  4.18it/s]"
          ]
        },
        {
          "output_type": "stream",
          "name": "stdout",
          "text": [
            "118453\n",
            "118456\n",
            "118456\n",
            "118452\n",
            "118452\n",
            "118452\n",
            "118454\n",
            "118454\n",
            "118452\n",
            "118453\n",
            "118453\n",
            "118453\n",
            "118454\n"
          ]
        },
        {
          "output_type": "stream",
          "name": "stderr",
          "text": [
            "\r 99%|█████████▉| 9074/9172 [09:35<00:06, 16.02it/s]"
          ]
        },
        {
          "output_type": "stream",
          "name": "stdout",
          "text": [
            "118453\n",
            "118457\n",
            "118457\n"
          ]
        },
        {
          "output_type": "stream",
          "name": "stderr",
          "text": [
            "\r 99%|█████████▉| 9077/9172 [09:36<00:07, 12.27it/s]"
          ]
        },
        {
          "output_type": "stream",
          "name": "stdout",
          "text": [
            "118457\n",
            "118458\n"
          ]
        },
        {
          "output_type": "stream",
          "name": "stderr",
          "text": [
            "\r 99%|█████████▉| 9080/9172 [09:36<00:08, 10.73it/s]"
          ]
        },
        {
          "output_type": "stream",
          "name": "stdout",
          "text": [
            "118457\n",
            "118457\n",
            "118457\n"
          ]
        },
        {
          "output_type": "stream",
          "name": "stderr",
          "text": [
            "\r 99%|█████████▉| 9082/9172 [09:37<00:10,  8.89it/s]"
          ]
        },
        {
          "output_type": "stream",
          "name": "stdout",
          "text": [
            "118458\n"
          ]
        },
        {
          "output_type": "stream",
          "name": "stderr",
          "text": [
            "\r 99%|█████████▉| 9084/9172 [09:37<00:12,  7.02it/s]"
          ]
        },
        {
          "output_type": "stream",
          "name": "stdout",
          "text": [
            "118458\n",
            "118458\n",
            "118458\n"
          ]
        },
        {
          "output_type": "stream",
          "name": "stderr",
          "text": [
            " 99%|█████████▉| 9087/9172 [09:37<00:11,  7.22it/s]"
          ]
        },
        {
          "output_type": "stream",
          "name": "stdout",
          "text": [
            "118458\n",
            "118458\n"
          ]
        },
        {
          "output_type": "stream",
          "name": "stderr",
          "text": [
            "\r 99%|█████████▉| 9088/9172 [09:38<00:13,  6.14it/s]"
          ]
        },
        {
          "output_type": "stream",
          "name": "stdout",
          "text": [
            "118458\n"
          ]
        },
        {
          "output_type": "stream",
          "name": "stderr",
          "text": [
            "\r 99%|█████████▉| 9089/9172 [09:39<00:25,  3.31it/s]"
          ]
        },
        {
          "output_type": "stream",
          "name": "stdout",
          "text": [
            "118459\n"
          ]
        },
        {
          "output_type": "stream",
          "name": "stderr",
          "text": [
            "\r 99%|█████████▉| 9090/9172 [09:39<00:34,  2.36it/s]"
          ]
        },
        {
          "output_type": "stream",
          "name": "stdout",
          "text": [
            "118456\n",
            "118456\n"
          ]
        },
        {
          "output_type": "stream",
          "name": "stderr",
          "text": [
            "\r 99%|█████████▉| 9092/9172 [09:40<00:26,  2.99it/s]"
          ]
        },
        {
          "output_type": "stream",
          "name": "stdout",
          "text": [
            "118459\n"
          ]
        },
        {
          "output_type": "stream",
          "name": "stderr",
          "text": [
            "\r 99%|█████████▉| 9093/9172 [09:40<00:27,  2.83it/s]"
          ]
        },
        {
          "output_type": "stream",
          "name": "stdout",
          "text": [
            "118459\n"
          ]
        },
        {
          "output_type": "stream",
          "name": "stderr",
          "text": [
            "\r 99%|█████████▉| 9094/9172 [09:41<00:27,  2.85it/s]"
          ]
        },
        {
          "output_type": "stream",
          "name": "stdout",
          "text": [
            "118456\n"
          ]
        },
        {
          "output_type": "stream",
          "name": "stderr",
          "text": [
            " 99%|█████████▉| 9096/9172 [09:41<00:20,  3.64it/s]"
          ]
        },
        {
          "output_type": "stream",
          "name": "stdout",
          "text": [
            "118459\n",
            "118456\n"
          ]
        },
        {
          "output_type": "stream",
          "name": "stderr",
          "text": [
            "\r 99%|█████████▉| 9097/9172 [09:41<00:18,  4.04it/s]"
          ]
        },
        {
          "output_type": "stream",
          "name": "stdout",
          "text": [
            "118459\n"
          ]
        },
        {
          "output_type": "stream",
          "name": "stderr",
          "text": [
            "\r 99%|█████████▉| 9098/9172 [09:42<00:22,  3.35it/s]"
          ]
        },
        {
          "output_type": "stream",
          "name": "stdout",
          "text": [
            "118459\n",
            "118459\n"
          ]
        },
        {
          "output_type": "stream",
          "name": "stderr",
          "text": [
            " 99%|█████████▉| 9100/9172 [09:42<00:18,  3.79it/s]"
          ]
        },
        {
          "output_type": "stream",
          "name": "stdout",
          "text": [
            "118456\n"
          ]
        },
        {
          "output_type": "stream",
          "name": "stderr",
          "text": [
            "\r 99%|█████████▉| 9101/9172 [09:43<00:26,  2.64it/s]"
          ]
        },
        {
          "output_type": "stream",
          "name": "stdout",
          "text": [
            "118460\n"
          ]
        },
        {
          "output_type": "stream",
          "name": "stderr",
          "text": [
            "\r 99%|█████████▉| 9102/9172 [09:44<00:44,  1.58it/s]"
          ]
        },
        {
          "output_type": "stream",
          "name": "stdout",
          "text": [
            "118460\n",
            "118456\n"
          ]
        },
        {
          "output_type": "stream",
          "name": "stderr",
          "text": [
            "\r 99%|█████████▉| 9104/9172 [09:45<00:45,  1.49it/s]"
          ]
        },
        {
          "output_type": "stream",
          "name": "stdout",
          "text": [
            "118460\n"
          ]
        },
        {
          "output_type": "stream",
          "name": "stderr",
          "text": [
            " 99%|█████████▉| 9106/9172 [09:46<00:30,  2.19it/s]"
          ]
        },
        {
          "output_type": "stream",
          "name": "stdout",
          "text": [
            "118460\n",
            "118458\n"
          ]
        },
        {
          "output_type": "stream",
          "name": "stderr",
          "text": [
            " 99%|█████████▉| 9108/9172 [09:47<00:30,  2.12it/s]"
          ]
        },
        {
          "output_type": "stream",
          "name": "stdout",
          "text": [
            "118460\n",
            "118458\n"
          ]
        },
        {
          "output_type": "stream",
          "name": "stderr",
          "text": [
            "\r 99%|█████████▉| 9109/9172 [09:47<00:24,  2.56it/s]"
          ]
        },
        {
          "output_type": "stream",
          "name": "stdout",
          "text": [
            "118460\n"
          ]
        },
        {
          "output_type": "stream",
          "name": "stderr",
          "text": [
            " 99%|█████████▉| 9111/9172 [09:48<00:29,  2.10it/s]"
          ]
        },
        {
          "output_type": "stream",
          "name": "stdout",
          "text": [
            "118457\n",
            "118460\n"
          ]
        },
        {
          "output_type": "stream",
          "name": "stderr",
          "text": [
            "\r 99%|█████████▉| 9112/9172 [09:49<00:23,  2.51it/s]"
          ]
        },
        {
          "output_type": "stream",
          "name": "stdout",
          "text": [
            "118459\n"
          ]
        },
        {
          "output_type": "stream",
          "name": "stderr",
          "text": [
            " 99%|█████████▉| 9124/9172 [09:49<00:04, 11.57it/s]"
          ]
        },
        {
          "output_type": "stream",
          "name": "stdout",
          "text": [
            "118458\n",
            "118457\n",
            "118457\n",
            "118457\n",
            "118459\n",
            "118457\n",
            "118457\n",
            "118458\n",
            "118459\n",
            "118458\n",
            "118459\n",
            "118459\n",
            "118459\n",
            "118458\n"
          ]
        },
        {
          "output_type": "stream",
          "name": "stderr",
          "text": [
            "\r100%|█████████▉| 9128/9172 [09:50<00:03, 11.31it/s]"
          ]
        },
        {
          "output_type": "stream",
          "name": "stdout",
          "text": [
            "118462\n",
            "118461\n",
            "118461\n",
            "118461\n"
          ]
        },
        {
          "output_type": "stream",
          "name": "stderr",
          "text": [
            "100%|█████████▉| 9133/9172 [09:50<00:04,  8.70it/s]"
          ]
        },
        {
          "output_type": "stream",
          "name": "stdout",
          "text": [
            "118461\n",
            "118462\n",
            "118461\n"
          ]
        },
        {
          "output_type": "stream",
          "name": "stderr",
          "text": [
            "\r100%|█████████▉| 9135/9172 [09:51<00:04,  8.62it/s]"
          ]
        },
        {
          "output_type": "stream",
          "name": "stdout",
          "text": [
            "118461\n",
            "118462\n",
            "118462\n",
            "118462\n",
            "118461\n"
          ]
        },
        {
          "output_type": "stream",
          "name": "stderr",
          "text": [
            "\r100%|█████████▉| 9139/9172 [09:51<00:02, 11.63it/s]"
          ]
        },
        {
          "output_type": "stream",
          "name": "stdout",
          "text": [
            "118463\n",
            "118462\n"
          ]
        },
        {
          "output_type": "stream",
          "name": "stderr",
          "text": [
            "\r100%|█████████▉| 9141/9172 [09:51<00:03,  9.84it/s]"
          ]
        },
        {
          "output_type": "stream",
          "name": "stdout",
          "text": [
            "118462\n",
            "118464\n"
          ]
        },
        {
          "output_type": "stream",
          "name": "stderr",
          "text": [
            "\r100%|█████████▉| 9143/9172 [09:52<00:03,  7.44it/s]"
          ]
        },
        {
          "output_type": "stream",
          "name": "stdout",
          "text": [
            "118463\n"
          ]
        },
        {
          "output_type": "stream",
          "name": "stderr",
          "text": [
            "\r100%|█████████▉| 9145/9172 [09:52<00:03,  6.88it/s]"
          ]
        },
        {
          "output_type": "stream",
          "name": "stdout",
          "text": [
            "118463\n",
            "118463\n",
            "118464\n"
          ]
        },
        {
          "output_type": "stream",
          "name": "stderr",
          "text": [
            "100%|█████████▉| 9149/9172 [09:52<00:02,  8.19it/s]"
          ]
        },
        {
          "output_type": "stream",
          "name": "stdout",
          "text": [
            "118463\n",
            "118463\n",
            "118464\n",
            "118463\n"
          ]
        },
        {
          "output_type": "stream",
          "name": "stderr",
          "text": [
            "\r100%|█████████▉| 9151/9172 [09:53<00:02,  7.72it/s]"
          ]
        },
        {
          "output_type": "stream",
          "name": "stdout",
          "text": [
            "118464\n"
          ]
        },
        {
          "output_type": "stream",
          "name": "stderr",
          "text": [
            "100%|█████████▉| 9153/9172 [09:53<00:03,  6.32it/s]"
          ]
        },
        {
          "output_type": "stream",
          "name": "stdout",
          "text": [
            "118464\n",
            "118464\n",
            "118464\n"
          ]
        },
        {
          "output_type": "stream",
          "name": "stderr",
          "text": [
            "\r100%|█████████▉| 9155/9172 [09:55<00:07,  2.21it/s]"
          ]
        },
        {
          "output_type": "stream",
          "name": "stdout",
          "text": [
            "118460\n"
          ]
        },
        {
          "output_type": "stream",
          "name": "stderr",
          "text": [
            "100%|█████████▉| 9157/9172 [09:56<00:05,  2.54it/s]"
          ]
        },
        {
          "output_type": "stream",
          "name": "stdout",
          "text": [
            "118460\n",
            "118460\n"
          ]
        },
        {
          "output_type": "stream",
          "name": "stderr",
          "text": [
            "\r100%|█████████▉| 9158/9172 [09:56<00:04,  2.84it/s]"
          ]
        },
        {
          "output_type": "stream",
          "name": "stdout",
          "text": [
            "118462\n"
          ]
        },
        {
          "output_type": "stream",
          "name": "stderr",
          "text": [
            "\r100%|█████████▉| 9159/9172 [09:57<00:05,  2.34it/s]"
          ]
        },
        {
          "output_type": "stream",
          "name": "stdout",
          "text": [
            "118460\n"
          ]
        },
        {
          "output_type": "stream",
          "name": "stderr",
          "text": [
            "\r100%|█████████▉| 9160/9172 [09:57<00:06,  1.96it/s]"
          ]
        },
        {
          "output_type": "stream",
          "name": "stdout",
          "text": [
            "118462\n",
            "118460\n",
            "118460\n",
            "118462\n"
          ]
        },
        {
          "output_type": "stream",
          "name": "stderr",
          "text": [
            "100%|█████████▉| 9165/9172 [09:58<00:01,  4.26it/s]"
          ]
        },
        {
          "output_type": "stream",
          "name": "stdout",
          "text": [
            "118464\n",
            "118462\n",
            "118462\n"
          ]
        },
        {
          "output_type": "stream",
          "name": "stderr",
          "text": [
            "100%|█████████▉| 9169/9172 [09:58<00:00,  6.49it/s]"
          ]
        },
        {
          "output_type": "stream",
          "name": "stdout",
          "text": [
            "118462\n",
            "118464\n",
            "118464\n"
          ]
        },
        {
          "output_type": "stream",
          "name": "stderr",
          "text": [
            "100%|██████████| 9172/9172 [09:58<00:00, 15.32it/s]\n"
          ]
        },
        {
          "output_type": "stream",
          "name": "stdout",
          "text": [
            "118464\n",
            "118464\n",
            "118464\n"
          ]
        }
      ]
    }
  ],
  "metadata": {
    "colab": {
      "provenance": []
    },
    "kernelspec": {
      "display_name": "Python 3",
      "name": "python3"
    },
    "language_info": {
      "name": "python"
    }
  },
  "nbformat": 4,
  "nbformat_minor": 0
}
