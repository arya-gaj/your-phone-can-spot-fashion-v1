{
  "cells": [
    {
      "cell_type": "markdown",
      "source": [
        "Step 5: Prepare directory structure"
      ],
      "metadata": {
        "id": "aqn8CpXKjc7O"
      }
    },
    {
      "cell_type": "code",
      "source": [
        "base_dir = \"catalog_images\"\n",
        "os.makedirs(base_dir, exist_ok=True)"
      ],
      "metadata": {
        "id": "pBBR-HUnfw0j"
      },
      "execution_count": null,
      "outputs": []
    }
  ],
  "metadata": {
    "colab": {
      "provenance": []
    },
    "kernelspec": {
      "display_name": "Python 3",
      "name": "python3"
    },
    "language_info": {
      "name": "python"
    }
  },
  "nbformat": 4,
  "nbformat_minor": 0
}
