{
  "cells": [
    {
      "cell_type": "markdown",
      "source": [
        "Step 14: Prepare video frame extraction"
      ],
      "metadata": {
        "id": "CmD4cdH9l_Vp"
      }
    },
    {
      "cell_type": "code",
      "source": [
        "import cv2\n",
        "import os\n",
        "\n",
        "video_dir = \"videos\"\n",
        "frame_output_dir = \"video_frames\"\n",
        "os.makedirs(frame_output_dir, exist_ok=True)\n",
        "\n",
        "def extract_frames(video_path, output_path, frame_rate=1):\n",
        "    cap = cv2.VideoCapture(video_path)\n",
        "    fps = cap.get(cv2.CAP_PROP_FPS)\n",
        "    interval = int(fps // frame_rate)\n",
        "    count, saved = 0, 0\n",
        "\n",
        "    while cap.isOpened():\n",
        "        ret, frame = cap.read()\n",
        "\n",
        "        if not ret:\n",
        "            break\n",
        "\n",
        "        if count % interval == 0:\n",
        "            frame_name = f\"{os.path.splitext(os.path.basename(video_path))[0]}_frame_{saved:04}.jpg\"\n",
        "            cv2.imwrite(os.path.join(output_path, frame_name), frame)\n",
        "            saved += 1\n",
        "\n",
        "        count += 1\n",
        "\n",
        "    cap.release()"
      ],
      "metadata": {
        "id": "cQhqt0slyadC"
      },
      "execution_count": null,
      "outputs": []
    }
  ],
  "metadata": {
    "colab": {
      "provenance": []
    },
    "kernelspec": {
      "display_name": "Python 3",
      "name": "python3"
    },
    "language_info": {
      "name": "python"
    }
  },
  "nbformat": 4,
  "nbformat_minor": 0
}
