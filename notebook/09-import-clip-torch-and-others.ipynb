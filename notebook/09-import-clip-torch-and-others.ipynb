{
  "cells": [
    {
      "cell_type": "markdown",
      "source": [
        "Step 9: Import CLIP, torch, and others"
      ],
      "metadata": {
        "id": "cfaHOViJlglk"
      }
    },
    {
      "cell_type": "code",
      "source": [
        "import torch\n",
        "import clip\n",
        "from PIL import Image\n",
        "import os\n",
        "import numpy as np\n",
        "from tqdm import tqdm"
      ],
      "metadata": {
        "id": "IbAKfa_TO4_h"
      },
      "execution_count": null,
      "outputs": []
    }
  ],
  "metadata": {
    "colab": {
      "provenance": []
    },
    "kernelspec": {
      "display_name": "Python 3",
      "name": "python3"
    },
    "language_info": {
      "name": "python"
    }
  },
  "nbformat": 4,
  "nbformat_minor": 0
}
