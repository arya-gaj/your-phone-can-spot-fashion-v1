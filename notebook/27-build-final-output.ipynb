{
  "cells": [
    {
      "cell_type": "markdown",
      "source": [
        "Step 27: Build final output"
      ],
      "metadata": {
        "id": "83o8IAe2tzyS"
      }
    },
    {
      "cell_type": "code",
      "source": [
        "final_output = []\n",
        "\n",
        "for det in detections:\n",
        "    video_id = det[\"frame\"].split(\"_frame\")[0]\n",
        "\n",
        "    output_entry = {\n",
        "        \"video_id\": video_id,\n",
        "        \"vibes\": vibe_results.get(video_id, []),\n",
        "        \"products\": []\n",
        "    }\n",
        "\n",
        "    prod_entry = {\n",
        "        \"type\": \"fashion_item\",\n",
        "        \"match_type\": det[\"match_type\"],\n",
        "        \"matched_product_id\": det[\"matched_product_id\"],\n",
        "        \"confidence\": round(det[\"similarity\"], 3),\n",
        "        \"bbox\": det[\"bbox\"]\n",
        "    }\n",
        "\n",
        "    output_entry[\"products\"].append(prod_entry)\n",
        "    final_output.append(output_entry)"
      ],
      "metadata": {
        "id": "SocIMcd2E8zo"
      },
      "execution_count": null,
      "outputs": []
    }
  ],
  "metadata": {
    "colab": {
      "provenance": []
    },
    "kernelspec": {
      "display_name": "Python 3",
      "name": "python3"
    },
    "language_info": {
      "name": "python"
    }
  },
  "nbformat": 4,
  "nbformat_minor": 0
}
