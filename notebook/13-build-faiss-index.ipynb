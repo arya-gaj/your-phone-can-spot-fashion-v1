{
  "cells": [
    {
      "cell_type": "markdown",
      "source": [
        "Step 13: Build FAISS index"
      ],
      "metadata": {
        "id": "bQbz-yAPl8ga"
      }
    },
    {
      "cell_type": "code",
      "source": [
        "import faiss\n",
        "\n",
        "embedding_matrix = np.vstack(image_embeddings).astype(\"float32\")\n",
        "\n",
        "index = faiss.IndexFlatIP(embedding_matrix.shape[1])\n",
        "faiss.normalize_L2(embedding_matrix)\n",
        "index.add(embedding_matrix)\n",
        "\n",
        "faiss.write_index(index, \"product_index.faiss\")\n",
        "np.save(\"product_ids.npy\", image_ids)"
      ],
      "metadata": {
        "id": "uOtJlr6KYe3p"
      },
      "execution_count": null,
      "outputs": []
    }
  ],
  "metadata": {
    "colab": {
      "provenance": []
    },
    "kernelspec": {
      "display_name": "Python 3",
      "name": "python3"
    },
    "language_info": {
      "name": "python"
    }
  },
  "nbformat": 4,
  "nbformat_minor": 0
}
