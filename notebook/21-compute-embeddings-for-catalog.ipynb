{
  "cells": [
    {
      "cell_type": "markdown",
      "source": [
        "Step 21: Compute embeddings for catalog"
      ],
      "metadata": {
        "id": "nHKkQQbhrm0x"
      }
    },
    {
      "cell_type": "code",
      "source": [
        "product_embeddings = []\n",
        "\n",
        "for path in tqdm(catalog_image_paths):\n",
        "    img = preprocess(Image.open(path).convert(\"RGB\")).unsqueeze(0).to(device)\n",
        "\n",
        "    with torch.no_grad():\n",
        "        embedding = clip_model.encode_image(img)\n",
        "        embedding = embedding / embedding.norm(dim=-1, keepdim=True)\n",
        "\n",
        "    product_embeddings.append(embedding.cpu().numpy()[0])"
      ],
      "metadata": {
        "colab": {
          "base_uri": "https://localhost:8080/"
        },
        "id": "Xo4ksm8820h4",
        "outputId": "3879348a-b542-4d72-bbbf-fe25b98163a2"
      },
      "execution_count": null,
      "outputs": [
        {
          "output_type": "stream",
          "name": "stderr",
          "text": [
            "100%|██████████| 7816/7816 [45:12<00:00,  2.88it/s]\n"
          ]
        }
      ]
    }
  ],
  "metadata": {
    "colab": {
      "provenance": []
    },
    "kernelspec": {
      "display_name": "Python 3",
      "name": "python3"
    },
    "language_info": {
      "name": "python"
    }
  },
  "nbformat": 4,
  "nbformat_minor": 0
}
