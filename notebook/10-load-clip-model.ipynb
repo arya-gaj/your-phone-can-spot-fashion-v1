{
  "cells": [
    {
      "cell_type": "markdown",
      "source": [
        "Step 10: Load CLIP model"
      ],
      "metadata": {
        "id": "eYStUaY_lzrP"
      }
    },
    {
      "cell_type": "code",
      "source": [
        "device = \"cuda\" if torch.cuda.is_available() else \"cpu\"\n",
        "model, preprocess = clip.load(\"ViT-B/32\", device=device)"
      ],
      "metadata": {
        "colab": {
          "base_uri": "https://localhost:8080/"
        },
        "id": "EAnuSfAyRZzB",
        "outputId": "67a88f56-a043-4a29-e249-09a59a6ac219"
      },
      "execution_count": null,
      "outputs": [
        {
          "output_type": "stream",
          "name": "stderr",
          "text": [
            "100%|███████████████████████████████████████| 338M/338M [00:05<00:00, 62.2MiB/s]\n"
          ]
        }
      ]
    }
  ],
  "metadata": {
    "colab": {
      "provenance": []
    },
    "kernelspec": {
      "display_name": "Python 3",
      "name": "python3"
    },
    "language_info": {
      "name": "python"
    }
  },
  "nbformat": 4,
  "nbformat_minor": 0
}
