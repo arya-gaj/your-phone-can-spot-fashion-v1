{
  "cells": [
    {
      "cell_type": "markdown",
      "source": [
        "Step 28: Read (or save) final JSON"
      ],
      "metadata": {
        "id": "xMOu_oXLt4cT"
      }
    },
    {
      "cell_type": "code",
      "source": [
        "with open(\"final_output.json\", \"r\") as f:\n",
        "    data = json.load(f)\n",
        "\n",
        "from pprint import pprint\n",
        "pprint(data[0])"
      ],
      "metadata": {
        "colab": {
          "base_uri": "https://localhost:8080/"
        },
        "id": "nT4lxH41Fzuy",
        "outputId": "5320a307-8fba-47e6-d3a6-f3fa430956bf"
      },
      "execution_count": null,
      "outputs": [
        {
          "output_type": "stream",
          "name": "stdout",
          "text": [
            "{'products': [{'bbox': [5.960205078125,\n",
            "                        69.4844970703125,\n",
            "                        693.8555908203125,\n",
            "                        1280.0],\n",
            "               'confidence': 0.832,\n",
            "               'match_type': 'Similar Match',\n",
            "               'matched_product_id': '16107',\n",
            "               'type': 'fashion_item'}],\n",
            " 'vibes': [],\n",
            " 'video_id': 'video'}\n"
          ]
        }
      ]
    }
  ],
  "metadata": {
    "colab": {
      "provenance": []
    },
    "kernelspec": {
      "display_name": "Python 3",
      "name": "python3"
    },
    "language_info": {
      "name": "python"
    }
  },
  "nbformat": 4,
  "nbformat_minor": 0
}
