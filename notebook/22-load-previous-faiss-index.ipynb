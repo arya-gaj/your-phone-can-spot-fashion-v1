{
  "cells": [
    {
      "cell_type": "markdown",
      "source": [
        "Step 22: Load previous FAISS index"
      ],
      "metadata": {
        "id": "lQaBoz5erpmZ"
      }
    },
    {
      "cell_type": "code",
      "source": [
        "index = faiss.read_index(\"product_index.faiss\")\n",
        "image_ids = np.load(\"product_ids.npy\", allow_pickle=True)"
      ],
      "metadata": {
        "id": "Cohn5V6J23FF"
      },
      "execution_count": null,
      "outputs": []
    }
  ],
  "metadata": {
    "colab": {
      "provenance": []
    },
    "kernelspec": {
      "display_name": "Python 3",
      "name": "python3"
    },
    "language_info": {
      "name": "python"
    }
  },
  "nbformat": 4,
  "nbformat_minor": 0
}
