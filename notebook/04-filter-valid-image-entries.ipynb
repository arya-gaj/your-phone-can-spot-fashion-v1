{
  "cells": [
    {
      "cell_type": "markdown",
      "source": [
        "Step 4: Filter valid image entries"
      ],
      "metadata": {
        "id": "_AqMrd_rifCn"
      }
    },
    {
      "cell_type": "code",
      "source": [
        "valid_ids = set(product_df[\"id\"])\n",
        "images_df = images_df[images_df[\"id\"].isin(valid_ids)]"
      ],
      "metadata": {
        "id": "buRZAYkLftlN"
      },
      "execution_count": null,
      "outputs": []
    }
  ],
  "metadata": {
    "colab": {
      "provenance": []
    },
    "kernelspec": {
      "display_name": "Python 3",
      "name": "python3"
    },
    "language_info": {
      "name": "python"
    }
  },
  "nbformat": 4,
  "nbformat_minor": 0
}
