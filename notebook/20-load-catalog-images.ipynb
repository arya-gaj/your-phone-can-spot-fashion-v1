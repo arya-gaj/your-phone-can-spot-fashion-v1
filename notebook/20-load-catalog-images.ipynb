{
  "cells": [
    {
      "cell_type": "markdown",
      "source": [
        "Step 20: Load catalog images"
      ],
      "metadata": {
        "id": "JRzdlmMQsgzG"
      }
    },
    {
      "cell_type": "code",
      "source": [
        "import faiss\n",
        "from tqdm import tqdm\n",
        "import os\n",
        "\n",
        "catalog_dir = \"catalog_images\"\n",
        "catalog_image_paths = []\n",
        "catalog_product_ids = []\n",
        "\n",
        "for root, _, files in os.walk(catalog_dir):\n",
        "\n",
        "    for file in files:\n",
        "\n",
        "        if file.endswith(\".jpg\") or file.endswith(\".png\"):\n",
        "            catalog_image_paths.append(os.path.join(root, file))\n",
        "            catalog_product_ids.append(os.path.basename(root))"
      ],
      "metadata": {
        "id": "zhv8wDQo2qyo"
      },
      "execution_count": null,
      "outputs": []
    }
  ],
  "metadata": {
    "colab": {
      "provenance": []
    },
    "kernelspec": {
      "display_name": "Python 3",
      "name": "python3"
    },
    "language_info": {
      "name": "python"
    }
  },
  "nbformat": 4,
  "nbformat_minor": 0
}
