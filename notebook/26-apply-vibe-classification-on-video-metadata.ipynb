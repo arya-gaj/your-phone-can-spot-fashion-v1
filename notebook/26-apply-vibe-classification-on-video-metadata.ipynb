{
  "cells": [
    {
      "cell_type": "markdown",
      "source": [
        "Step 26: Apply vibe classification on video metadata"
      ],
      "metadata": {
        "id": "C7SYe-VNtxG9"
      }
    },
    {
      "cell_type": "code",
      "source": [
        "video_folder = \"videos\"\n",
        "vibe_results = {}\n",
        "\n",
        "for file in os.listdir(video_folder):\n",
        "\n",
        "    if file.endswith(\".json\"):\n",
        "\n",
        "        with open(os.path.join(video_folder, file)) as f:\n",
        "            data = json.load(f)\n",
        "            text = data.get(\"caption\", \"\") + \" \" + data.get(\"hashtags\", \"\")\n",
        "            vibes = classify_vibe(text)\n",
        "            video_id = file.split(\".\")[0]\n",
        "            vibe_results[video_id] = vibes"
      ],
      "metadata": {
        "id": "-n30ykpTEzOt"
      },
      "execution_count": null,
      "outputs": []
    }
  ],
  "metadata": {
    "colab": {
      "provenance": []
    },
    "kernelspec": {
      "display_name": "Python 3",
      "name": "python3"
    },
    "language_info": {
      "name": "python"
    }
  },
  "nbformat": 4,
  "nbformat_minor": 0
}
