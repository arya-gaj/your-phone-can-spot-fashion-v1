{
  "cells": [
    {
      "cell_type": "markdown",
      "source": [
        "Step 19: Crop detected objects"
      ],
      "metadata": {
        "id": "EPsyge74rceC"
      }
    },
    {
      "cell_type": "code",
      "source": [
        "cropped_dir = \"detected_crops\"\n",
        "os.makedirs(cropped_dir, exist_ok=True)\n",
        "\n",
        "crop_index = 0\n",
        "\n",
        "for det in detections:\n",
        "    img = Image.open(det[\"frame\"]).convert(\"RGB\")\n",
        "    x1, y1, x2, y2 = map(int, det[\"bbox\"])\n",
        "    crop = img.crop((x1, y1, x2, y2))\n",
        "\n",
        "    crop_path = os.path.join(cropped_dir, f\"crop_{crop_index:04}.jpg\")\n",
        "    crop.save(crop_path)\n",
        "\n",
        "    det[\"crop_path\"] = crop_path\n",
        "    crop_index += 1"
      ],
      "metadata": {
        "id": "YW-4SuXT1nDJ"
      },
      "execution_count": null,
      "outputs": []
    }
  ],
  "metadata": {
    "colab": {
      "provenance": []
    },
    "kernelspec": {
      "display_name": "Python 3",
      "name": "python3"
    },
    "language_info": {
      "name": "python"
    }
  },
  "nbformat": 4,
  "nbformat_minor": 0
}
