{
  "cells": [
    {
      "cell_type": "markdown",
      "source": [
        "Step 3: Load data"
      ],
      "metadata": {
        "id": "Y11j2h8xidL8"
      }
    },
    {
      "cell_type": "code",
      "source": [
        "product_df = pd.read_excel(\"product_data.xlsx\", engine=\"openpyxl\")\n",
        "print(product_df.head())"
      ],
      "metadata": {
        "colab": {
          "base_uri": "https://localhost:8080/"
        },
        "id": "W7Hv2KWBSJl-",
        "outputId": "3a545e6c-a45e-4df0-8996-2be480b99f43"
      },
      "execution_count": null,
      "outputs": [
        {
          "output_type": "stream",
          "name": "stdout",
          "text": [
            "      id                                         title  \\\n",
            "0  14976  Zorelle|Trucotton Midi Length Milkmaid Dress   \n",
            "1  14977  Abril|Trucotton Embroidery Detail Midi Dress   \n",
            "2  14978            Jayden|Blue Straight Flared Denims   \n",
            "3  14980                Renata|Blue Strappy Midi Dress   \n",
            "4  14981               Elyanna|Off-Shoulder Sweatshirt   \n",
            "\n",
            "                                         description product_type   alias  \\\n",
            "0  Evoke effortless romance with the Purple Front...        Dress  virgio   \n",
            "1  This pink embroidered strappy midi dress eleva...        Dress  virgio   \n",
            "2  Blue flared regular denims. The denim jeans ha...        Jeans  virgio   \n",
            "3  Blue strappy midi dress. Sweetheart neckline. ...        Dress  virgio   \n",
            "4  Tan off-shoulder knitted sweatshirt. Features ...          Top  virgio   \n",
            "\n",
            "    mrp  price_display_amount  discount_percentage  \\\n",
            "0  2790                  1675                39.96   \n",
            "1  3390                  2035                39.97   \n",
            "2  2390                  2390                 0.00   \n",
            "3  3390                  3390                 0.00   \n",
            "4  2390                  2390                 0.00   \n",
            "\n",
            "                                        product_tags  \\\n",
            "0  Colour:Purple, Fabric:Cotton, Gender:Women, GI...   \n",
            "1  Colour:Pink, Fabric:Cotton, Gender:Women, GID_...   \n",
            "2  Colour:Blue, Fabric:Cotton, Gender:Women, GID_...   \n",
            "3  Colour:Blue, Fabric:Cotton, Gender:Women, GID_...   \n",
            "4  Colour:Tan, Fabric:Cotton, Gender:Women, GID_V...   \n",
            "\n",
            "                                 product_collections  \n",
            "0  ALL COLLECTIONS, Casual Essentials, Cotton Col...  \n",
            "1  ALL COLLECTIONS, All Dresses, Casual Essential...  \n",
            "2  Academic Edge, ALL COLLECTIONS, Bottom wear, B...  \n",
            "3  ALL COLLECTIONS, All Dresses, Casual Essential...  \n",
            "4  Academic Edge, ALL COLLECTIONS, Casual Essenti...  \n"
          ]
        }
      ]
    },
    {
      "cell_type": "code",
      "source": [
        "images_df = pd.read_csv(\"images.csv\")\n",
        "print(images_df.head())"
      ],
      "metadata": {
        "colab": {
          "base_uri": "https://localhost:8080/"
        },
        "id": "aOjILbYUSO4o",
        "outputId": "6810d326-f903-4402-9c6b-5a7f9b53978d"
      },
      "execution_count": null,
      "outputs": [
        {
          "output_type": "stream",
          "name": "stdout",
          "text": [
            "      id                                          image_url\n",
            "0  14976  https://cdn.shopify.com/s/files/1/0785/1674/85...\n",
            "1  14976  https://cdn.shopify.com/s/files/1/0785/1674/85...\n",
            "2  14976  https://cdn.shopify.com/s/files/1/0785/1674/85...\n",
            "3  14976  https://cdn.shopify.com/s/files/1/0785/1674/85...\n",
            "4  14976  https://cdn.shopify.com/s/files/1/0785/1674/85...\n"
          ]
        }
      ]
    }
  ],
  "metadata": {
    "colab": {
      "provenance": []
    },
    "kernelspec": {
      "display_name": "Python 3",
      "name": "python3"
    },
    "language_info": {
      "name": "python"
    }
  },
  "nbformat": 4,
  "nbformat_minor": 0
}
