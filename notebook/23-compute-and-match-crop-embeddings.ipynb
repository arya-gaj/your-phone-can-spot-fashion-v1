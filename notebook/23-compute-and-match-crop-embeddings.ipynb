{
  "cells": [
    {
      "cell_type": "markdown",
      "source": [
        "Step 23: Compute and match crop embeddings"
      ],
      "metadata": {
        "id": "2_4WWg81r7_n"
      }
    },
    {
      "cell_type": "code",
      "source": [
        "for det in detections:\n",
        "    img = preprocess(Image.open(det[\"crop_path\"]).convert(\"RGB\")).unsqueeze(0).to(device)\n",
        "\n",
        "    with torch.no_grad():\n",
        "        emb = clip_model.encode_image(img)\n",
        "        emb = emb / emb.norm(dim=-1, keepdim=True)\n",
        "\n",
        "    emb = emb.cpu().numpy().astype(\"float32\")\n",
        "    D, I = index.search(emb, 1)\n",
        "\n",
        "    similarity = D[0][0]\n",
        "    matched_idx = I[0][0]\n",
        "    matched_product_id = catalog_product_ids[matched_idx]\n",
        "\n",
        "    if similarity > 0.9:\n",
        "        match_type = \"Exact Match\"\n",
        "    elif similarity > 0.75:\n",
        "        match_type = \"Similar Match\"\n",
        "    else:\n",
        "        match_type = \"No Match\"\n",
        "\n",
        "    det.update({\n",
        "        \"matched_product_id\": matched_product_id,\n",
        "        \"match_type\": match_type,\n",
        "        \"similarity\": float(similarity)\n",
        "    })"
      ],
      "metadata": {
        "id": "PB3C97Ta3QHm"
      },
      "execution_count": null,
      "outputs": []
    }
  ],
  "metadata": {
    "colab": {
      "provenance": []
    },
    "kernelspec": {
      "display_name": "Python 3",
      "name": "python3"
    },
    "language_info": {
      "name": "python"
    }
  },
  "nbformat": 4,
  "nbformat_minor": 0
}
