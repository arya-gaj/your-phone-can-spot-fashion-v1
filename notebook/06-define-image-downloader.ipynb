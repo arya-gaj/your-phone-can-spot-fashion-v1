{
  "cells": [
    {
      "cell_type": "markdown",
      "source": [
        "Step 6: Define image downloader"
      ],
      "metadata": {
        "id": "qsPw__82jjOQ"
      }
    },
    {
      "cell_type": "code",
      "source": [
        "def download_image(row):\n",
        "    product_id = row[\"id\"]\n",
        "    image_url = row[\"image_url\"]\n",
        "    product_dir = os.path.join(base_dir, str(product_id))\n",
        "    os.makedirs(product_dir, exist_ok=True)\n",
        "\n",
        "    try:\n",
        "        response = requests.get(image_url, timeout=5)\n",
        "\n",
        "        if response.status_code == 200:\n",
        "            img = Image.open(BytesIO(response.content)).convert(\"RGB\")\n",
        "            image_name = os.path.basename(image_url).split(\"?\")[0]\n",
        "            image_path = os.path.join(product_dir, image_name)\n",
        "            img.save(image_path)\n",
        "            return f\"{product_id}\"\n",
        "\n",
        "        else:\n",
        "            return f\"{product_id} - HTTP {response.status_code}\"\n",
        "\n",
        "    except Exception as e:\n",
        "        return f\"{product_id} - {e}\""
      ],
      "metadata": {
        "id": "RHQQ4BBojtFq"
      },
      "execution_count": null,
      "outputs": []
    }
  ],
  "metadata": {
    "colab": {
      "provenance": []
    },
    "kernelspec": {
      "display_name": "Python 3",
      "name": "python3"
    },
    "language_info": {
      "name": "python"
    }
  },
  "nbformat": 4,
  "nbformat_minor": 0
}
