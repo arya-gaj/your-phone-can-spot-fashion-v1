{
  "cells": [
    {
      "cell_type": "markdown",
      "source": [
        "Step 15: Extract frames from videos"
      ],
      "metadata": {
        "id": "ykncwQfjrOCv"
      }
    },
    {
      "cell_type": "code",
      "source": [
        "for file in os.listdir(video_dir):\n",
        "\n",
        "    if file.endswith(\".mp4\"):\n",
        "        video_path = os.path.join(video_dir, file)\n",
        "        extract_frames(video_path, frame_output_dir)"
      ],
      "metadata": {
        "id": "7Z__QZvx1DAI"
      },
      "execution_count": null,
      "outputs": []
    }
  ],
  "metadata": {
    "colab": {
      "provenance": []
    },
    "kernelspec": {
      "display_name": "Python 3",
      "name": "python3"
    },
    "language_info": {
      "name": "python"
    }
  },
  "nbformat": 4,
  "nbformat_minor": 0
}
