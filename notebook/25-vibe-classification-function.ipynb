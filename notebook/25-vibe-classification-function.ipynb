{
  "cells": [
    {
      "cell_type": "markdown",
      "source": [
        "Step 25: Vibe classification function"
      ],
      "metadata": {
        "id": "bcewYBshtsS3"
      }
    },
    {
      "cell_type": "code",
      "source": [
        "def classify_vibe(text):\n",
        "    text = text.lower()\n",
        "    assigned = []\n",
        "\n",
        "    for vibe, keywords in vibe_keywords.items():\n",
        "\n",
        "        for keyword in keywords:\n",
        "\n",
        "            if keyword in text:\n",
        "                assigned.append(vibe)\n",
        "                break\n",
        "\n",
        "    return assigned[:3]"
      ],
      "metadata": {
        "id": "yFexQjlWEy2P"
      },
      "execution_count": null,
      "outputs": []
    }
  ],
  "metadata": {
    "colab": {
      "provenance": []
    },
    "kernelspec": {
      "display_name": "Python 3",
      "name": "python3"
    },
    "language_info": {
      "name": "python"
    }
  },
  "nbformat": 4,
  "nbformat_minor": 0
}
